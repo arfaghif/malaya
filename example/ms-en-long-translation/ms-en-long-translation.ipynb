{
 "cells": [
  {
   "cell_type": "markdown",
   "metadata": {},
   "source": [
    "# MS to EN longer text"
   ]
  },
  {
   "cell_type": "markdown",
   "metadata": {},
   "source": [
    "<div class=\"alert alert-info\">\n",
    "\n",
    "This tutorial is available as an IPython notebook at [Malaya/example/ms-en-long-translation](https://github.com/huseinzol05/Malaya/tree/master/example/ms-en-long-translation).\n",
    "    \n",
    "</div>"
   ]
  },
  {
   "cell_type": "markdown",
   "metadata": {},
   "source": [
    "<div class=\"alert alert-warning\">\n",
    "\n",
    "This module only trained on standard language structure, so it is not save to use it for local language structure.\n",
    "    \n",
    "</div>"
   ]
  },
  {
   "cell_type": "code",
   "execution_count": 1,
   "metadata": {},
   "outputs": [
    {
     "name": "stdout",
     "output_type": "stream",
     "text": [
      "CPU times: user 5.87 s, sys: 1.21 s, total: 7.08 s\n",
      "Wall time: 9.58 s\n"
     ]
    }
   ],
   "source": [
    "%%time\n",
    "import malaya"
   ]
  },
  {
   "cell_type": "markdown",
   "metadata": {},
   "source": [
    "### List available Transformer models"
   ]
  },
  {
   "cell_type": "code",
   "execution_count": 2,
   "metadata": {},
   "outputs": [
    {
     "data": {
      "text/html": [
       "<div>\n",
       "<style scoped>\n",
       "    .dataframe tbody tr th:only-of-type {\n",
       "        vertical-align: middle;\n",
       "    }\n",
       "\n",
       "    .dataframe tbody tr th {\n",
       "        vertical-align: top;\n",
       "    }\n",
       "\n",
       "    .dataframe thead th {\n",
       "        text-align: right;\n",
       "    }\n",
       "</style>\n",
       "<table border=\"1\" class=\"dataframe\">\n",
       "  <thead>\n",
       "    <tr style=\"text-align: right;\">\n",
       "      <th></th>\n",
       "      <th>Size (MB)</th>\n",
       "      <th>Quantized Size (MB)</th>\n",
       "      <th>BLEU</th>\n",
       "      <th>SacreBLEU Verbose</th>\n",
       "      <th>SacreBLEU-chrF++-FLORES200</th>\n",
       "      <th>Suggested length</th>\n",
       "    </tr>\n",
       "  </thead>\n",
       "  <tbody>\n",
       "    <tr>\n",
       "      <th>small</th>\n",
       "      <td>42.7</td>\n",
       "      <td>13.4</td>\n",
       "      <td>59.874731</td>\n",
       "      <td>80.6/64.3/54.1/46.3 (BP = 0.998 ratio = 0.998 ...</td>\n",
       "      <td>59.64</td>\n",
       "      <td>256</td>\n",
       "    </tr>\n",
       "    <tr>\n",
       "      <th>base</th>\n",
       "      <td>234</td>\n",
       "      <td>82.7</td>\n",
       "      <td>71.687583</td>\n",
       "      <td>86.2/74.8/67.2/61.0 (BP = 1.000 ratio = 1.005 ...</td>\n",
       "      <td>63.24</td>\n",
       "      <td>256</td>\n",
       "    </tr>\n",
       "    <tr>\n",
       "      <th>bigbird</th>\n",
       "      <td>246</td>\n",
       "      <td>63.7</td>\n",
       "      <td>59.548257</td>\n",
       "      <td>79.6/63.8/53.8/46.0 (BP = 1.000 ratio = 1.026 ...</td>\n",
       "      <td>62.49</td>\n",
       "      <td>1024</td>\n",
       "    </tr>\n",
       "    <tr>\n",
       "      <th>small-bigbird</th>\n",
       "      <td>50.4</td>\n",
       "      <td>13.1</td>\n",
       "      <td>55.967145</td>\n",
       "      <td>77.4/60.5/49.9/41.9 (BP = 1.000 ratio = 1.026 ...</td>\n",
       "      <td>60.57</td>\n",
       "      <td>1024</td>\n",
       "    </tr>\n",
       "    <tr>\n",
       "      <th>noisy-base</th>\n",
       "      <td>234</td>\n",
       "      <td>82.7</td>\n",
       "      <td>71.725493</td>\n",
       "      <td>86.3/74.8/67.2/61.0 (BP = 1.000 ratio = 1.002 ...</td>\n",
       "      <td>63.31</td>\n",
       "      <td>256</td>\n",
       "    </tr>\n",
       "  </tbody>\n",
       "</table>\n",
       "</div>"
      ],
      "text/plain": [
       "              Size (MB) Quantized Size (MB)       BLEU  \\\n",
       "small              42.7                13.4  59.874731   \n",
       "base                234                82.7  71.687583   \n",
       "bigbird             246                63.7  59.548257   \n",
       "small-bigbird      50.4                13.1  55.967145   \n",
       "noisy-base          234                82.7  71.725493   \n",
       "\n",
       "                                               SacreBLEU Verbose  \\\n",
       "small          80.6/64.3/54.1/46.3 (BP = 0.998 ratio = 0.998 ...   \n",
       "base           86.2/74.8/67.2/61.0 (BP = 1.000 ratio = 1.005 ...   \n",
       "bigbird        79.6/63.8/53.8/46.0 (BP = 1.000 ratio = 1.026 ...   \n",
       "small-bigbird  77.4/60.5/49.9/41.9 (BP = 1.000 ratio = 1.026 ...   \n",
       "noisy-base     86.3/74.8/67.2/61.0 (BP = 1.000 ratio = 1.002 ...   \n",
       "\n",
       "              SacreBLEU-chrF++-FLORES200 Suggested length  \n",
       "small                              59.64              256  \n",
       "base                               63.24              256  \n",
       "bigbird                            62.49             1024  \n",
       "small-bigbird                      60.57             1024  \n",
       "noisy-base                         63.31              256  "
      ]
     },
     "execution_count": 2,
     "metadata": {},
     "output_type": "execute_result"
    }
   ],
   "source": [
    "malaya.translation.ms_en.available_transformer()"
   ]
  },
  {
   "cell_type": "markdown",
   "metadata": {},
   "source": [
    "If you look at `Suggested length`, bigbird 4x longer than normal transformer models, able to infer longer text without need to partition. Let's we do some examples.\n",
    "\n",
    "We are going to compare `small` and `base` models with `small-bigbird` and `bigbird` models for MS-EN translation task. Feel free to test on EN-MS translation."
   ]
  },
  {
   "cell_type": "markdown",
   "metadata": {},
   "source": [
    "### Load Transformer models\n",
    "\n",
    "```python\n",
    "def transformer(model: str = 'base', quantized: bool = False, **kwargs):\n",
    "    \"\"\"\n",
    "    Load Transformer encoder-decoder model to translate MS-to-EN.\n",
    "\n",
    "    Parameters\n",
    "    ----------\n",
    "    model : str, optional (default='base')\n",
    "        Model architecture supported. Allowed values:\n",
    "\n",
    "        * ``'small'`` - Transformer SMALL parameters.\n",
    "        * ``'base'`` - Transformer BASE parameters.\n",
    "        * ``'bigbird'`` - BigBird BASE parameters.\n",
    "        * ``'small-bigbird'`` - BigBird SMALL parameters.\n",
    "        * ``'noisy-base'`` - Transformer BASE parameters trained on noisy dataset.\n",
    "\n",
    "    quantized : bool, optional (default=False)\n",
    "        if True, will load 8-bit quantized model.\n",
    "        Quantized model not necessary faster, totally depends on the machine.\n",
    "\n",
    "    Returns\n",
    "    -------\n",
    "    result: model\n",
    "        List of model classes:\n",
    "\n",
    "        * if `bigbird` in model, return `malaya.model.bigbird.Translation`.\n",
    "        * else, return `malaya.model.tf.compat.v1.Translation`.\n",
    "    \"\"\"\n",
    "```"
   ]
  },
  {
   "cell_type": "code",
   "execution_count": 3,
   "metadata": {},
   "outputs": [],
   "source": [
    "transformer = malaya.translation.ms_en.transformer()\n",
    "transformer_small = malaya.translation.ms_en.transformer(model = 'small')"
   ]
  },
  {
   "cell_type": "code",
   "execution_count": 4,
   "metadata": {},
   "outputs": [
    {
     "name": "stderr",
     "output_type": "stream",
     "text": [
      "WARNING:root:Load quantized model will cause accuracy drop.\n"
     ]
    }
   ],
   "source": [
    "bigbird = malaya.translation.ms_en.transformer(model = 'bigbird')\n",
    "quantized_bigbird = malaya.translation.ms_en.transformer(model = 'bigbird', quantized = True)"
   ]
  },
  {
   "cell_type": "code",
   "execution_count": 5,
   "metadata": {},
   "outputs": [
    {
     "name": "stderr",
     "output_type": "stream",
     "text": [
      "WARNING:root:Load quantized model will cause accuracy drop.\n"
     ]
    }
   ],
   "source": [
    "bigbird_small = malaya.translation.ms_en.transformer(model = 'small-bigbird')\n",
    "quantized_bigbird_small = malaya.translation.ms_en.transformer(model = 'small-bigbird', quantized = True)"
   ]
  },
  {
   "cell_type": "markdown",
   "metadata": {},
   "source": [
    "### Long text examples"
   ]
  },
  {
   "cell_type": "code",
   "execution_count": 6,
   "metadata": {},
   "outputs": [],
   "source": [
    "# https://www.bharian.com.my/berita/nasional/2021/02/785400/kabinet-tidak-pernah-bangkitkan-isu-konflik-kepentingan-najib\n",
    "string = \"\"\"\n",
    "KUALA LUMPUR: Mahkamah Tinggi di sini, hari ini, diberitahu Kabinet tidak pernah membangkitkan isu mengenai konflik kepentingan Datuk Seri Najib Razak dalam 1Malaysia Development Berhad (1MDB).\n",
    "\n",
    "Menurut Kod Etika Bagi Anggota Pentadbiran dan Ahli Parlimen adalah menjadi amalan ahli Kabinet untuk mengisytiharkan konflik kepentingan sekiranya mempunyai pembabitan di dalam hal yang dibincangkan dalam Mesyuarat Jemaah Menteri.\n",
    "\n",
    "Perkara itu dimaklumkan bekas Timbalan Ketua Setiausaha (Kabinet) Bahagian Kabinet Perlembagaan dan Perhubungan Jabatan Perdana Menteri (JPM), Tan Sri Mazidah Abdul Majid, dalam keterangannya pada perbicaraan kes 1MDB yang dihadapi Najib.\n",
    "\n",
    "Kod etika itu antara lain turut menyatakan bahawa ahli Kabinet yang mempunyai kepentingan peribadi dan bercanggah dengan kepentingan kerajaan, atau membabitkan ahli keluarga, perlu meninggalkan mesyuarat dan merekodkan ketidakhadiran mereka.\n",
    "\n",
    "Di dalam 1MDB, Najib memegang tiga jawatan iaitu Perdana Menteri, Menteri Kewangan dan Pengerusi Pengerusi Badan Penasihat 1MDB\n",
    "\n",
    "Menjawab soalan peguam Tan Sri Muhammad Shafee Abdullah, sama ada terdapat ahli Kabinet yang membangkitkan isu bahawa Menteri Kewangan tidak seharusnya membabitkan diri dalam perbincangan itu kerana konflik kepentingan, Maziah menjawab: \"Tiada.\"\n",
    "\n",
    "Muhammad Shafee: Ada sesiapa yang membangkitkan perkara berhubung hal 1MBD dengan Najib?\n",
    "\n",
    "Maziah: Tidak\n",
    "\n",
    "Muhammad Shafee: Timbalan Perdana Menteri (ketika itu) adalah Tan Sri Muhyiddin Yassin, manakala Datuk Seri Ahmad Husni Hanadzlah adalah bekas Menteri Kewangan II. Mereka juga tidak pernah membangkitkan hal konflik kepentingan?\n",
    "\n",
    "Mazidah: Ya, tidak pernah.\n",
    "\n",
    "Sementara itu, menjawab soalan Timbalan Pendakwa Raya, Ahmad Akram Gharib sama ada beliau mengetahui bahawa Najib mempunyai kepentingan peribadi dalam 1MDB, Mazidah berkata: \"Tidak\"\n",
    "\n",
    "Ahmad Akram: Adakah anda mengetahui bahawa Najib secara peribadi menerima duit daripada 1MDB?\n",
    "\n",
    "Maziah: Tidak\n",
    "\n",
    "Ahmad Akram: Sekiranya Najib secara peribadi menerima wang daripada 1MDB adakah itu konflik kepentingan dan melanggar Kod Etika Bagi Anggota Pentadbiran dan Ahli Parlimen.\n",
    "\n",
    "Maziah: Menurut pandangan peribadi saya, ya, namun kerana ia membabitkan menteri dan perdana menteri, saya cadangkan untuk dapatkan pandangan Peguam Negara.\n",
    "\n",
    "Terdahulu, di awal prosiding, Maziah turut memberitahu mahkamah bahawa Najib tidak pernah menyebut nama ahli perniagaan dalam buruan, Low Taek Jho atau Jho Low pada mesyuarat Kabinet sebagai individu yang membantu beliau mendapatkan sumbangan daripada kerabat diraja Arab Saudi.\n",
    "\n",
    "\"Sekiranya perkara itu dimaklumkan kepada Kabinet, maka, ia akan dicatat dalam minit mesyuarat,\" katanya.\n",
    "\n",
    "Tambah Maziah, beliau hanya mendengar dan mengetahui mengenai nama Jho Low selepas timbul isu membabitkan 1MDB.\n",
    "\n",
    "Najib, 68, menghadapi empat pertuduhan menggunakan kedudukannya untuk memperoleh suapan berjumlah RM2.3 bilion daripada dana 1MDB dan 21 pertuduhan pengubahan wang haram membabitkan jumlah wang yang sama.\n",
    "\n",
    "Perbicaraan di hadapan Hakim Collin Lawrence Sequerah bersambung Isnin ini.\n",
    "\"\"\""
   ]
  },
  {
   "cell_type": "code",
   "execution_count": 7,
   "metadata": {},
   "outputs": [],
   "source": [
    "# https://www.astroawani.com/berita-malaysia/laporan-audit-1mdb-najib-gagal-gugurkan-sri-ram-daripada-pasukan-pendakwaan-283003\n",
    "string2 = \"\"\"\n",
    "KUALA LUMPUR: Datuk Seri Najib Tun Razak hari ini gagal dalam satu lagi cubaannya untuk menggugurkan bekas Hakim Mahkamah Persekutuan Datuk Seri Gopal Sri Ram daripada mengetuai pasukan pendakwaan dalam kes meminda laporan audit 1Malaysia Development Berhad (1MDB) melibatkan bekas perdana menteri itu.\n",
    "Ini merupakan cubaan kali ketiga Najib untuk menggugurkan Sri Ram sebagai pendakwa dalam kes jenayah berkaitan 1MDB itu. Sebelum ini, satu permohonan difailkan dalam satu lagi kes 1MDB di hadapan hakim berbeza dan cubaan kedua menerusi prosiding sivil.\n",
    "Ketika menolak permohonan Ahli Parlimen Pekan itu, Hakim Mahkamah Tinggi Mohamed Zaini Mazlan berkata dakwaan Najib bahawa Sri Ram terlibat dalam siasatan terhadapnya sebagai tidak ada merit.\n",
    "“Tidak ada bukti kukuh untuk menyokong dakwaan pemohon dan kekal sebagai hipotesis semata-mata. Isu ini telah disiasat oleh pihak pendakwaan selaku responden semasa permohonan pemohon (Najib) yang terdahulu.\n",
    "“Isu ini sudah dibincangkan dan diputuskan. Keputusan oleh mahkamah lain sebelum ini kekal dan tidak boleh diterbalikkan,” kata hakim.\n",
    "Mohamed Zaini ketika memberi alasan penolakan berkata pemohon, antara lain, menjadikan komunikasi di antara bekas Peguam Negara Tan Sri Mohamed Apandi Ali dan Sri Ram sebagai bukti berat sebelah Sri Ram terhadap pemohon dan kebimbangan pemohon berhubung perkara itu adalah tidak berasas.\n",
    "“Seperti juga individu lain, Sri Ram berhak mempunyai pandangan peribadi. Itu sahaja. Namun, pertimbangan berbeza akan dibuat jika beliau menunjukkan sikap berat sebelah semasa melaksanakan tugas sebagai pendakwa raya kanan. Pandangan peribadi beliau tidak boleh dianggap akan menghalang tanggungjawab beliau sebagai pendakwa raya kanan.\n",
    "“Tambahan pula, kejadian itu, seperti yang dikemukakan oleh responden, berlaku ketika sebelum pelantikan Sri Ram sebagai pendakwa raya kanan. Turut penting ialah pemohon tidak membuat sebarang aduan mengenai tindak-tanduk Sri Ram ketika menjalankan perbicaraan melibatkan pemohon. Ini mengukuhkan hujah responden bahawa Sri Ram bersikap terbuka semasa menjalankan tugas sebagai pendakwa raya kanan,” kata hakim.\n",
    "Mohamed Zaini seterusnya berkata pada akhirnya, mahkamah bertanggungjawab memastikan sesebuah perbicaraan dilaksanakan secara adil demi mendapatkan keadilan.\n",
    "“Mahkamah akan membantu mana-mana pihak yang dilayan secara tidak adil, jika perkara tersebut berlaku. Sehubunggan itu, permohonan pemohon ditolak,” katanya.\n",
    "Perbicaraan kes laporan audit 1MDB itu akan bersambung pada 22 Feb ini.\n",
    "Pada prosiding hari ini, Timbalan Pendakwa Raya Ahmad Akram Gharib bertindak bagi pihak pendakwaan, manakala Najib diwakili peguam Nur Syahirah Hanapiah.\n",
    "Najib, 67, dan bekas Ketua Pegawai Eksekutif 1MDB Arul Kanda Kandasamy, 45, dibicarakan atas tuduhan meminda laporan audit 1MDB.\n",
    "Ahli Parlimen Pekan itu dituduh menggunakan kedudukannya untuk mengarahkan pindaan ke atas laporan audit akhir 1MDB sebelum dibentangkan kepada Jawatankuasa Kira-Kira Wang Negara bagi mengelakkan sebarang tindakan diambil terhadapnya, sementara Arul Kanda didakwa bersubahat dengan Najib dalam membuat pindaan ke atas laporan tersebut bagi melindungi Najib daripada dikenakan tindakan.\n",
    "\"\"\""
   ]
  },
  {
   "cell_type": "code",
   "execution_count": 8,
   "metadata": {},
   "outputs": [],
   "source": [
    "# https://miasa.org.my/blog/2018/08/artikel-sokongan-rakan-senasib-dapat-mengurangkan-kemasukan-semula/\n",
    "string3 = \"\"\"\n",
    "3 Ogos 2018 – Kajian terbaharu yang dijalankan oleh University College London (UCL) mendapati khidmat penjagaan kesihatan mental daripada pekerja sokongan (support worker) yang pernah mengharungi sendiri penyakit ini mungkin boleh membantu mengurangkan kebarangkalian pesakit yang baru keluar dari penjagaan kesihatan mental akut (acute mental health care) daripada dimasukkan semula ke unit berkenaan.\n",
    "\n",
    " \n",
    "\n",
    "Kertas penyelidikan tersebut yang diterbitkan pada hari ini dalam jurnal The Lancet mendapati bilangan pesakit mental yang dimasukkan semula ke unit penjagaan akut dalam tempoh setahun ialah 24% jauh lebih rendah bagi kumpulan pesakit yang ditawarkan pekerja sokongan berbentuk rakan senasib, berbanding dengan kumpulan pesakit yang hanya diberi buku kerja pemulihan peribadi sahaja.\n",
    "\n",
    " \n",
    "\n",
    "“Pesakit yang dibenarkan keluar (discharge) dari perkhidmatan krisis komuniti sering dimasukkan semula ke unit penjagaan akut. Ini bukan sahaja membantutkan pemulihan, malah menggunapakai sumber yang sepatutnya dikhususkan untuk penambahbaikan jangka panjang fungsi dan kualiti hidup pesakit. Pekerja sokongan daripada golongan rakan senasib berupaya memberikan sokongan dan dorongan yang benar-benar mesra dan berempati kerana ianya datang daripada pengalaman peribadi mereka sendiri, di samping menjadi contoh tauladan (role model) yang baik untuk pemulihan pesakit,” kata pengarang utama, Profesor Sonia Johnson (Psikiatri, UCL).\n",
    "\n",
    "Di United Kingdom (UK), lebih separuh daripada jumlah pesakit yang dimasukkan ke unit penjagaan akut dimasukkan semula ke unit berkenaan dalam tempoh setahun, namun tiada bukti kukuh yang menjelaskan kaedah untuk mengurangkan jumlah ini.\n",
    "\n",
    " \n",
    "\n",
    "Sebenarnya, sokongan daripada individu yang pernah mengalami masalah kesihatan mental telah dipraktikkan dalam program seperti Pelaksanaan Pemulihan melalui Perubahan Organisasi NHS (UK) dan juga Pelan Tindakan Pemulihan Kesihatan Amerika Syarikat. Penyelidikan ini merupakan ujian terkawal rawak pertama yang seumpamanya untuk menilai keberkesanan program sokongan rakan senasib. Walaupun begitu, masih banyak penyelidikan yang perlu dijalankan sebelum strategi ini boleh dilaksanakan secara menyeluruh di UK, contohnya untuk memahami sebab-sebab mengapa program ini berkesan.\n",
    "\n",
    " \n",
    "\n",
    "Pastinya, campur tangan atau intervensi dalam pengurusan kendiri (self-management) mungkin boleh membantu pesakit menguruskan kesihatan mental mereka dengan lebih baik. Dalam kajian ini, penyelidik menyediakan peserta sama ada dengan buku kerja pemulihan peribadi sahaja (220 orang) atau buku kerja berserta bantuan pekerja sokongan rakan senasib (221 orang). Peserta juga dibenarkan meneruskan penjagaan biasa mereka.\n",
    "\n",
    " \n",
    "\n",
    "Kajian ini dijalankan menerusi enam buah pasukan penyelesaian krisis kesihatan mental (crisis resolution team) di England dan peserta dipilih hanya selepas mereka dibenarkan keluar dari unit krisis oleh pasukan penyelesaian krisis. Peserta kajian terdiri daripada pelbagai diagnosis antaranya termasuk skizofrenia, bipolar, psikosis, kemurungan, kecelaruan keresahan, kecelaruan stres pascatrauma (PTSD), dan kecelaruan personaliti.\n",
    "\n",
    " \n",
    "\n",
    "Peserta yang menerima sokongan rakan senasib ditawarkan 10 sesi pertemuan mingguan selama satu jam. Dalam sesi pertemuan ini, pekerja sokongan mendengar masalah peserta dan bermatlamat menyemaikan harapan dengan berkongsi kemahiran dan strategi pengurusan penyakit (coping strategies) yang dikuasai sewaktu mereka sendiri berada dalam proses pemulihan. Kesemua pekerja sokongan diberikan latihan terlebih dahulu dalam kemahiran mendengar, kesedaran budaya, pendedahan kendiri, dan kerahsiaan, serta cara menggunakan buku kerja.\n",
    "\n",
    "Rekod kesihatan peserta dipantau oleh penyelidik selama satu tahun untuk menentukan sama ada peserta dimasukkan semula ke unit penjagaan akut (seperti wad pesakit akut, pasukan penyelesaian krisis, rumah krisis, dan perkhidmatan penjagaan harian akut) atau tidak.\n",
    "\n",
    " \n",
    "\n",
    "Selepas tamat tempoh satu tahun, kajian mendapati peratusan kemasukan semula ke unit penjagaan akut adalah lebih rendah bagi kumpulan peserta yang menerima intervensi berbanding dengan kelompok kawalan— dengan 29% peserta dimasukkan semula setelah menerima sokongan rakan senasib, berbanding dengan 38% peserta yang hanya menerima buku kerja.\n",
    "\n",
    " \n",
    "\n",
    "Kadar penyerapan intervensi juga baik— 72% daripada peserta yang ditawarkan khidmat pekerja sokongan rakan senasib dan buku kerja menghadiri sekurang-kurangnya tiga sesi pertemuan, manakala satu pertiga menghadiri kesemua 10 sesi pertemuan.\n",
    "\n",
    "“Kami sedia maklum bahawa banyak pengguna perkhidmatan penjagaan krisis kesihatan mental merasakan perkhidmatan ini terhenti secara mendadak kerana kurangnya penjagaan susulan yang siap sedia. Kajian kami menunjukkan bahawa pekerja sokongan rakan senasib dapat membantu mengisi kelompangan ini dengan membantu pengguna perkhidmatan (pesakit) membangunkan strategi pengurusan kendiri dan pelan pemulihan dengan cara tersendiri dan lebih bermakna, seterusnya dapat membantu pesakit terus bertahan sesudah berlakunya sesuatu krisis,” kata pengarang bersama, Dr Brynmor Lloyd-Evans (Psikiatri, UCL).\n",
    "\"\"\""
   ]
  },
  {
   "cell_type": "markdown",
   "metadata": {},
   "source": [
    "do simple cleaning, remove newline and weird characters."
   ]
  },
  {
   "cell_type": "code",
   "execution_count": 9,
   "metadata": {},
   "outputs": [],
   "source": [
    "import re\n",
    "from unidecode import unidecode\n",
    "\n",
    "def cleaning(string):\n",
    "    return re.sub(r'[ ]+', ' ', unidecode(string.replace('\\n', ' '))).strip()"
   ]
  },
  {
   "cell_type": "code",
   "execution_count": 10,
   "metadata": {},
   "outputs": [],
   "source": [
    "string = cleaning(string)\n",
    "string2 = cleaning(string2)\n",
    "string3 = cleaning(string3)"
   ]
  },
  {
   "cell_type": "code",
   "execution_count": 11,
   "metadata": {},
   "outputs": [
    {
     "data": {
      "text/plain": [
       "(406, 433, 649)"
      ]
     },
     "execution_count": 11,
     "metadata": {},
     "output_type": "execute_result"
    }
   ],
   "source": [
    "len(string.split()), len(string2.split()), len(string3.split())"
   ]
  },
  {
   "cell_type": "markdown",
   "metadata": {},
   "source": [
    "### Translate using greedy decoder"
   ]
  },
  {
   "cell_type": "code",
   "execution_count": 12,
   "metadata": {},
   "outputs": [],
   "source": [
    "from pprint import pprint"
   ]
  },
  {
   "cell_type": "code",
   "execution_count": 13,
   "metadata": {},
   "outputs": [
    {
     "name": "stdout",
     "output_type": "stream",
     "text": [
      "['KUALA LUMPUR: The High Court here today said the Cabinet had not raised the '\n",
      " \"issue of Datuk Seri Najib Razak's conflict in 1Malaysia Development Berhad \"\n",
      " '(1MDB). According to the Code of Ethics for Administrators and Members of '\n",
      " 'Parliament it is customary practice for Cabinet members to declare conflicts '\n",
      " 'of interest if they have been involved in matters discussed at the 1MDB '\n",
      " 'Cabinet. The matter was announced by the former Deputy Chief Secretary '\n",
      " '(Cabinet) of the Constitutional and Liaison Division of the Prime Minister, '\n",
      " 'Tan Sri Mazidah Abdul Majid, in his statement at the 1MDB hearing. The code '\n",
      " 'of ethics is also stated that the Cabinet members have personal interests '\n",
      " 'and conflicts with the government, or involving family members, had to leave '\n",
      " 'meetings and record their absence. In 1MDB, Najib held three positions, '\n",
      " \"namely the Prime Minister's Office of Finance and the Prime Minister's \"\n",
      " \"Chairman of the Prime Minister's Office of the Prime Minister, namely Tan \"\n",
      " 'Sri Mazram Abdullah Abdullah Abdullah Shafee Mazidah Mazghani Mazram, who '\n",
      " 'had been informed in the former cabinet of the matter of the 1MDB.']\n"
     ]
    }
   ],
   "source": [
    "pprint(transformer.greedy_decoder([string]))"
   ]
  },
  {
   "cell_type": "code",
   "execution_count": 14,
   "metadata": {
    "scrolled": true
   },
   "outputs": [
    {
     "name": "stdout",
     "output_type": "stream",
     "text": [
      "['KUALA LUMPUR: The High Court here today, said that the Cabinet had never '\n",
      " \"raised the issue of Datuk Seri Najib Razak's interest in 1Malaysia \"\n",
      " 'Development Berhad (1MDB). According to the Code of Ethics For Members of '\n",
      " 'the Administration and Member of Parliament is the practice of Cabinet '\n",
      " 'members to declare conflict of interest if he had been discussed in matters '\n",
      " 'discussed at the Cabinet. Article. The matter was informed that former '\n",
      " 'Secretary-General (Cabinet) of the Cabinet, he said. Tan Sri Mazidah Abdul '\n",
      " 'Majid, in his statement at the 1MDB trial, in his statement at the 1MDB '\n",
      " 'case, Najib, the case of the 1MDB, he said. Najib, he had not been informed '\n",
      " 'that the case of the case, Najib, he said. Najib, he said. Najib, he had not '\n",
      " 'been informed that the case, he had informed that the case, Najib had '\n",
      " 'informed that the 1MDB, he had not been informed that the case, he had '\n",
      " 'informed that the 1MDB, he had informed that the case, he had given that he '\n",
      " 'had informed that the case, he had informed that the case, he had informed '\n",
      " 'of the case, Najib, he had given that the case, he had informed that the '\n",
      " 'case, Najib, he had not been informed that the 1MDB, he had not been '\n",
      " 'informed that he had informed that the case, he had given the case, he had '\n",
      " 'given him that the case, he had not been informed that the case, Najib, he '\n",
      " 'had informed that he had informed that he had informed that he had been '\n",
      " 'informed that he had informed that the 1MDB, he had informed of the 1MDB, he '\n",
      " \"had informed that the 1MDB, he had informed that the 1MDB's case, Najib, he \"\n",
      " 'had informed of the case. Najib, he had informed that the case. Najib, he '\n",
      " 'had been that the case, he had not been informed that he had been informed '\n",
      " 'that he had informed of the case, he had informed that the 1MDB, he had been '\n",
      " 'informed that the case, he had been informed that the 1MDB, Najib, he had '\n",
      " 'been that he had informed of the case. Najib, he had informed of the case, '\n",
      " 'he had been informed of the 1MDB, he had not been informed of the case. '\n",
      " 'Najib, he had not been informed of the case. Najib, he had not been informed '\n",
      " 'of the case. Najib, he had been informed of the case, he had been that the '\n",
      " 'case, he had informed that the 1MDB, he had informed of the case, he had '\n",
      " 'been informed of the case. Najib, he had been informed of the case. Najib, '\n",
      " 'he had been informed that the case. Najib, he had not been informed that the '\n",
      " 'case. Najib, he had informed of the case. Najib, he had informed that the '\n",
      " 'case. Najib, he had informed that the case. Najib, he had been informed that '\n",
      " 'he had been informed that the 1MDB, he had informed that the case, in his '\n",
      " 'case. Najib, in the case. Najib, and Najib, he had informed that the case. '\n",
      " 'Najib, he had informed that the case, he had informed that the case, he had '\n",
      " 'informed that the case. Najib, he had informed that the case. Najib, he had '\n",
      " 'given him that the case, he had not been informed that the case, he had been '\n",
      " 'that the case, he had not been informed that he had not been informed that '\n",
      " 'the case, he had informed that he had not been informed that he had informed '\n",
      " 'that he had been informed that the case, he had been that the case. Najib, '\n",
      " 'he had informed that he had informed that the case. Najib, he had informed '\n",
      " 'that he had been informed that he had been informed of the case. Najib, he '\n",
      " 'had been informed of the case. Najib, he had been informed that he had been '\n",
      " 'informed that he had been informed that the case. Najib, he had been '\n",
      " 'informed that the case. Najib, he had been informed that he had repeatedly '\n",
      " 'informed that the 1MDB, he had been informed that the 1MDB, he had been '\n",
      " 'informed of the case. Najib, he had informed that the case. Najib, and '\n",
      " 'Najib, he had informed that the 1MDB, he had informed that the case. Najib, '\n",
      " 'and Najib, he had not been that the case. Najib, and that he had informed '\n",
      " 'that the case. Najib, he had informed that he had informed that he had '\n",
      " 'repeatedly informed that he had informed that the case, he had informed that '\n",
      " 'the 1MDB, he had been informed that the case of the 1MDB, he had been '\n",
      " 'informed that he had informed that he had informed that he had informed that '\n",
      " 'he had not been informed that he had been informed that the case. Najib, and '\n",
      " \"that the 1MDB's case. Najib, he had informed that he had not informed that \"\n",
      " 'the case. Najib, and that the case. Najib, he had not been informed that the '\n",
      " 'case. Najib, he had informed of the case of the case. Najib, he had informed '\n",
      " 'that the case. Najib, he had not been informed that the case. Najib, he had '\n",
      " 'informed that he had not been informed that he had repeatedly informed of '\n",
      " 'the 1MDB, he had not been informed that he had informed of the case. Najib, '\n",
      " 'he had been that the case, he had informed that the case. Najib, and Najib, '\n",
      " 'he had been informed that the case, he had repeatedly informed that the '\n",
      " 'case. Najib, he had given the case. Najib, and that the case. Najib, he had '\n",
      " 'repeatedly, he']\n"
     ]
    }
   ],
   "source": [
    "pprint(transformer_small.greedy_decoder([string]))"
   ]
  },
  {
   "cell_type": "markdown",
   "metadata": {},
   "source": [
    "**Normal transformer models not able to infer long texts, we need to partition the text, example, split the text by full stop**."
   ]
  },
  {
   "cell_type": "code",
   "execution_count": 15,
   "metadata": {
    "scrolled": true
   },
   "outputs": [
    {
     "data": {
      "text/plain": [
       "['KUALA LUMPUR: Mahkamah Tinggi di sini, hari ini, diberitahu Kabinet tidak pernah membangkitkan isu mengenai konflik kepentingan Datuk Seri Najib Razak dalam 1Malaysia Development Berhad (1MDB).',\n",
       " 'Menurut Kod Etika Bagi Anggota Pentadbiran dan Ahli Parlimen adalah menjadi amalan ahli Kabinet untuk mengisytiharkan konflik kepentingan sekiranya mempunyai pembabitan di dalam hal yang dibincangkan dalam Mesyuarat Jemaah Menteri.',\n",
       " 'Perkara itu dimaklumkan bekas Timbalan Ketua Setiausaha (Kabinet) Bahagian Kabinet Perlembagaan dan Perhubungan Jabatan Perdana Menteri (JPM), Tan Sri Mazidah Abdul Majid, dalam keterangannya pada perbicaraan kes 1MDB yang dihadapi Najib.',\n",
       " 'Kod etika itu antara lain turut menyatakan bahawa ahli Kabinet yang mempunyai kepentingan peribadi dan bercanggah dengan kepentingan kerajaan, atau membabitkan ahli keluarga, perlu meninggalkan mesyuarat dan merekodkan ketidakhadiran mereka.',\n",
       " 'Di dalam 1MDB, Najib memegang tiga jawatan iaitu Perdana Menteri, Menteri Kewangan dan Pengerusi Pengerusi Badan Penasihat 1MDB Menjawab soalan peguam Tan Sri Muhammad Shafee Abdullah, sama ada terdapat ahli Kabinet yang membangkitkan isu bahawa Menteri Kewangan tidak seharusnya membabitkan diri dalam perbincangan itu kerana konflik kepentingan, Maziah menjawab: \"Tiada\".',\n",
       " 'Muhammad Shafee: Ada sesiapa yang membangkitkan perkara berhubung hal 1MBD dengan Najib?',\n",
       " 'Maziah: Tidak Muhammad Shafee: Timbalan Perdana Menteri (ketika itu) adalah Tan Sri Muhyiddin Yassin, manakala Datuk Seri Ahmad Husni Hanadzlah adalah bekas Menteri Kewangan II.',\n",
       " 'Mereka juga tidak pernah membangkitkan hal konflik kepentingan?',\n",
       " 'Mazidah: Ya, tidak pernah.',\n",
       " 'Sementara itu, menjawab soalan Timbalan Pendakwa Raya, Ahmad Akram Gharib sama ada beliau mengetahui bahawa Najib mempunyai kepentingan peribadi dalam 1MDB, Mazidah berkata: \"Tidak\" Ahmad Akram: Adakah anda mengetahui bahawa Najib secara peribadi menerima duit daripada 1MDB?',\n",
       " 'Maziah: Tidak Ahmad Akram: Sekiranya Najib secara peribadi menerima wang daripada 1MDB adakah itu konflik kepentingan dan melanggar Kod Etika Bagi Anggota Pentadbiran dan Ahli Parlimen.',\n",
       " 'Maziah: Menurut pandangan peribadi saya, ya, namun kerana ia membabitkan menteri dan perdana menteri, saya cadangkan untuk dapatkan pandangan Peguam Negara.',\n",
       " 'Terdahulu, di awal prosiding, Maziah turut memberitahu mahkamah bahawa Najib tidak pernah menyebut nama ahli perniagaan dalam buruan, Low Taek Jho atau Jho Low pada mesyuarat Kabinet sebagai individu yang membantu beliau mendapatkan sumbangan daripada kerabat diraja Arab Saudi.',\n",
       " '\"Sekiranya perkara itu dimaklumkan kepada Kabinet, maka, ia akan dicatat dalam minit mesyuarat,\" katanya.',\n",
       " 'Tambah Maziah, beliau hanya mendengar dan mengetahui mengenai nama Jho Low selepas timbul isu membabitkan 1MDB.',\n",
       " 'Najib, 68, menghadapi empat pertuduhan menggunakan kedudukannya untuk memperoleh suapan berjumlah RM2.3 bilion daripada dana 1MDB dan 21 pertuduhan pengubahan wang haram membabitkan jumlah wang yang sama.',\n",
       " 'Perbicaraan di hadapan Hakim Collin Lawrence Sequerah bersambung Isnin ini.']"
      ]
     },
     "execution_count": 15,
     "metadata": {},
     "output_type": "execute_result"
    }
   ],
   "source": [
    "partition_string = malaya.text.function.split_into_sentences(string)\n",
    "partition_string"
   ]
  },
  {
   "cell_type": "code",
   "execution_count": 16,
   "metadata": {},
   "outputs": [
    {
     "name": "stdout",
     "output_type": "stream",
     "text": [
      "['KUALA LUMPUR: The High Court here today said the Cabinet had never raised '\n",
      " \"the issue of Datuk Seri Najib Razak's conflict of interest in 1Malaysia \"\n",
      " 'Development Berhad (1MDB).',\n",
      " 'According to the Code of Ethics for Administrative Members and Members of '\n",
      " 'Parliament it is the practice of Cabinet members to declare conflicts of '\n",
      " 'interest if they have any involvement in the matter discussed at the Cabinet '\n",
      " 'Meeting.',\n",
      " 'The matter was informed by former Deputy Secretary-General (Cabinet) of the '\n",
      " \"Constitutional and Liaison Division of the Prime Minister's Department \"\n",
      " '(JPM), Tan Sri Mazidah Abdul Majid, in his testimony at the 1MDB trial '\n",
      " 'hearing facing Najib.',\n",
      " 'The code of ethics, among others, states that Cabinet members who have '\n",
      " 'personal interests and conflict with the interests of the government, or '\n",
      " 'involve family members, must leave meetings and record their absence.',\n",
      " 'In 1MDB, Najib held three positions namely Prime Minister, Finance Minister '\n",
      " 'and Chairman of 1MDB Advisory Board Answering the question of lawyer Tan Sri '\n",
      " 'Muhammad Shafee Abdullah, whether there were Cabinet members who raised the '\n",
      " 'issue that the Minister of Finance should not be involved in the discussion '\n",
      " 'because of conflict of interest, Maziah replied: \"None\".',\n",
      " 'Muhammad Shafee: Is there anyone raising questions about 1MBD with Najib?',\n",
      " 'Maziah: Muhammad Shafee: Deputy Prime Minister (then) was Tan Sri Muhyiddin '\n",
      " 'Yassin, while Datuk Seri Ahmad Husni Hanadzlah was the former Minister of '\n",
      " 'Finance II.',\n",
      " 'They have never raised any issues of conflict of interest?',\n",
      " 'Mazidah: Yes, never.',\n",
      " \"Meanwhile, responding to Deputy Public Prosecutor Ahmad Akram Gharib's \"\n",
      " 'question as to whether he knew Najib had personal interests in 1MDB, Mazidah '\n",
      " 'said: \"No\" Ahmad Akram: Do you know that Najib personally received money '\n",
      " 'from 1MDB?',\n",
      " 'Maziah: No Ahmad Akram: If Najib personally receives money from 1MDB whether '\n",
      " 'it is a conflict of interest and violates the Code of Ethics for '\n",
      " 'Administrative Members and Members of Parliament.',\n",
      " 'Maziah: In my personal opinion, yes, but because it involves ministers and '\n",
      " \"prime ministers, I suggest to get the Attorney General's views.\",\n",
      " 'Earlier, at the beginning of the proceedings, Maziah also told the court '\n",
      " 'that Najib had never mentioned the name of the businessman in the game, Low '\n",
      " 'Taek Jho or Jho Low at a Cabinet meeting as an individual who helped him get '\n",
      " \"donations from Saudi Arabia's royal family.\",\n",
      " '\"If the matter is communicated to the Cabinet, then it will be recorded at '\n",
      " 'the minutes of the meeting,\" he said.',\n",
      " \"Maziah added that he only heard and knew about Jho Low's name after the 1MDB \"\n",
      " 'issue.',\n",
      " 'Najib, 68, faces four charges of using his position to obtain RM2.3 billion '\n",
      " 'in bribes from 1MDB funds and 21 counts of money laundering involving the '\n",
      " 'same amount.',\n",
      " 'The trial before Judge Collin Lawrence Sequerah continues this Monday.']\n"
     ]
    }
   ],
   "source": [
    "pprint(transformer.greedy_decoder(partition_string))"
   ]
  },
  {
   "cell_type": "code",
   "execution_count": 17,
   "metadata": {
    "scrolled": false
   },
   "outputs": [
    {
     "name": "stdout",
     "output_type": "stream",
     "text": [
      "['KUALA LUMPUR: The High Court here today said the Cabinet had never raised '\n",
      " 'the issue of conflict of interest between Datuk Seri Najib Razak in '\n",
      " '1Malaysia Development Berhad (1MDB).',\n",
      " 'According to the Code of Ethics For Members of the Administration and MPs is '\n",
      " 'the practice of Cabinet members to declare conflicts of interest if they '\n",
      " 'have involvement in matters discussed at the Cabinet Meeting.',\n",
      " 'The matter was informed by former Deputy Secretary-General (Cabinet) of the '\n",
      " \"Cabinet of the Constitution and the Relations of the Prime Minister's \"\n",
      " 'Department (JPM), Tan Sri Mazidah Abdul Majid, in his statement at the 1MDB '\n",
      " 'case trial against Najib.',\n",
      " 'The code of ethics also states that Cabinet members with personal interests '\n",
      " 'and conflict with the interests of the government, or involving family '\n",
      " 'members, need to leave the meeting and record their absence.',\n",
      " 'In 1MDB, Najib held three positions, Prime Minister, Finance Minister and '\n",
      " 'Chairman of the 1MDB Advisory Agency Responding to lawyer Tan Sri Muhammad '\n",
      " 'Shafee Abdullah, whether Cabinet members raised the issue that the Minister '\n",
      " 'of Finance should not involve the discussion because of the conflict of '\n",
      " 'interest, Maziah replied: \"No\".',\n",
      " 'Muhammad Shafee: Someone who raises things about 1MBD with Najib?',\n",
      " 'Maziah: Muhammad Shafee: Deputy Prime Minister (then) was Tan Sri Muhyiddin '\n",
      " 'Yassin, while Datuk Seri Ahmad Husni Hanadzlah was the former Minister of '\n",
      " 'Finance II.',\n",
      " 'They have never raised conflicts of interest?',\n",
      " 'Mazidah: Yes, never.',\n",
      " \"Meanwhile, responding to Deputy Public Prosecutor Ahmad Akram Gharib's \"\n",
      " 'question whether he knew that Najib had personal interests in 1MDB, Mazidah '\n",
      " 'said: \"No\" Ahmad Akram: Do you know that Najib personally receives money '\n",
      " 'from 1MDB?',\n",
      " 'Maziah: Ahmad Akram: If Najib personally receives money from 1MDB whether it '\n",
      " 'is a conflict of interest and violates the Code of Ethics for Members of the '\n",
      " 'Administration and Member of Parliament.',\n",
      " 'Maziah: According to my personal view, yes, but because it involves '\n",
      " 'ministers and prime ministers, I propose to get the views of the Attorney '\n",
      " 'General.',\n",
      " 'Earlier, in the early proceedings, Maziah also told the court that Najib had '\n",
      " 'never mentioned the name of a businessman in the hunt, Low Taek Jho or Jho '\n",
      " 'Low at a Cabinet meeting as an individual who helped him get a donation from '\n",
      " \"Saudi Arabia's royal family.\",\n",
      " '\"If the matter is communicated to the Cabinet, then it will be recorded in '\n",
      " 'the minutes of the meeting,\" he said.',\n",
      " \"Maziah added that he only heard and learned about Jho Low's name after the \"\n",
      " 'issue of involving 1MDB.',\n",
      " 'Najib, 68, faces four charges of using his position to obtain a RM2.3 '\n",
      " 'billion bribe from 1MDB funds and 21 counts of money laundering involving '\n",
      " 'the same amount of money.',\n",
      " 'The trial before Judge Collin Lawrence Sequerah continues this Monday.']\n"
     ]
    }
   ],
   "source": [
    "pprint(transformer_small.greedy_decoder(partition_string))"
   ]
  },
  {
   "cell_type": "markdown",
   "metadata": {},
   "source": [
    "### Problem with partitioning"
   ]
  },
  {
   "cell_type": "markdown",
   "metadata": {},
   "source": [
    "Problem with partition, the model assumed N + 1 element has no relationship with N element, vice versa. Attention mechanism will not work across partition.\n",
    "\n",
    "So we introduced BigBird to solve this problem."
   ]
  },
  {
   "cell_type": "code",
   "execution_count": 18,
   "metadata": {},
   "outputs": [
    {
     "name": "stdout",
     "output_type": "stream",
     "text": [
      "['KUALA LUMPUR: The High Court here today, was told the Cabinet never raised '\n",
      " 'issues about the conflict of interest of Datuk Seri Najib Razak in 1Malaysia '\n",
      " 'Development Berhad (1MDB). According to the Code of Ethics for Members of '\n",
      " 'Administration and Member of Parliament is the practice of Cabinet members '\n",
      " 'to declare conflicts of interest if they have involvement in matters '\n",
      " 'discussed in the Cabinet Meeting. The matter was informed by the former '\n",
      " 'Deputy Secretary General (Cabinet) of the Cabinet of the Constitution and '\n",
      " \"Relations of the Prime Minister's Department (JPM), Tan Sri Mazidah Abdul \"\n",
      " 'Majid, in his statement at the 1MDB case trial faced by Najib. The code of '\n",
      " 'ethics, among others, also stated that Cabinet members who have personal '\n",
      " 'interests and contradict the interests of the government, or involving '\n",
      " 'family members, should leave the meeting and record their absence. In 1MDB, '\n",
      " 'Najib holds three positions, namely the Prime Minister, Finance Minister and '\n",
      " 'Chairman of the 1MDB Advisory Body Answering a question from lawyer Tan Sri '\n",
      " 'Muhammad Shafee Abdullah, whether there are Cabinet members who raise the '\n",
      " 'issue that the Minister of Finance should not engage in the discussion '\n",
      " 'because conflicts of interest, Maziah replied: \"No.\" Muhammad Shafee: '\n",
      " 'Someone raised matters regarding 1MBD with Najib? Maziah: Not Muhammad '\n",
      " 'Shafee: Deputy Prime Minister (then) is Tan Sri Muhyiddin Yassin, while '\n",
      " 'Datuk Seri Ahmad Husni Hanadzlah is a former Finance Minister II. They also '\n",
      " 'never raised matters of interest conflict? Mazidah: Yes, never. Meanwhile, '\n",
      " 'answering a question from Deputy Public Prosecutor Ahmad Akram Gharib '\n",
      " 'whether he knew that Najib had personal interest in 1MDB, Mazidah said: \"No\" '\n",
      " 'Ahmad Akram: Do you know that Najib personally received money from 1MDB? '\n",
      " 'Maziah: No Ahmad Akram: If Najib personally receives money from 1MDB is it a '\n",
      " 'conflict of interest and violates the Code of Ethics for Members of '\n",
      " 'Administration and Member of Parliament. Maziah: According to my personal '\n",
      " 'opinion, yes, but because it involves ministers and prime minister, I '\n",
      " 'suggest to get the views of the Attorney General. Earlier, at the beginning '\n",
      " 'of the proceedings, Maziah also told the court that Najib had never '\n",
      " 'mentioned the name of a businessman in the hunt, Low Taek Jho or Jho Low at '\n",
      " 'a Cabinet meeting as an individual who helped him get donations from the '\n",
      " 'royal family of Saudi Arabia. \"If the matter was informed to the Cabinet, '\n",
      " 'then, it will be recorded in the minutes of the meeting,\" he said. Maziah '\n",
      " \"added that he only heard and found out about Jho Low's name after the issue \"\n",
      " 'involving 1MDB. Najib, 68, faced four charges of using his position to '\n",
      " 'obtain bribes amounting to RM2.3 billion from 1MDB funds and 21 charges of '\n",
      " 'money laundering involving the same amount of money. The trial before Judge '\n",
      " 'Collin Lawrence Sequerah continues this Monday.']\n"
     ]
    }
   ],
   "source": [
    "pprint(bigbird_small.greedy_decoder([string]))"
   ]
  },
  {
   "cell_type": "code",
   "execution_count": 19,
   "metadata": {},
   "outputs": [
    {
     "name": "stdout",
     "output_type": "stream",
     "text": [
      "['KUALA LUMPUR: The High Court here today, was told the Cabinet never raised '\n",
      " 'issues about the conflict of interest of Datuk Seri Najib Razak in 1Malaysia '\n",
      " 'Development Berhad (1MDB). According to the Code of Ethics for Members of '\n",
      " 'Administration and Member of Parliament is the practice of Cabinet members '\n",
      " 'to declare conflicts of interest if they have involvement in matters '\n",
      " 'discussed in the Cabinet Meeting. The matter was informed by the former '\n",
      " 'Deputy Secretary General (Cabinet) of the Cabinet of the Constitution and '\n",
      " \"Relations of the Prime Minister's Department (JPM), Tan Sri Mazidah Abdul \"\n",
      " 'Majid, in his statement at the 1MDB case trial faced by Najib. The code of '\n",
      " 'ethics, among others, also stated that Cabinet members who have personal '\n",
      " 'interests and contradict the interests of the government, or involve family '\n",
      " 'members, should leave the meeting and record their absence. In 1MDB, Najib '\n",
      " 'holds three positions, namely the Prime Minister, Finance Minister and '\n",
      " 'Chairman of the 1MDB Advisory Body Answering a question from lawyer Tan Sri '\n",
      " 'Muhammad Shafee Abdullah, whether there are Cabinet members who raise the '\n",
      " 'issue that the Minister of Finance should not engage in the discussion '\n",
      " 'because conflicts of interest, Maziah replied: \"No.\" Muhammad Shafee: '\n",
      " 'Someone raised matters regarding 1MBD with Najib? Maziah: Not Muhammad '\n",
      " 'Shafee: Deputy Prime Minister (then) is Tan Sri Muhyiddin Yassin, while '\n",
      " 'Datuk Seri Ahmad Husni Hanadzlah is a former Finance Minister II. They also '\n",
      " 'never raised matters of interest conflict? Mazidah: Yes, never. Meanwhile, '\n",
      " 'answering the question of Deputy Public Prosecutor, Ahmad Akram Gharib '\n",
      " 'whether he knew that Najib had personal interest in 1MDB, Mazidah said: \"No\" '\n",
      " 'Ahmad Akram: Do you know that Najib personally received money from 1MDB? '\n",
      " 'Maziah: Not Ahmad Akram: If Najib personally receives money from 1MDB is it '\n",
      " 'a conflict of interest and violates the Code of Ethics for Members of '\n",
      " 'Administration and Member of Parliament. Maziah: According to my personal '\n",
      " 'opinion, yes, but because it involves ministers and prime minister, I '\n",
      " 'suggest to get the views of the Attorney General. Earlier, at the beginning '\n",
      " 'of the proceedings, Maziah also told the court that Najib never mentioned '\n",
      " 'the name of a businessman in the hunt, Low Taek Jho or Jho Low at a Cabinet '\n",
      " 'meeting as an individual who helped him get donations from the royal family '\n",
      " 'of Saudi Arabia. \"If the matter was informed to the Cabinet, then, it will '\n",
      " 'be recorded in the minutes of the meeting,\" he said. Maziah added that he '\n",
      " \"only heard and found out about Jho Low's name after the issue involving \"\n",
      " '1MDB. Najib, 68, faced four charges of using his position to obtain bribes '\n",
      " 'amounting to RM2.3 billion from 1MDB funds and 21 charges of money '\n",
      " 'laundering involving the same amount of money. The trial before Judge Collin '\n",
      " 'Lawrence Sequerah continues this Monday.']\n"
     ]
    }
   ],
   "source": [
    "pprint(quantized_bigbird_small.greedy_decoder([string]))"
   ]
  },
  {
   "cell_type": "code",
   "execution_count": 20,
   "metadata": {},
   "outputs": [
    {
     "name": "stdout",
     "output_type": "stream",
     "text": [
      "['KUALA LUMPUR: The High Court here today was told that the Cabinet had never '\n",
      " 'raised the issue of the conflict of interest of Datuk Seri Najib Razak in '\n",
      " '1Malaysia Development Berhad (1MDB). According to the Code of Ethics for '\n",
      " 'Administrative Members and Members of Parliament, it is the practice of '\n",
      " 'Cabinet members to declare conflicts of interest if they have involvement in '\n",
      " 'matters discussed in the Cabinet Meeting. The matter was informed by the '\n",
      " 'former Deputy Secretary General (Cabinet) of the Cabinet Division of the '\n",
      " \"Constitution and the Relations of the Prime Minister's Department (JPM), Tan \"\n",
      " 'Sri Mazidah Abdul Majid, in his testimony at the 1MDB case trial faced by '\n",
      " 'Najib. The code of ethics, among others, also states that Cabinet members '\n",
      " 'who have personal interests and are contrary to the interests of the '\n",
      " 'government, or involving family members, have to leave the meeting and '\n",
      " 'record their absence. In 1MDB, Najib held three positions, namely the Prime '\n",
      " 'Minister, Finance Minister and Chairman of the Chairman of the 1MDB Advisory '\n",
      " 'Body, answered a question from lawyer Tan Sri Muhammad Shafee Abdullah, '\n",
      " 'whether there were Cabinet members who raised the issue that the Minister of '\n",
      " 'Finance should not be involved in the discussion due to conflicts of '\n",
      " 'interest, Maziah replied: \"No.\" Muhammad Shafee: There are anyone who raised '\n",
      " 'the matter of 1MBD with Najib? Maziah: No Muhammad Shafee: The Deputy Prime '\n",
      " 'Minister (then) is Tan Sri Muhyiddin Yassin, while Datuk Seri Ahmad Husni '\n",
      " 'Hanadzlah is the former Minister of Finance II. They have never raised the '\n",
      " 'conflict of interest? Mazidah: Yes, never. Meanwhile, answering a question '\n",
      " 'from Deputy Public Prosecutor Ahmad Akram Gharib whether he knew that Najib '\n",
      " 'had a personal interest in 1MDB, Mazidah said: \"No\" Ahmad Akram: Do you know '\n",
      " 'that Najib personally receives money from 1MDB? Maziah: No Ahmad Akram: If '\n",
      " 'Najib personally receives money from 1MDB is that a conflict of interest and '\n",
      " 'violates the Code of Ethics for Administrative Members and Members of '\n",
      " 'Parliament. Maziah: According to my personal view, yes, but because it '\n",
      " 'involves ministers and prime ministers, I propose to get the views of the '\n",
      " 'Attorney General. Earlier, at the beginning of the proceedings, Maziah also '\n",
      " 'told the court that Najib had never mentioned the name of a businessman in '\n",
      " 'the hunt, Low Taek Jho or Jho Low at a Cabinet meeting as an individual who '\n",
      " 'helped him get donations from the royal family of Saudi Arabia. \"If the '\n",
      " 'matter is informed to the Cabinet, then, it will be recorded in the minutes '\n",
      " 'of the meeting,\" he said. Maziah added that he only heard and knew about Jho '\n",
      " \"Low's name after an issue involving 1MDB. Najib, 68, faces four charges of \"\n",
      " 'using his position to obtain bribes amounting to RM2.3 billion from 1MDB '\n",
      " 'funds and 21 charges of money laundering involving the same amount of money. '\n",
      " 'The trial before Judge Collin Lawrence Sequerah continues this Monday.']\n"
     ]
    }
   ],
   "source": [
    "pprint(bigbird.greedy_decoder([string]))"
   ]
  },
  {
   "cell_type": "code",
   "execution_count": 21,
   "metadata": {},
   "outputs": [
    {
     "name": "stdout",
     "output_type": "stream",
     "text": [
      "['KUALA LUMPUR: The High Court here today was told that the Cabinet had never '\n",
      " 'raised the issue of the conflict of interest of Datuk Seri Najib Razak in '\n",
      " '1Malaysia Development Berhad (1MDB). According to the Code of Ethics for '\n",
      " 'Administrative Members and Members of Parliament, it is the practice of '\n",
      " 'Cabinet members to declare conflicts of interest if they have involvement in '\n",
      " 'matters discussed in the Cabinet Meeting. The matter was informed by the '\n",
      " 'former Deputy Secretary General (Cabinet) of the Cabinet Division of the '\n",
      " \"Constitution and the Relations of the Prime Minister's Department (JPM), Tan \"\n",
      " 'Sri Mazidah Abdul Majid, in his testimony at the 1MDB case trial faced by '\n",
      " 'Najib. The code of ethics, among others, also states that Cabinet members '\n",
      " 'who have personal interests and are contrary to the interests of the '\n",
      " 'government, or involving family members, have to leave the meeting and '\n",
      " 'record their absence. In 1MDB, Najib held three positions, namely the Prime '\n",
      " 'Minister, Finance Minister and Chairman of the Chairman of the 1MDB Advisory '\n",
      " 'Body, answered a question from lawyer Tan Sri Muhammad Shafee Abdullah, '\n",
      " 'whether there were Cabinet members who raised the issue that the Minister of '\n",
      " 'Finance should not be involved in the discussion due to conflicts of '\n",
      " 'interest, Maziah replied: \"No.\" Muhammad Shafee: There are anyone who raised '\n",
      " 'the matter of 1MBD with Najib? Maziah: No Muhammad Shafee: The Deputy Prime '\n",
      " 'Minister (then) is Tan Sri Muhyiddin Yassin, while Datuk Seri Ahmad Husni '\n",
      " 'Hanadzlah is the former Minister of Finance II. They have never raised the '\n",
      " 'conflict of interest? Mazidah: Yes, never. Meanwhile, answering a question '\n",
      " 'from the Deputy Public Prosecutor, Ahmad Akram Gharib whether he knew that '\n",
      " 'Najib had a personal interest in 1MDB, Mazidah said: \"No\" Ahmad Akram: Do '\n",
      " 'you know that Najib personally receives money from 1MDB? Maziah: No Ahmad '\n",
      " 'Akram: If Najib personally receives money from 1MDB is that there is a '\n",
      " 'conflict of interest and violates the Code of Ethics for Administrative '\n",
      " 'Members and Members of Parliament. Maziah: According to my personal view, '\n",
      " 'yes, but because it involves ministers and prime ministers, I propose to get '\n",
      " 'the views of the Attorney General. Earlier, at the beginning of the '\n",
      " 'proceedings, Maziah also told the court that Najib had never mentioned the '\n",
      " 'name of a businessman in the hunt, Low Taek Jho or Jho Low at a Cabinet '\n",
      " 'meeting as an individual who helped him get donations from the royal family '\n",
      " 'of Saudi Arabia. \"If the matter is informed to the Cabinet, then, it will be '\n",
      " 'recorded in the minutes of the meeting,\" he said. Maziah added that he only '\n",
      " \"heard and knew about Jho Low's name after an issue involving 1MDB. Najib, \"\n",
      " '68, faces four charges of using his position to obtain bribes amounting to '\n",
      " 'RM2.3 billion from 1MDB funds and 21 charges of money laundering involving '\n",
      " 'the same amount of money. The trial before Judge Collin Lawrence Sequerah '\n",
      " 'continues this Monday.']\n"
     ]
    }
   ],
   "source": [
    "pprint(quantized_bigbird.greedy_decoder([string]))"
   ]
  },
  {
   "cell_type": "code",
   "execution_count": 22,
   "metadata": {},
   "outputs": [
    {
     "name": "stdout",
     "output_type": "stream",
     "text": [
      "['KUALA LUMPUR: Datuk Seri Najib Tun Razak today failed in another attempt to '\n",
      " 'drop former Federal Court Judge Datuk Seri Gopal Sri Ram from leading the '\n",
      " 'prosecution team in the case of amending the 1Malaysia Development Berhad '\n",
      " \"(1MDB) audit report involving the former prime minister. This is Najib's \"\n",
      " 'third attempt to drop Sri Ram as prosecutor in the 1MDB-related criminal '\n",
      " 'case. Earlier, an application was filed in another 1MDB case before a '\n",
      " 'different judge and a second attempt through civil proceedings. While '\n",
      " 'rejecting the application of the Pekan Member of Parliament, High Court '\n",
      " \"Judge Mohamed Zaini Mazlan said Najib's allegation that Sri Ram was involved \"\n",
      " 'in the investigation into him as there was no merit. \"There is no solid '\n",
      " \"evidence to support the applicant's allegation and remain a mere hypothesis. \"\n",
      " 'This issue has been investigated by the prosecution as the previous '\n",
      " 'respondent during the application of the applicant (Najib).\" This issue has '\n",
      " 'been discussed and decided. The decision by other courts previously remained '\n",
      " 'and could not be reversed, \"said the judge. Mohamed Zaini when giving '\n",
      " 'reasons for rejection said applicants, among others, made communication '\n",
      " 'between former Attorney General Tan Sri Mohamed Apandi Ali and Sri Ram as '\n",
      " \"evidence of Sri Ram's biased side of the applicant and the applicant's \"\n",
      " 'concern regarding the matter was baseless. \"As well as other individuals, '\n",
      " \"Sri Ram has the right to have personal views. That's all. However, different \"\n",
      " 'considerations will be made if he shows a biased attitude while performing '\n",
      " 'his duties as a senior prosecutor. His personal view cannot be considered to '\n",
      " 'prevent his responsibilities as a senior prosecutor.\" Furthermore, the '\n",
      " 'incident, as presented by the respondent, happened when before the '\n",
      " 'appointment of Sri Ram as a senior prosecutor. Also important is that the '\n",
      " \"applicant did not make any complaint about Sri Ram's actions while \"\n",
      " 'conducting a trial involving the applicant. This strengthened the '\n",
      " \"respondents' argument that Sri Ram was open while carrying out his duties as \"\n",
      " 'a senior prosecutor, \"said the judge. Mohamed Zaini further said that in the '\n",
      " 'end, the court was responsible for ensuring that a trial was implemented '\n",
      " 'fairly for justice.\" The court will help any party treated unfairly, if the '\n",
      " \"matter happened. The relationship, the applicant's application was rejected, \"\n",
      " '\"he said. The trial of the 1MDB audit report case will continue on Feb 22. '\n",
      " \"At today's proceedings, Deputy Public Prosecutor Ahmad Akram Gharib acted on \"\n",
      " 'behalf of the prosecution, while Najib was represented by lawyer Nur '\n",
      " 'Syahirah Hanapiah. Najib, 67, and former 1MDB Chief Executive Officer Arul '\n",
      " 'Kanda Kandasamy, 45, were tried on charges of amending the 1MDB audit '\n",
      " 'report. The Pekan Member of Parliament was accused of using his position to '\n",
      " 'direct amendments to the 1MDB final audit report before being tabled to the '\n",
      " 'Public Accounts Committee to prevent any action from being taken against '\n",
      " 'him, while Arul Kanda was charged with abetting Najib in making amendments '\n",
      " 'to the report to protect Najib from being prosecuted.']\n"
     ]
    }
   ],
   "source": [
    "pprint(bigbird_small.greedy_decoder([string2]))"
   ]
  },
  {
   "cell_type": "code",
   "execution_count": 23,
   "metadata": {},
   "outputs": [
    {
     "name": "stdout",
     "output_type": "stream",
     "text": [
      "['KUALA LUMPUR: Datuk Seri Najib Tun Razak today failed in another attempt to '\n",
      " 'drop former Federal Court Judge Datuk Seri Gopal Sri Ram from leading the '\n",
      " 'prosecution team in the case of amending the 1Malaysia Development Berhad '\n",
      " \"(1MDB) audit report involving the former prime minister. This is Najib's \"\n",
      " 'third attempt to drop Sri Ram as prosecutor in the 1MDB-related criminal '\n",
      " 'case. Earlier, an application was filed in another 1MDB case before a '\n",
      " 'different judge and a second attempt through civil proceedings. While '\n",
      " 'rejecting the application of the Pekan Member of Parliament, High Court '\n",
      " \"Judge Mohamed Zaini Mazlan said Najib's allegation that Sri Ram was involved \"\n",
      " 'in the investigation into him as there is no merit. \"There is no solid '\n",
      " \"evidence to support the applicant's allegation and remain a mere hypothesis. \"\n",
      " 'This issue has been investigated by the prosecution as the previous '\n",
      " 'respondent during the application of the applicant (Najib).\" This issue has '\n",
      " 'been discussed and decided. The decision by other courts previously remained '\n",
      " 'and could not be reversed, \"said the judge. Mohamed Zaini when giving '\n",
      " 'reasons for rejection said applicants, among others, made communication '\n",
      " 'between former Attorney General Tan Sri Mohamed Apandi Ali and Sri Ram as '\n",
      " \"evidence of Sri Ram's biased side of the applicant and the applicant's \"\n",
      " 'concern regarding the matter was baseless. \"As well as other individuals, '\n",
      " 'Sri Ram has the right to have a personal view. That alone. However, '\n",
      " 'different considerations will be made if he shows a biased attitude while '\n",
      " 'performing his duties as a senior prosecutor. His personal view cannot be '\n",
      " 'considered to prevent his responsibility as a senior prosecutor.\" '\n",
      " 'Furthermore, the incident, as presented by the respondent, happened when '\n",
      " 'before the appointment of Sri Ram as a senior prosecutor. Also important is '\n",
      " \"that the applicant did not make any complaint about Sri Ram's actions while \"\n",
      " \"conducting trial involving the applicant. This strengthened the respondents' \"\n",
      " 'argument that Sri Ram was open while carrying out his duties as a senior '\n",
      " 'prosecutor, \"said the judge. Mohamed Zaini further said that in the end, the '\n",
      " 'court was responsible for ensuring that a trial was implemented fairly for '\n",
      " 'justice.\" The court will help any party treated unfairly, if the matter '\n",
      " 'happened. The connection, the applicant\\'s application was rejected, \"he '\n",
      " 'said. The trial of the 1MDB audit report case will continue on Feb 22. At '\n",
      " \"today's proceedings, Deputy Public Prosecutor Ahmad Akram Gharib acted on \"\n",
      " 'behalf of the prosecution, while Najib was represented by lawyer Nur '\n",
      " 'Syahirah Hanapiah. Najib, 67, and former 1MDB Chief Executive Officer Arul '\n",
      " 'Kanda Kandasamy, 45, were tried on charges of amending the 1MDB audit '\n",
      " 'report. The Pekan Member of Parliament was accused of using his position to '\n",
      " 'direct amendments to the 1MDB final audit report before being tabled to the '\n",
      " 'Public Accounts Committee to prevent any action from being taken against '\n",
      " 'him, while Arul Kanda was charged with abetting Najib in making amendments '\n",
      " 'to the report to protect Najib from being prosecuted.']\n"
     ]
    }
   ],
   "source": [
    "pprint(quantized_bigbird_small.greedy_decoder([string2]))"
   ]
  },
  {
   "cell_type": "code",
   "execution_count": 24,
   "metadata": {},
   "outputs": [
    {
     "name": "stdout",
     "output_type": "stream",
     "text": [
      "['KUALA LUMPUR: Datuk Seri Najib Tun Razak today failed in another attempt to '\n",
      " 'drop former Federal Court Judge Datuk Seri Gopal Sri Ram from leading the '\n",
      " 'prosecution team in the case of amending the 1Malaysia Development Berhad '\n",
      " \"(1MDB) audit report involving the former prime minister. This is Najib's \"\n",
      " 'third attempt to drop Sri Ram as a prosecution in the 1MDB-related criminal '\n",
      " 'case. Previously, an application was filed in another 1MDB case before a '\n",
      " 'different judge and a second attempt through civil proceedings. While '\n",
      " \"rejecting the Pekan Member of Parliament's application, High Court Judge \"\n",
      " \"Mohamed Zaini Mazlan said Najib's allegation that Sri Ram was involved in \"\n",
      " 'his investigation into him as no merit. \"There is no solid evidence to '\n",
      " \"support the applicant's allegations and remain a mere hypothesis. This issue \"\n",
      " 'has been investigated by the prosecution as the respondent during the '\n",
      " 'application of the applicant (Najib) earlier.\" This issue has been discussed '\n",
      " 'and decided. The decision by other courts previously remains and cannot be '\n",
      " 'reversed, \"said the judge. Mohamed Zaini when giving the reason for refusing '\n",
      " 'said the applicant, among others, made communication between former '\n",
      " 'Attorney-General Tan Sri Mohamed Apandi Ali and Sri Ram as proof of Sri '\n",
      " \"Ram's bias towards the applicant and the applicant's concern over the matter \"\n",
      " 'was baseless. \"Like other individuals, Sri Ram has the right to have a '\n",
      " \"personal view. That's all. However, different considerations will be made if \"\n",
      " 'he shows a biased attitude while performing his duties as a senior '\n",
      " 'prosecutor. His personal views should not be considered to hinder his '\n",
      " 'responsibility as a senior prosecutor. \"Furthermore, the incident, as '\n",
      " 'submitted by the respondent, occurred before the appointment of Sri Ram as '\n",
      " 'senior prosecutor. It is also important that the applicant did not make any '\n",
      " \"complaints about Sri Ram's actions during the trial involving the applicant. \"\n",
      " \"This strengthens the respondents' argument that Sri Ram was open while \"\n",
      " 'carrying out his duties as senior prosecutor,\" said the judge. Mohamed Zaini '\n",
      " 'further said that in the end, the court was responsible for ensuring that a '\n",
      " 'trial was held fairly in order to obtain justice. \"The court will assist any '\n",
      " 'party treated unfairly, if the matter happens. In relation to that, the '\n",
      " 'applicant\\'s application is rejected,\" he said. The trial of the 1MDB audit '\n",
      " \"report case will continue on Feb 22. In today's proceedings, Deputy Public \"\n",
      " 'Prosecutor Ahmad Akram Gharib acted on behalf of the prosecution, while '\n",
      " 'Najib was represented by lawyer Nur Syahirah Hanapiah. Najib, 67, and former '\n",
      " '1MDB Chief Executive Officer Arul Kanda Kandasamy, 45, were tried on charges '\n",
      " 'of amending the 1MDB audit report. The Pekan Member of Parliament was '\n",
      " 'accused of using his position to order amendments to the 1MDB final audit '\n",
      " 'report before being tabled to the Public Accounts Committee to prevent any '\n",
      " 'action being taken against him, while Arul Kanda was accused of abetting '\n",
      " 'Najib in amending the report to protect Najib from being prosecuted.']\n"
     ]
    }
   ],
   "source": [
    "pprint(bigbird.greedy_decoder([string2]))"
   ]
  },
  {
   "cell_type": "code",
   "execution_count": 25,
   "metadata": {},
   "outputs": [
    {
     "name": "stdout",
     "output_type": "stream",
     "text": [
      "['KUALA LUMPUR: Datuk Seri Najib Tun Razak today failed in another attempt to '\n",
      " 'drop former Federal Court Judge Datuk Seri Gopal Sri Ram from leading the '\n",
      " 'prosecution team in the case of amending the 1Malaysia Development Berhad '\n",
      " \"(1MDB) audit report involving the former prime minister. This is Najib's \"\n",
      " 'third attempt to drop Sri Ram as a prosecution in the 1MDB-related criminal '\n",
      " 'case. Previously, an application was filed in another 1MDB case before a '\n",
      " 'different judge and a second attempt through civil proceedings. While '\n",
      " \"rejecting the Pekan Member of Parliament's application, High Court Judge \"\n",
      " \"Mohamed Zaini Mazlan said Najib's allegation that Sri Ram was involved in an \"\n",
      " 'investigation into him as no merit. \"There is no solid evidence to support '\n",
      " \"the applicant's allegations and remain a mere hypothesis. This issue has \"\n",
      " 'been investigated by the prosecution as the respondent during the applicant '\n",
      " '(Najib) application.\" This issue has been discussed and decided. The '\n",
      " 'decision by other courts has previously remained and cannot be reversed, '\n",
      " '\"said the judge. Mohamed Zaini when giving the reason for his rejection said '\n",
      " 'the applicant, among others, made communication between former '\n",
      " 'Attorney-General Tan Sri Mohamed Apandi Ali and Sri Ram as proof of Sri '\n",
      " \"Ram's bias towards the applicant and the applicant's concern over the matter \"\n",
      " 'was baseless. \"Like other individuals, Sri Ram has the right to have a '\n",
      " \"personal view. That's all. However, different considerations will be made if \"\n",
      " 'he shows a biased attitude while performing his duties as a senior '\n",
      " 'prosecutor. His personal views should not be considered to hinder his '\n",
      " 'responsibility as a senior prosecutor. \"Furthermore, the incident, as '\n",
      " 'submitted by the respondent, occurred before the appointment of Sri Ram as '\n",
      " 'senior prosecutor. It is also important that the applicant did not make any '\n",
      " \"complaints about Sri Ram's actions during the trial involving the applicant. \"\n",
      " \"This strengthens the respondents' argument that Sri Ram is open while \"\n",
      " 'carrying out his duties as senior prosecutor,\" said the judge. Mohamed Zaini '\n",
      " 'further said that in the end, the court was responsible for ensuring that a '\n",
      " 'trial was held fairly in order to obtain justice. \"The court will assist any '\n",
      " 'party treated unfairly, if the matter happens. In relation to that, the '\n",
      " 'applicant\\'s application is rejected,\" he said. The trial of the 1MDB audit '\n",
      " \"report case will continue on Feb 22. At today's proceedings, Deputy Public \"\n",
      " 'Prosecutor Ahmad Akram Gharib acted on behalf of the prosecution, while '\n",
      " 'Najib was represented by lawyer Nur Syahirah Hanapiah. Najib, 67, and former '\n",
      " '1MDB Chief Executive Officer Arul Kanda Kandasamy, 45, were tried on charges '\n",
      " 'of amending the 1MDB audit report. The Pekan Member of Parliament was '\n",
      " 'accused of using his position to order amendments to the 1MDB final audit '\n",
      " 'report before being tabled to the Public Accounts Committee to prevent any '\n",
      " 'action being taken against him, while Arul Kanda was charged with abetting '\n",
      " \"Najib in amending Najib's report to protect Najib from being prosecuted.\"]\n"
     ]
    }
   ],
   "source": [
    "pprint(quantized_bigbird.greedy_decoder([string2]))"
   ]
  },
  {
   "cell_type": "code",
   "execution_count": 21,
   "metadata": {},
   "outputs": [
    {
     "name": "stdout",
     "output_type": "stream",
     "text": [
      "['3 August 2018 - The latest study conducted by University College London '\n",
      " '(UCL) found that mental healthcare services from support workers who have '\n",
      " 'been facing the disease themselves may help reduce the probability of '\n",
      " 'patients who have just left out of acute mental health care from '\n",
      " 're-introduced to the unit. The research paper published today in the journal '\n",
      " 'The Lancet found that the number of mental patients re-induced into acute '\n",
      " 'care units within a year was 24% much lower for the group of patients '\n",
      " 'offered by support workers in the form of senasib friends, compared to '\n",
      " 'groups of patients who are only given personal rehabilitation work books. '\n",
      " '\"The pain allowed to go out (discharge) from community crisis services is '\n",
      " 'often re-entered into acute care units. This not only helps recovery, but '\n",
      " 'also uses resources that should be reserved for long-term improvement of '\n",
      " \"patients' functions and quality of life. Support workers from the group of \"\n",
      " 'senasib friends are able to provide truly friendly and empatth support and '\n",
      " 'encouragement because they come from their own personal experience, in '\n",
      " 'addition to being a good example of role model for patient rehabilitation, '\n",
      " '\"said the main author, Professor Sonia Johnson (Psychiiatri, UCL). In the '\n",
      " 'United Kingdom (UK), more than half of the number of patients included in '\n",
      " 'the acute care unit is re-entered into the unit within a year, but there is '\n",
      " 'no solid evidence to explain the method to reduce this number. In fact, '\n",
      " 'support from individuals who have experienced mental health problems has '\n",
      " 'been practiced in programs such as the Implementation of Rehabilitation '\n",
      " 'through NHS Organizational Change (UK) as well as the United States Health '\n",
      " 'Rehabilitation Action Plan. This research is the first random controlled '\n",
      " 'test to evaluate the effectiveness of senasib partner support programs. '\n",
      " 'However, there are still many research that needs to be carried out before '\n",
      " 'this strategy can be implemented comprehensively in the UK, for example to '\n",
      " 'understand the reasons why this program is effective. Certainly, '\n",
      " 'intervention or intervention in self-management (self-management) may help '\n",
      " 'patients manage their mental health better. In this study, researchers '\n",
      " 'provide participants either with personal rehabilitation work books only '\n",
      " '(220 people) or working books with help with senasib partner support workers '\n",
      " '(221 people). Participants are also allowed to continue their regular care. '\n",
      " 'This study was conducted through six mental health crisis solution teams in '\n",
      " 'England and participants were selected only after they were allowed to leave '\n",
      " 'the crisis unit by crisis resolution team. Study participants consisted of '\n",
      " 'various diagnosiss including schizophrenia, bipolar, psychosis, depression, '\n",
      " 'anxiety confusion, post-trauma stress disorders (PTSD), and personality '\n",
      " 'confusion. Participants who received support from senasib friends were '\n",
      " 'offered 10 weekly meeting sessions for an hour. During this meeting session, '\n",
      " \"support workers heard participants' problems and aim to instill hope by \"\n",
      " 'sharing the skills and strategies of disease management (coping strategies) '\n",
      " 'which were mastered when they themselves were in the process of recovery. '\n",
      " 'All support workers are given prior training in listening skills, cultural '\n",
      " 'awareness, self-disclosure, and confidentiality, as well as how to use work '\n",
      " \"books. Participants' health records were monitored by researchers for one \"\n",
      " 'year to determine whether participants were re-entered to acute care units '\n",
      " '(such as acute patient wards, crisis solutions, crisis homes, and acute '\n",
      " 'daily care services) or not. After completing a year, the study found that '\n",
      " 'the percentage of re-entry into acute care units is lower for the group of '\n",
      " 'participants who receive intervention compared to the control group - with '\n",
      " '29% of participants re-in-reduced after receiving support from senasib '\n",
      " 'friends, compared to 38% participants who only received working books. The '\n",
      " 'intervention absorption rate also well - 72% of participants offered the '\n",
      " 'services of senasib support employees and working books attended at least '\n",
      " 'three meeting sessions, while one third attended all 10 meeting sessions. '\n",
      " '\"We are aware that many users of mental health crisis care services felt '\n",
      " 'this service stopped sharply due to lack of ready-up care. Our study shows '\n",
      " 'that senasib partner support workers can help fill this gap by helping '\n",
      " 'service users (accuraration) to develop self-management strategies and '\n",
      " 'recovery plans in their own way and more meaningful, in turn can help '\n",
      " 'patients continue to survive after a crisis, \"said the joint author, Dr '\n",
      " 'Brynmor Lloyd-Evans (Psikiatrialt) to help in turn can help patients '\n",
      " 'continue to survive after a crisis after a crisis after a crisis,\" said '\n",
      " 'after a crisis,\" said. together,\" said that. (Piatri, (s after receiving job '\n",
      " 'management services of the services, Dr imized service users with at least '\n",
      " 'three-inforceditionary support services (Philly, and more meaningfully and '\n",
      " 'more meaningfully, Dr (Planties, in turn help patients with a crisis, in '\n",
      " 'turn can help patients continue to help']\n"
     ]
    }
   ],
   "source": [
    "pprint(bigbird_small.greedy_decoder([string3]))"
   ]
  },
  {
   "cell_type": "code",
   "execution_count": 22,
   "metadata": {
    "scrolled": true
   },
   "outputs": [
    {
     "name": "stdout",
     "output_type": "stream",
     "text": [
      "['3 August 2018 - The latest study conducted by University College London '\n",
      " '(UCL) found that mental healthcare services from support workers who have '\n",
      " 'been going through the disease themselves may help reduce the probability of '\n",
      " 'patients who have just left from acute mental health care from re-increased '\n",
      " 'to the unit. The research paper published today in the journal The Lancet '\n",
      " 'found that the number of mental patients re-induced into acute care units '\n",
      " 'within a year is 24% much lower for the group of patients offered by support '\n",
      " 'workers in the form of dustry partners, compared to groups of patients who '\n",
      " 'are only given personal rehabilitation work books. \"The pain allowed to go '\n",
      " 'out (discharge) from community crisis services is often re-entered to acute '\n",
      " 'care units. This not only hinders recovery, but also uses resources that '\n",
      " \"should be reserved for long-term improvement of patients' functions and \"\n",
      " 'quality of life. Support workers from the group of senasib friends are able '\n",
      " 'to provide truly friendly and empath support and encouragement because they '\n",
      " 'come from their own personal experience, in addition to being a good example '\n",
      " 'of role model for patient rehabilitation, \"said the main author, Professor '\n",
      " 'Sonia Johnson (Psychiiatri, UCL). In the United Kingdom (UK), more than half '\n",
      " 'of the number of patients included in the acute care unit is re-entered into '\n",
      " 'the unit within a year, but there is no solid evidence to explain the method '\n",
      " 'to reduce this number. In fact, support from individuals who have '\n",
      " 'experienced mental health problems has been practiced in programs such as '\n",
      " 'the Implementation of Rehabilitation through NHS Organizational Change (UK) '\n",
      " 'as well as the United States Health Recovery Action Plan. This research is '\n",
      " 'the first random controlled test to evaluate the effectiveness of senasib '\n",
      " 'support programs. Even so, there are still many research that needs to be '\n",
      " 'carried out before this strategy can be implemented comprehensively in the '\n",
      " 'UK, for example to understand the reasons why this program is effective. '\n",
      " 'Certainly, intervention or intervention in self-management may help patients '\n",
      " 'manage their mental health better. In this study, researchers provide '\n",
      " 'participants either with personal rehabilitation work books (220 people) or '\n",
      " 'working books with help from senasib partner support workers (221 people). '\n",
      " 'Participants are also allowed to continue their regular care. This study was '\n",
      " 'conducted through six mental health crisis solution teams in England and '\n",
      " 'participants were selected only after they were allowed to leave the crisis '\n",
      " 'unit by crisis resolution team. Study participants consisted of various '\n",
      " 'diagnosiss including schizophrenia, bipolar, psychosis, depression, anxiety '\n",
      " 'confusion, post-trauma stress disorders (PTSD), and personality confusion. '\n",
      " 'Participants who received support from senasib friends were offered 10 '\n",
      " 'weekly meeting sessions for an hour. During this meeting session, support '\n",
      " \"workers heard participants' problems and aim to instill hope by sharing the \"\n",
      " 'skills and strategies of disease management when they themselves were in the '\n",
      " 'process of recovery. All support workers are given prior training in '\n",
      " 'listening skills, cultural awareness, self-disclosure, and confidentiality, '\n",
      " \"as well as how to use work books. Participants' health records were \"\n",
      " 'monitored by researchers for one year to determine whether participants were '\n",
      " 're-entered to acute care units (such as acute patient wards, crisis '\n",
      " 'solutions, crisis homes, and acute daily care services) or not. After the '\n",
      " 'end of one year, the study found that the percentage of re-entry to acute '\n",
      " 'care units is lower for the group of participants who receive intervention '\n",
      " 'compared to the control group - with 29% of participants re-increased after '\n",
      " 'receiving the support of the senasib partner, compared to 38% participants '\n",
      " 'who only received work books. The intervention absorption rate also - 72% of '\n",
      " 'participants offered the services of senasib support employees and working '\n",
      " 'books attended at least three meeting sessions, while one third attended all '\n",
      " '10 meeting sessions. \"We are aware that many users of mental health crisis '\n",
      " 'care services feel that this service stopped dramatically due to lack of '\n",
      " 'follow-up care ready. Our study shows that senasib peer support workers can '\n",
      " 'help fill this gap by helping service users (accuratic) develop '\n",
      " 'self-management strategies and recovery plans in their own way and more '\n",
      " 'meaningfully, in turn can help patients continue to survive after a crisis, '\n",
      " '\"said the joint author, Dr Brynmor Lloyd-Evans (Pcyclist, UCL).']\n"
     ]
    }
   ],
   "source": [
    "pprint(quantized_bigbird_small.greedy_decoder([string3]))"
   ]
  },
  {
   "cell_type": "code",
   "execution_count": 26,
   "metadata": {},
   "outputs": [
    {
     "name": "stdout",
     "output_type": "stream",
     "text": [
      "['3 August 2018 - A recent study conducted by University College London (UCL) '\n",
      " 'found that mental healthcare services from support workers who have '\n",
      " 'undergone the disease themselves may help reduce the probability of patients '\n",
      " 'who have just left acute mental health care (acute mental health care) from '\n",
      " 'being re-entered to the unit. The research paper published today in the '\n",
      " 'journal The Lancet found that the number of mental patients re-entered to '\n",
      " 'acute care units within a year was 24% much lower for the group of patients '\n",
      " 'offered by support workers in the form of senib friends, compared to the '\n",
      " 'group of patients who were only given personal rehabilitation workbooks '\n",
      " 'only. \"Patients allowed to leave (discharge) from community crisis services '\n",
      " 'are often re-entered to acute care units. This not only hinders recovery, '\n",
      " 'but also uses resources that should be reserved for long-term improvement of '\n",
      " 'patient function and quality of life. Support workers from the senasib '\n",
      " 'friends are able to provide support and encouragement that is truly friendly '\n",
      " 'and empathic because it comes from their own personal experience, in '\n",
      " 'addition to being a good example of models (role models) for patient '\n",
      " 'recovery, \"said lead author Professor Sonia Johnson (Psychiatric, UCL). In '\n",
      " 'the United Kingdom (UK), more than half of the total number of patients '\n",
      " 'admitted to acute care units are re-entered to the unit within a year, but '\n",
      " 'no solid evidence explains the method to reduce this number.In fact, support '\n",
      " 'from individuals who have had mental health problems has been practiced in '\n",
      " 'programs such as Rehabilitation Implementation through NHS Organization '\n",
      " 'Change (UK) and also the United States Health Rehabilitation Action '\n",
      " 'Plan.This research is the first such randomized test to evaluate the '\n",
      " 'effectiveness of  senmitarian support programs.However, there is still a lot '\n",
      " 'of research that needs to be done before this strategy can be implemented '\n",
      " 'comprehensively in the UK, for example to understand the reasons why the '\n",
      " 'program is effective. Certainly, intervention or intervention in '\n",
      " 'self-management may help patients manage their mental health better.In this '\n",
      " 'study, the researcher provided participants either with personal '\n",
      " 'rehabilitation workbooks only (220 people) or workbooks with the help of '\n",
      " 'support employees of senasib friends (221 people). Participants are also '\n",
      " 'allowed to continue their normal care. This study was conducted through six '\n",
      " 'teams to resolve the mental health crisis (crisis resolution team) in '\n",
      " 'England and participants were selected only after they were allowed to leave '\n",
      " 'the crisis unit by the crisis-solving team. Study participants consisted of '\n",
      " 'various diagnosiss including schizophrenia, bipolar, psychosis, depression, '\n",
      " 'anxiety disorder, post-trauma stress disorder (PTSD), and personality '\n",
      " 'disorder. Participants who received the support of senmiline friends were '\n",
      " 'offered 10 weekly meeting sessions for an hour. During this meeting session, '\n",
      " \"support workers listened to participants' problems and aimed at instilling \"\n",
      " 'hope by sharing skills and strategies of disease management (coping '\n",
      " 'strategies) controlled while they themselves were in the process of '\n",
      " 'recovery. All support workers are given prior training in listening skills, '\n",
      " 'cultural awareness, self-disclosure, and confidentiality, as well as how to '\n",
      " \"use workbooks. Participants' health records are monitored by researchers for \"\n",
      " 'a year to determine whether participants are re-entered into acute care '\n",
      " 'units (such as acute patient wards, crisis-solving teams, crisis houses, '\n",
      " 'crisis houses, and acute daily care services) or not. After a year, the '\n",
      " 'study found that the percentage of re-entry to acute care units was lower '\n",
      " 'for groups of participants who received the intervention compared to the '\n",
      " 'control group - with 29% of participants re-entered after receiving support '\n",
      " 'from their peers, compared to 38% of participants who only received '\n",
      " 'workbooks. The intervention absorption rate is also good - 72% of '\n",
      " 'participants offered the services of support partner support workers and '\n",
      " 'workbooks attended at least three meeting sessions, while one-third attended '\n",
      " 'all 10 meeting sessions. \"We are aware that many users of mental health '\n",
      " 'crisis care services feel this service ceases sharply due to lack of '\n",
      " 'ready-made follow-up care. Our study shows that support employees of senied '\n",
      " 'partners can help fill out this gap by helping service users (pesakit) '\n",
      " 'develop self-management strategies and recovery and more meaningfully, '\n",
      " 'further helping patients survive after a crisis, \" said the co-winnary '\n",
      " 'author, \" said the co-star, Dr Brynmorynmor Lloyd-E).']\n"
     ]
    }
   ],
   "source": [
    "pprint(bigbird.greedy_decoder([string3]))"
   ]
  },
  {
   "cell_type": "code",
   "execution_count": 27,
   "metadata": {},
   "outputs": [
    {
     "name": "stdout",
     "output_type": "stream",
     "text": [
      "['August 3, 2018 - A recent study conducted by University College London (UCL) '\n",
      " 'found that mental healthcare services from support workers who have '\n",
      " 'undergone the disease themselves may help reduce the probability of patients '\n",
      " 'who have just left acute mental health care (acute mental health care) from '\n",
      " 'being re-entered to the unit. The research paper published today in the '\n",
      " 'journal The Lancet found that the number of mental patients re-entered into '\n",
      " 'acute care units within a year was 24% much lower for the group of patients '\n",
      " 'offered by support workers in the form of senib partners, compared to the '\n",
      " 'group of patients who were only given personal rehabilitation workbooks '\n",
      " 'only. \"Puncharge allowed out of community crisis services are often '\n",
      " 're-entered to acute care units. This not only hinders recovery, but also '\n",
      " 'uses resources that should be reserved for long-term improvement of patient '\n",
      " 'function and quality of life. Support workers from the senasib partners are '\n",
      " 'able to provide support and encouragement that is truly friendly and '\n",
      " 'empathistic because it comes from their own personal experience, in addition '\n",
      " 'to being a good example of a good role model for patient recovery, \"said '\n",
      " 'lead author Professor Sonia Johnson (Psychiatrist, UCL). In the United '\n",
      " 'Kingdom (UK), more than half of the total number of patients admitted to '\n",
      " 'acute care units are re-entered to the unit within a year, but no solid '\n",
      " 'evidence explains the method to reduce this amount.In fact, support from '\n",
      " 'individuals who have had mental health problems has been practiced in '\n",
      " 'programs such as Rehabilitation Implementation through NHS Organization '\n",
      " 'Change (UK) and also the United States Health Rehabilitation Action '\n",
      " 'Plan.This research is the first such random controlled test to evaluate the '\n",
      " 'effectiveness of the senasib support program.However, there is still a lot '\n",
      " 'of research that needs to be done before this strategy can be implemented '\n",
      " 'comprehensively in the UK, for example to understand the reasons why the '\n",
      " 'program is effective. Certainly, intervention or intervention in '\n",
      " 'self-management may help patients manage their mental health better.In this '\n",
      " 'study, the researcher provided participants either with personal '\n",
      " 'rehabilitation workbooks only (220 people) or workbooks with the help of '\n",
      " 'support staff of senasib friends (221 people). Participants are also allowed '\n",
      " 'to continue their normal care. This study was conducted through six teams '\n",
      " 'solving the mental health crisis (crisis resolution team) in England and '\n",
      " 'participants were selected only after they were allowed to leave the crisis '\n",
      " 'unit by the crisis-solving team. Study participants consisted of various '\n",
      " 'diagnosis including schizophrenia, bipolar, psychosis, depression, anxiety '\n",
      " 'disorder, post-trauma stress disorder (PTSD), and personality disorder. '\n",
      " 'Participants who received the support of senasib friends were offered 10 '\n",
      " 'weekly meeting sessions for an hour. During this meeting session, support '\n",
      " \"workers listened to participants' problems and aimed at instilling hope by \"\n",
      " 'sharing skills and strategies of disease management (coping strategies) '\n",
      " 'controlled while they were in the process of recovery. All support workers '\n",
      " 'are given prior training in listening skills, cultural awareness, '\n",
      " 'self-disclosure, and confidentiality, as well as how to use workbooks. '\n",
      " \"Participants' health records are monitored by researchers for a year to \"\n",
      " 'determine whether participants are re-entered into acute care units (such as '\n",
      " 'acute patient wards, crisis-solving teams, crisis houses, crisis houses, and '\n",
      " 'acute daily care services) or not. After a year, the study found that the '\n",
      " 'percentage of re-entry to acute care units is lower for groups of '\n",
      " 'participants who receive interventions compared to control groups - with 29% '\n",
      " 'of participants re-entered after receiving support from their peers, '\n",
      " 'compared to 38% of participants who only received workbooks. The '\n",
      " 'intervention absorption rate is also good - 72% of participants offered the '\n",
      " 'services of support partner support and workbooks attend at least three '\n",
      " 'meeting sessions, while one-thirds attend all 10 meeting sessions. \"We are '\n",
      " 'aware that many users of mental health crisis care services feel this '\n",
      " 'service is abruptly due to lack of ready-made follow-up care. Our study '\n",
      " 'shows that support staff support workers can help fill this gap by helping '\n",
      " 'service users (pesakit) develop self-management strategies and recovery '\n",
      " 'plans in their own way, further helping patients survive after a crisis,\" '\n",
      " 'said the occurrence, \" said the co-started author Dr Bryn of the author, Dr '\n",
      " 'Brynousa.']\n"
     ]
    }
   ],
   "source": [
    "pprint(quantized_bigbird.greedy_decoder([string3]))"
   ]
  },
  {
   "cell_type": "code",
   "execution_count": null,
   "metadata": {},
   "outputs": [],
   "source": []
  }
 ],
 "metadata": {
  "kernelspec": {
   "display_name": "Python 3",
   "language": "python",
   "name": "python3"
  },
  "language_info": {
   "codemirror_mode": {
    "name": "ipython",
    "version": 3
   },
   "file_extension": ".py",
   "mimetype": "text/x-python",
   "name": "python",
   "nbconvert_exporter": "python",
   "pygments_lexer": "ipython3",
   "version": "3.7.7"
  },
  "varInspector": {
   "cols": {
    "lenName": 16,
    "lenType": 16,
    "lenVar": 40
   },
   "kernels_config": {
    "python": {
     "delete_cmd_postfix": "",
     "delete_cmd_prefix": "del ",
     "library": "var_list.py",
     "varRefreshCmd": "print(var_dic_list())"
    },
    "r": {
     "delete_cmd_postfix": ") ",
     "delete_cmd_prefix": "rm(",
     "library": "var_list.r",
     "varRefreshCmd": "cat(var_dic_list()) "
    }
   },
   "types_to_exclude": [
    "module",
    "function",
    "builtin_function_or_method",
    "instance",
    "_Feature"
   ],
   "window_display": false
  }
 },
 "nbformat": 4,
 "nbformat_minor": 5
}
