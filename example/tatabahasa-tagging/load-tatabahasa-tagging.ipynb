{
 "cells": [
  {
   "cell_type": "markdown",
   "metadata": {},
   "source": [
    "# Kesalahan Tatabahasa with Tagging"
   ]
  },
  {
   "cell_type": "markdown",
   "metadata": {},
   "source": [
    "<div class=\"alert alert-info\">\n",
    "\n",
    "This tutorial is available as an IPython notebook at [Malaya/example/tatabahasa-tagging](https://github.com/huseinzol05/Malaya/tree/master/example/tatabahasa-tagging).\n",
    "    \n",
    "</div>"
   ]
  },
  {
   "cell_type": "markdown",
   "metadata": {},
   "source": [
    "<div class=\"alert alert-warning\">\n",
    "\n",
    "This module only trained on standard language structure, so it is not save to use it for local language structure.\n",
    "    \n",
    "</div>"
   ]
  },
  {
   "cell_type": "markdown",
   "metadata": {},
   "source": [
    "<div class=\"alert alert-warning\">\n",
    "\n",
    "This interface deprecated, use HuggingFace interface instead.\n",
    "    \n",
    "</div>"
   ]
  },
  {
   "cell_type": "code",
   "execution_count": 1,
   "metadata": {},
   "outputs": [],
   "source": [
    "import os\n",
    "\n",
    "os.environ['CUDA_VISIBLE_DEVICES'] = ''"
   ]
  },
  {
   "cell_type": "code",
   "execution_count": 2,
   "metadata": {},
   "outputs": [],
   "source": [
    "import logging\n",
    "\n",
    "logging.basicConfig(level=logging.INFO)"
   ]
  },
  {
   "cell_type": "code",
   "execution_count": 3,
   "metadata": {},
   "outputs": [],
   "source": [
    "import malaya\n",
    "from pprint import pprint"
   ]
  },
  {
   "cell_type": "markdown",
   "metadata": {},
   "source": [
    "### Model\n",
    "\n",
    "Common Seq2Seq model, P(yt | X, yt-1), one step decoder will generate `yt`, and this required encoder output and output from last step decoder, `yt-1`.\n",
    "\n",
    "So we improve the model to general tags also, P(yt, zt | X, yt-1, zt-1), one step decoder will generate `yt` and `zt`, and this required encoder output and outputs from last step decoder, `yt-1` and `zt-1`.\n",
    "\n",
    "We named this model as `TransformerTag`."
   ]
  },
  {
   "cell_type": "markdown",
   "metadata": {},
   "source": [
    "There is no paper produced for this model, feel free to write a paper about it, check out our implementation at https://github.com/huseinzol05/malaya/tree/master/session/tatabahasa"
   ]
  },
  {
   "cell_type": "code",
   "execution_count": 4,
   "metadata": {},
   "outputs": [],
   "source": [
    "import warnings\n",
    "warnings.filterwarnings('default')"
   ]
  },
  {
   "cell_type": "markdown",
   "metadata": {},
   "source": [
    "### List available Transformer models"
   ]
  },
  {
   "cell_type": "code",
   "execution_count": 5,
   "metadata": {},
   "outputs": [
    {
     "name": "stderr",
     "output_type": "stream",
     "text": [
      "/home/husein/dev/malaya/malaya/tatabahasa.py:156: DeprecationWarning: `malaya.tatabahasa.available_transformer` is deprecated, use `malaya.tatabahasa.available_huggingface` instead\n",
      "  warnings.warn(\n",
      "INFO:malaya.tatabahasa:tested on 5k generated dataset at https://f000.backblazeb2.com/file/malay-dataset/tatabahasa/test-set-tatabahasa.pkl\n"
     ]
    },
    {
     "data": {
      "text/html": [
       "<div>\n",
       "<style scoped>\n",
       "    .dataframe tbody tr th:only-of-type {\n",
       "        vertical-align: middle;\n",
       "    }\n",
       "\n",
       "    .dataframe tbody tr th {\n",
       "        vertical-align: top;\n",
       "    }\n",
       "\n",
       "    .dataframe thead th {\n",
       "        text-align: right;\n",
       "    }\n",
       "</style>\n",
       "<table border=\"1\" class=\"dataframe\">\n",
       "  <thead>\n",
       "    <tr style=\"text-align: right;\">\n",
       "      <th></th>\n",
       "      <th>Size (MB)</th>\n",
       "      <th>Quantized Size (MB)</th>\n",
       "      <th>Sequence Accuracy</th>\n",
       "      <th>Sequence Tagging Accuracy</th>\n",
       "    </tr>\n",
       "  </thead>\n",
       "  <tbody>\n",
       "    <tr>\n",
       "      <th>small</th>\n",
       "      <td>397.0</td>\n",
       "      <td>100.0</td>\n",
       "      <td>0.860198</td>\n",
       "      <td>0.963267</td>\n",
       "    </tr>\n",
       "    <tr>\n",
       "      <th>base</th>\n",
       "      <td>875.0</td>\n",
       "      <td>220.0</td>\n",
       "      <td>0.938972</td>\n",
       "      <td>0.977407</td>\n",
       "    </tr>\n",
       "  </tbody>\n",
       "</table>\n",
       "</div>"
      ],
      "text/plain": [
       "       Size (MB)  Quantized Size (MB)  Sequence Accuracy  \\\n",
       "small      397.0                100.0           0.860198   \n",
       "base       875.0                220.0           0.938972   \n",
       "\n",
       "       Sequence Tagging Accuracy  \n",
       "small                   0.963267  \n",
       "base                    0.977407  "
      ]
     },
     "execution_count": 5,
     "metadata": {},
     "output_type": "execute_result"
    }
   ],
   "source": [
    "malaya.tatabahasa.available_transformer()"
   ]
  },
  {
   "cell_type": "markdown",
   "metadata": {},
   "source": [
    "### Supported kesalahan tatabahasa\n",
    "\n",
    "For full description, check out https://tatabahasabm.tripod.com/tata/salahtata.htm"
   ]
  },
  {
   "cell_type": "code",
   "execution_count": 6,
   "metadata": {
    "scrolled": true
   },
   "outputs": [
    {
     "data": {
      "text/html": [
       "<div>\n",
       "<style scoped>\n",
       "    .dataframe tbody tr th:only-of-type {\n",
       "        vertical-align: middle;\n",
       "    }\n",
       "\n",
       "    .dataframe tbody tr th {\n",
       "        vertical-align: top;\n",
       "    }\n",
       "\n",
       "    .dataframe thead th {\n",
       "        text-align: right;\n",
       "    }\n",
       "</style>\n",
       "<table border=\"1\" class=\"dataframe\">\n",
       "  <thead>\n",
       "    <tr style=\"text-align: right;\">\n",
       "      <th></th>\n",
       "      <th>class</th>\n",
       "      <th>Description</th>\n",
       "      <th>salah</th>\n",
       "      <th>betul</th>\n",
       "    </tr>\n",
       "  </thead>\n",
       "  <tbody>\n",
       "    <tr>\n",
       "      <th>0</th>\n",
       "      <td>0</td>\n",
       "      <td>PAD</td>\n",
       "      <td></td>\n",
       "      <td></td>\n",
       "    </tr>\n",
       "    <tr>\n",
       "      <th>1</th>\n",
       "      <td>1</td>\n",
       "      <td>kesambungan subwords</td>\n",
       "      <td></td>\n",
       "      <td></td>\n",
       "    </tr>\n",
       "    <tr>\n",
       "      <th>2</th>\n",
       "      <td>2</td>\n",
       "      <td>tiada kesalahan</td>\n",
       "      <td></td>\n",
       "      <td></td>\n",
       "    </tr>\n",
       "    <tr>\n",
       "      <th>3</th>\n",
       "      <td>3</td>\n",
       "      <td>kesalahan frasa nama, Perkara yang diterangkan...</td>\n",
       "      <td>Cili sos</td>\n",
       "      <td>sos cili</td>\n",
       "    </tr>\n",
       "    <tr>\n",
       "      <th>4</th>\n",
       "      <td>4</td>\n",
       "      <td>kesalahan kata jamak</td>\n",
       "      <td>mereka-mereka</td>\n",
       "      <td>mereka</td>\n",
       "    </tr>\n",
       "    <tr>\n",
       "      <th>5</th>\n",
       "      <td>5</td>\n",
       "      <td>kesalahan kata penguat</td>\n",
       "      <td>sangat tinggi sekali</td>\n",
       "      <td>sangat tinggi</td>\n",
       "    </tr>\n",
       "    <tr>\n",
       "      <th>6</th>\n",
       "      <td>6</td>\n",
       "      <td>kata adjektif dan imbuhan \"ter\" tanpa penguat.</td>\n",
       "      <td>Sani mendapat markah yang tertinggi sekali.</td>\n",
       "      <td>Sani mendapat markah yang tertinggi.</td>\n",
       "    </tr>\n",
       "    <tr>\n",
       "      <th>7</th>\n",
       "      <td>7</td>\n",
       "      <td>kesalahan kata hubung</td>\n",
       "      <td>Sally sedang membaca bila saya tiba di rumahnya.</td>\n",
       "      <td>Sally sedang membaca apabila saya tiba di ruma...</td>\n",
       "    </tr>\n",
       "    <tr>\n",
       "      <th>8</th>\n",
       "      <td>8</td>\n",
       "      <td>kesalahan kata bilangan</td>\n",
       "      <td>Beribu peniaga tidak membayar cukai pendapatan.</td>\n",
       "      <td>Beribu-ribu peniaga tidak membayar cukai penda...</td>\n",
       "    </tr>\n",
       "    <tr>\n",
       "      <th>9</th>\n",
       "      <td>9</td>\n",
       "      <td>kesalahan kata sendi</td>\n",
       "      <td>Umar telah berpindah daripada sekolah ini bula...</td>\n",
       "      <td>Umar telah berpindah dari sekolah ini bulan lalu.</td>\n",
       "    </tr>\n",
       "    <tr>\n",
       "      <th>10</th>\n",
       "      <td>10</td>\n",
       "      <td>kesalahan penjodoh bilangan</td>\n",
       "      <td>Setiap orang pelajar</td>\n",
       "      <td>Setiap pelajar.</td>\n",
       "    </tr>\n",
       "    <tr>\n",
       "      <th>11</th>\n",
       "      <td>11</td>\n",
       "      <td>kesalahan kata ganti diri</td>\n",
       "      <td>Pencuri itu telah ditangkap. Beliau dibawa ke ...</td>\n",
       "      <td>Pencuri itu telah ditangkap. Dia dibawa ke bal...</td>\n",
       "    </tr>\n",
       "    <tr>\n",
       "      <th>12</th>\n",
       "      <td>12</td>\n",
       "      <td>kesalahan ayat pasif</td>\n",
       "      <td>Cerpen itu telah dikarang oleh saya.</td>\n",
       "      <td>Cerpen itu telah saya karang.</td>\n",
       "    </tr>\n",
       "    <tr>\n",
       "      <th>13</th>\n",
       "      <td>13</td>\n",
       "      <td>kesalahan kata tanya</td>\n",
       "      <td>Kamu berasal dari manakah ?</td>\n",
       "      <td>Kamu berasal dari mana ?</td>\n",
       "    </tr>\n",
       "    <tr>\n",
       "      <th>14</th>\n",
       "      <td>14</td>\n",
       "      <td>kesalahan tanda baca</td>\n",
       "      <td>Kamu berasal dari manakah .</td>\n",
       "      <td>Kamu berasal dari mana ?</td>\n",
       "    </tr>\n",
       "    <tr>\n",
       "      <th>15</th>\n",
       "      <td>15</td>\n",
       "      <td>kesalahan kata kerja tak transitif</td>\n",
       "      <td>Dia kata kepada saya</td>\n",
       "      <td>Dia berkata kepada saya</td>\n",
       "    </tr>\n",
       "    <tr>\n",
       "      <th>16</th>\n",
       "      <td>16</td>\n",
       "      <td>kesalahan kata kerja transitif</td>\n",
       "      <td>Dia suka baca buku</td>\n",
       "      <td>Dia suka membaca buku</td>\n",
       "    </tr>\n",
       "    <tr>\n",
       "      <th>17</th>\n",
       "      <td>17</td>\n",
       "      <td>penggunaan kata yang tidak tepat</td>\n",
       "      <td>Tembuk Besar negeri Cina dibina oleh Shih Huan...</td>\n",
       "      <td>Tembok Besar negeri Cina dibina oleh Shih Huan...</td>\n",
       "    </tr>\n",
       "  </tbody>\n",
       "</table>\n",
       "</div>"
      ],
      "text/plain": [
       "    class                                        Description  \\\n",
       "0       0                                                PAD   \n",
       "1       1                               kesambungan subwords   \n",
       "2       2                                    tiada kesalahan   \n",
       "3       3  kesalahan frasa nama, Perkara yang diterangkan...   \n",
       "4       4                               kesalahan kata jamak   \n",
       "5       5                             kesalahan kata penguat   \n",
       "6       6     kata adjektif dan imbuhan \"ter\" tanpa penguat.   \n",
       "7       7                              kesalahan kata hubung   \n",
       "8       8                            kesalahan kata bilangan   \n",
       "9       9                               kesalahan kata sendi   \n",
       "10     10                        kesalahan penjodoh bilangan   \n",
       "11     11                          kesalahan kata ganti diri   \n",
       "12     12                               kesalahan ayat pasif   \n",
       "13     13                               kesalahan kata tanya   \n",
       "14     14                               kesalahan tanda baca   \n",
       "15     15                 kesalahan kata kerja tak transitif   \n",
       "16     16                     kesalahan kata kerja transitif   \n",
       "17     17                   penggunaan kata yang tidak tepat   \n",
       "\n",
       "                                                salah  \\\n",
       "0                                                       \n",
       "1                                                       \n",
       "2                                                       \n",
       "3                                            Cili sos   \n",
       "4                                       mereka-mereka   \n",
       "5                                sangat tinggi sekali   \n",
       "6         Sani mendapat markah yang tertinggi sekali.   \n",
       "7    Sally sedang membaca bila saya tiba di rumahnya.   \n",
       "8     Beribu peniaga tidak membayar cukai pendapatan.   \n",
       "9   Umar telah berpindah daripada sekolah ini bula...   \n",
       "10                               Setiap orang pelajar   \n",
       "11  Pencuri itu telah ditangkap. Beliau dibawa ke ...   \n",
       "12               Cerpen itu telah dikarang oleh saya.   \n",
       "13                        Kamu berasal dari manakah ?   \n",
       "14                        Kamu berasal dari manakah .   \n",
       "15                               Dia kata kepada saya   \n",
       "16                                 Dia suka baca buku   \n",
       "17  Tembuk Besar negeri Cina dibina oleh Shih Huan...   \n",
       "\n",
       "                                                betul  \n",
       "0                                                      \n",
       "1                                                      \n",
       "2                                                      \n",
       "3                                            sos cili  \n",
       "4                                              mereka  \n",
       "5                                       sangat tinggi  \n",
       "6                Sani mendapat markah yang tertinggi.  \n",
       "7   Sally sedang membaca apabila saya tiba di ruma...  \n",
       "8   Beribu-ribu peniaga tidak membayar cukai penda...  \n",
       "9   Umar telah berpindah dari sekolah ini bulan lalu.  \n",
       "10                                    Setiap pelajar.  \n",
       "11  Pencuri itu telah ditangkap. Dia dibawa ke bal...  \n",
       "12                      Cerpen itu telah saya karang.  \n",
       "13                           Kamu berasal dari mana ?  \n",
       "14                           Kamu berasal dari mana ?  \n",
       "15                            Dia berkata kepada saya  \n",
       "16                              Dia suka membaca buku  \n",
       "17  Tembok Besar negeri Cina dibina oleh Shih Huan...  "
      ]
     },
     "execution_count": 6,
     "metadata": {},
     "output_type": "execute_result"
    }
   ],
   "source": [
    "malaya.tatabahasa.describe_tagging()"
   ]
  },
  {
   "cell_type": "markdown",
   "metadata": {},
   "source": [
    "Right now we only able to predict up to 15 different kesalahan tatabahasa, hopefully in the future we can scale this up."
   ]
  },
  {
   "cell_type": "markdown",
   "metadata": {},
   "source": [
    "### Load Transformer Tag model\n",
    "\n",
    "```python\n",
    "def transformer(model: str = 'base', quantized: bool = False, **kwargs):\n",
    "    \"\"\"\n",
    "    Load Malaya transformer encoder-decoder + tagging model to correct a `kesalahan tatabahasa` text.\n",
    "\n",
    "    Parameters\n",
    "    ----------\n",
    "    model: str, optional (default='base')\n",
    "        Check available models at `malaya.tatabahasa.available_transformer()`.\n",
    "    quantized: bool, optional (default=False)\n",
    "        if True, will load 8-bit quantized model.\n",
    "        Quantized model not necessary faster, totally depends on the machine.\n",
    "\n",
    "    Returns\n",
    "    -------\n",
    "    result: malaya.model.tf.compat.v1.Tatabahasa class\n",
    "    \"\"\"\n",
    "```"
   ]
  },
  {
   "cell_type": "code",
   "execution_count": 7,
   "metadata": {},
   "outputs": [
    {
     "name": "stderr",
     "output_type": "stream",
     "text": [
      "/home/husein/dev/malaya/malaya/tatabahasa.py:191: DeprecationWarning: `malaya.tatabahasa.transformer` is deprecated, use `malaya.tatabahasa.huggingface` instead\n",
      "  warnings.warn(\n",
      "2022-11-16 22:23:39.470583: I tensorflow/core/platform/cpu_feature_guard.cc:142] This TensorFlow binary is optimized with oneAPI Deep Neural Network Library (oneDNN) to use the following CPU instructions in performance-critical operations:  AVX2 FMA\n",
      "To enable them in other operations, rebuild TensorFlow with the appropriate compiler flags.\n",
      "2022-11-16 22:23:39.496105: E tensorflow/stream_executor/cuda/cuda_driver.cc:271] failed call to cuInit: CUDA_ERROR_NO_DEVICE: no CUDA-capable device is detected\n",
      "2022-11-16 22:23:39.496128: I tensorflow/stream_executor/cuda/cuda_diagnostics.cc:169] retrieving CUDA diagnostic information for host: husein-MS-7D31\n",
      "2022-11-16 22:23:39.496131: I tensorflow/stream_executor/cuda/cuda_diagnostics.cc:176] hostname: husein-MS-7D31\n",
      "2022-11-16 22:23:39.496218: I tensorflow/stream_executor/cuda/cuda_diagnostics.cc:200] libcuda reported version is: Not found: was unable to find libcuda.so DSO loaded into this program\n",
      "2022-11-16 22:23:39.496241: I tensorflow/stream_executor/cuda/cuda_diagnostics.cc:204] kernel reported version is: 470.141.3\n",
      "/home/husein/dev/malaya/malaya/tokenizer.py:208: FutureWarning: Possible nested set at position 2253\n",
      "  self.tok = re.compile(r'({})'.format('|'.join(pipeline)))\n",
      "/home/husein/dev/malaya/malaya/tokenizer.py:208: FutureWarning: Possible nested set at position 2771\n",
      "  self.tok = re.compile(r'({})'.format('|'.join(pipeline)))\n"
     ]
    }
   ],
   "source": [
    "model = malaya.tatabahasa.transformer(model = 'base')"
   ]
  },
  {
   "cell_type": "markdown",
   "metadata": {},
   "source": [
    "### Load Quantized model\n",
    "\n",
    "To load 8-bit quantized model, simply pass `quantized = True`, default is `False`.\n",
    "\n",
    "We can expect slightly accuracy drop from quantized model, and not necessary faster than normal 32-bit float model, totally depends on machine."
   ]
  },
  {
   "cell_type": "code",
   "execution_count": 2,
   "metadata": {},
   "outputs": [],
   "source": [
    "quantized_model = malaya.tatabahasa.transformer(model = 'base', quantized = True)"
   ]
  },
  {
   "cell_type": "markdown",
   "metadata": {},
   "source": [
    "### Predict using greedy decoder\n",
    "\n",
    "```python\n",
    "def greedy_decoder(self, strings: List[str]):\n",
    "    \"\"\"\n",
    "    Fix kesalahan tatatabahasa.\n",
    "\n",
    "    Parameters\n",
    "    ----------\n",
    "    strings : List[str]\n",
    "\n",
    "    Returns\n",
    "    -------\n",
    "    result: List[str]\n",
    "    \"\"\"\n",
    "```\n",
    "\n",
    "For TransformerTag model, right now only supported `greedy_decoder` method."
   ]
  },
  {
   "cell_type": "markdown",
   "metadata": {},
   "source": [
    "Randomly picked string in bahasa melayu wikipedia."
   ]
  },
  {
   "cell_type": "code",
   "execution_count": 7,
   "metadata": {},
   "outputs": [],
   "source": [
    "# https://ms.wikipedia.org/wiki/Bola_sepak\n",
    "string = 'Pada amnya, hanya penjaga gol sahaja yang dibenarkan menyentuh bola dengan tangan di dalam kawasan golnya'"
   ]
  },
  {
   "cell_type": "code",
   "execution_count": 8,
   "metadata": {},
   "outputs": [
    {
     "data": {
      "text/plain": [
       "[[('Pada', 2),\n",
       "  ('amnya', 2),\n",
       "  (',', 2),\n",
       "  ('hanya', 2),\n",
       "  ('penjaga', 2),\n",
       "  ('gol', 2),\n",
       "  ('sahaja', 2),\n",
       "  ('yang', 2),\n",
       "  ('dibenarkan', 2),\n",
       "  ('menyentuh', 2),\n",
       "  ('bola', 2),\n",
       "  ('dengan', 2),\n",
       "  ('tangan', 2),\n",
       "  ('di', 2),\n",
       "  ('dalam', 2),\n",
       "  ('kawasan', 2),\n",
       "  ('golnya', 2)]]"
      ]
     },
     "execution_count": 8,
     "metadata": {},
     "output_type": "execute_result"
    }
   ],
   "source": [
    "model.greedy_decoder([string])"
   ]
  },
  {
   "cell_type": "markdown",
   "metadata": {},
   "source": [
    "Now assumed we have kesalahan frasa nama, from `penjaga gol` become `gol penjaga`."
   ]
  },
  {
   "cell_type": "code",
   "execution_count": 9,
   "metadata": {},
   "outputs": [],
   "source": [
    "# https://ms.wikipedia.org/wiki/Bola_sepak\n",
    "string = 'Pada amnya, hanya gol penjaga sahaja yang dibenarkan menyentuh bola dengan tangan di dalam kawasan golnya'"
   ]
  },
  {
   "cell_type": "code",
   "execution_count": 10,
   "metadata": {
    "scrolled": false
   },
   "outputs": [
    {
     "data": {
      "text/plain": [
       "[[('Pada', 2),\n",
       "  ('amnya', 2),\n",
       "  (',', 2),\n",
       "  ('hanya', 2),\n",
       "  ('penjaga', 3),\n",
       "  ('gol', 3),\n",
       "  ('sahaja', 2),\n",
       "  ('yang', 2),\n",
       "  ('dibenarkan', 2),\n",
       "  ('menyentuh', 2),\n",
       "  ('bola', 2),\n",
       "  ('dengan', 2),\n",
       "  ('tangan', 2),\n",
       "  ('di', 2),\n",
       "  ('dalam', 2),\n",
       "  ('kawasan', 2),\n",
       "  ('golnya', 2)]]"
      ]
     },
     "execution_count": 10,
     "metadata": {},
     "output_type": "execute_result"
    }
   ],
   "source": [
    "model.greedy_decoder([string])"
   ]
  },
  {
   "cell_type": "code",
   "execution_count": 11,
   "metadata": {},
   "outputs": [
    {
     "data": {
      "text/plain": [
       "[[('Sani', 2),\n",
       "  ('mendapat', 2),\n",
       "  ('markah', 2),\n",
       "  ('yang', 2),\n",
       "  ('tertinggi', 6),\n",
       "  ('.', 2)],\n",
       " [('Hassan', 2),\n",
       "  ('ialah', 2),\n",
       "  ('peserta', 2),\n",
       "  ('yang', 2),\n",
       "  ('termuda', 6),\n",
       "  ('dalam', 2),\n",
       "  ('pertandingan', 2),\n",
       "  ('itu', 2),\n",
       "  ('.', 2)]]"
      ]
     },
     "execution_count": 11,
     "metadata": {},
     "output_type": "execute_result"
    }
   ],
   "source": [
    "string = 'Sani mendapat markah yang tertinggi sekali.'\n",
    "string1 = 'Hassan ialah peserta yang termuda sekali dalam pertandingan itu.'\n",
    "model.greedy_decoder([string, string1])"
   ]
  },
  {
   "cell_type": "code",
   "execution_count": 12,
   "metadata": {},
   "outputs": [
    {
     "data": {
      "text/plain": [
       "[[('Dia', 2), ('berkata', 15), ('kepada', 2), ('saya', 2), ('.', 2)]]"
      ]
     },
     "execution_count": 12,
     "metadata": {},
     "output_type": "execute_result"
    }
   ],
   "source": [
    "string = 'Dia kata kepada saya.'\n",
    "model.greedy_decoder([string])"
   ]
  },
  {
   "cell_type": "code",
   "execution_count": 13,
   "metadata": {},
   "outputs": [
    {
     "data": {
      "text/plain": [
       "100"
      ]
     },
     "execution_count": 13,
     "metadata": {},
     "output_type": "execute_result"
    }
   ],
   "source": [
    "import pickle\n",
    "\n",
    "with open('tests/dataset-tatabahasa.pkl', 'rb') as fopen:\n",
    "    test_set = pickle.load(fopen)\n",
    "    \n",
    "len(test_set)"
   ]
  },
  {
   "cell_type": "code",
   "execution_count": 14,
   "metadata": {},
   "outputs": [],
   "source": [
    "def get_xy(row):\n",
    "    x, y, tag = [], [], []\n",
    "\n",
    "    for i in range(len(row[0])):\n",
    "        t = [row[0][i][0]]\n",
    "        y.extend(t)\n",
    "        t = [row[1][i][0]]\n",
    "        x.extend(t)\n",
    "        tag.extend([row[1][i][1]] * len(t))\n",
    "\n",
    "    return ' '.join(x), ' '.join(y), tag"
   ]
  },
  {
   "cell_type": "code",
   "execution_count": 15,
   "metadata": {},
   "outputs": [
    {
     "data": {
      "text/plain": [
       "('Dirk Jan Klaas \" Klaas-Jan \" Huntelaar ( lahir 12 Ogos 1983 ) merupakan pemain bola sepak Belanda yang bermain seperti posisi penyerang !',\n",
       " 'Dirk Jan Klaas \" Klaas-Jan \" Huntelaar ( lahir 12 Ogos 1983 ) merupakan pemain bola sepak Belanda yang bermain di posisi penyerang .',\n",
       " [2, 2, 2, 2, 2, 2, 2, 2, 2, 2, 2, 2, 2, 2, 2, 2, 2, 2, 2, 2, 9, 2, 2, 14])"
      ]
     },
     "execution_count": 15,
     "metadata": {},
     "output_type": "execute_result"
    }
   ],
   "source": [
    "x, y, t = get_xy(test_set[0])\n",
    "x, y, t"
   ]
  },
  {
   "cell_type": "code",
   "execution_count": 16,
   "metadata": {},
   "outputs": [
    {
     "data": {
      "text/plain": [
       "[[('Dirk', 2),\n",
       "  ('Jan', 2),\n",
       "  ('Klaas', 2),\n",
       "  ('\"', 2),\n",
       "  ('Klaas-Jan', 2),\n",
       "  ('\"', 2),\n",
       "  ('Huntelaar', 2),\n",
       "  ('(', 2),\n",
       "  ('lahir', 2),\n",
       "  ('12', 2),\n",
       "  ('Ogos', 2),\n",
       "  ('1983', 2),\n",
       "  (')', 2),\n",
       "  ('merupakan', 2),\n",
       "  ('pemain', 2),\n",
       "  ('bola', 2),\n",
       "  ('sepak', 2),\n",
       "  ('Belanda', 2),\n",
       "  ('yang', 2),\n",
       "  ('bermain', 2),\n",
       "  ('di', 9),\n",
       "  ('posisi', 2),\n",
       "  ('penyerang', 2),\n",
       "  ('.', 14)]]"
      ]
     },
     "execution_count": 16,
     "metadata": {},
     "output_type": "execute_result"
    }
   ],
   "source": [
    "model.greedy_decoder([x])"
   ]
  },
  {
   "cell_type": "code",
   "execution_count": 17,
   "metadata": {},
   "outputs": [
    {
     "data": {
      "text/plain": [
       "[[('Dirk', 2),\n",
       "  ('Jan', 2),\n",
       "  ('Klaas', 2),\n",
       "  ('\"', 2),\n",
       "  ('Klaas-Jan', 2),\n",
       "  ('\"', 2),\n",
       "  ('Huntelaar', 2),\n",
       "  ('(', 2),\n",
       "  ('lahir', 2),\n",
       "  ('12', 2),\n",
       "  ('Ogos', 2),\n",
       "  ('1983', 2),\n",
       "  (')', 2),\n",
       "  ('merupakan', 2),\n",
       "  ('pemain', 2),\n",
       "  ('bola', 2),\n",
       "  ('sepak', 2),\n",
       "  ('Belanda', 2),\n",
       "  ('yang', 2),\n",
       "  ('bermain', 2),\n",
       "  ('di', 9),\n",
       "  ('posisi', 2),\n",
       "  ('penyerang', 2),\n",
       "  ('.', 14)]]"
      ]
     },
     "execution_count": 17,
     "metadata": {},
     "output_type": "execute_result"
    }
   ],
   "source": [
    "quantized_model.greedy_decoder([x])"
   ]
  },
  {
   "cell_type": "code",
   "execution_count": 18,
   "metadata": {},
   "outputs": [
    {
     "data": {
      "text/plain": [
       "('Pada tahun 2002 , kedua-dua gol beliau menduduki tempat ke-6 dalam 100 Greatest Sporting Moments oleh saluran Channel 4 UK .',\n",
       " 'Pada tahun 2002 , kedua-dua gol ini menduduki tempat ke-6 dalam 100 Greatest Sporting Moments oleh saluran Channel 4 UK .',\n",
       " [2, 2, 2, 2, 2, 2, 11, 2, 2, 2, 2, 2, 2, 2, 2, 2, 2, 2, 2, 2, 2])"
      ]
     },
     "execution_count": 18,
     "metadata": {},
     "output_type": "execute_result"
    }
   ],
   "source": [
    "x, y, t = get_xy(test_set[-1])\n",
    "x, y, t"
   ]
  },
  {
   "cell_type": "code",
   "execution_count": 19,
   "metadata": {},
   "outputs": [
    {
     "data": {
      "text/plain": [
       "[[('Pada', 2),\n",
       "  ('tahun', 2),\n",
       "  ('2002', 2),\n",
       "  (',', 2),\n",
       "  ('kedua-dua', 2),\n",
       "  ('gol', 2),\n",
       "  ('beliau', 2),\n",
       "  ('menduduki', 2),\n",
       "  ('tempat', 2),\n",
       "  ('ke-6', 2),\n",
       "  ('dalam', 2),\n",
       "  ('100', 2),\n",
       "  ('Greatest', 2),\n",
       "  ('Sporting', 2),\n",
       "  ('Moments', 2),\n",
       "  ('oleh', 2),\n",
       "  ('saluran', 2),\n",
       "  ('Channel', 2),\n",
       "  ('4', 2),\n",
       "  ('UK', 2),\n",
       "  ('.', 2)]]"
      ]
     },
     "execution_count": 19,
     "metadata": {},
     "output_type": "execute_result"
    }
   ],
   "source": [
    "model.greedy_decoder([x])"
   ]
  },
  {
   "cell_type": "code",
   "execution_count": 20,
   "metadata": {},
   "outputs": [
    {
     "data": {
      "text/plain": [
       "('Gol inilah yang bergelar Goal of the Century dengan undian Internet 2000 sejak FIFA .',\n",
       " 'Gol inilah yang bergelar Goal of the Century di undian Internet 2000 oleh FIFA .',\n",
       " [2, 2, 2, 2, 2, 2, 2, 2, 9, 2, 2, 2, 9, 2, 2])"
      ]
     },
     "execution_count": 20,
     "metadata": {},
     "output_type": "execute_result"
    }
   ],
   "source": [
    "x, y, t = get_xy(test_set[-2])\n",
    "x, y, t"
   ]
  },
  {
   "cell_type": "code",
   "execution_count": 21,
   "metadata": {},
   "outputs": [
    {
     "data": {
      "text/plain": [
       "[[('Gol', 2),\n",
       "  ('inilah', 2),\n",
       "  ('yang', 2),\n",
       "  ('bergelar', 2),\n",
       "  ('Goal', 2),\n",
       "  ('of', 2),\n",
       "  ('the', 2),\n",
       "  ('Century', 2),\n",
       "  ('dengan', 2),\n",
       "  ('undian', 2),\n",
       "  ('Internet', 2),\n",
       "  ('2000', 2),\n",
       "  ('sejak', 2),\n",
       "  ('FIFA', 2),\n",
       "  ('.', 2)]]"
      ]
     },
     "execution_count": 21,
     "metadata": {},
     "output_type": "execute_result"
    }
   ],
   "source": [
    "model.greedy_decoder([x])"
   ]
  },
  {
   "cell_type": "code",
   "execution_count": 22,
   "metadata": {},
   "outputs": [
    {
     "data": {
      "text/plain": [
       "('Beliau mengambil bola dalam kawasan kepul diri lalu pusing dan luru lebih separuh padang sambil menyentuh bola 11 kali , memintas lima pemain England : ( Glenn Hoddle , Peter Reid , Kenny Sansom , Terry Butcher , dan Terry Fenwick ) serta penjaga gawang Peter Shilton .',\n",
       " 'Beliau mengambil bola di kawasan pasukan diri lalu berpusing-pusing dan meluru lebih separuh padang sambil menyentuh bola 11 kali , memintas lima pemain England : ( Glenn Hoddle , Peter Reid , Kenny Sansom , Terry Butcher , dan Terry Fenwick ) serta penjaga gawang Peter Shilton .',\n",
       " [2,\n",
       "  2,\n",
       "  2,\n",
       "  9,\n",
       "  2,\n",
       "  10,\n",
       "  2,\n",
       "  2,\n",
       "  15,\n",
       "  2,\n",
       "  15,\n",
       "  2,\n",
       "  2,\n",
       "  2,\n",
       "  2,\n",
       "  2,\n",
       "  2,\n",
       "  2,\n",
       "  2,\n",
       "  2,\n",
       "  2,\n",
       "  2,\n",
       "  2,\n",
       "  2,\n",
       "  2,\n",
       "  2,\n",
       "  2,\n",
       "  2,\n",
       "  2,\n",
       "  2,\n",
       "  2,\n",
       "  2,\n",
       "  2,\n",
       "  2,\n",
       "  2,\n",
       "  2,\n",
       "  2,\n",
       "  2,\n",
       "  2,\n",
       "  2,\n",
       "  2,\n",
       "  2,\n",
       "  2,\n",
       "  2,\n",
       "  2,\n",
       "  2,\n",
       "  2,\n",
       "  2])"
      ]
     },
     "execution_count": 22,
     "metadata": {},
     "output_type": "execute_result"
    }
   ],
   "source": [
    "x, y, t = get_xy(test_set[-3])\n",
    "x, y, t"
   ]
  },
  {
   "cell_type": "code",
   "execution_count": 23,
   "metadata": {},
   "outputs": [
    {
     "data": {
      "text/plain": [
       "[[('Beliau', 2),\n",
       "  ('mengambil', 2),\n",
       "  ('bola', 2),\n",
       "  ('dari', 9),\n",
       "  ('kawasan', 2),\n",
       "  ('kaki', 10),\n",
       "  ('diri', 2),\n",
       "  ('lalu', 2),\n",
       "  ('berpusing', 15),\n",
       "  ('dan', 2),\n",
       "  ('meluru', 15),\n",
       "  ('lebih', 2),\n",
       "  ('separuh', 2),\n",
       "  ('padang', 2),\n",
       "  ('sambil', 2),\n",
       "  ('menyentuh', 2),\n",
       "  ('bola', 2),\n",
       "  ('11', 2),\n",
       "  ('kali', 2),\n",
       "  (',', 2),\n",
       "  ('memintas', 2),\n",
       "  ('lima', 2),\n",
       "  ('pemain', 2),\n",
       "  ('England', 2),\n",
       "  (':', 2),\n",
       "  ('(', 2),\n",
       "  ('Glenn', 2),\n",
       "  ('Hoddle', 2),\n",
       "  (',', 2),\n",
       "  ('Peter', 2),\n",
       "  ('Reid', 2),\n",
       "  (',', 2),\n",
       "  ('Kenny', 2),\n",
       "  ('Sansom', 2),\n",
       "  (',', 2),\n",
       "  ('Terry', 2),\n",
       "  ('Butcher', 2),\n",
       "  (',', 2),\n",
       "  ('dan', 2),\n",
       "  ('Terry', 2),\n",
       "  ('Fenwick', 2),\n",
       "  (')', 2),\n",
       "  ('serta', 2),\n",
       "  ('penjaga', 2),\n",
       "  ('gawang', 2),\n",
       "  ('Peter', 2),\n",
       "  ('Shilton', 2),\n",
       "  ('.', 2)]]"
      ]
     },
     "execution_count": 23,
     "metadata": {},
     "output_type": "execute_result"
    }
   ],
   "source": [
    "model.greedy_decoder([x])"
   ]
  },
  {
   "cell_type": "code",
   "execution_count": 24,
   "metadata": {},
   "outputs": [
    {
     "data": {
      "text/plain": [
       "[[('Beliau', 2),\n",
       "  ('mengambil', 2),\n",
       "  ('bola', 2),\n",
       "  ('dari', 9),\n",
       "  ('kawasan', 2),\n",
       "  ('kaki', 10),\n",
       "  ('diri', 2),\n",
       "  ('lalu', 2),\n",
       "  ('berpusing', 15),\n",
       "  ('dan', 2),\n",
       "  ('meluru', 15),\n",
       "  ('lebih', 2),\n",
       "  ('separuh', 2),\n",
       "  ('padang', 2),\n",
       "  ('sambil', 2),\n",
       "  ('menyentuh', 2),\n",
       "  ('bola', 2),\n",
       "  ('11', 2),\n",
       "  ('kali', 2),\n",
       "  (',', 2),\n",
       "  ('memintas', 2),\n",
       "  ('lima', 2),\n",
       "  ('pemain', 2),\n",
       "  ('England', 2),\n",
       "  (':', 2),\n",
       "  ('(', 2),\n",
       "  ('Glenn', 2),\n",
       "  ('Hoddle', 2),\n",
       "  (',', 2),\n",
       "  ('Peter', 2),\n",
       "  ('Reid', 2),\n",
       "  (',', 2),\n",
       "  ('Kenny', 2),\n",
       "  ('Sansom', 2),\n",
       "  (',', 2),\n",
       "  ('Terry', 2),\n",
       "  ('Butcher', 2),\n",
       "  (',', 2),\n",
       "  ('dan', 2),\n",
       "  ('Terry', 2),\n",
       "  ('Fenwick', 2),\n",
       "  (')', 2),\n",
       "  ('serta', 2),\n",
       "  ('penjaga', 2),\n",
       "  ('gawang', 2),\n",
       "  ('Peter', 2),\n",
       "  ('Shilton', 2),\n",
       "  ('.', 2)]]"
      ]
     },
     "execution_count": 24,
     "metadata": {},
     "output_type": "execute_result"
    }
   ],
   "source": [
    "quantized_model.greedy_decoder([x])"
   ]
  },
  {
   "cell_type": "markdown",
   "metadata": {},
   "source": [
    "### More examples\n",
    "\n",
    "I just copy pasted from https://ms.wikipedia.org/wiki/Kesalahan_biasa_tatabahasa_Melayu"
   ]
  },
  {
   "cell_type": "code",
   "execution_count": 26,
   "metadata": {},
   "outputs": [
    {
     "data": {
      "text/plain": [
       "[[('Tidak', 2),\n",
       "  ('ada', 2),\n",
       "  ('apa', 2),\n",
       "  ('yang', 2),\n",
       "  ('mereka', 2),\n",
       "  ('risaukan', 2),\n",
       "  ('waktu', 2),\n",
       "  ('itu', 2),\n",
       "  ('.', 2)]]"
      ]
     },
     "execution_count": 26,
     "metadata": {},
     "output_type": "execute_result"
    }
   ],
   "source": [
    "string = 'Tidak ada apa yang mereka risaukan waktu itu.'\n",
    "model.greedy_decoder([string])"
   ]
  },
  {
   "cell_type": "code",
   "execution_count": 27,
   "metadata": {},
   "outputs": [
    {
     "data": {
      "text/plain": [
       "[[('Ayahnya', 2),\n",
       "  ('setuju', 2),\n",
       "  ('dan', 7),\n",
       "  ('melanggar', 2),\n",
       "  ('syarat', 2),\n",
       "  ('yang', 2),\n",
       "  ('dia', 2),\n",
       "  ('sendiri', 2),\n",
       "  ('menetapkan', 2),\n",
       "  ('.', 2)]]"
      ]
     },
     "execution_count": 27,
     "metadata": {},
     "output_type": "execute_result"
    }
   ],
   "source": [
    "string = 'Ayahnya setuju walaupun melanggar syarat yang dia sendiri menetapkan.'\n",
    "model.greedy_decoder([string])"
   ]
  },
  {
   "cell_type": "code",
   "execution_count": 28,
   "metadata": {},
   "outputs": [
    {
     "data": {
      "text/plain": [
       "[[('Semuanya', 2), ('dia', 2), ('terkenal', 15), ('.', 2)]]"
      ]
     },
     "execution_count": 28,
     "metadata": {},
     "output_type": "execute_result"
    }
   ],
   "source": [
    "string = 'Semuanya dia kenal.'\n",
    "model.greedy_decoder([string])"
   ]
  },
  {
   "cell_type": "code",
   "execution_count": 29,
   "metadata": {},
   "outputs": [
    {
     "data": {
      "text/plain": [
       "[[('Dia', 2),\n",
       "  ('menjawab', 2),\n",
       "  ('seperti', 2),\n",
       "  ('disuruh-suruh', 2),\n",
       "  ('oleh', 2),\n",
       "  ('kuasa', 2),\n",
       "  ('yang', 2),\n",
       "  ('dia', 2),\n",
       "  ('tidak', 2),\n",
       "  ('tahu', 2),\n",
       "  ('dari', 2),\n",
       "  ('mana', 2),\n",
       "  ('puncanya', 2),\n",
       "  ('.', 2)]]"
      ]
     },
     "execution_count": 29,
     "metadata": {},
     "output_type": "execute_result"
    }
   ],
   "source": [
    "string = 'Dia menjawab seperti disuruh-suruh oleh kuasa yang dia tidak tahu dari mana puncanya.'\n",
    "model.greedy_decoder([string])"
   ]
  },
  {
   "cell_type": "code",
   "execution_count": 30,
   "metadata": {},
   "outputs": [
    {
     "data": {
      "text/plain": [
       "[[('Bola', 2),\n",
       "  ('ini', 2),\n",
       "  ('ditendang', 2),\n",
       "  ('oleh', 2),\n",
       "  ('saya', 2),\n",
       "  ('.', 2)]]"
      ]
     },
     "execution_count": 30,
     "metadata": {},
     "output_type": "execute_result"
    }
   ],
   "source": [
    "string = 'Bola ini ditendang oleh saya.'\n",
    "model.greedy_decoder([string])"
   ]
  },
  {
   "cell_type": "code",
   "execution_count": 31,
   "metadata": {},
   "outputs": [
    {
     "data": {
      "text/plain": [
       "[[('Makanan', 2),\n",
       "  ('ini', 2),\n",
       "  ('kamu', 2),\n",
       "  ('telah', 2),\n",
       "  ('makan', 2),\n",
       "  ('.', 14)]]"
      ]
     },
     "execution_count": 31,
     "metadata": {},
     "output_type": "execute_result"
    }
   ],
   "source": [
    "string = 'Makanan ini kamu telah makan?'\n",
    "model.greedy_decoder([string])"
   ]
  },
  {
   "cell_type": "code",
   "execution_count": 32,
   "metadata": {},
   "outputs": [
    {
     "data": {
      "text/plain": [
       "[[('Segala', 2),\n",
       "  ('perubahan', 2),\n",
       "  ('yang', 2),\n",
       "  ('berlaku', 2),\n",
       "  ('kita', 2),\n",
       "  ('akan', 2),\n",
       "  ('menghadapi', 2),\n",
       "  ('sama-sama', 2),\n",
       "  ('.', 2)]]"
      ]
     },
     "execution_count": 32,
     "metadata": {},
     "output_type": "execute_result"
    }
   ],
   "source": [
    "string = 'Segala perubahan yang berlaku kita akan menghadapi sama-sama.'\n",
    "model.greedy_decoder([string])"
   ]
  },
  {
   "cell_type": "code",
   "execution_count": 33,
   "metadata": {},
   "outputs": [
    {
     "data": {
      "text/plain": [
       "[[('Kakak', 2),\n",
       "  ('saya', 2),\n",
       "  ('sedang', 2),\n",
       "  ('memasak', 2),\n",
       "  ('gulai', 2),\n",
       "  ('nangka', 2),\n",
       "  ('.', 2),\n",
       "  ('Dia', 2),\n",
       "  ('menyenduk', 2),\n",
       "  ('seketul', 2),\n",
       "  ('gulai', 3),\n",
       "  ('nangka', 3),\n",
       "  ('dan', 2),\n",
       "  ('menyuruh', 2),\n",
       "  ('saya', 2),\n",
       "  ('merasanya', 2),\n",
       "  ('.', 2)]]"
      ]
     },
     "execution_count": 33,
     "metadata": {},
     "output_type": "execute_result"
    }
   ],
   "source": [
    "string = 'Kakak saya sedang memasak gulai nangka. Dia menyenduk seketul nangka gulai dan menyuruh saya merasanya.'\n",
    "model.greedy_decoder([string])"
   ]
  },
  {
   "cell_type": "code",
   "execution_count": 34,
   "metadata": {},
   "outputs": [
    {
     "data": {
      "text/plain": [
       "[[('Sally', 2),\n",
       "  ('sedang', 2),\n",
       "  ('membaca', 2),\n",
       "  ('bila', 2),\n",
       "  ('dia', 11),\n",
       "  ('tiba', 2),\n",
       "  ('di', 2),\n",
       "  ('rumahnya', 2),\n",
       "  ('.', 2)]]"
      ]
     },
     "execution_count": 34,
     "metadata": {},
     "output_type": "execute_result"
    }
   ],
   "source": [
    "string = 'Sally sedang membaca bila saya tiba di rumahnya.'\n",
    "model.greedy_decoder([string])"
   ]
  },
  {
   "cell_type": "code",
   "execution_count": 35,
   "metadata": {},
   "outputs": [
    {
     "data": {
      "text/plain": [
       "[[('Badannya', 2),\n",
       "  ('besar', 2),\n",
       "  ('dan', 7),\n",
       "  ('kakinya', 2),\n",
       "  ('kecil', 2),\n",
       "  ('.', 2)]]"
      ]
     },
     "execution_count": 35,
     "metadata": {},
     "output_type": "execute_result"
    }
   ],
   "source": [
    "string = 'Badannya besar kecuali kakinya kecil.'\n",
    "model.greedy_decoder([string])"
   ]
  },
  {
   "cell_type": "code",
   "execution_count": 36,
   "metadata": {},
   "outputs": [
    {
     "data": {
      "text/plain": [
       "[[('Beribu', 2),\n",
       "  ('peniaga', 2),\n",
       "  ('tidak', 2),\n",
       "  ('membayar', 2),\n",
       "  ('cukai', 2),\n",
       "  ('pendapatan', 2),\n",
       "  ('.', 2)]]"
      ]
     },
     "execution_count": 36,
     "metadata": {},
     "output_type": "execute_result"
    }
   ],
   "source": [
    "string = 'Beribu peniaga tidak membayar cukai pendapatan.'\n",
    "model.greedy_decoder([string])"
   ]
  },
  {
   "cell_type": "code",
   "execution_count": 37,
   "metadata": {},
   "outputs": [
    {
     "data": {
      "text/plain": [
       "[[('Setengah', 2),\n",
       "  ('remaja', 2),\n",
       "  ('suka', 2),\n",
       "  ('membuang', 2),\n",
       "  ('masa', 2),\n",
       "  ('di', 2),\n",
       "  ('pasar', 2),\n",
       "  ('raya', 2),\n",
       "  ('.', 2)]]"
      ]
     },
     "execution_count": 37,
     "metadata": {},
     "output_type": "execute_result"
    }
   ],
   "source": [
    "string = 'Setengah remaja suka membuang masa di pasar raya.'\n",
    "model.greedy_decoder([string])"
   ]
  },
  {
   "cell_type": "code",
   "execution_count": 38,
   "metadata": {},
   "outputs": [
    {
     "data": {
      "text/plain": [
       "[[('Umar', 2),\n",
       "  ('telah', 2),\n",
       "  ('berpindah', 2),\n",
       "  ('daripada', 2),\n",
       "  ('sekolah', 2),\n",
       "  ('ini', 2),\n",
       "  ('bulan', 2),\n",
       "  ('lalu', 2),\n",
       "  ('.', 2)]]"
      ]
     },
     "execution_count": 38,
     "metadata": {},
     "output_type": "execute_result"
    }
   ],
   "source": [
    "string = 'Umar telah berpindah daripada sekolah ini bulan lalu.'\n",
    "model.greedy_decoder([string])"
   ]
  },
  {
   "cell_type": "code",
   "execution_count": 39,
   "metadata": {},
   "outputs": [
    {
     "data": {
      "text/plain": [
       "[[('Para', 4), ('peserta', 2), ('sedang', 2), ('berbaris', 2), ('.', 2)]]"
      ]
     },
     "execution_count": 39,
     "metadata": {},
     "output_type": "execute_result"
    }
   ],
   "source": [
    "string = 'Para-para peserta sedang berbaris.'\n",
    "model.greedy_decoder([string])"
   ]
  },
  {
   "cell_type": "code",
   "execution_count": null,
   "metadata": {},
   "outputs": [],
   "source": []
  }
 ],
 "metadata": {
  "kernelspec": {
   "display_name": "Python 3 (ipykernel)",
   "language": "python",
   "name": "python3"
  },
  "language_info": {
   "codemirror_mode": {
    "name": "ipython",
    "version": 3
   },
   "file_extension": ".py",
   "mimetype": "text/x-python",
   "name": "python",
   "nbconvert_exporter": "python",
   "pygments_lexer": "ipython3",
   "version": "3.8.10"
  },
  "varInspector": {
   "cols": {
    "lenName": 16,
    "lenType": 16,
    "lenVar": 40
   },
   "kernels_config": {
    "python": {
     "delete_cmd_postfix": "",
     "delete_cmd_prefix": "del ",
     "library": "var_list.py",
     "varRefreshCmd": "print(var_dic_list())"
    },
    "r": {
     "delete_cmd_postfix": ") ",
     "delete_cmd_prefix": "rm(",
     "library": "var_list.r",
     "varRefreshCmd": "cat(var_dic_list()) "
    }
   },
   "types_to_exclude": [
    "module",
    "function",
    "builtin_function_or_method",
    "instance",
    "_Feature"
   ],
   "window_display": false
  }
 },
 "nbformat": 4,
 "nbformat_minor": 4
}
