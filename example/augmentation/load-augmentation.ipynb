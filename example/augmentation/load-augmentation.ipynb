{
 "cells": [
  {
   "cell_type": "markdown",
   "metadata": {},
   "source": [
    "# Text Augmentation"
   ]
  },
  {
   "cell_type": "markdown",
   "metadata": {},
   "source": [
    "<div class=\"alert alert-info\">\n",
    "\n",
    "This tutorial is available as an IPython notebook at [Malaya/example/augmentation](https://github.com/huseinzol05/Malaya/tree/master/example/augmentation).\n",
    "    \n",
    "</div>"
   ]
  },
  {
   "cell_type": "code",
   "execution_count": 1,
   "metadata": {},
   "outputs": [],
   "source": [
    "import os\n",
    "\n",
    "os.environ['CUDA_VISIBLE_DEVICES'] = ''\n",
    "os.environ['TF_FORCE_GPU_ALLOW_GROWTH'] = 'true'"
   ]
  },
  {
   "cell_type": "code",
   "execution_count": 2,
   "metadata": {},
   "outputs": [
    {
     "name": "stderr",
     "output_type": "stream",
     "text": [
      "/home/husein/dev/malaya/malaya/tokenizer.py:202: FutureWarning: Possible nested set at position 3361\n",
      "  self.tok = re.compile(r'({})'.format('|'.join(pipeline)))\n",
      "/home/husein/dev/malaya/malaya/tokenizer.py:202: FutureWarning: Possible nested set at position 3879\n",
      "  self.tok = re.compile(r'({})'.format('|'.join(pipeline)))\n"
     ]
    },
    {
     "name": "stdout",
     "output_type": "stream",
     "text": [
      "CPU times: user 3.07 s, sys: 3.45 s, total: 6.52 s\n",
      "Wall time: 2.05 s\n"
     ]
    }
   ],
   "source": [
    "%%time\n",
    "\n",
    "import malaya"
   ]
  },
  {
   "cell_type": "markdown",
   "metadata": {},
   "source": [
    "### Why augmentation\n",
    "\n",
    "Let say you have a very limited labelled corpus, and you want to add more, but labelling is very costly.\n",
    "\n",
    "So, text augmentation! We provided few augmentation interfaces in Malaya."
   ]
  },
  {
   "cell_type": "markdown",
   "metadata": {},
   "source": [
    "### Load Synonym\n",
    "\n",
    "Use dictionary of synonym to replace words with it synonyms. Synonym data from [Malaya-Dataset/90k-synonym](https://github.com/huseinzol05/Malaya-Dataset#90k-synonym).\n",
    "\n",
    "```python\n",
    "def synonym(\n",
    "    string: str,\n",
    "    threshold: float = 0.5,\n",
    "    top_n = 5,\n",
    "    **kwargs\n",
    "):\n",
    "    \"\"\"\n",
    "    augmenting a string using synonym, https://github.com/huseinzol05/Malaya-Dataset#90k-synonym\n",
    "\n",
    "    Parameters\n",
    "    ----------\n",
    "    string: str\n",
    "        this string input assumed been properly tokenized and cleaned.\n",
    "    threshold: float, optional (default=0.5)\n",
    "        random selection for a word.\n",
    "    top_n: int, (default=5)\n",
    "        number of nearest neighbors returned. Length of returned result should as top_n.\n",
    "\n",
    "    Returns\n",
    "    -------\n",
    "    result: List[str]\n",
    "    \"\"\"\n",
    "```"
   ]
  },
  {
   "cell_type": "code",
   "execution_count": 3,
   "metadata": {},
   "outputs": [],
   "source": [
    "string = 'saya suka makan ayam dan ikan'\n",
    "text = 'Perdana Menteri berkata, beliau perlu memperoleh maklumat terperinci berhubung isu berkenaan sebelum kerajaan dapat mengambil sebarang tindakan lanjut. Bagaimanapun, beliau yakin masalah itu dapat diselesaikan dan pentadbiran kerajaan boleh berfungsi dengan baik.'"
   ]
  },
  {
   "cell_type": "code",
   "execution_count": 4,
   "metadata": {},
   "outputs": [],
   "source": [
    "tokenizer = malaya.preprocessing.Tokenizer()"
   ]
  },
  {
   "cell_type": "code",
   "execution_count": 5,
   "metadata": {},
   "outputs": [
    {
     "data": {
      "text/plain": [
       "['saya disukai suruh ayam dan ikan',\n",
       " 'saya menerima suruh ternakan dan ikan',\n",
       " 'saya menerima menyuruh ternakan dan ikan',\n",
       " 'saya meraba suruh ternakan dan ikan',\n",
       " 'saya meraba makan ternakan dan ikan']"
      ]
     },
     "execution_count": 5,
     "metadata": {},
     "output_type": "execute_result"
    }
   ],
   "source": [
    "malaya.augmentation.synonym(' '.join(tokenizer.tokenize(string)))"
   ]
  },
  {
   "cell_type": "code",
   "execution_count": 6,
   "metadata": {},
   "outputs": [
    {
     "data": {
      "text/plain": [
       "['Utama Menteri membaca , beliau memerlukan memperoleh Maklumat terperinci berhubung hal berkenaan dulu jajahan dapat mengambil sebarang tindakan lanjut . Bagaimanapun , beliau yakin kesusahan itu dapat diselesaikan dan pemberian ranah boleh berkesan dengan cikgu .',\n",
       " 'Utama Menteri membaca , beliau mengakibatkan beruntung Maklumat terperinci berhubung tajuk berkenaan sebelumnya jajahan dapat mengambil sebarang tindakan lanjut . masih , beliau yakin masalah itu dapat diselesaikan dan pemberian kekaisaran boleh bergeser dengan cikgu .',\n",
       " 'Primer gajah membaca , beliau membawa bernasib Baik maklumat terperinci menghayati tajuk berkenaan sebelumnya kerajaan dapat mengambil sebarang tindakan lama . masih , beliau yakin masalah itu dapatkan diselesaikan dan konsesi negara boleh gores dengan pendidik .',\n",
       " 'Utama menteri membaca , beliau berakhir bernasib Baik maklumat terperinci menghasut tujuannya berkenaan sebelumnya pentadbiran berupaya lukai sebarang sijil jauh . masih , beliau aman masalah itu dapatkan diselesaikan dan penyerahan keadaan mampu takuk dengan pendidikan .',\n",
       " 'Perdana menteri membaca , beliau berakhir bernasib Baik maklumat terperinci menghasut tujuannya berkenaan sebelumnya strategi berupaya mencemarkan sebarang tindakan jauh . masih , beliau aman masalah itu dapatkan diselesaikan dan penyerahan keadaan mahir gores dengan perintah .']"
      ]
     },
     "execution_count": 6,
     "metadata": {},
     "output_type": "execute_result"
    }
   ],
   "source": [
    "malaya.augmentation.synonym(' '.join(tokenizer.tokenize(text)))"
   ]
  },
  {
   "cell_type": "markdown",
   "metadata": {},
   "source": [
    "### Load Wordvector\n",
    "\n",
    "dictionary of synonym is quite hard to populate, required some domain experts to help us. So we can use wordvector to find nearest words.\n",
    "\n",
    "```python\n",
    "def wordvector(\n",
    "    string: str,\n",
    "    wordvector,\n",
    "    threshold: float = 0.5,\n",
    "    top_n: int = 5,\n",
    "    soft: bool = False,\n",
    "):\n",
    "    \"\"\"\n",
    "    augmenting a string using wordvector.\n",
    "\n",
    "    Parameters\n",
    "    ----------\n",
    "    string: str\n",
    "    wordvector: object\n",
    "        wordvector interface object.\n",
    "    threshold: float, optional (default=0.5)\n",
    "        random selection for a word.\n",
    "    soft: bool, optional (default=False)\n",
    "        if True, a word not in the dictionary will be replaced with nearest jarowrinkler ratio.\n",
    "        if False, it will throw an exception if a word not in the dictionary.\n",
    "    top_n: int, (default=5)\n",
    "        number of nearest neighbors returned. Length of returned result should as top_n.\n",
    "\n",
    "    Returns\n",
    "    -------\n",
    "    result: List[str]\n",
    "    \"\"\"\n",
    "```"
   ]
  },
  {
   "cell_type": "code",
   "execution_count": 7,
   "metadata": {},
   "outputs": [
    {
     "name": "stderr",
     "output_type": "stream",
     "text": [
      "Load pretrained wordvector into `malaya.wordvector.WordVector` class will disable eager execution.\n",
      "2022-09-15 22:13:34.223920: I tensorflow/core/platform/cpu_feature_guard.cc:142] This TensorFlow binary is optimized with oneAPI Deep Neural Network Library (oneDNN) to use the following CPU instructions in performance-critical operations:  AVX2 FMA\n",
      "To enable them in other operations, rebuild TensorFlow with the appropriate compiler flags.\n",
      "2022-09-15 22:13:34.228059: E tensorflow/stream_executor/cuda/cuda_driver.cc:271] failed call to cuInit: CUDA_ERROR_NO_DEVICE: no CUDA-capable device is detected\n",
      "2022-09-15 22:13:34.228078: I tensorflow/stream_executor/cuda/cuda_diagnostics.cc:169] retrieving CUDA diagnostic information for host: husein-MS-7D31\n",
      "2022-09-15 22:13:34.228082: I tensorflow/stream_executor/cuda/cuda_diagnostics.cc:176] hostname: husein-MS-7D31\n",
      "2022-09-15 22:13:34.228135: I tensorflow/stream_executor/cuda/cuda_diagnostics.cc:200] libcuda reported version is: Not found: was unable to find libcuda.so DSO loaded into this program\n",
      "2022-09-15 22:13:34.228151: I tensorflow/stream_executor/cuda/cuda_diagnostics.cc:204] kernel reported version is: 470.141.3\n"
     ]
    }
   ],
   "source": [
    "vocab_wiki, embedded_wiki = malaya.wordvector.load(model = 'wikipedia')\n",
    "word_vector_wiki = malaya.wordvector.WordVector(embedded_wiki, vocab_wiki)"
   ]
  },
  {
   "cell_type": "code",
   "execution_count": 8,
   "metadata": {},
   "outputs": [
    {
     "name": "stderr",
     "output_type": "stream",
     "text": [
      "2022-09-15 22:13:34.248494: W tensorflow/core/framework/cpu_allocator_impl.cc:80] Allocation of 781670400 exceeds 10% of free system memory.\n",
      "2022-09-15 22:13:34.461367: W tensorflow/core/framework/cpu_allocator_impl.cc:80] Allocation of 781670400 exceeds 10% of free system memory.\n",
      "2022-09-15 22:13:34.466641: W tensorflow/core/framework/cpu_allocator_impl.cc:80] Allocation of 781670400 exceeds 10% of free system memory.\n",
      "2022-09-15 22:13:34.561037: W tensorflow/core/framework/cpu_allocator_impl.cc:80] Allocation of 781670400 exceeds 10% of free system memory.\n"
     ]
    },
    {
     "data": {
      "text/plain": [
       "['saya suka makan ayam dan ikan',\n",
       " 'kamu gemar makan ayam dan ikan',\n",
       " 'anda pandai makan ayam dan ikan',\n",
       " 'kami senang makan ayam dan ikan',\n",
       " 'aku ingin makan ayam dan ikan']"
      ]
     },
     "execution_count": 8,
     "metadata": {},
     "output_type": "execute_result"
    }
   ],
   "source": [
    "malaya.augmentation.wordvector(\n",
    "    ' '.join(tokenizer.tokenize(string)), word_vector_wiki, soft = True\n",
    ")"
   ]
  },
  {
   "cell_type": "code",
   "execution_count": 9,
   "metadata": {},
   "outputs": [
    {
     "name": "stderr",
     "output_type": "stream",
     "text": [
      "2022-09-15 22:13:34.686946: W tensorflow/core/framework/cpu_allocator_impl.cc:80] Allocation of 781670400 exceeds 10% of free system memory.\n"
     ]
    },
    {
     "data": {
      "text/plain": [
       "['Perdana Menteri berkata , beliau perlu memperoleh maklumat terperinci berhubung isu berkenaan sebelum kerajaan dapat mengambil sebarang tindakan lanjut . Bagaimanapun , beliau yakin masalah itu dapat diselesaikan dan pentadbiran kerajaan boleh berfungsi dengan baik .',\n",
       " 'Perdana Menteri berkata , beliau harus mendapatkan maklumat mendalam berhubung persoalan berkaitan selepas pemerintah boleh mengambil sebarang dakwaan terperinci . Bagaimanapun , dia yakin masalah tersebut boleh dibuktikan dan pentadbiran kerajaan dapat berfungsi setelah sempurna .',\n",
       " 'Perdana Menteri berkata , beliau mesti memperolehi maklumat menyeluruh berhubung prosedur tertentu setelah perlembagaan harus mengambil sebarang kesalahan lanjutan . Bagaimanapun , baginda yakin masalah ini harus dilaksanakan dan pentadbiran kerajaan harus berfungsi apabila kuat .',\n",
       " 'Perdana Menteri berkata , beliau terpaksa meraih maklumat efektif berhubung artikel tersebut ketika kesultanan perlu mengambil sebarang perbuatan ringkas . Bagaimanapun , mereka yakin masalah itulah perlu dikesan dan pentadbiran kerajaan perlu berfungsi selepas hebat .',\n",
       " 'Perdana Menteri berkata , beliau dapat menerima maklumat konsisten berhubung kontroversi berlainan sejak pemerintahan mampu mengambil sebarang gerakan positif . Bagaimanapun , saya yakin masalah inilah mampu diperhatikan dan pentadbiran kerajaan akan berfungsi menerusi kukuh .']"
      ]
     },
     "execution_count": 9,
     "metadata": {},
     "output_type": "execute_result"
    }
   ],
   "source": [
    "malaya.augmentation.wordvector(\n",
    "    ' '.join(tokenizer.tokenize(text)), word_vector_wiki, soft = True\n",
    ")"
   ]
  },
  {
   "cell_type": "markdown",
   "metadata": {},
   "source": [
    "### Load Transformer\n",
    "\n",
    "Problem with wordvector, it just replaced a word for near synonym without understood the whole sentence context, so, Transformer comes to the rescue!\n",
    "\n",
    "```python\n",
    "def transformer(\n",
    "    string: str,\n",
    "    model,\n",
    "    threshold: float = 0.5,\n",
    "    top_p: float = 0.9,\n",
    "    top_k: int = 100,\n",
    "    temperature: float = 1.0,\n",
    "    top_n: int = 5,\n",
    "):\n",
    "\n",
    "    \"\"\"\n",
    "    augmenting a string using transformer + nucleus sampling / top-k sampling.\n",
    "\n",
    "    Parameters\n",
    "    ----------\n",
    "    string: str\n",
    "    model: object\n",
    "        transformer interface object. Right now only supported BERT, ALBERT and ELECTRA.\n",
    "    threshold: float, optional (default=0.5)\n",
    "        random selection for a word.\n",
    "    top_p: float, optional (default=0.8)\n",
    "        cumulative sum of probabilities to sample a word. \n",
    "        If top_n bigger than 0, the model will use nucleus sampling, else top-k sampling.\n",
    "    top_k: int, optional (default=100)\n",
    "        k for top-k sampling.\n",
    "    temperature: float, optional (default=0.8)\n",
    "        logits * temperature.\n",
    "    top_n: int, (default=5)\n",
    "        number of nearest neighbors returned. Length of returned result should as top_n.\n",
    "\n",
    "    Returns\n",
    "    -------\n",
    "    result: List[str]\n",
    "    \"\"\"\n",
    "```"
   ]
  },
  {
   "cell_type": "code",
   "execution_count": 10,
   "metadata": {},
   "outputs": [
    {
     "data": {
      "text/html": [
       "<div>\n",
       "<style scoped>\n",
       "    .dataframe tbody tr th:only-of-type {\n",
       "        vertical-align: middle;\n",
       "    }\n",
       "\n",
       "    .dataframe tbody tr th {\n",
       "        vertical-align: top;\n",
       "    }\n",
       "\n",
       "    .dataframe thead th {\n",
       "        text-align: right;\n",
       "    }\n",
       "</style>\n",
       "<table border=\"1\" class=\"dataframe\">\n",
       "  <thead>\n",
       "    <tr style=\"text-align: right;\">\n",
       "      <th></th>\n",
       "      <th>Size (MB)</th>\n",
       "      <th>Description</th>\n",
       "    </tr>\n",
       "  </thead>\n",
       "  <tbody>\n",
       "    <tr>\n",
       "      <th>bert</th>\n",
       "      <td>425.6</td>\n",
       "      <td>Google BERT BASE parameters</td>\n",
       "    </tr>\n",
       "    <tr>\n",
       "      <th>tiny-bert</th>\n",
       "      <td>57.4</td>\n",
       "      <td>Google BERT TINY parameters</td>\n",
       "    </tr>\n",
       "    <tr>\n",
       "      <th>albert</th>\n",
       "      <td>48.6</td>\n",
       "      <td>Google ALBERT BASE parameters</td>\n",
       "    </tr>\n",
       "    <tr>\n",
       "      <th>tiny-albert</th>\n",
       "      <td>22.4</td>\n",
       "      <td>Google ALBERT TINY parameters</td>\n",
       "    </tr>\n",
       "    <tr>\n",
       "      <th>xlnet</th>\n",
       "      <td>446.6</td>\n",
       "      <td>Google XLNET BASE parameters</td>\n",
       "    </tr>\n",
       "    <tr>\n",
       "      <th>alxlnet</th>\n",
       "      <td>46.8</td>\n",
       "      <td>Malaya ALXLNET BASE parameters</td>\n",
       "    </tr>\n",
       "    <tr>\n",
       "      <th>electra</th>\n",
       "      <td>443</td>\n",
       "      <td>Google ELECTRA BASE parameters</td>\n",
       "    </tr>\n",
       "    <tr>\n",
       "      <th>small-electra</th>\n",
       "      <td>55</td>\n",
       "      <td>Google ELECTRA SMALL parameters</td>\n",
       "    </tr>\n",
       "  </tbody>\n",
       "</table>\n",
       "</div>"
      ],
      "text/plain": [
       "              Size (MB)                      Description\n",
       "bert              425.6      Google BERT BASE parameters\n",
       "tiny-bert          57.4      Google BERT TINY parameters\n",
       "albert             48.6    Google ALBERT BASE parameters\n",
       "tiny-albert        22.4    Google ALBERT TINY parameters\n",
       "xlnet             446.6     Google XLNET BASE parameters\n",
       "alxlnet            46.8   Malaya ALXLNET BASE parameters\n",
       "electra             443   Google ELECTRA BASE parameters\n",
       "small-electra        55  Google ELECTRA SMALL parameters"
      ]
     },
     "execution_count": 10,
     "metadata": {},
     "output_type": "execute_result"
    }
   ],
   "source": [
    "malaya.transformer.available_transformer()"
   ]
  },
  {
   "cell_type": "code",
   "execution_count": 11,
   "metadata": {},
   "outputs": [
    {
     "name": "stdout",
     "output_type": "stream",
     "text": [
      "WARNING:tensorflow:From /home/husein/.local/lib/python3.8/site-packages/tensorflow/python/util/dispatch.py:206: multinomial (from tensorflow.python.ops.random_ops) is deprecated and will be removed in a future version.\n",
      "Instructions for updating:\n",
      "Use `tf.compat.v1.random.categorical` instead.\n",
      "INFO:tensorflow:Restoring parameters from /home/husein/Malaya/electra-model/base/electra-base/model.ckpt\n"
     ]
    }
   ],
   "source": [
    "electra = malaya.transformer.load(model = 'electra')"
   ]
  },
  {
   "cell_type": "code",
   "execution_count": 12,
   "metadata": {},
   "outputs": [
    {
     "name": "stdout",
     "output_type": "stream",
     "text": [
      "INFO:tensorflow:Restoring parameters from /home/husein/Malaya/bert-model/base/bert-base-v3/model.ckpt\n"
     ]
    }
   ],
   "source": [
    "bert = malaya.transformer.load(model = 'bert')"
   ]
  },
  {
   "cell_type": "code",
   "execution_count": 20,
   "metadata": {},
   "outputs": [
    {
     "name": "stdout",
     "output_type": "stream",
     "text": [
      "INFO:tensorflow:Restoring parameters from /home/husein/Malaya/albert-model/base/albert-base/model.ckpt\n"
     ]
    }
   ],
   "source": [
    "albert = malaya.transformer.load(model = 'albert')"
   ]
  },
  {
   "cell_type": "code",
   "execution_count": 13,
   "metadata": {},
   "outputs": [
    {
     "name": "stderr",
     "output_type": "stream",
     "text": [
      "2022-09-15 22:13:59.015441: W tensorflow/core/grappler/costs/op_level_cost_estimator.cc:689] Error in PredictCost() for the op: op: \"Softmax\" attr { key: \"T\" value { type: DT_FLOAT } } inputs { dtype: DT_FLOAT shape { unknown_rank: true } } device { type: \"CPU\" vendor: \"GenuineIntel\" model: \"103\" frequency: 2112 num_cores: 20 environment { key: \"cpu_instruction_set\" value: \"AVX SSE, SSE2, SSE3, SSSE3, SSE4.1, SSE4.2\" } environment { key: \"eigen\" value: \"3.3.90\" } l1_cache_size: 49152 l2_cache_size: 1310720 l3_cache_size: 26214400 memory_size: 268435456 } outputs { dtype: DT_FLOAT shape { unknown_rank: true } }\n"
     ]
    },
    {
     "data": {
      "text/plain": [
       "['Lebih suka untuk ayam goreng ikan',\n",
       " 'Lebih suka mie ayam dengan ikan',\n",
       " 'Aku suka mie ayam dan ikan',\n",
       " 'aku suka daging ayam dan ikan',\n",
       " 'aku suka bubur ayam ama ikan']"
      ]
     },
     "execution_count": 13,
     "metadata": {},
     "output_type": "execute_result"
    }
   ],
   "source": [
    "malaya.augmentation.transformer(' '.join(tokenizer.tokenize(string)), electra)"
   ]
  },
  {
   "cell_type": "code",
   "execution_count": 17,
   "metadata": {},
   "outputs": [
    {
     "data": {
      "text/plain": [
       "['saya suka potongan kacang dan ikan',\n",
       " 'saya gabisa mie ikan / ikan',\n",
       " 'saya suka sup ikan / ikan',\n",
       " 'saya kenyang ada ikan siang ikan',\n",
       " 'saya pandai masak ikan + ikan']"
      ]
     },
     "execution_count": 17,
     "metadata": {},
     "output_type": "execute_result"
    }
   ],
   "source": [
    "malaya.augmentation.transformer(' '.join(tokenizer.tokenize(string)), bert)"
   ]
  },
  {
   "cell_type": "code",
   "execution_count": 21,
   "metadata": {},
   "outputs": [
    {
     "name": "stderr",
     "output_type": "stream",
     "text": [
      "2022-09-15 22:14:49.069337: W tensorflow/core/grappler/costs/op_level_cost_estimator.cc:689] Error in PredictCost() for the op: op: \"Softmax\" attr { key: \"T\" value { type: DT_FLOAT } } inputs { dtype: DT_FLOAT shape { unknown_rank: true } } device { type: \"CPU\" vendor: \"GenuineIntel\" model: \"103\" frequency: 2112 num_cores: 20 environment { key: \"cpu_instruction_set\" value: \"AVX SSE, SSE2, SSE3, SSSE3, SSE4.1, SSE4.2\" } environment { key: \"eigen\" value: \"3.3.90\" } l1_cache_size: 49152 l2_cache_size: 1310720 l3_cache_size: 26214400 memory_size: 268435456 } outputs { dtype: DT_FLOAT shape { unknown_rank: true } }\n"
     ]
    },
    {
     "data": {
      "text/plain": [
       "['saya suka kari ayam dan rendang',\n",
       " 'saya suka makan pisang dan sate',\n",
       " 'saya suka kulit kepala dan lemang',\n",
       " 'saya suka masakan jengkol dan ikan',\n",
       " 'saya suka makan telur dan ikan']"
      ]
     },
     "execution_count": 21,
     "metadata": {},
     "output_type": "execute_result"
    }
   ],
   "source": [
    "malaya.augmentation.transformer(' '.join(tokenizer.tokenize(string)), albert)"
   ]
  },
  {
   "cell_type": "code",
   "execution_count": 18,
   "metadata": {},
   "outputs": [
    {
     "data": {
      "text/plain": [
       "['Perdana Menteri berkata , kerajaan perlu mengemukakan butiran terperinci berhubung isu ini supaya kerajaan tidak melakukan sebarang tindakan lanjut . Bagaimanapun , beliau yakin masalah itu dapat diselesaikan sekiranya memastikan hanya boleh berfungsi dengan baik .',\n",
       " 'Perdana Menteri berkata , kerajaan perlu mempunyai maklumat terperinci berhubung isu itu supaya kerajaan boleh mengambil sebarang tindakan lanjut . Bagaimanapun , beliau yakin masalah berkenaan dapat diselesaikan dan percaya itu boleh berfungsi dengan baik .',\n",
       " 'Perdana Menteri berkata , kerajaan perlu beri kajian terperinci berhubung isu ini supaya kerajaan negeri membuat semula tindakan lanjut . Bagaimanapun , beliau yakin masalah itu dapat diatasi dan kemudiannya kerajaan boleh berfungsi dengan baik .',\n",
       " 'Perdana Menteri berkata , kerajaan perlu mempunyai maklumat terperinci berhubung isu itu supaya kerajaan dapat memberi beberapa tindakan lanjut . Bagaimanapun , beliau yakin masalah rakyat dapat diselesaikan selagi tetap negeri boleh berfungsi dengan baik .',\n",
       " 'Perdana Menteri berkata , beliau perlu mengumpul maklumat terperinci berhubung isu tersebut sehingga kerajaan akan melaksanakan sebarang tindakan lanjut . Bagaimanapun , beliau yakin isu ini dapat diatasi kerana bantuan masih boleh berfungsi dengan baik .']"
      ]
     },
     "execution_count": 18,
     "metadata": {},
     "output_type": "execute_result"
    }
   ],
   "source": [
    "malaya.augmentation.transformer(' '.join(tokenizer.tokenize(text)), electra)"
   ]
  },
  {
   "cell_type": "code",
   "execution_count": 19,
   "metadata": {},
   "outputs": [
    {
     "data": {
      "text/plain": [
       "['Perdana Menteri berkata , beliau perlu mempunyai perhatian lanjut berhubung isu berkenaan supaya kerajaan tidak memberi kira tindakan segera . Bagaimanapun , beliau berharap masalah itu dapat diselesaikan jika pentadbiran kerajaan boleh berfungsi dengan baik .',\n",
       " 'Perdana Menteri berkata , beliau perlu mengemukakan maklumat secukupnya berhubung perkara itu supaya beliau tidak mengambil segala tindakan lanjut . Bagaimanapun , beliau berharap masalah itu boleh diselesaikan dan pentadbiran kerajaan boleh berfungsi dengan baik .',\n",
       " 'Perdana Menteri berkata , beliau perlu mempunyai maklumat lanjut berhubung isu ini supaya tidak dapat menghadapi sebarang tindakan lanjut . Bagaimanapun , beliau berharap masalah itu boleh diselesaikan apabila pentadbiran kerajaan boleh berfungsi dengan baik .',\n",
       " 'Perdana Menteri berkata , beliau perlu mengemukakan maklumat terperinci mengenai perkara itu supaya mereka tempatan memberi serius tindakan selanjutnya . Bagaimanapun , beliau yakin masalah itu dapat diselesaikan sehingga pentadbiran kerajaan boleh berfungsi dengan baik .',\n",
       " 'Perdana Menteri berkata , beliau perlu mendapatkan perhatian terperinci berhubung isu sebenar supaya tidak untuk mengambil satu tindakan sewajarnya . Bagaimanapun , beliau berharap masalah itu dapat diselesaikan selagi pentadbiran kerajaan boleh berfungsi dengan baik .']"
      ]
     },
     "execution_count": 19,
     "metadata": {},
     "output_type": "execute_result"
    }
   ],
   "source": [
    "malaya.augmentation.transformer(' '.join(tokenizer.tokenize(text)), electra)"
   ]
  },
  {
   "cell_type": "code",
   "execution_count": 22,
   "metadata": {},
   "outputs": [
    {
     "data": {
      "text/plain": [
       "['Perdana Menteri berkata, pihaknya sedang memberikan penjelasan lanjut berhubung isu berkenaan sebelum kerajaan dapat mengambil sebarang penjelasan lanjut. Bagaimanapun, beliau berharap isu itu boleh diselesaikan dan perancangan tidak boleh diselesaikan dengan baik.',\n",
       " 'Perdana Menteri berkata, kerajaan akan memberikan penjelasan lanjut berhubung isu berkenaan sebelum kerajaan dapat mengambil sebarang penjelasan terperinci. Bagaimanapun, beliau berharap masalah itu boleh diselesaikan dan perancangan kerajaan boleh berjalan dengan baik.',\n",
       " 'Perdana Menteri berkata, beliau akan mempunyai penjelasan lanjut berhubung masalah berkenaan sebelum kerajaan dapat mengambil sebarang penjelasan sewajarnya. Bagaimanapun, beliau berharap masalah itu akan diselesaikan dan semua kerajaan boleh berfungsi dengan baik.',\n",
       " 'Perdana Menteri berkata, kerajaan akan mendapat penjelasan lanjut berhubung masalah berkenaan sebelum kerajaan dapat mengambil sebarang penjelasan lanjut. Bagaimanapun, beliau yakin masalah itu akan diselesaikan dan semua ini boleh berfungsi dengan baik.',\n",
       " 'Perdana Menteri berkata, pihaknya akan memberikan penjelasan lanjut berhubung isu berkenaan sebelum kerajaan dapat mengambil sebarang tindakan serius. Bagaimanapun, beliau berharap perkara itu boleh diselesaikan dan semua beliau boleh pulih dengan baik.']"
      ]
     },
     "execution_count": 22,
     "metadata": {},
     "output_type": "execute_result"
    }
   ],
   "source": [
    "malaya.augmentation.transformer(' '.join(tokenizer.tokenize(text)), albert)"
   ]
  }
 ],
 "metadata": {
  "kernelspec": {
   "display_name": "Python 3 (ipykernel)",
   "language": "python",
   "name": "python3"
  },
  "language_info": {
   "codemirror_mode": {
    "name": "ipython",
    "version": 3
   },
   "file_extension": ".py",
   "mimetype": "text/x-python",
   "name": "python",
   "nbconvert_exporter": "python",
   "pygments_lexer": "ipython3",
   "version": "3.8.10"
  }
 },
 "nbformat": 4,
 "nbformat_minor": 2
}
