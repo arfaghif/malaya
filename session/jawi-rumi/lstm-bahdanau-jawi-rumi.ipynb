{
 "cells": [
  {
   "cell_type": "code",
   "execution_count": 1,
   "id": "7557deba",
   "metadata": {},
   "outputs": [],
   "source": [
    "# !wget https://huggingface.co/datasets/mesolitica/rumi-jawi/resolve/main/jawi-set.json\n",
    "# !wget https://huggingface.co/datasets/mesolitica/rumi-jawi/resolve/main/rumi-set.json"
   ]
  },
  {
   "cell_type": "code",
   "execution_count": 2,
   "id": "22628392",
   "metadata": {},
   "outputs": [],
   "source": [
    "import os\n",
    "os.environ['CUDA_VISIBLE_DEVICES'] = '0'\n",
    "os.environ['TF_FORCE_GPU_ALLOW_GROWTH'] = 'true'"
   ]
  },
  {
   "cell_type": "code",
   "execution_count": 3,
   "id": "93096c08",
   "metadata": {},
   "outputs": [
    {
     "name": "stdout",
     "output_type": "stream",
     "text": [
      "WARNING:tensorflow:Deprecation warnings have been disabled. Set TF_ENABLE_DEPRECATION_WARNINGS=1 to re-enable them.\n"
     ]
    },
    {
     "name": "stderr",
     "output_type": "stream",
     "text": [
      "2022-07-08 18:57:01.470438: I tensorflow/stream_executor/platform/default/dso_loader.cc:49] Successfully opened dynamic library libcudart.so.11.0\n"
     ]
    }
   ],
   "source": [
    "import tensorflow as tf\n",
    "import numpy as np\n",
    "import json\n",
    "from glob import glob"
   ]
  },
  {
   "cell_type": "code",
   "execution_count": 4,
   "id": "8c921923",
   "metadata": {},
   "outputs": [
    {
     "data": {
      "text/plain": [
       "[0, 1, 2, 3]"
      ]
     },
     "execution_count": 4,
     "metadata": {},
     "output_type": "execute_result"
    }
   ],
   "source": [
    "PAD = 0\n",
    "EOS = 1\n",
    "UNK = 2\n",
    "GO = 3\n",
    "[PAD, EOS, UNK, GO]"
   ]
  },
  {
   "cell_type": "code",
   "execution_count": 5,
   "id": "efc9ebca",
   "metadata": {},
   "outputs": [],
   "source": [
    "left_dict = {0: 0,\n",
    " 1: 1,\n",
    " 2: 2,\n",
    " 3: 3,\n",
    " ' ': 4,\n",
    " '!': 5,\n",
    " '\"': 6,\n",
    " \"'\": 7,\n",
    " '(': 8,\n",
    " ')': 9,\n",
    " '+': 10,\n",
    " ',': 11,\n",
    " '-': 12,\n",
    " '.': 13,\n",
    " '0': 14,\n",
    " '1': 15,\n",
    " '2': 16,\n",
    " '3': 17,\n",
    " '4': 18,\n",
    " '5': 19,\n",
    " '6': 20,\n",
    " '7': 21,\n",
    " '8': 22,\n",
    " '9': 23,\n",
    " ':': 24,\n",
    " ';': 25,\n",
    " '?': 26,\n",
    " 'A': 27,\n",
    " 'B': 28,\n",
    " 'C': 29,\n",
    " 'D': 30,\n",
    " 'E': 31,\n",
    " 'F': 32,\n",
    " 'G': 33,\n",
    " 'H': 34,\n",
    " 'I': 35,\n",
    " 'J': 36,\n",
    " 'K': 37,\n",
    " 'L': 38,\n",
    " 'M': 39,\n",
    " 'N': 40,\n",
    " 'O': 41,\n",
    " 'P': 42,\n",
    " 'Q': 43,\n",
    " 'R': 44,\n",
    " 'S': 45,\n",
    " 'T': 46,\n",
    " 'U': 47,\n",
    " 'V': 48,\n",
    " 'W': 49,\n",
    " 'X': 50,\n",
    " 'Y': 51,\n",
    " 'Z': 52,\n",
    " 'a': 53,\n",
    " 'b': 54,\n",
    " 'c': 55,\n",
    " 'd': 56,\n",
    " 'e': 57,\n",
    " 'f': 58,\n",
    " 'g': 59,\n",
    " 'h': 60,\n",
    " 'i': 61,\n",
    " 'j': 62,\n",
    " 'k': 63,\n",
    " 'l': 64,\n",
    " 'm': 65,\n",
    " 'n': 66,\n",
    " 'o': 67,\n",
    " 'p': 68,\n",
    " 'q': 69,\n",
    " 'r': 70,\n",
    " 's': 71,\n",
    " 't': 72,\n",
    " 'u': 73,\n",
    " 'v': 74,\n",
    " 'w': 75,\n",
    " 'x': 76,\n",
    " 'y': 77,\n",
    " 'z': 78}\n",
    "rev_left_dict = {v: k for k, v in left_dict.items()}"
   ]
  },
  {
   "cell_type": "code",
   "execution_count": 6,
   "id": "6bea1d9a",
   "metadata": {},
   "outputs": [],
   "source": [
    "right_dict = {0: 0,\n",
    " 1: 1,\n",
    " 2: 2,\n",
    " 3: 3,\n",
    " ' ': 4,\n",
    " '!': 5,\n",
    " '\"': 6,\n",
    " '-': 7,\n",
    " '.': 8,\n",
    " ':': 9,\n",
    " ';': 10,\n",
    " '،': 11,\n",
    " '؟': 12,\n",
    " 'ء': 13,\n",
    " 'آ': 14,\n",
    " 'أ': 15,\n",
    " 'ؤ': 16,\n",
    " 'إ': 17,\n",
    " 'ئ': 18,\n",
    " 'ا': 19,\n",
    " 'ب': 20,\n",
    " 'ة': 21,\n",
    " 'ت': 22,\n",
    " 'ث': 23,\n",
    " 'ج': 24,\n",
    " 'ح': 25,\n",
    " 'خ': 26,\n",
    " 'د': 27,\n",
    " 'ذ': 28,\n",
    " 'ر': 29,\n",
    " 'ز': 30,\n",
    " 'س': 31,\n",
    " 'ش': 32,\n",
    " 'ص': 33,\n",
    " 'ض': 34,\n",
    " 'ط': 35,\n",
    " 'ظ': 36,\n",
    " 'ع': 37,\n",
    " 'غ': 38,\n",
    " 'ف': 39,\n",
    " 'ق': 40,\n",
    " 'ك': 41,\n",
    " 'ل': 42,\n",
    " 'م': 43,\n",
    " 'ن': 44,\n",
    " 'ه': 45,\n",
    " 'و': 46,\n",
    " 'ى': 47,\n",
    " 'ي': 48,\n",
    " 'ّ': 49,\n",
    " 'ٓ': 50,\n",
    " '٠': 51,\n",
    " '١': 52,\n",
    " '٢': 53,\n",
    " '٣': 54,\n",
    " '٤': 55,\n",
    " '٥': 56,\n",
    " '٦': 57,\n",
    " '٧': 58,\n",
    " '٨': 59,\n",
    " '٩': 60,\n",
    " 'چ': 61,\n",
    " 'ڠ': 62,\n",
    " 'ڤ': 63,\n",
    " 'ڬ': 64,\n",
    " 'ڽ': 65,\n",
    " 'ۏ': 66,\n",
    " '﴾': 67,\n",
    " '﴿': 68}\n",
    "rev_right_dict = {v: k for k, v in right_dict.items()}"
   ]
  },
  {
   "cell_type": "code",
   "execution_count": 7,
   "id": "04eb3b97",
   "metadata": {},
   "outputs": [
    {
     "data": {
      "text/plain": [
       "['كاوسن كڤولاوان سڤراتلي يڠ',\n",
       " 'ڤرليمين ڤرسكوتوان اونتوق',\n",
       " 'ڤنوبوهن تامن سينر',\n",
       " 'ڤريڠكت كمنترين، كاتڽ.',\n",
       " 'تله مندرم سباڽق تيڬ',\n",
       " 'هاري اين،',\n",
       " 'برتوليرنسي\"',\n",
       " 'مڠيسهكان',\n",
       " 'سوڠ-قواڠ',\n",
       " 'سيبير دڠن باجو بياسا.']"
      ]
     },
     "execution_count": 7,
     "metadata": {},
     "output_type": "execute_result"
    }
   ],
   "source": [
    "with open('jawi-set.json') as fopen:\n",
    "    jawi = json.load(fopen)\n",
    "jawi['train'][:10]"
   ]
  },
  {
   "cell_type": "code",
   "execution_count": 8,
   "id": "6aed0ae5",
   "metadata": {},
   "outputs": [],
   "source": [
    "with open('rumi-set.json') as fopen:\n",
    "    rumi = json.load(fopen)"
   ]
  },
  {
   "cell_type": "code",
   "execution_count": 9,
   "id": "9a9f993a",
   "metadata": {},
   "outputs": [],
   "source": [
    "train_X = jawi['train']\n",
    "train_Y = rumi['train']\n",
    "\n",
    "test_X = jawi['test']\n",
    "test_Y = rumi['test']"
   ]
  },
  {
   "cell_type": "code",
   "execution_count": 10,
   "id": "dce67869",
   "metadata": {},
   "outputs": [],
   "source": [
    "class Translator:\n",
    "    def __init__(self, size_layer, num_layers, embedded_size,\n",
    "                 from_dict_size, to_dict_size, learning_rate, beam_width = 10):\n",
    "        \n",
    "        def cells(reuse=False):\n",
    "            return tf.compat.v1.nn.rnn_cell.LSTMCell(size_layer,initializer=tf.compat.v1.orthogonal_initializer(),reuse=reuse)\n",
    "        \n",
    "        def attention(encoder_out, seq_len, reuse=False):\n",
    "            attention_mechanism = tf.contrib.seq2seq.BahdanauAttention(num_units = size_layer, \n",
    "                                                                    memory = encoder_out,\n",
    "                                                                    memory_sequence_length = seq_len)\n",
    "            return tf.contrib.seq2seq.AttentionWrapper(\n",
    "            cell = tf.compat.v1.nn.rnn_cell.MultiRNNCell([cells(reuse) for _ in range(num_layers)]), \n",
    "                attention_mechanism = attention_mechanism,\n",
    "                attention_layer_size = size_layer)\n",
    "        \n",
    "        self.X = tf.compat.v1.placeholder(tf.compat.v1.int32, [None, None])\n",
    "        self.Y = tf.compat.v1.placeholder(tf.compat.v1.int32, [None, None])\n",
    "        self.X_seq_len = tf.compat.v1.count_nonzero(self.X, 1, dtype=tf.compat.v1.int32)\n",
    "        self.Y_seq_len = tf.compat.v1.count_nonzero(self.Y, 1, dtype=tf.compat.v1.int32)\n",
    "        batch_size = tf.compat.v1.shape(self.X)[0]\n",
    "        \n",
    "        encoder_embedding = tf.compat.v1.Variable(tf.compat.v1.random_uniform([from_dict_size, embedded_size], -1, 1))\n",
    "        decoder_embedding = tf.compat.v1.Variable(tf.compat.v1.random_uniform([to_dict_size, embedded_size], -1, 1))\n",
    "        \n",
    "        encoder_out, encoder_state = tf.compat.v1.nn.dynamic_rnn(\n",
    "            cell = tf.compat.v1.nn.rnn_cell.MultiRNNCell([cells() for _ in range(num_layers)]), \n",
    "            inputs = tf.compat.v1.nn.embedding_lookup(encoder_embedding, self.X),\n",
    "            sequence_length = self.X_seq_len,\n",
    "            dtype = tf.compat.v1.float32)\n",
    "        main = tf.compat.v1.strided_slice(self.Y, [0, 0], [batch_size, -1], [1, 1])\n",
    "        decoder_input = tf.compat.v1.concat([tf.compat.v1.fill([batch_size, 1], GO), main], 1)\n",
    "        dense = tf.compat.v1.layers.Dense(to_dict_size)\n",
    "        \n",
    "        with tf.compat.v1.variable_scope('decode'):\n",
    "            decoder_cells = attention(encoder_out, self.X_seq_len)\n",
    "            training_helper = tf.contrib.seq2seq.TrainingHelper(\n",
    "                inputs = tf.compat.v1.nn.embedding_lookup(decoder_embedding, decoder_input),\n",
    "                sequence_length = self.Y_seq_len,\n",
    "                time_major = False)\n",
    "            training_decoder = tf.contrib.seq2seq.BasicDecoder(\n",
    "                    cell = decoder_cells,\n",
    "                    helper = training_helper,\n",
    "                    initial_state = decoder_cells.zero_state(batch_size, tf.compat.v1.float32).clone(cell_state=encoder_state),\n",
    "                    output_layer = dense)\n",
    "            training_decoder_output, _, _ = tf.contrib.seq2seq.dynamic_decode(\n",
    "                    decoder = training_decoder,\n",
    "                    impute_finished = True,\n",
    "                    maximum_iterations = tf.compat.v1.reduce_max(self.Y_seq_len))\n",
    "            self.training_logits = training_decoder_output.rnn_output\n",
    "            \n",
    "        with tf.compat.v1.variable_scope('decode', reuse=True):\n",
    "            predicting_helper = tf.contrib.seq2seq.GreedyEmbeddingHelper(\n",
    "                embedding = decoder_embedding,\n",
    "                start_tokens = tf.compat.v1.tile(tf.compat.v1.constant([GO], dtype=tf.compat.v1.int32), [batch_size]),\n",
    "                end_token = EOS)\n",
    "            predicting_decoder = tf.contrib.seq2seq.BasicDecoder(\n",
    "                    cell = decoder_cells,\n",
    "                    helper = predicting_helper,\n",
    "                    initial_state = decoder_cells.zero_state(batch_size, tf.compat.v1.float32).clone(cell_state=encoder_state),\n",
    "                    output_layer = dense)\n",
    "            predicting_decoder_output, _, _ = tf.contrib.seq2seq.dynamic_decode(\n",
    "                    decoder = predicting_decoder,\n",
    "                    impute_finished = True,\n",
    "                    maximum_iterations = 3 * tf.compat.v1.reduce_max(self.X_seq_len))\n",
    "            self.greedy = predicting_decoder_output.sample_id\n",
    "            self.greedy = tf.compat.v1.identity(self.greedy,name='greedy')\n",
    "        \n",
    "        with tf.compat.v1.variable_scope('decode', reuse=True):\n",
    "            \n",
    "            encoder_out_tiled = tf.contrib.seq2seq.tile_batch(encoder_out, beam_width)\n",
    "            encoder_state_tiled = tf.contrib.seq2seq.tile_batch(encoder_state, beam_width)\n",
    "            X_seq_len_tiled = tf.contrib.seq2seq.tile_batch(self.X_seq_len, beam_width)\n",
    "            decoder_cell = attention(encoder_out_tiled, X_seq_len_tiled, reuse=True)\n",
    "            \n",
    "            predicting_decoder = tf.contrib.seq2seq.BeamSearchDecoder(\n",
    "                cell = decoder_cell,\n",
    "                embedding = decoder_embedding,\n",
    "                start_tokens = tf.compat.v1.tile(tf.compat.v1.constant([GO], dtype=tf.compat.v1.int32), [batch_size]),\n",
    "                end_token = EOS,\n",
    "                initial_state = decoder_cell.zero_state(batch_size * beam_width, tf.compat.v1.float32).clone(\n",
    "                    cell_state = encoder_state_tiled),\n",
    "                beam_width = beam_width,\n",
    "                output_layer = dense,\n",
    "                length_penalty_weight = 0.0)\n",
    "            \n",
    "            predicting_decoder_output, _, _ = tf.contrib.seq2seq.dynamic_decode(\n",
    "                decoder = predicting_decoder,\n",
    "                impute_finished = False,\n",
    "                maximum_iterations = 3 * tf.compat.v1.reduce_max(self.X_seq_len))\n",
    "            \n",
    "            self.beam = predicting_decoder_output.predicted_ids[:, :, 0]\n",
    "            self.beam = tf.compat.v1.identity(self.beam,name='beam')\n",
    "        \n",
    "        masks = tf.compat.v1.sequence_mask(self.Y_seq_len, tf.compat.v1.reduce_max(self.Y_seq_len), dtype=tf.compat.v1.float32)\n",
    "        self.masks = masks\n",
    "        self.cost = tf.contrib.seq2seq.sequence_loss(logits = self.training_logits,\n",
    "                                                     targets = self.Y,\n",
    "                                                     weights = masks)\n",
    "        self.optimizer = tf.compat.v1.train.AdamOptimizer(learning_rate = learning_rate).minimize(self.cost)\n",
    "        y_t = tf.compat.v1.argmax(self.training_logits,axis=2)\n",
    "        y_t = tf.compat.v1.cast(y_t, tf.compat.v1.int32)\n",
    "        self.prediction = tf.compat.v1.boolean_mask(y_t, masks)\n",
    "        mask_label = tf.compat.v1.boolean_mask(self.Y, masks)\n",
    "        correct_pred = tf.compat.v1.equal(self.prediction, mask_label)\n",
    "        correct_index = tf.compat.v1.cast(correct_pred, tf.compat.v1.float32)\n",
    "        self.accuracy = tf.compat.v1.reduce_mean(tf.compat.v1.cast(correct_pred, tf.compat.v1.float32))"
   ]
  },
  {
   "cell_type": "code",
   "execution_count": 11,
   "id": "1d0395dc",
   "metadata": {},
   "outputs": [],
   "source": [
    "size_layer = 384\n",
    "num_layers = 2\n",
    "embedded_size = 384\n",
    "learning_rate = 5e-4\n",
    "batch_size = 32\n",
    "epoch = 20"
   ]
  },
  {
   "cell_type": "code",
   "execution_count": 12,
   "id": "e08b1e7c",
   "metadata": {
    "scrolled": true
   },
   "outputs": [
    {
     "name": "stdout",
     "output_type": "stream",
     "text": [
      "WARNING:tensorflow:From /tmp/ipykernel_16514/3592303487.py:1: The name tf.compat.v1.reset_default_graph is deprecated. Please use tf.compat.v1.reset_default_graph instead.\n",
      "\n",
      "WARNING:tensorflow:From /tmp/ipykernel_16514/3592303487.py:2: The name tf.compat.v1.InteractiveSession is deprecated. Please use tf.compat.v1.InteractiveSession instead.\n",
      "\n"
     ]
    },
    {
     "name": "stderr",
     "output_type": "stream",
     "text": [
      "2022-07-08 18:57:19.999251: I tensorflow/core/platform/profile_utils/cpu_utils.cc:109] CPU Frequency: 2496000000 Hz\n",
      "2022-07-08 18:57:19.999709: I tensorflow/compiler/xla/service/service.cc:168] XLA service 0xd37090 initialized for platform Host (this does not guarantee that XLA will be used). Devices:\n",
      "2022-07-08 18:57:19.999722: I tensorflow/compiler/xla/service/service.cc:176]   StreamExecutor device (0): Host, Default Version\n",
      "2022-07-08 18:57:20.000713: I tensorflow/stream_executor/platform/default/dso_loader.cc:49] Successfully opened dynamic library libcuda.so.1\n",
      "2022-07-08 18:57:20.124497: I tensorflow/stream_executor/cuda/cuda_gpu_executor.cc:1082] successful NUMA node read from SysFS had negative value (-1), but there must be at least one NUMA node, so returning NUMA node zero\n",
      "2022-07-08 18:57:20.124843: I tensorflow/compiler/xla/service/service.cc:168] XLA service 0xc80690 initialized for platform CUDA (this does not guarantee that XLA will be used). Devices:\n",
      "2022-07-08 18:57:20.124853: I tensorflow/compiler/xla/service/service.cc:176]   StreamExecutor device (0): NVIDIA GeForce RTX 3090 Ti, Compute Capability 8.6\n",
      "2022-07-08 18:57:20.124964: I tensorflow/stream_executor/cuda/cuda_gpu_executor.cc:1082] successful NUMA node read from SysFS had negative value (-1), but there must be at least one NUMA node, so returning NUMA node zero\n",
      "2022-07-08 18:57:20.125278: I tensorflow/core/common_runtime/gpu/gpu_device.cc:1666] Found device 0 with properties: \n",
      "name: NVIDIA GeForce RTX 3090 Ti major: 8 minor: 6 memoryClockRate(GHz): 1.86\n",
      "pciBusID: 0000:01:00.0\n",
      "2022-07-08 18:57:20.125295: I tensorflow/stream_executor/platform/default/dso_loader.cc:49] Successfully opened dynamic library libcudart.so.11.0\n",
      "2022-07-08 18:57:20.127539: I tensorflow/stream_executor/platform/default/dso_loader.cc:49] Successfully opened dynamic library libcublas.so.11\n",
      "2022-07-08 18:57:20.143268: I tensorflow/stream_executor/platform/default/dso_loader.cc:49] Successfully opened dynamic library libcufft.so.10\n",
      "2022-07-08 18:57:20.143413: I tensorflow/stream_executor/platform/default/dso_loader.cc:49] Successfully opened dynamic library libcurand.so.10\n",
      "2022-07-08 18:57:20.143725: I tensorflow/stream_executor/platform/default/dso_loader.cc:49] Successfully opened dynamic library libcusolver.so.11\n",
      "2022-07-08 18:57:20.144143: I tensorflow/stream_executor/platform/default/dso_loader.cc:49] Successfully opened dynamic library libcusparse.so.11\n",
      "2022-07-08 18:57:20.144211: I tensorflow/stream_executor/platform/default/dso_loader.cc:49] Successfully opened dynamic library libcudnn.so.8\n",
      "2022-07-08 18:57:20.144258: I tensorflow/stream_executor/cuda/cuda_gpu_executor.cc:1082] successful NUMA node read from SysFS had negative value (-1), but there must be at least one NUMA node, so returning NUMA node zero\n",
      "2022-07-08 18:57:20.144569: I tensorflow/stream_executor/cuda/cuda_gpu_executor.cc:1082] successful NUMA node read from SysFS had negative value (-1), but there must be at least one NUMA node, so returning NUMA node zero\n",
      "2022-07-08 18:57:20.144827: I tensorflow/core/common_runtime/gpu/gpu_device.cc:1794] Adding visible gpu devices: 0\n",
      "2022-07-08 18:57:20.144841: I tensorflow/stream_executor/platform/default/dso_loader.cc:49] Successfully opened dynamic library libcudart.so.11.0\n"
     ]
    },
    {
     "name": "stdout",
     "output_type": "stream",
     "text": [
      "WARNING:tensorflow:From /tmp/ipykernel_16514/3187190857.py:17: The name tf.compat.v1.placeholder is deprecated. Please use tf.compat.v1.placeholder instead.\n",
      "\n",
      "WARNING:tensorflow:From /tmp/ipykernel_16514/3187190857.py:23: The name tf.compat.v1.random_uniform is deprecated. Please use tf.compat.v1.random.uniform instead.\n",
      "\n",
      "WARNING:tensorflow:From /tmp/ipykernel_16514/3187190857.py:33: The name tf.compat.v1.layers.Dense is deprecated. Please use tf.compat.v1.layers.Dense instead.\n",
      "\n",
      "WARNING:tensorflow:From /tmp/ipykernel_16514/3187190857.py:35: The name tf.compat.v1.variable_scope is deprecated. Please use tf.compat.v1.variable_scope instead.\n",
      "\n",
      "WARNING:tensorflow:\n",
      "The TensorFlow contrib module will not be included in TensorFlow 2.0.\n",
      "For more information, please see:\n",
      "  * https://github.com/tensorflow/community/blob/master/rfcs/20180907-contrib-sunset.md\n",
      "  * https://github.com/tensorflow/addons\n",
      "  * https://github.com/tensorflow/io (for I/O related ops)\n",
      "If you depend on functionality not listed there, please file an issue.\n",
      "\n"
     ]
    },
    {
     "name": "stderr",
     "output_type": "stream",
     "text": [
      "2022-07-08 18:57:20.863900: I tensorflow/core/common_runtime/gpu/gpu_device.cc:1206] Device interconnect StreamExecutor with strength 1 edge matrix:\n",
      "2022-07-08 18:57:20.863920: I tensorflow/core/common_runtime/gpu/gpu_device.cc:1212]      0 \n",
      "2022-07-08 18:57:20.863924: I tensorflow/core/common_runtime/gpu/gpu_device.cc:1225] 0:   N \n",
      "2022-07-08 18:57:20.864056: I tensorflow/stream_executor/cuda/cuda_gpu_executor.cc:1082] successful NUMA node read from SysFS had negative value (-1), but there must be at least one NUMA node, so returning NUMA node zero\n",
      "2022-07-08 18:57:20.864412: I tensorflow/stream_executor/cuda/cuda_gpu_executor.cc:1082] successful NUMA node read from SysFS had negative value (-1), but there must be at least one NUMA node, so returning NUMA node zero\n",
      "2022-07-08 18:57:20.864696: I tensorflow/core/common_runtime/gpu/gpu_device.cc:1351] Created TensorFlow device (/job:localhost/replica:0/task:0/device:GPU:0 with 4338 MB memory) -> physical GPU (device: 0, name: NVIDIA GeForce RTX 3090 Ti, pci bus id: 0000:01:00.0, compute capability: 8.6)\n"
     ]
    },
    {
     "name": "stdout",
     "output_type": "stream",
     "text": [
      "WARNING:tensorflow:From /tmp/ipykernel_16514/3187190857.py:100: The name tf.compat.v1.train.AdamOptimizer is deprecated. Please use tf.compat.v1.train.AdamOptimizer instead.\n",
      "\n",
      "WARNING:tensorflow:From /tmp/ipykernel_16514/3592303487.py:4: The name tf.compat.v1.global_variables_initializer is deprecated. Please use tf.compat.v1.global_variables_initializer instead.\n",
      "\n"
     ]
    }
   ],
   "source": [
    "tf.compat.v1.reset_default_graph()\n",
    "sess = tf.compat.v1.InteractiveSession()\n",
    "model = Translator(size_layer, num_layers, embedded_size, len(right_dict), len(left_dict), learning_rate)\n",
    "sess.run(tf.compat.v1.global_variables_initializer())"
   ]
  },
  {
   "cell_type": "code",
   "execution_count": 13,
   "id": "0ca65f77",
   "metadata": {},
   "outputs": [
    {
     "name": "stdout",
     "output_type": "stream",
     "text": [
      "WARNING:tensorflow:From /tmp/ipykernel_16514/792613384.py:1: The name tf.compat.v1.train.Saver is deprecated. Please use tf.compat.v1.train.Saver instead.\n",
      "\n",
      "WARNING:tensorflow:From /tmp/ipykernel_16514/792613384.py:1: The name tf.compat.v1.trainable_variables is deprecated. Please use tf.compat.v1.trainable_variables instead.\n",
      "\n"
     ]
    }
   ],
   "source": [
    "saver = tf.compat.v1.train.Saver(tf.compat.v1.trainable_variables())\n",
    "# saver.save(sess, 'lstm-jawi-rumi/model.ckpt')"
   ]
  },
  {
   "cell_type": "code",
   "execution_count": 14,
   "id": "06af603c",
   "metadata": {},
   "outputs": [
    {
     "name": "stdout",
     "output_type": "stream",
     "text": [
      "INFO:tensorflow:Restoring parameters from lstm-jawi-rumi/model.ckpt\n"
     ]
    }
   ],
   "source": [
    "saver.restore(sess, 'lstm-jawi-rumi/model.ckpt')"
   ]
  },
  {
   "cell_type": "code",
   "execution_count": 15,
   "id": "151716a2",
   "metadata": {},
   "outputs": [],
   "source": [
    "def pad_sentence_batch(sentence_batch, pad_int):\n",
    "    padded_seqs = []\n",
    "    seq_lens = []\n",
    "    max_sentence_len = max([len(sentence) for sentence in sentence_batch])\n",
    "    for sentence in sentence_batch:\n",
    "        padded_seqs.append(sentence + [pad_int] * (max_sentence_len - len(sentence)))\n",
    "        seq_lens.append(len(sentence))\n",
    "    return padded_seqs, seq_lens"
   ]
  },
  {
   "cell_type": "code",
   "execution_count": 16,
   "id": "fbd8a739",
   "metadata": {},
   "outputs": [],
   "source": [
    "i = 0\n",
    "batch_x = [[right_dict[c] for c in s] + [1] for s in train_X[i: i + 5]]\n",
    "batch_y = [[left_dict[c] for c in s] + [1] for s in train_Y[i: i + 5]]\n",
    "batch_x, _ = pad_sentence_batch(batch_x, 0)\n",
    "batch_y, _ = pad_sentence_batch(batch_y, 0)"
   ]
  },
  {
   "cell_type": "code",
   "execution_count": 17,
   "id": "aef9dc15",
   "metadata": {},
   "outputs": [
    {
     "data": {
      "text/plain": [
       "(5, 32)"
      ]
     },
     "execution_count": 17,
     "metadata": {},
     "output_type": "execute_result"
    }
   ],
   "source": [
    "np.array(batch_y).shape"
   ]
  },
  {
   "cell_type": "code",
   "execution_count": 18,
   "id": "755eb319",
   "metadata": {},
   "outputs": [
    {
     "data": {
      "text/plain": [
       "(5, 26)"
      ]
     },
     "execution_count": 18,
     "metadata": {},
     "output_type": "execute_result"
    }
   ],
   "source": [
    "np.array(batch_x).shape"
   ]
  },
  {
   "cell_type": "code",
   "execution_count": 19,
   "id": "b64fbb81",
   "metadata": {},
   "outputs": [
    {
     "name": "stderr",
     "output_type": "stream",
     "text": [
      "2022-07-08 18:57:27.319733: I tensorflow/stream_executor/platform/default/dso_loader.cc:49] Successfully opened dynamic library libcublas.so.11\n"
     ]
    },
    {
     "name": "stdout",
     "output_type": "stream",
     "text": [
      "CPU times: user 2.11 s, sys: 178 ms, total: 2.29 s\n",
      "Wall time: 2.47 s\n"
     ]
    },
    {
     "data": {
      "text/plain": [
       "[0.0019974776, None]"
      ]
     },
     "execution_count": 19,
     "metadata": {},
     "output_type": "execute_result"
    }
   ],
   "source": [
    "%%time\n",
    "\n",
    "sess.run([model.cost, model.optimizer], feed_dict = {model.X: batch_x, model.Y: batch_y})"
   ]
  },
  {
   "cell_type": "code",
   "execution_count": 20,
   "id": "aecd03ea",
   "metadata": {},
   "outputs": [],
   "source": [
    "greedy, beam = sess.run([model.greedy, model.beam], feed_dict = {model.X: batch_x[:1]})"
   ]
  },
  {
   "cell_type": "code",
   "execution_count": 21,
   "id": "1d2af4c2",
   "metadata": {},
   "outputs": [],
   "source": [
    "import tqdm\n",
    "from sklearn.utils import shuffle"
   ]
  },
  {
   "cell_type": "code",
   "execution_count": null,
   "id": "771cc18a",
   "metadata": {},
   "outputs": [],
   "source": [
    "for e in range(10):\n",
    "    train_X, train_Y = shuffle(train_X, train_Y)\n",
    "    pbar = tqdm.tqdm(\n",
    "        range(0, len(train_X), batch_size), desc = 'minibatch loop')\n",
    "    train_loss, train_acc, test_loss, test_acc = [], [], [], []\n",
    "    for i in pbar:\n",
    "        index = min(i + batch_size, len(train_X))\n",
    "        batch_x = [[right_dict[c] for c in s] + [1] for s in train_X[i: index]]\n",
    "        batch_y = [[left_dict[c] for c in s] + [1] for s in train_Y[i: index]]\n",
    "        batch_x, _ = pad_sentence_batch(batch_x, PAD)\n",
    "        batch_y, _ = pad_sentence_batch(batch_y, PAD)\n",
    "        feed = {model.X: batch_x,\n",
    "                model.Y: batch_y}\n",
    "        accuracy, loss, _ = sess.run([model.accuracy,model.cost,model.optimizer],\n",
    "                                    feed_dict = feed)\n",
    "        train_loss.append(loss)\n",
    "        train_acc.append(accuracy)\n",
    "        pbar.set_postfix(cost = loss, accuracy = accuracy)\n",
    "    \n",
    "    pbar = tqdm.tqdm(\n",
    "        range(0, len(test_X), batch_size), desc = 'minibatch loop')\n",
    "    for i in pbar:\n",
    "        index = min(i + batch_size, len(test_X))\n",
    "        batch_x = [[right_dict[c] for c in s] + [1] for s in test_X[i: index]]\n",
    "        batch_y = [[left_dict[c] for c in s] + [1] for s in test_Y[i: index]]\n",
    "        batch_x, _ = pad_sentence_batch(batch_x, PAD)\n",
    "        batch_y, _ = pad_sentence_batch(batch_y, PAD)\n",
    "        feed = {model.X: batch_x,\n",
    "                model.Y: batch_y,}\n",
    "        accuracy, loss = sess.run([model.accuracy,model.cost],\n",
    "                                    feed_dict = feed)\n",
    "\n",
    "        test_loss.append(loss)\n",
    "        test_acc.append(accuracy)\n",
    "        pbar.set_postfix(cost = loss, accuracy = accuracy)\n",
    "    \n",
    "    print('epoch %d, training avg loss %f, training avg acc %f'%(e+1,\n",
    "                                                                 np.mean(train_loss),np.mean(train_acc)))\n",
    "    print('epoch %d, testing avg loss %f, testing avg acc %f'%(e+1,\n",
    "                                                              np.mean(test_loss),np.mean(test_acc)))\n",
    "    \n",
    "    saver.save(sess, 'lstm-jawi-rumi/model.ckpt')"
   ]
  },
  {
   "cell_type": "code",
   "execution_count": null,
   "id": "3b74881c",
   "metadata": {},
   "outputs": [],
   "source": [
    "saver = tf.compat.v1.train.Saver(tf.compat.v1.trainable_variables())\n",
    "saver.save(sess, 'lstm-bahdanau-jawi-rumi/model.ckpt')"
   ]
  },
  {
   "cell_type": "code",
   "execution_count": 22,
   "id": "3820598a",
   "metadata": {},
   "outputs": [],
   "source": [
    "string = 'ايسوق بيرثداي ساي، جڬن لوڤا باوق هديه'\n",
    "batch = [right_dict[c] for c in string] + [1]"
   ]
  },
  {
   "cell_type": "code",
   "execution_count": 23,
   "id": "7262b972",
   "metadata": {},
   "outputs": [],
   "source": [
    "greedy, beam = sess.run([model.greedy, model.beam], feed_dict = {model.X: [batch]})"
   ]
  },
  {
   "cell_type": "code",
   "execution_count": 24,
   "id": "de122d2e",
   "metadata": {},
   "outputs": [
    {
     "data": {
      "text/plain": [
       "(array([[57, 71, 67, 63,  4, 54, 61, 70, 72, 60, 56, 53, 77,  4, 71, 53,\n",
       "         77, 53, 11,  4, 62, 53, 59, 66,  4, 64, 73, 68, 53,  4, 54, 53,\n",
       "         75, 53, 63,  4, 60, 53, 56, 61, 53, 60,  1]], dtype=int32),\n",
       " array([[57, 71, 67, 63,  4, 54, 61, 70, 72, 60, 56, 53, 77,  4, 71, 53,\n",
       "         77, 53, 11,  4, 62, 53, 59, 66,  4, 64, 73, 68, 53,  4, 54, 53,\n",
       "         75, 53, 63,  4, 60, 53, 56, 61, 53, 60,  1,  1]], dtype=int32))"
      ]
     },
     "execution_count": 24,
     "metadata": {},
     "output_type": "execute_result"
    }
   ],
   "source": [
    "greedy, beam"
   ]
  },
  {
   "cell_type": "code",
   "execution_count": 25,
   "id": "14f57461",
   "metadata": {},
   "outputs": [
    {
     "data": {
      "text/plain": [
       "'esok birthday saya, jagn lupa bawak hadiah'"
      ]
     },
     "execution_count": 25,
     "metadata": {},
     "output_type": "execute_result"
    }
   ],
   "source": [
    "''.join([rev_left_dict[i] for i in beam[0] if i > 2])"
   ]
  },
  {
   "cell_type": "code",
   "execution_count": 27,
   "id": "a328dec9",
   "metadata": {},
   "outputs": [
    {
     "data": {
      "text/plain": [
       "['Placeholder',\n",
       " 'Placeholder_1',\n",
       " 'Variable',\n",
       " 'Variable_1',\n",
       " 'rnn/multi_rnn_cell/cell_0/lstm_cell/kernel',\n",
       " 'rnn/multi_rnn_cell/cell_0/lstm_cell/bias',\n",
       " 'rnn/multi_rnn_cell/cell_1/lstm_cell/kernel',\n",
       " 'rnn/multi_rnn_cell/cell_1/lstm_cell/bias',\n",
       " 'decode/memory_layer/kernel',\n",
       " 'decode/decoder/attention_wrapper/multi_rnn_cell/cell_0/lstm_cell/kernel',\n",
       " 'decode/decoder/attention_wrapper/multi_rnn_cell/cell_0/lstm_cell/bias',\n",
       " 'decode/decoder/attention_wrapper/multi_rnn_cell/cell_1/lstm_cell/kernel',\n",
       " 'decode/decoder/attention_wrapper/multi_rnn_cell/cell_1/lstm_cell/bias',\n",
       " 'decode/decoder/attention_wrapper/bahdanau_attention/query_layer/kernel',\n",
       " 'decode/decoder/attention_wrapper/bahdanau_attention/attention_v',\n",
       " 'decode/decoder/attention_wrapper/attention_layer/kernel',\n",
       " 'decode/decoder/dense/kernel',\n",
       " 'decode/decoder/dense/bias',\n",
       " 'decode_1/greedy',\n",
       " 'decode_2/decoder/while/BeamSearchDecoderStep/beam_width',\n",
       " 'decode_2/decoder/while/BeamSearchDecoderStep/next_beam_probs/range/start',\n",
       " 'decode_2/decoder/while/BeamSearchDecoderStep/next_beam_probs/range/delta',\n",
       " 'decode_2/decoder/while/BeamSearchDecoderStep/next_beam_probs/range',\n",
       " 'decode_2/decoder/while/BeamSearchDecoderStep/next_beam_probs/mul/y',\n",
       " 'decode_2/decoder/while/BeamSearchDecoderStep/next_beam_probs/mul',\n",
       " 'decode_2/decoder/while/BeamSearchDecoderStep/next_beam_probs/ExpandDims/dim',\n",
       " 'decode_2/decoder/while/BeamSearchDecoderStep/next_beam_probs/ExpandDims',\n",
       " 'decode_2/decoder/while/BeamSearchDecoderStep/next_beam_probs/add',\n",
       " 'decode_2/decoder/while/BeamSearchDecoderStep/next_beam_probs/Reshape/shape',\n",
       " 'decode_2/decoder/while/BeamSearchDecoderStep/next_beam_probs/Reshape',\n",
       " 'decode_2/decoder/while/BeamSearchDecoderStep/next_beam_probs/Reshape_1/shape',\n",
       " 'decode_2/decoder/while/BeamSearchDecoderStep/next_beam_probs/Reshape_1',\n",
       " 'decode_2/decoder/while/BeamSearchDecoderStep/next_beam_probs/GatherV2/axis',\n",
       " 'decode_2/decoder/while/BeamSearchDecoderStep/next_beam_probs/GatherV2',\n",
       " 'decode_2/decoder/while/BeamSearchDecoderStep/next_beam_probs/Shape',\n",
       " 'decode_2/decoder/while/BeamSearchDecoderStep/next_beam_probs/strided_slice/stack',\n",
       " 'decode_2/decoder/while/BeamSearchDecoderStep/next_beam_probs/strided_slice/stack_1',\n",
       " 'decode_2/decoder/while/BeamSearchDecoderStep/next_beam_probs/strided_slice/stack_2',\n",
       " 'decode_2/decoder/while/BeamSearchDecoderStep/next_beam_probs/strided_slice',\n",
       " 'decode_2/decoder/while/BeamSearchDecoderStep/next_beam_probs/output',\n",
       " 'decode_2/decoder/while/BeamSearchDecoderStep/next_beam_word_ids/y',\n",
       " 'decode_2/decoder/while/BeamSearchDecoderStep/next_beam_word_ids',\n",
       " 'decode_2/decoder/while/BeamSearchDecoderStep/next_beam_parent_ids',\n",
       " 'decode_2/decoder/while/BeamSearchDecoderStep/next_beam_finished',\n",
       " 'decode_2/beam']"
      ]
     },
     "execution_count": 27,
     "metadata": {},
     "output_type": "execute_result"
    }
   ],
   "source": [
    "strings = ','.join(\n",
    "    [\n",
    "        n.name\n",
    "        for n in tf.compat.v1.get_default_graph().as_graph_def().node\n",
    "        if ('Variable' in n.op\n",
    "        or 'Placeholder' in n.name\n",
    "        or 'greedy' in n.name\n",
    "        or 'beam' in n.name\n",
    "        or 'alphas' in n.name)\n",
    "        and 'Adam' not in n.name\n",
    "        and 'beta' not in n.name\n",
    "        and 'OptimizeLoss' not in n.name\n",
    "        and 'Global_Step' not in n.name\n",
    "    ]\n",
    ")\n",
    "strings.split(',')"
   ]
  },
  {
   "cell_type": "code",
   "execution_count": 28,
   "id": "8979ffe4",
   "metadata": {},
   "outputs": [],
   "source": [
    "def freeze_graph(model_dir, output_node_names):\n",
    "\n",
    "    if not tf.compat.v1.io.gfile.exists(model_dir):\n",
    "        raise AssertionError(\n",
    "            \"Export directory doesn't exists. Please specify an export \"\n",
    "            \"directory: %s\" % model_dir)\n",
    "\n",
    "    checkpoint = tf.compat.v1.train.get_checkpoint_state(model_dir)\n",
    "    input_checkpoint = checkpoint.model_checkpoint_path\n",
    "    \n",
    "    absolute_model_dir = \"/\".join(input_checkpoint.split('/')[:-1])\n",
    "    output_graph = absolute_model_dir + \"/frozen_model.pb\"\n",
    "    clear_devices = True\n",
    "    with tf.compat.v1.Session(graph=tf.compat.v1.Graph()) as sess:\n",
    "        saver = tf.compat.v1.train.import_meta_graph(input_checkpoint + '.meta', clear_devices=clear_devices)\n",
    "        saver.restore(sess, input_checkpoint)\n",
    "        output_graph_def = tf.compat.v1.graph_util.convert_variables_to_constants(\n",
    "            sess,\n",
    "            tf.compat.v1.get_default_graph().as_graph_def(),\n",
    "            output_node_names.split(\",\")\n",
    "        ) \n",
    "        with tf.compat.v1.gfile.GFile(output_graph, \"wb\") as f:\n",
    "            f.write(output_graph_def.SerializeToString())\n",
    "        print(\"%d ops in the final graph.\" % len(output_graph_def.node))"
   ]
  },
  {
   "cell_type": "code",
   "execution_count": 29,
   "id": "cb9a7f56",
   "metadata": {},
   "outputs": [
    {
     "name": "stdout",
     "output_type": "stream",
     "text": [
      "WARNING:tensorflow:From /tmp/ipykernel_16514/1070649395.py:3: The name tf.compat.v1.io.gfile.exists is deprecated. Please use tf.compat.v1.io.gfile.exists instead.\n",
      "\n",
      "WARNING:tensorflow:From /tmp/ipykernel_16514/1070649395.py:14: The name tf.compat.v1.Session is deprecated. Please use tf.compat.v1.Session instead.\n",
      "\n",
      "WARNING:tensorflow:From /tmp/ipykernel_16514/1070649395.py:15: The name tf.compat.v1.train.import_meta_graph is deprecated. Please use tf.compat.v1.train.import_meta_graph instead.\n",
      "\n"
     ]
    },
    {
     "name": "stderr",
     "output_type": "stream",
     "text": [
      "2022-07-08 18:57:42.719460: I tensorflow/stream_executor/cuda/cuda_gpu_executor.cc:1082] successful NUMA node read from SysFS had negative value (-1), but there must be at least one NUMA node, so returning NUMA node zero\n",
      "2022-07-08 18:57:42.719753: I tensorflow/core/common_runtime/gpu/gpu_device.cc:1666] Found device 0 with properties: \n",
      "name: NVIDIA GeForce RTX 3090 Ti major: 8 minor: 6 memoryClockRate(GHz): 1.86\n",
      "pciBusID: 0000:01:00.0\n",
      "2022-07-08 18:57:42.719786: I tensorflow/stream_executor/platform/default/dso_loader.cc:49] Successfully opened dynamic library libcudart.so.11.0\n",
      "2022-07-08 18:57:42.719798: I tensorflow/stream_executor/platform/default/dso_loader.cc:49] Successfully opened dynamic library libcublas.so.11\n",
      "2022-07-08 18:57:42.719804: I tensorflow/stream_executor/platform/default/dso_loader.cc:49] Successfully opened dynamic library libcufft.so.10\n",
      "2022-07-08 18:57:42.719809: I tensorflow/stream_executor/platform/default/dso_loader.cc:49] Successfully opened dynamic library libcurand.so.10\n",
      "2022-07-08 18:57:42.719815: I tensorflow/stream_executor/platform/default/dso_loader.cc:49] Successfully opened dynamic library libcusolver.so.11\n",
      "2022-07-08 18:57:42.719827: I tensorflow/stream_executor/platform/default/dso_loader.cc:49] Successfully opened dynamic library libcusparse.so.11\n",
      "2022-07-08 18:57:42.719832: I tensorflow/stream_executor/platform/default/dso_loader.cc:49] Successfully opened dynamic library libcudnn.so.8\n",
      "2022-07-08 18:57:42.719865: I tensorflow/stream_executor/cuda/cuda_gpu_executor.cc:1082] successful NUMA node read from SysFS had negative value (-1), but there must be at least one NUMA node, so returning NUMA node zero\n",
      "2022-07-08 18:57:42.720124: I tensorflow/stream_executor/cuda/cuda_gpu_executor.cc:1082] successful NUMA node read from SysFS had negative value (-1), but there must be at least one NUMA node, so returning NUMA node zero\n",
      "2022-07-08 18:57:42.720357: I tensorflow/core/common_runtime/gpu/gpu_device.cc:1794] Adding visible gpu devices: 0\n",
      "2022-07-08 18:57:42.720829: I tensorflow/stream_executor/cuda/cuda_gpu_executor.cc:1082] successful NUMA node read from SysFS had negative value (-1), but there must be at least one NUMA node, so returning NUMA node zero\n",
      "2022-07-08 18:57:42.721088: I tensorflow/core/common_runtime/gpu/gpu_device.cc:1666] Found device 0 with properties: \n",
      "name: NVIDIA GeForce RTX 3090 Ti major: 8 minor: 6 memoryClockRate(GHz): 1.86\n",
      "pciBusID: 0000:01:00.0\n",
      "2022-07-08 18:57:42.721103: I tensorflow/stream_executor/platform/default/dso_loader.cc:49] Successfully opened dynamic library libcudart.so.11.0\n",
      "2022-07-08 18:57:42.721113: I tensorflow/stream_executor/platform/default/dso_loader.cc:49] Successfully opened dynamic library libcublas.so.11\n",
      "2022-07-08 18:57:42.721120: I tensorflow/stream_executor/platform/default/dso_loader.cc:49] Successfully opened dynamic library libcufft.so.10\n",
      "2022-07-08 18:57:42.721128: I tensorflow/stream_executor/platform/default/dso_loader.cc:49] Successfully opened dynamic library libcurand.so.10\n",
      "2022-07-08 18:57:42.721136: I tensorflow/stream_executor/platform/default/dso_loader.cc:49] Successfully opened dynamic library libcusolver.so.11\n",
      "2022-07-08 18:57:42.721144: I tensorflow/stream_executor/platform/default/dso_loader.cc:49] Successfully opened dynamic library libcusparse.so.11\n",
      "2022-07-08 18:57:42.721151: I tensorflow/stream_executor/platform/default/dso_loader.cc:49] Successfully opened dynamic library libcudnn.so.8\n",
      "2022-07-08 18:57:42.721179: I tensorflow/stream_executor/cuda/cuda_gpu_executor.cc:1082] successful NUMA node read from SysFS had negative value (-1), but there must be at least one NUMA node, so returning NUMA node zero\n",
      "2022-07-08 18:57:42.721472: I tensorflow/stream_executor/cuda/cuda_gpu_executor.cc:1082] successful NUMA node read from SysFS had negative value (-1), but there must be at least one NUMA node, so returning NUMA node zero\n",
      "2022-07-08 18:57:42.721723: I tensorflow/core/common_runtime/gpu/gpu_device.cc:1794] Adding visible gpu devices: 0\n",
      "2022-07-08 18:57:42.721743: I tensorflow/core/common_runtime/gpu/gpu_device.cc:1206] Device interconnect StreamExecutor with strength 1 edge matrix:\n",
      "2022-07-08 18:57:42.721748: I tensorflow/core/common_runtime/gpu/gpu_device.cc:1212]      0 \n",
      "2022-07-08 18:57:42.721752: I tensorflow/core/common_runtime/gpu/gpu_device.cc:1225] 0:   N \n",
      "2022-07-08 18:57:42.721798: I tensorflow/stream_executor/cuda/cuda_gpu_executor.cc:1082] successful NUMA node read from SysFS had negative value (-1), but there must be at least one NUMA node, so returning NUMA node zero\n",
      "2022-07-08 18:57:42.722071: I tensorflow/stream_executor/cuda/cuda_gpu_executor.cc:1082] successful NUMA node read from SysFS had negative value (-1), but there must be at least one NUMA node, so returning NUMA node zero\n",
      "2022-07-08 18:57:42.722323: I tensorflow/core/common_runtime/gpu/gpu_device.cc:1351] Created TensorFlow device (/job:localhost/replica:0/task:0/device:GPU:0 with 4338 MB memory) -> physical GPU (device: 0, name: NVIDIA GeForce RTX 3090 Ti, pci bus id: 0000:01:00.0, compute capability: 8.6)\n"
     ]
    },
    {
     "name": "stdout",
     "output_type": "stream",
     "text": [
      "INFO:tensorflow:Restoring parameters from lstm-bahdanau-jawi-rumi/model.ckpt\n",
      "INFO:tensorflow:Froze 16 variables.\n",
      "INFO:tensorflow:Converted 16 variables to const ops.\n",
      "WARNING:tensorflow:From /tmp/ipykernel_16514/1070649395.py:22: The name tf.compat.v1.gfile.GFile is deprecated. Please use tf.compat.v1.io.gfile.GFile instead.\n",
      "\n",
      "1649 ops in the final graph.\n"
     ]
    }
   ],
   "source": [
    "freeze_graph(\"lstm-bahdanau-jawi-rumi\", strings)"
   ]
  },
  {
   "cell_type": "code",
   "execution_count": 30,
   "id": "5e33664c",
   "metadata": {},
   "outputs": [],
   "source": [
    "def load_graph(frozen_graph_filename):\n",
    "    with tf.compat.v1.gfile.GFile(frozen_graph_filename, \"rb\") as f:\n",
    "        graph_def = tf.compat.v1.GraphDef()\n",
    "        graph_def.ParseFromString(f.read())\n",
    "    with tf.compat.v1.Graph().as_default() as graph:\n",
    "        tf.compat.v1.import_graph_def(graph_def)\n",
    "    return graph"
   ]
  },
  {
   "cell_type": "code",
   "execution_count": 31,
   "id": "26b0b38b",
   "metadata": {},
   "outputs": [
    {
     "name": "stdout",
     "output_type": "stream",
     "text": [
      "WARNING:tensorflow:From /tmp/ipykernel_16514/3576390908.py:3: The name tf.compat.v1.GraphDef is deprecated. Please use tf.compat.v1.GraphDef instead.\n",
      "\n"
     ]
    }
   ],
   "source": [
    "g=load_graph('lstm-bahdanau-jawi-rumi/frozen_model.pb')"
   ]
  },
  {
   "cell_type": "code",
   "execution_count": 32,
   "id": "74a3586b",
   "metadata": {},
   "outputs": [],
   "source": [
    "x = g.get_tensor_by_name('import/Placeholder:0')\n",
    "i_greedy = g.get_tensor_by_name('import/decode_1/greedy:0')\n",
    "i_beam = g.get_tensor_by_name('import/decode_2/beam:0')"
   ]
  },
  {
   "cell_type": "code",
   "execution_count": 33,
   "id": "c0349ead",
   "metadata": {
    "scrolled": true
   },
   "outputs": [
    {
     "name": "stderr",
     "output_type": "stream",
     "text": [
      "2022-07-08 18:57:45.374996: I tensorflow/stream_executor/cuda/cuda_gpu_executor.cc:1082] successful NUMA node read from SysFS had negative value (-1), but there must be at least one NUMA node, so returning NUMA node zero\n",
      "2022-07-08 18:57:45.375559: I tensorflow/core/common_runtime/gpu/gpu_device.cc:1666] Found device 0 with properties: \n",
      "name: NVIDIA GeForce RTX 3090 Ti major: 8 minor: 6 memoryClockRate(GHz): 1.86\n",
      "pciBusID: 0000:01:00.0\n",
      "2022-07-08 18:57:45.375588: I tensorflow/stream_executor/platform/default/dso_loader.cc:49] Successfully opened dynamic library libcudart.so.11.0\n",
      "2022-07-08 18:57:45.375602: I tensorflow/stream_executor/platform/default/dso_loader.cc:49] Successfully opened dynamic library libcublas.so.11\n",
      "2022-07-08 18:57:45.375610: I tensorflow/stream_executor/platform/default/dso_loader.cc:49] Successfully opened dynamic library libcufft.so.10\n",
      "2022-07-08 18:57:45.375619: I tensorflow/stream_executor/platform/default/dso_loader.cc:49] Successfully opened dynamic library libcurand.so.10\n",
      "2022-07-08 18:57:45.375628: I tensorflow/stream_executor/platform/default/dso_loader.cc:49] Successfully opened dynamic library libcusolver.so.11\n",
      "2022-07-08 18:57:45.375637: I tensorflow/stream_executor/platform/default/dso_loader.cc:49] Successfully opened dynamic library libcusparse.so.11\n",
      "2022-07-08 18:57:45.375647: I tensorflow/stream_executor/platform/default/dso_loader.cc:49] Successfully opened dynamic library libcudnn.so.8\n",
      "2022-07-08 18:57:45.375701: I tensorflow/stream_executor/cuda/cuda_gpu_executor.cc:1082] successful NUMA node read from SysFS had negative value (-1), but there must be at least one NUMA node, so returning NUMA node zero\n",
      "2022-07-08 18:57:45.376003: I tensorflow/stream_executor/cuda/cuda_gpu_executor.cc:1082] successful NUMA node read from SysFS had negative value (-1), but there must be at least one NUMA node, so returning NUMA node zero\n",
      "2022-07-08 18:57:45.376263: I tensorflow/core/common_runtime/gpu/gpu_device.cc:1794] Adding visible gpu devices: 0\n",
      "2022-07-08 18:57:45.376283: I tensorflow/core/common_runtime/gpu/gpu_device.cc:1206] Device interconnect StreamExecutor with strength 1 edge matrix:\n",
      "2022-07-08 18:57:45.376287: I tensorflow/core/common_runtime/gpu/gpu_device.cc:1212]      0 \n",
      "2022-07-08 18:57:45.376291: I tensorflow/core/common_runtime/gpu/gpu_device.cc:1225] 0:   N \n",
      "2022-07-08 18:57:45.376348: I tensorflow/stream_executor/cuda/cuda_gpu_executor.cc:1082] successful NUMA node read from SysFS had negative value (-1), but there must be at least one NUMA node, so returning NUMA node zero\n",
      "2022-07-08 18:57:45.376637: I tensorflow/stream_executor/cuda/cuda_gpu_executor.cc:1082] successful NUMA node read from SysFS had negative value (-1), but there must be at least one NUMA node, so returning NUMA node zero\n",
      "2022-07-08 18:57:45.376905: I tensorflow/core/common_runtime/gpu/gpu_device.cc:1351] Created TensorFlow device (/job:localhost/replica:0/task:0/device:GPU:0 with 4338 MB memory) -> physical GPU (device: 0, name: NVIDIA GeForce RTX 3090 Ti, pci bus id: 0000:01:00.0, compute capability: 8.6)\n",
      "/home/ubuntu/tf-nvidia/lib/python3.8/site-packages/tensorflow_core/python/client/session.py:1750: UserWarning: An interactive session is already active. This can cause out-of-memory errors in some cases. You must explicitly call `InteractiveSession.close()` to release resources held by the other session(s).\n",
      "  warnings.warn('An interactive session is already active. This can '\n"
     ]
    }
   ],
   "source": [
    "test_sess = tf.compat.v1.InteractiveSession(graph=g)"
   ]
  },
  {
   "cell_type": "code",
   "execution_count": 35,
   "id": "c71ddbd9",
   "metadata": {},
   "outputs": [],
   "source": [
    "from tensorflow.tools.graph_transforms import TransformGraph\n",
    "from tensorflow.contrib.seq2seq.python.ops import beam_search_ops"
   ]
  },
  {
   "cell_type": "code",
   "execution_count": 36,
   "id": "6ad35b6f",
   "metadata": {},
   "outputs": [
    {
     "name": "stderr",
     "output_type": "stream",
     "text": [
      "2022-07-08 18:58:01.830334: I tensorflow/tools/graph_transforms/transform_graph.cc:318] Applying add_default_attributes\n",
      "2022-07-08 18:58:01.838605: I tensorflow/tools/graph_transforms/transform_graph.cc:318] Applying remove_nodes\n",
      "2022-07-08 18:58:01.844532: I tensorflow/tools/graph_transforms/remove_nodes.cc:78] Skipping replacement for decode_1/greedy\n",
      "2022-07-08 18:58:01.845392: I tensorflow/tools/graph_transforms/remove_nodes.cc:78] Skipping replacement for decode_2/beam\n",
      "2022-07-08 18:58:01.853526: I tensorflow/tools/graph_transforms/remove_nodes.cc:78] Skipping replacement for decode_1/greedy\n",
      "2022-07-08 18:58:01.854224: I tensorflow/tools/graph_transforms/remove_nodes.cc:78] Skipping replacement for decode_2/beam\n",
      "2022-07-08 18:58:01.861051: I tensorflow/tools/graph_transforms/remove_nodes.cc:78] Skipping replacement for decode_1/greedy\n",
      "2022-07-08 18:58:01.861621: I tensorflow/tools/graph_transforms/remove_nodes.cc:78] Skipping replacement for decode_2/beam\n",
      "2022-07-08 18:58:01.881365: I tensorflow/tools/graph_transforms/transform_graph.cc:318] Applying fold_batch_norms\n",
      "2022-07-08 18:58:01.890558: I tensorflow/tools/graph_transforms/transform_graph.cc:318] Applying fold_old_batch_norms\n",
      "2022-07-08 18:58:01.913546: I tensorflow/tools/graph_transforms/transform_graph.cc:318] Applying quantize_weights\n",
      "2022-07-08 18:58:01.984390: I tensorflow/tools/graph_transforms/transform_graph.cc:318] Applying strip_unused_nodes\n",
      "2022-07-08 18:58:01.990776: I tensorflow/tools/graph_transforms/transform_graph.cc:318] Applying sort_by_execution_order\n"
     ]
    }
   ],
   "source": [
    "transforms = ['add_default_attributes',\n",
    "             'remove_nodes(op=Identity, op=CheckNumerics, op=Dropout)',\n",
    "             'fold_batch_norms',\n",
    "             'fold_old_batch_norms',\n",
    "             'quantize_weights(fallback_min=-10, fallback_max=10)',\n",
    "             'strip_unused_nodes',\n",
    "             'sort_by_execution_order']\n",
    "\n",
    "pb = 'lstm-bahdanau-jawi-rumi/frozen_model.pb'\n",
    "input_graph_def = tf.compat.v1.GraphDef()\n",
    "with tf.compat.v1.gfile.FastGFile(pb, 'rb') as f:\n",
    "    input_graph_def.ParseFromString(f.read())\n",
    "\n",
    "transformed_graph_def = TransformGraph(input_graph_def, \n",
    "                                       ['Placeholder'],\n",
    "                                       ['decode_1/greedy', 'decode_2/beam'], transforms)\n",
    "\n",
    "with tf.compat.v1.gfile.GFile(f'{pb}.quantized', 'wb') as f:\n",
    "    f.write(transformed_graph_def.SerializeToString())"
   ]
  },
  {
   "cell_type": "code",
   "execution_count": 37,
   "id": "8211aef4",
   "metadata": {},
   "outputs": [
    {
     "name": "stdout",
     "output_type": "stream",
     "text": [
      "lstm-bahdanau-jawi-rumi/\r\n",
      "lstm-bahdanau-jawi-rumi/checkpoint\r\n",
      "lstm-bahdanau-jawi-rumi/frozen_model.pb.quantized\r\n",
      "lstm-bahdanau-jawi-rumi/model.ckpt.index\r\n",
      "lstm-bahdanau-jawi-rumi/model.ckpt.data-00000-of-00001\r\n",
      "lstm-bahdanau-jawi-rumi/model.ckpt.meta\r\n",
      "lstm-bahdanau-jawi-rumi/frozen_model.pb\r\n"
     ]
    }
   ],
   "source": [
    "!tar -cvf lstm-bahdanau-jawi-rumi.tar lstm-bahdanau-jawi-rumi"
   ]
  },
  {
   "cell_type": "code",
   "execution_count": 38,
   "id": "78630e48",
   "metadata": {},
   "outputs": [
    {
     "name": "stderr",
     "output_type": "stream",
     "text": [
      "/home/ubuntu/tf-nvidia/lib/python3.8/site-packages/tqdm/auto.py:22: TqdmWarning: IProgress not found. Please update jupyter and ipywidgets. See https://ipywidgets.readthedocs.io/en/stable/user_install.html\n",
      "  from .autonotebook import tqdm as notebook_tqdm\n"
     ]
    }
   ],
   "source": [
    "from malaya_boilerplate.huggingface import upload_dict"
   ]
  },
  {
   "cell_type": "code",
   "execution_count": 39,
   "id": "0c9a651c",
   "metadata": {},
   "outputs": [
    {
     "name": "stderr",
     "output_type": "stream",
     "text": [
      "/home/ubuntu/tf-nvidia/lib/python3.8/site-packages/huggingface_hub/hf_api.py:79: FutureWarning: `name` and `organization` input arguments are deprecated and will be removed in v0.8. Pass `repo_id` instead.\n",
      "  warnings.warn(\n",
      "409 Client Error: Conflict for url: https://huggingface.co/api/repos/create - You already created this model repo\n"
     ]
    }
   ],
   "source": [
    "files_mapping = {'lstm-bahdanau-jawi-rumi/frozen_model.pb': 'model.pb'}\n",
    "upload_dict(model = 'jawi-rumi-lstm-bahdanau', files_mapping = files_mapping)"
   ]
  },
  {
   "cell_type": "code",
   "execution_count": 40,
   "id": "8bfb6846",
   "metadata": {},
   "outputs": [
    {
     "name": "stderr",
     "output_type": "stream",
     "text": [
      "409 Client Error: Conflict for url: https://huggingface.co/api/repos/create - You already created this model repo\n"
     ]
    }
   ],
   "source": [
    "files_mapping = {'lstm-bahdanau-jawi-rumi/frozen_model.pb.quantized': 'model.pb'}\n",
    "upload_dict(model = 'jawi-rumi-lstm-bahdanau-quantized', files_mapping = files_mapping)"
   ]
  },
  {
   "cell_type": "code",
   "execution_count": 41,
   "id": "75011aa3",
   "metadata": {},
   "outputs": [
    {
     "name": "stderr",
     "output_type": "stream",
     "text": [
      "409 Client Error: Conflict for url: https://huggingface.co/api/repos/create - You already created this model repo\n"
     ]
    }
   ],
   "source": [
    "files_mapping = {'lstm-bahdanau-jawi-rumi.tar': 'lstm-bahdanau-jawi-rumi.tar'}\n",
    "upload_dict(model = 'pretrained-jawi-rumi', files_mapping = files_mapping)"
   ]
  },
  {
   "cell_type": "code",
   "execution_count": 34,
   "id": "a6923bd1",
   "metadata": {},
   "outputs": [],
   "source": [
    "# !~/tf-nvidia/bin/pip3 install python-Levenshtein\n",
    "\n",
    "def calculate_cer(actual, hyp):\n",
    "    \"\"\"\n",
    "    Calculate CER using `python-Levenshtein`.\n",
    "    \"\"\"\n",
    "    import Levenshtein as Lev\n",
    "\n",
    "    actual = actual.replace(' ', '')\n",
    "    hyp = hyp.replace(' ', '')\n",
    "    return Lev.distance(actual, hyp) / len(actual)\n",
    "\n",
    "\n",
    "def calculate_wer(actual, hyp):\n",
    "    \"\"\"\n",
    "    Calculate WER using `python-Levenshtein`.\n",
    "    \"\"\"\n",
    "    import Levenshtein as Lev\n",
    "\n",
    "    b = set(actual.split() + hyp.split())\n",
    "    word2char = dict(zip(b, range(len(b))))\n",
    "\n",
    "    w1 = [chr(word2char[w]) for w in actual.split()]\n",
    "    w2 = [chr(word2char[w]) for w in hyp.split()]\n",
    "\n",
    "    return Lev.distance(''.join(w1), ''.join(w2)) / len(actual.split())\n",
    "\n",
    "def decode(ids):\n",
    "    return ''.join([rev_left_dict[i] for i in ids if i > 3])"
   ]
  },
  {
   "cell_type": "code",
   "execution_count": 31,
   "id": "61fae6e6",
   "metadata": {},
   "outputs": [],
   "source": [
    "i = 0\n",
    "index = 10\n",
    "batch_x = [[right_dict[c] for c in s] + [1] for s in test_X[i: index]]\n",
    "batch_y = [[left_dict[c] for c in s] + [1] for s in test_Y[i: index]]\n",
    "batch_x, _ = pad_sentence_batch(batch_x, PAD)\n",
    "batch_y, _ = pad_sentence_batch(batch_y, PAD)\n",
    "feed = {model.X: batch_x,\n",
    "        model.Y: batch_y,}\n",
    "greedy, beam = sess.run([model.greedy, model.beam], feed_dict = feed)"
   ]
  },
  {
   "cell_type": "code",
   "execution_count": 32,
   "id": "df4e0df6",
   "metadata": {},
   "outputs": [
    {
     "data": {
      "text/plain": [
       "(0.2533333333333333, 0.03884615384615384)"
      ]
     },
     "execution_count": 32,
     "metadata": {},
     "output_type": "execute_result"
    }
   ],
   "source": [
    "wer, cer = [], []\n",
    "for k in range(len(batch_x)):\n",
    "    d_left = decode(batch_y[k])\n",
    "    d_right = decode(greedy[k])\n",
    "    wer.append(calculate_wer(d_left, d_right))\n",
    "    cer.append(calculate_cer(d_left, d_right))\n",
    "    \n",
    "np.mean(wer), np.mean(cer)"
   ]
  },
  {
   "cell_type": "code",
   "execution_count": 35,
   "id": "4222bad6",
   "metadata": {},
   "outputs": [
    {
     "name": "stderr",
     "output_type": "stream",
     "text": [
      "100%|████████████████████████████████████████████████████████████████████████████████████████████| 1730/1730 [22:29<00:00,  1.28it/s]\n"
     ]
    }
   ],
   "source": [
    "wer, cer = [], []\n",
    "for i in tqdm.tqdm(range(0, len(test_X), batch_size)):\n",
    "    index = min(i + batch_size, len(test_X))\n",
    "    batch_x = [[right_dict[c] for c in s] + [1] for s in test_X[i: index]]\n",
    "    batch_y = [[left_dict[c] for c in s] + [1] for s in test_Y[i: index]]\n",
    "    batch_x, _ = pad_sentence_batch(batch_x, PAD)\n",
    "    batch_y, _ = pad_sentence_batch(batch_y, PAD)\n",
    "    feed = {model.X: batch_x,\n",
    "            model.Y: batch_y,}\n",
    "    greedy, beam = sess.run([model.greedy, model.beam], feed_dict = feed)\n",
    "    for k in range(len(batch_x)):\n",
    "        d_left = decode(batch_y[k])\n",
    "        d_right = decode(greedy[k])\n",
    "        wer.append(calculate_wer(d_left, d_right))\n",
    "        cer.append(calculate_cer(d_left, d_right))\n"
   ]
  },
  {
   "cell_type": "code",
   "execution_count": 36,
   "id": "88d1a085",
   "metadata": {},
   "outputs": [
    {
     "data": {
      "text/plain": [
       "(0.28035537906124763, 0.07554890502189067)"
      ]
     },
     "execution_count": 36,
     "metadata": {},
     "output_type": "execute_result"
    }
   ],
   "source": [
    "np.mean(wer), np.mean(cer)"
   ]
  },
  {
   "cell_type": "code",
   "execution_count": 37,
   "id": "de4dd853",
   "metadata": {},
   "outputs": [
    {
     "data": {
      "text/plain": [
       "('SMKDA', 'SMKDA')"
      ]
     },
     "execution_count": 37,
     "metadata": {},
     "output_type": "execute_result"
    }
   ],
   "source": [
    "d_left, d_right"
   ]
  },
  {
   "cell_type": "code",
   "execution_count": 38,
   "id": "64c6e695",
   "metadata": {},
   "outputs": [
    {
     "data": {
      "text/plain": [
       "0.0"
      ]
     },
     "execution_count": 38,
     "metadata": {},
     "output_type": "execute_result"
    }
   ],
   "source": [
    "calculate_wer(d_left, d_right)"
   ]
  },
  {
   "cell_type": "code",
   "execution_count": 39,
   "id": "fb931906",
   "metadata": {},
   "outputs": [
    {
     "data": {
      "text/plain": [
       "0.5"
      ]
     },
     "execution_count": 39,
     "metadata": {},
     "output_type": "execute_result"
    }
   ],
   "source": [
    "calculate_wer('saya suka', 'saya tak suka')"
   ]
  },
  {
   "cell_type": "code",
   "execution_count": null,
   "id": "d53b8c80",
   "metadata": {},
   "outputs": [],
   "source": []
  }
 ],
 "metadata": {
  "kernelspec": {
   "display_name": "tf1",
   "language": "python",
   "name": "tf1"
  },
  "language_info": {
   "codemirror_mode": {
    "name": "ipython",
    "version": 3
   },
   "file_extension": ".py",
   "mimetype": "text/x-python",
   "name": "python",
   "nbconvert_exporter": "python",
   "pygments_lexer": "ipython3",
   "version": "3.8.10"
  }
 },
 "nbformat": 4,
 "nbformat_minor": 5
}
