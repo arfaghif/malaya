{
 "cells": [
  {
   "cell_type": "code",
   "execution_count": 1,
   "id": "a3844223",
   "metadata": {},
   "outputs": [],
   "source": [
    "import os\n",
    "os.environ['CUDA_VISIBLE_DEVICES'] = ''"
   ]
  },
  {
   "cell_type": "code",
   "execution_count": 14,
   "id": "fade1c44",
   "metadata": {},
   "outputs": [],
   "source": [
    "import json\n",
    "\n",
    "files = ['news-windows.json', 'wikipedia-1word.json', 'wikipedia-windows.json']\n",
    "left, right = [], []\n",
    "for f in files:\n",
    "    with open(f) as fopen:\n",
    "        data = json.load(fopen)\n",
    "        for d in data:\n",
    "            if len(d) == 2:\n",
    "                if len(d[0]) and len(d[1]):\n",
    "                    left.append(d[0])\n",
    "                    right.append(d[1])"
   ]
  },
  {
   "cell_type": "code",
   "execution_count": 15,
   "id": "32da9c19",
   "metadata": {},
   "outputs": [
    {
     "data": {
      "text/plain": [
       "[0, 1, 2, 3]"
      ]
     },
     "execution_count": 15,
     "metadata": {},
     "output_type": "execute_result"
    }
   ],
   "source": [
    "PAD = 0\n",
    "EOS = 1\n",
    "UNK = 2\n",
    "GO = 3\n",
    "[PAD, EOS, UNK, GO]"
   ]
  },
  {
   "cell_type": "code",
   "execution_count": 18,
   "id": "5ed78d87",
   "metadata": {},
   "outputs": [],
   "source": [
    "left_dict =  [PAD, EOS, UNK, GO] + sorted(set(list(''.join(left))) | set(list(''.join(right))))\n",
    "left_dict = {c: no for no, c in enumerate(left_dict)}\n",
    "rev_left_dict = {v: k for k, v in left_dict.items()}"
   ]
  },
  {
   "cell_type": "code",
   "execution_count": 25,
   "id": "2f273fdc",
   "metadata": {},
   "outputs": [
    {
     "data": {
      "text/plain": [
       "{0: 0,\n",
       " 1: 1,\n",
       " 2: 2,\n",
       " 3: 3,\n",
       " ' ': 4,\n",
       " '!': 5,\n",
       " '\"': 6,\n",
       " \"'\": 7,\n",
       " '(': 8,\n",
       " ')': 9,\n",
       " '+': 10,\n",
       " ',': 11,\n",
       " '-': 12,\n",
       " '.': 13,\n",
       " '0': 14,\n",
       " '1': 15,\n",
       " '2': 16,\n",
       " '3': 17,\n",
       " '4': 18,\n",
       " '5': 19,\n",
       " '6': 20,\n",
       " '7': 21,\n",
       " '8': 22,\n",
       " '9': 23,\n",
       " ':': 24,\n",
       " ';': 25,\n",
       " '?': 26,\n",
       " 'A': 27,\n",
       " 'B': 28,\n",
       " 'C': 29,\n",
       " 'D': 30,\n",
       " 'E': 31,\n",
       " 'F': 32,\n",
       " 'G': 33,\n",
       " 'H': 34,\n",
       " 'I': 35,\n",
       " 'J': 36,\n",
       " 'K': 37,\n",
       " 'L': 38,\n",
       " 'M': 39,\n",
       " 'N': 40,\n",
       " 'O': 41,\n",
       " 'P': 42,\n",
       " 'Q': 43,\n",
       " 'R': 44,\n",
       " 'S': 45,\n",
       " 'T': 46,\n",
       " 'U': 47,\n",
       " 'V': 48,\n",
       " 'W': 49,\n",
       " 'X': 50,\n",
       " 'Y': 51,\n",
       " 'Z': 52,\n",
       " 'a': 53,\n",
       " 'b': 54,\n",
       " 'c': 55,\n",
       " 'd': 56,\n",
       " 'e': 57,\n",
       " 'f': 58,\n",
       " 'g': 59,\n",
       " 'h': 60,\n",
       " 'i': 61,\n",
       " 'j': 62,\n",
       " 'k': 63,\n",
       " 'l': 64,\n",
       " 'm': 65,\n",
       " 'n': 66,\n",
       " 'o': 67,\n",
       " 'p': 68,\n",
       " 'q': 69,\n",
       " 'r': 70,\n",
       " 's': 71,\n",
       " 't': 72,\n",
       " 'u': 73,\n",
       " 'v': 74,\n",
       " 'w': 75,\n",
       " 'x': 76,\n",
       " 'y': 77,\n",
       " 'z': 78,\n",
       " '،': 79,\n",
       " '؟': 80,\n",
       " 'ء': 81,\n",
       " 'آ': 82,\n",
       " 'أ': 83,\n",
       " 'ؤ': 84,\n",
       " 'إ': 85,\n",
       " 'ئ': 86,\n",
       " 'ا': 87,\n",
       " 'ب': 88,\n",
       " 'ة': 89,\n",
       " 'ت': 90,\n",
       " 'ث': 91,\n",
       " 'ج': 92,\n",
       " 'ح': 93,\n",
       " 'خ': 94,\n",
       " 'د': 95,\n",
       " 'ذ': 96,\n",
       " 'ر': 97,\n",
       " 'ز': 98,\n",
       " 'س': 99,\n",
       " 'ش': 100,\n",
       " 'ص': 101,\n",
       " 'ض': 102,\n",
       " 'ط': 103,\n",
       " 'ظ': 104,\n",
       " 'ع': 105,\n",
       " 'غ': 106,\n",
       " 'ف': 107,\n",
       " 'ق': 108,\n",
       " 'ك': 109,\n",
       " 'ل': 110,\n",
       " 'م': 111,\n",
       " 'ن': 112,\n",
       " 'ه': 113,\n",
       " 'و': 114,\n",
       " 'ى': 115,\n",
       " 'ي': 116,\n",
       " 'ّ': 117,\n",
       " 'ٓ': 118,\n",
       " '٠': 119,\n",
       " '١': 120,\n",
       " '٢': 121,\n",
       " '٣': 122,\n",
       " '٤': 123,\n",
       " '٥': 124,\n",
       " '٦': 125,\n",
       " '٧': 126,\n",
       " '٨': 127,\n",
       " '٩': 128,\n",
       " 'چ': 129,\n",
       " 'ڠ': 130,\n",
       " 'ڤ': 131,\n",
       " 'ڬ': 132,\n",
       " 'ڽ': 133,\n",
       " 'ۏ': 134,\n",
       " '﴾': 135,\n",
       " '﴿': 136}"
      ]
     },
     "execution_count": 25,
     "metadata": {},
     "output_type": "execute_result"
    }
   ],
   "source": [
    "left_dict"
   ]
  },
  {
   "cell_type": "code",
   "execution_count": 19,
   "id": "f90c5331",
   "metadata": {},
   "outputs": [],
   "source": [
    "class Encoder:\n",
    "    def __init__(self, dict):\n",
    "        self.dict = dict\n",
    "        self.vocab_size = len(self.dict)\n",
    "\n",
    "    def encode(self, s):\n",
    "        s = [left_dict[c] for c in s] + [1]\n",
    "        return s\n",
    "    \n",
    "    def decode(self, ids):\n",
    "        return ''.join([rev_left_dict[i] for i in ids if i > 3])\n",
    "\n",
    "\n",
    "encoder = Encoder(left_dict)"
   ]
  },
  {
   "cell_type": "code",
   "execution_count": 22,
   "id": "328fdfd0",
   "metadata": {},
   "outputs": [
    {
     "name": "stdout",
     "output_type": "stream",
     "text": [
      "CPU times: user 3 µs, sys: 0 ns, total: 3 µs\n",
      "Wall time: 4.05 µs\n"
     ]
    },
    {
     "data": {
      "text/plain": [
       "[71, 53, 77, 53, 1]"
      ]
     },
     "execution_count": 22,
     "metadata": {},
     "output_type": "execute_result"
    }
   ],
   "source": [
    "%%time\n",
    "\n",
    "encoder.encode('saya')"
   ]
  },
  {
   "cell_type": "code",
   "execution_count": 23,
   "id": "26507817",
   "metadata": {},
   "outputs": [
    {
     "data": {
      "text/plain": [
       "'saya'"
      ]
     },
     "execution_count": 23,
     "metadata": {},
     "output_type": "execute_result"
    }
   ],
   "source": [
    "encoder.decode([71, 53, 77, 53, 1])"
   ]
  },
  {
   "cell_type": "code",
   "execution_count": 11,
   "id": "ef7266b3",
   "metadata": {},
   "outputs": [
    {
     "name": "stdout",
     "output_type": "stream",
     "text": [
      "WARNING:tensorflow:Deprecation warnings have been disabled. Set TF_ENABLE_DEPRECATION_WARNINGS=1 to re-enable them.\n"
     ]
    },
    {
     "name": "stderr",
     "output_type": "stream",
     "text": [
      "2022-05-31 15:00:58.005135: I tensorflow/stream_executor/platform/default/dso_loader.cc:49] Successfully opened dynamic library libcudart.so.11.0\n"
     ]
    }
   ],
   "source": [
    "from tensor2tensor.data_generators import problem\n",
    "from tensor2tensor.data_generators import text_problems\n",
    "from tensor2tensor.utils import registry\n",
    "from tqdm import tqdm"
   ]
  },
  {
   "cell_type": "code",
   "execution_count": 24,
   "id": "6cf25fc8",
   "metadata": {},
   "outputs": [
    {
     "data": {
      "text/plain": [
       "137"
      ]
     },
     "execution_count": 24,
     "metadata": {},
     "output_type": "execute_result"
    }
   ],
   "source": [
    "len(left_dict)"
   ]
  },
  {
   "cell_type": "code",
   "execution_count": 26,
   "id": "e3b5d097",
   "metadata": {},
   "outputs": [
    {
     "data": {
      "text/plain": [
       "['كاوسن كڤولاوان سڤراتلي يڠ',\n",
       " 'ڤرليمين ڤرسكوتوان اونتوق',\n",
       " 'ڤنوبوهن تامن سينر',\n",
       " 'ڤريڠكت كمنترين، كاتڽ.',\n",
       " 'تله مندرم سباڽق تيڬ',\n",
       " 'هاري اين،',\n",
       " 'برتوليرنسي\"',\n",
       " 'مڠيسهكان',\n",
       " 'سوڠ-قواڠ',\n",
       " 'سيبير دڠن باجو بياسا.']"
      ]
     },
     "execution_count": 26,
     "metadata": {},
     "output_type": "execute_result"
    }
   ],
   "source": [
    "with open('jawi-set.json') as fopen:\n",
    "    jawi = json.load(fopen)\n",
    "jawi['train'][:10]"
   ]
  },
  {
   "cell_type": "code",
   "execution_count": 27,
   "id": "ebb932f5",
   "metadata": {},
   "outputs": [],
   "source": [
    "with open('rumi-set.json') as fopen:\n",
    "    rumi = json.load(fopen)"
   ]
  },
  {
   "cell_type": "code",
   "execution_count": 29,
   "id": "76cc612d",
   "metadata": {},
   "outputs": [],
   "source": [
    "train_X = rumi['train']\n",
    "train_Y = jawi['train']\n",
    "\n",
    "test_X = rumi['test']\n",
    "test_Y = jawi['test']"
   ]
  },
  {
   "cell_type": "code",
   "execution_count": 30,
   "id": "1e4fa939",
   "metadata": {},
   "outputs": [
    {
     "name": "stdout",
     "output_type": "stream",
     "text": [
      "WARNING:tensorflow:Deprecation warnings have been disabled. Set TF_ENABLE_DEPRECATION_WARNINGS=1 to re-enable them.\n"
     ]
    },
    {
     "name": "stderr",
     "output_type": "stream",
     "text": [
      "2022-06-01 13:20:10.686239: I tensorflow/stream_executor/platform/default/dso_loader.cc:49] Successfully opened dynamic library libcudart.so.11.0\n"
     ]
    }
   ],
   "source": [
    "from tensor2tensor.data_generators import problem\n",
    "from tensor2tensor.data_generators import text_problems\n",
    "from tensor2tensor.utils import registry\n",
    "from tqdm import tqdm"
   ]
  },
  {
   "cell_type": "code",
   "execution_count": 33,
   "id": "5fe362b2",
   "metadata": {},
   "outputs": [],
   "source": [
    "@registry.register_problem\n",
    "class Jawi(text_problems.Text2TextProblem):\n",
    "    @property\n",
    "    def approx_vocab_size(self):\n",
    "        return len(left_dict)\n",
    "\n",
    "    @property\n",
    "    def is_generate_per_split(self):\n",
    "        # generate_data will shard the data into TRAIN and EVAL for us.\n",
    "        return False\n",
    "\n",
    "    @property\n",
    "    def dataset_splits(self):\n",
    "        return [\n",
    "            {'split': problem.DatasetSplit.TRAIN, 'shards': 20},\n",
    "        ]\n",
    "\n",
    "    def generate_samples(self, data_dir, tmp_dir, dataset_split):\n",
    "\n",
    "        for i in tqdm(range(len(train_X))):\n",
    "            l = encoder.encode(train_X[i])\n",
    "            r = encoder.encode(train_Y[i])\n",
    "            yield {'inputs': l, 'targets': r}\n",
    "\n",
    "    def generate_encoded_samples(self, data_dir, tmp_dir, dataset_split):\n",
    "\n",
    "        generator = self.generate_samples(data_dir, tmp_dir, dataset_split)\n",
    "        for sample in generator:\n",
    "            yield sample"
   ]
  },
  {
   "cell_type": "code",
   "execution_count": 34,
   "id": "a0ca7c48",
   "metadata": {},
   "outputs": [],
   "source": [
    "import os\n",
    "import tensorflow as tf"
   ]
  },
  {
   "cell_type": "code",
   "execution_count": 35,
   "id": "e4746e6e",
   "metadata": {},
   "outputs": [],
   "source": [
    "os.system('rm -rf t2t-rumi-jawi/data')\n",
    "DATA_DIR = os.path.expanduser('t2t-rumi-jawi/data')\n",
    "TMP_DIR = os.path.expanduser('t2t-rumi-jawi/tmp')"
   ]
  },
  {
   "cell_type": "code",
   "execution_count": 36,
   "id": "17a80072",
   "metadata": {},
   "outputs": [
    {
     "name": "stdout",
     "output_type": "stream",
     "text": [
      "WARNING:tensorflow:From /tmp/ipykernel_378277/420477998.py:1: The name tf.io.gfile.mkdir is deprecated. Please use tf.io.gfile.makedirs instead.\n",
      "\n"
     ]
    },
    {
     "name": "stderr",
     "output_type": "stream",
     "text": [
      "/home/ubuntu/tf-nvidia/lib/python3.8/site-packages/tqdm/auto.py:22: TqdmWarning: IProgress not found. Please update jupyter and ipywidgets. See https://ipywidgets.readthedocs.io/en/stable/user_install.html\n",
      "  from .autonotebook import tqdm as notebook_tqdm\n",
      "  0%|          | 0/498106 [00:00<?, ?it/s]"
     ]
    },
    {
     "name": "stdout",
     "output_type": "stream",
     "text": [
      "INFO:tensorflow:Generating case 0.\n"
     ]
    },
    {
     "name": "stderr",
     "output_type": "stream",
     "text": [
      "INFO:tensorflow:Generating case 0.\n",
      " 20%|█▉        | 98205/498106 [00:02<00:08, 44725.60it/s]"
     ]
    },
    {
     "name": "stdout",
     "output_type": "stream",
     "text": [
      "INFO:tensorflow:Generating case 100000.\n"
     ]
    },
    {
     "name": "stderr",
     "output_type": "stream",
     "text": [
      "INFO:tensorflow:Generating case 100000.\n",
      " 40%|███▉      | 196924/498106 [00:04<00:06, 45045.99it/s]"
     ]
    },
    {
     "name": "stdout",
     "output_type": "stream",
     "text": [
      "INFO:tensorflow:Generating case 200000.\n"
     ]
    },
    {
     "name": "stderr",
     "output_type": "stream",
     "text": [
      "INFO:tensorflow:Generating case 200000.\n",
      " 59%|█████▉    | 295770/498106 [00:06<00:04, 44349.16it/s]"
     ]
    },
    {
     "name": "stdout",
     "output_type": "stream",
     "text": [
      "INFO:tensorflow:Generating case 300000.\n"
     ]
    },
    {
     "name": "stderr",
     "output_type": "stream",
     "text": [
      "INFO:tensorflow:Generating case 300000.\n",
      " 80%|████████  | 398686/498106 [00:08<00:02, 44295.16it/s]"
     ]
    },
    {
     "name": "stdout",
     "output_type": "stream",
     "text": [
      "INFO:tensorflow:Generating case 400000.\n"
     ]
    },
    {
     "name": "stderr",
     "output_type": "stream",
     "text": [
      "INFO:tensorflow:Generating case 400000.\n",
      "100%|██████████| 498106/498106 [00:11<00:00, 44533.40it/s]"
     ]
    },
    {
     "name": "stdout",
     "output_type": "stream",
     "text": [
      "INFO:tensorflow:Generated 498106 Examples\n"
     ]
    },
    {
     "name": "stderr",
     "output_type": "stream",
     "text": [
      "\n",
      "INFO:tensorflow:Generated 498106 Examples\n"
     ]
    },
    {
     "name": "stdout",
     "output_type": "stream",
     "text": [
      "INFO:tensorflow:Shuffling data...\n"
     ]
    },
    {
     "name": "stderr",
     "output_type": "stream",
     "text": [
      "INFO:tensorflow:Shuffling data...\n"
     ]
    },
    {
     "name": "stdout",
     "output_type": "stream",
     "text": [
      "INFO:tensorflow:Data shuffled.\n"
     ]
    },
    {
     "name": "stderr",
     "output_type": "stream",
     "text": [
      "INFO:tensorflow:Data shuffled.\n"
     ]
    }
   ],
   "source": [
    "tf.io.gfile.mkdir(DATA_DIR)\n",
    "tf.io.gfile.mkdir(TMP_DIR)\n",
    "\n",
    "from tensor2tensor.utils import registry\n",
    "from tensor2tensor import problems\n",
    "\n",
    "PROBLEM = 'jawi'\n",
    "t2t_problem = problems.problem(PROBLEM)\n",
    "t2t_problem.generate_data(DATA_DIR, TMP_DIR)"
   ]
  },
  {
   "cell_type": "code",
   "execution_count": 17,
   "id": "f773d115",
   "metadata": {},
   "outputs": [],
   "source": [
    "# tf.train.list_variables('t2t-phoneme/train-small/model.ckpt-1100')"
   ]
  },
  {
   "cell_type": "code",
   "execution_count": null,
   "id": "4e8a4ad9",
   "metadata": {},
   "outputs": [],
   "source": []
  }
 ],
 "metadata": {
  "kernelspec": {
   "display_name": "tf1",
   "language": "python",
   "name": "tf1"
  },
  "language_info": {
   "codemirror_mode": {
    "name": "ipython",
    "version": 3
   },
   "file_extension": ".py",
   "mimetype": "text/x-python",
   "name": "python",
   "nbconvert_exporter": "python",
   "pygments_lexer": "ipython3",
   "version": "3.8.10"
  }
 },
 "nbformat": 4,
 "nbformat_minor": 5
}
