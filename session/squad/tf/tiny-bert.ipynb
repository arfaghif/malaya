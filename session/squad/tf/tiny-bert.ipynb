{
 "cells": [
  {
   "cell_type": "code",
   "execution_count": 1,
   "metadata": {},
   "outputs": [],
   "source": [
    "import os\n",
    "\n",
    "os.environ['CUDA_VISIBLE_DEVICES'] = '0'"
   ]
  },
  {
   "cell_type": "code",
   "execution_count": 2,
   "metadata": {},
   "outputs": [
    {
     "name": "stdout",
     "output_type": "stream",
     "text": [
      "WARNING:tensorflow:From /home/husein/bert-standard/bert/optimization.py:87: The name tf.compat.v1.train.Optimizer is deprecated. Please use tf.compat.v1.train.Optimizer instead.\n",
      "\n"
     ]
    }
   ],
   "source": [
    "import bert\n",
    "from bert import optimization\n",
    "from bert import tokenization\n",
    "from bert import modeling\n",
    "import numpy as np\n",
    "import json\n",
    "import tensorflow as tf\n",
    "import itertools\n",
    "import collections\n",
    "import re\n",
    "import random\n",
    "import sentencepiece as spm\n",
    "from unidecode import unidecode\n",
    "from sklearn.utils import shuffle\n",
    "from tqdm import tqdm\n",
    "from prepro_utils import preprocess_text, encode_ids, encode_pieces\n",
    "from malaya.text.function import transformer_textcleaning as cleaning\n",
    "from tensorflow.python.estimator.run_config import RunConfig\n",
    "import bert_utils as squad_utils"
   ]
  },
  {
   "cell_type": "code",
   "execution_count": 3,
   "metadata": {},
   "outputs": [],
   "source": [
    "import tensorflow as tf\n",
    "import logging\n",
    "\n",
    "tf.compat.v1.logging.set_verbosity(tf.compat.v1.logging.ERROR)\n",
    "tf.compat.v1.get_logger().setLevel(logging.ERROR)\n",
    "tf.compat.v1.autograph.set_verbosity(1)"
   ]
  },
  {
   "cell_type": "code",
   "execution_count": 4,
   "metadata": {},
   "outputs": [],
   "source": [
    "sp_model = spm.SentencePieceProcessor()\n",
    "sp_model.Load('sp10m.cased.bert.model')\n",
    "\n",
    "with open('sp10m.cased.bert.vocab') as fopen:\n",
    "    v = fopen.read().split('\\n')[:-1]\n",
    "v = [i.split('\\t') for i in v]\n",
    "v = {i[0]: i[1] for i in v}\n",
    "\n",
    "\n",
    "class Tokenizer:\n",
    "    def __init__(self, v, sp_model):\n",
    "        self.vocab = v\n",
    "        self.sp_model = sp_model\n",
    "\n",
    "    def tokenize(self, string):\n",
    "        return encode_pieces(\n",
    "            self.sp_model, string, return_unicode = False, sample = False\n",
    "        )\n",
    "\n",
    "    def convert_tokens_to_ids(self, tokens):\n",
    "        return [self.sp_model.PieceToId(piece) for piece in tokens]\n",
    "\n",
    "    def convert_ids_to_tokens(self, ids):\n",
    "        return [self.sp_model.IdToPiece(i) for i in ids]\n",
    "\n",
    "\n",
    "tokenizer = Tokenizer(v, sp_model)"
   ]
  },
  {
   "cell_type": "code",
   "execution_count": 5,
   "metadata": {},
   "outputs": [],
   "source": [
    "import pickle\n",
    "\n",
    "with open('bert-squad-train.pkl', 'rb') as fopen:\n",
    "    train_features, train_examples = pickle.load(fopen)"
   ]
  },
  {
   "cell_type": "code",
   "execution_count": 6,
   "metadata": {},
   "outputs": [],
   "source": [
    "max_seq_length = 384\n",
    "doc_stride = 128\n",
    "max_query_length = 64"
   ]
  },
  {
   "cell_type": "code",
   "execution_count": 7,
   "metadata": {},
   "outputs": [],
   "source": [
    "bert_config = modeling.BertConfig.from_json_file(\n",
    "    'tiny-bert-v1/config.json'\n",
    ")"
   ]
  },
  {
   "cell_type": "code",
   "execution_count": 8,
   "metadata": {},
   "outputs": [],
   "source": [
    "epoch = 5\n",
    "batch_size = 22\n",
    "warmup_proportion = 0.1\n",
    "n_best_size = 20\n",
    "num_train_steps = int(len(train_features) / batch_size * epoch)\n",
    "num_warmup_steps = int(num_train_steps * warmup_proportion)"
   ]
  },
  {
   "cell_type": "code",
   "execution_count": 9,
   "metadata": {},
   "outputs": [],
   "source": [
    "from tensorflow.contrib import layers as contrib_layers\n",
    "\n",
    "class Model:\n",
    "    def __init__(self, is_training = True):\n",
    "        self.X = tf.compat.v1.placeholder(tf.compat.v1.int32, [None, None])\n",
    "        self.segment_ids = tf.compat.v1.placeholder(tf.compat.v1.int32, [None, None])\n",
    "        self.input_masks = tf.compat.v1.placeholder(tf.compat.v1.int32, [None, None])\n",
    "        self.start_positions = tf.compat.v1.placeholder(tf.compat.v1.int32, [None])\n",
    "        self.end_positions = tf.compat.v1.placeholder(tf.compat.v1.int32, [None])\n",
    "        self.p_mask = tf.compat.v1.placeholder(tf.compat.v1.int32, [None, None])\n",
    "        self.is_impossible = tf.compat.v1.placeholder(tf.compat.v1.int32, [None])\n",
    "        \n",
    "        model = modeling.BertModel(\n",
    "            config=bert_config,\n",
    "            is_training=is_training,\n",
    "            input_ids=self.X,\n",
    "            input_mask=self.input_masks,\n",
    "            token_type_ids=self.segment_ids,\n",
    "            use_one_hot_embeddings=False)\n",
    "        \n",
    "        final_hidden = model.get_sequence_output()\n",
    "        self.output = final_hidden"
   ]
  },
  {
   "cell_type": "code",
   "execution_count": 10,
   "metadata": {},
   "outputs": [],
   "source": [
    "learning_rate = 2e-5\n",
    "is_training = True\n",
    "\n",
    "tf.compat.v1.reset_default_graph()\n",
    "model = Model(is_training = is_training)"
   ]
  },
  {
   "cell_type": "code",
   "execution_count": 11,
   "metadata": {},
   "outputs": [],
   "source": [
    "output = model.output\n",
    "bsz = tf.compat.v1.shape(output)[0]\n",
    "return_dict = {}\n",
    "output = tf.compat.v1.transpose(output, [1, 0, 2])\n",
    "\n",
    "# invalid position mask such as query and special symbols (PAD, SEP, CLS)\n",
    "p_mask = tf.compat.v1.cast(model.p_mask, dtype = tf.compat.v1.float32)\n",
    "\n",
    "# logit of the start position\n",
    "with tf.compat.v1.variable_scope('start_logits'):\n",
    "    start_logits = tf.layers.dense(\n",
    "        output,\n",
    "        1,\n",
    "        kernel_initializer = modeling.create_initializer(\n",
    "            bert_config.initializer_range\n",
    "        ),\n",
    "    )\n",
    "    start_logits = tf.compat.v1.transpose(tf.compat.v1.squeeze(start_logits, -1), [1, 0])\n",
    "    start_logits_masked = start_logits * (1 - p_mask) - 1e30 * p_mask\n",
    "    start_log_probs = tf.compat.v1.nn.log_softmax(start_logits_masked, -1)\n",
    "\n",
    "# logit of the end position\n",
    "with tf.compat.v1.variable_scope('end_logits'):\n",
    "    if is_training:\n",
    "        # during training, compute the end logits based on the\n",
    "        # ground truth of the start position\n",
    "        start_positions = tf.compat.v1.reshape(model.start_positions, [-1])\n",
    "        start_index = tf.compat.v1.one_hot(\n",
    "            start_positions,\n",
    "            depth = max_seq_length,\n",
    "            axis = -1,\n",
    "            dtype = tf.compat.v1.float32,\n",
    "        )\n",
    "        start_features = tf.compat.v1.einsum('lbh,bl->bh', output, start_index)\n",
    "        start_features = tf.compat.v1.tile(\n",
    "            start_features[None], [max_seq_length, 1, 1]\n",
    "        )\n",
    "        end_logits = tf.layers.dense(\n",
    "            tf.compat.v1.concat([output, start_features], axis = -1),\n",
    "            bert_config.hidden_size,\n",
    "            kernel_initializer = modeling.create_initializer(\n",
    "                bert_config.initializer_range\n",
    "            ),\n",
    "            activation = tf.compat.v1.tanh,\n",
    "            name = 'dense_0',\n",
    "        )\n",
    "        end_logits = contrib_layers.layer_norm(\n",
    "            end_logits, begin_norm_axis = -1\n",
    "        )\n",
    "\n",
    "        end_logits = tf.layers.dense(\n",
    "            end_logits,\n",
    "            1,\n",
    "            kernel_initializer = modeling.create_initializer(\n",
    "                bert_config.initializer_range\n",
    "            ),\n",
    "            name = 'dense_1',\n",
    "        )\n",
    "        end_logits = tf.compat.v1.transpose(tf.compat.v1.squeeze(end_logits, -1), [1, 0])\n",
    "        end_logits_masked = end_logits * (1 - p_mask) - 1e30 * p_mask\n",
    "        end_log_probs = tf.compat.v1.nn.log_softmax(end_logits_masked, -1)\n",
    "    else:\n",
    "        # during inference, compute the end logits based on beam search\n",
    "\n",
    "        start_top_log_probs, start_top_index = tf.compat.v1.nn.top_k(\n",
    "            start_log_probs, k = start_n_top\n",
    "        )\n",
    "        start_index = tf.compat.v1.one_hot(\n",
    "            start_top_index,\n",
    "            depth = max_seq_length,\n",
    "            axis = -1,\n",
    "            dtype = tf.compat.v1.float32,\n",
    "        )\n",
    "        start_features = tf.compat.v1.einsum('lbh,bkl->bkh', output, start_index)\n",
    "        end_input = tf.compat.v1.tile(output[:, :, None], [1, 1, start_n_top, 1])\n",
    "        start_features = tf.compat.v1.tile(\n",
    "            start_features[None], [max_seq_length, 1, 1, 1]\n",
    "        )\n",
    "        end_input = tf.compat.v1.concat([end_input, start_features], axis = -1)\n",
    "        end_logits = tf.layers.dense(\n",
    "            end_input,\n",
    "            bert_config.hidden_size,\n",
    "            kernel_initializer = modeling.create_initializer(\n",
    "                bert_config.initializer_range\n",
    "            ),\n",
    "            activation = tf.compat.v1.tanh,\n",
    "            name = 'dense_0',\n",
    "        )\n",
    "        end_logits = contrib_layers.layer_norm(\n",
    "            end_logits, begin_norm_axis = -1\n",
    "        )\n",
    "        end_logits = tf.layers.dense(\n",
    "            end_logits,\n",
    "            1,\n",
    "            kernel_initializer = modeling.create_initializer(\n",
    "                bert_config.initializer_range\n",
    "            ),\n",
    "            name = 'dense_1',\n",
    "        )\n",
    "        end_logits = tf.compat.v1.reshape(\n",
    "            end_logits, [max_seq_length, -1, start_n_top]\n",
    "        )\n",
    "        end_logits = tf.compat.v1.transpose(end_logits, [1, 2, 0])\n",
    "        end_logits_masked = (\n",
    "            end_logits * (1 - p_mask[:, None]) - 1e30 * p_mask[:, None]\n",
    "        )\n",
    "        end_log_probs = tf.compat.v1.nn.log_softmax(end_logits_masked, -1)\n",
    "        end_top_log_probs, end_top_index = tf.compat.v1.nn.top_k(\n",
    "            end_log_probs, k = end_n_top\n",
    "        )\n",
    "        end_top_log_probs = tf.compat.v1.reshape(\n",
    "            end_top_log_probs, [-1, start_n_top * end_n_top]\n",
    "        )\n",
    "        end_top_index = tf.compat.v1.reshape(\n",
    "            end_top_index, [-1, start_n_top * end_n_top]\n",
    "        )\n",
    "        \n",
    "if is_training:\n",
    "    return_dict['start_log_probs'] = start_log_probs\n",
    "    return_dict['end_log_probs'] = end_log_probs\n",
    "else:\n",
    "    return_dict['start_top_log_probs'] = start_top_log_probs\n",
    "    return_dict['start_top_index'] = start_top_index\n",
    "    return_dict['end_top_log_probs'] = end_top_log_probs\n",
    "    return_dict['end_top_index'] = end_top_index\n",
    "\n",
    "# an additional layer to predict answerability\n",
    "with tf.compat.v1.variable_scope('answer_class'):\n",
    "    # get the representation of CLS\n",
    "    cls_index = tf.compat.v1.one_hot(\n",
    "        tf.compat.v1.zeros([bsz], dtype = tf.compat.v1.int32),\n",
    "        max_seq_length,\n",
    "        axis = -1,\n",
    "        dtype = tf.compat.v1.float32,\n",
    "    )\n",
    "    cls_feature = tf.compat.v1.einsum('lbh,bl->bh', output, cls_index)\n",
    "\n",
    "    # get the representation of START\n",
    "    start_p = tf.compat.v1.nn.softmax(\n",
    "        start_logits_masked, axis = -1, name = 'softmax_start'\n",
    "    )\n",
    "    start_feature = tf.compat.v1.einsum('lbh,bl->bh', output, start_p)\n",
    "\n",
    "    # note(zhiliny): no dependency on end_feature so that we can obtain\n",
    "    # one single `cls_logits` for each sample\n",
    "    ans_feature = tf.compat.v1.concat([start_feature, cls_feature], -1)\n",
    "    ans_feature = tf.layers.dense(\n",
    "        ans_feature,\n",
    "        bert_config.hidden_size,\n",
    "        activation = tf.compat.v1.tanh,\n",
    "        kernel_initializer = modeling.create_initializer(\n",
    "            bert_config.initializer_range\n",
    "        ),\n",
    "        name = 'dense_0',\n",
    "    )\n",
    "    ans_feature = tf.layers.dropout(\n",
    "        ans_feature, bert_config.hidden_dropout_prob, training = is_training\n",
    "    )\n",
    "    cls_logits = tf.layers.dense(\n",
    "        ans_feature,\n",
    "        1,\n",
    "        kernel_initializer = modeling.create_initializer(\n",
    "            bert_config.initializer_range\n",
    "        ),\n",
    "        name = 'dense_1',\n",
    "        use_bias = False,\n",
    "    )\n",
    "    cls_logits = tf.compat.v1.squeeze(cls_logits, -1)\n",
    "    \n",
    "return_dict['cls_logits'] = cls_logits"
   ]
  },
  {
   "cell_type": "code",
   "execution_count": 12,
   "metadata": {},
   "outputs": [],
   "source": [
    "seq_length = tf.compat.v1.shape(model.X)[1]\n",
    "\n",
    "def compute_loss(log_probs, positions):\n",
    "    one_hot_positions = tf.compat.v1.one_hot(\n",
    "        positions, depth = seq_length, dtype = tf.compat.v1.float32\n",
    "    )\n",
    "\n",
    "    loss = -tf.compat.v1.reduce_sum(one_hot_positions * log_probs, axis = -1)\n",
    "    loss = tf.compat.v1.reduce_mean(loss)\n",
    "    return loss\n",
    "\n",
    "start_loss = compute_loss(\n",
    "    return_dict['start_log_probs'], model.start_positions\n",
    ")\n",
    "end_loss = compute_loss(\n",
    "    return_dict['end_log_probs'], model.end_positions\n",
    ")\n",
    "\n",
    "total_loss = (start_loss + end_loss) * 0.5\n",
    "\n",
    "cls_logits = return_dict['cls_logits']\n",
    "is_impossible = tf.compat.v1.reshape(model.is_impossible, [-1])\n",
    "regression_loss = tf.compat.v1.nn.sigmoid_cross_entropy_with_logits(\n",
    "    labels = tf.compat.v1.cast(is_impossible, dtype = tf.compat.v1.float32),\n",
    "    logits = cls_logits,\n",
    ")\n",
    "regression_loss = tf.compat.v1.reduce_mean(regression_loss)\n",
    "\n",
    "# note(zhiliny): by default multiply the loss by 0.5 so that the scale is\n",
    "# comparable to start_loss and end_loss\n",
    "total_loss += regression_loss * 0.5"
   ]
  },
  {
   "cell_type": "code",
   "execution_count": 13,
   "metadata": {},
   "outputs": [],
   "source": [
    "optimizer = optimization.create_optimizer(total_loss, learning_rate, \n",
    "                                          num_train_steps, num_warmup_steps, False)"
   ]
  },
  {
   "cell_type": "code",
   "execution_count": 14,
   "metadata": {},
   "outputs": [],
   "source": [
    "sess = tf.compat.v1.InteractiveSession()\n",
    "sess.run(tf.compat.v1.global_variables_initializer())\n",
    "# var_lists = tf.compat.v1.get_collection(tf.compat.v1.GraphKeys.TRAINABLE_VARIABLES, scope = 'bert')\n",
    "# saver = tf.compat.v1.train.Saver(var_list = var_lists)\n",
    "# saver.restore(sess, 'tiny-bert-v1/model.ckpt')\n",
    "\n",
    "saver = tf.compat.v1.train.Saver(var_list = tf.compat.v1.trainable_variables())\n",
    "saver.restore(sess, 'tiny-bert-squad/model.ckpt')"
   ]
  },
  {
   "cell_type": "code",
   "execution_count": 15,
   "metadata": {},
   "outputs": [],
   "source": [
    "from tqdm import tqdm"
   ]
  },
  {
   "cell_type": "code",
   "execution_count": 18,
   "metadata": {},
   "outputs": [
    {
     "name": "stderr",
     "output_type": "stream",
     "text": [
      "train minibatch loop: 100%|██████████| 6023/6023 [12:51<00:00,  7.81it/s, cost=0.326, end_loss=0.000157, regression_loss=0.323, start_loss=0.328]   \n",
      "train minibatch loop:   0%|          | 1/6023 [00:00<12:44,  7.88it/s, cost=1.92, end_loss=1.09, regression_loss=0.124, start_loss=2.62]"
     ]
    },
    {
     "name": "stdout",
     "output_type": "stream",
     "text": [
      "epoch: 0\n",
      "1.2719319\n",
      "1.5417314\n",
      "0.5538086\n",
      "0.44832382\n"
     ]
    },
    {
     "name": "stderr",
     "output_type": "stream",
     "text": [
      "train minibatch loop: 100%|██████████| 6023/6023 [12:46<00:00,  7.86it/s, cost=0.305, end_loss=0.000203, regression_loss=0.298, start_loss=0.311]\n",
      "train minibatch loop:   0%|          | 1/6023 [00:00<13:35,  7.38it/s, cost=1.96, end_loss=0.978, regression_loss=0.164, start_loss=2.79]"
     ]
    },
    {
     "name": "stdout",
     "output_type": "stream",
     "text": [
      "epoch: 1\n",
      "1.2726808\n",
      "1.5423595\n",
      "0.5542202\n",
      "0.44878203\n"
     ]
    },
    {
     "name": "stderr",
     "output_type": "stream",
     "text": [
      "train minibatch loop: 100%|██████████| 6023/6023 [12:49<00:00,  7.83it/s, cost=0.449, end_loss=0.000205, regression_loss=0.427, start_loss=0.471]\n",
      "train minibatch loop:   0%|          | 1/6023 [00:00<14:18,  7.01it/s, cost=1.96, end_loss=0.855, regression_loss=0.133, start_loss=2.94]"
     ]
    },
    {
     "name": "stdout",
     "output_type": "stream",
     "text": [
      "epoch: 2\n",
      "1.2714281\n",
      "1.5404748\n",
      "0.5541636\n",
      "0.44821802\n"
     ]
    },
    {
     "name": "stderr",
     "output_type": "stream",
     "text": [
      "train minibatch loop: 100%|██████████| 6023/6023 [12:51<00:00,  7.81it/s, cost=0.325, end_loss=0.000169, regression_loss=0.328, start_loss=0.322] \n",
      "train minibatch loop:   0%|          | 1/6023 [00:00<12:29,  8.04it/s, cost=1.95, end_loss=1.09, regression_loss=0.152, start_loss=2.65]"
     ]
    },
    {
     "name": "stdout",
     "output_type": "stream",
     "text": [
      "epoch: 3\n",
      "1.2722083\n",
      "1.5425301\n",
      "0.5530732\n",
      "0.44881335\n"
     ]
    },
    {
     "name": "stderr",
     "output_type": "stream",
     "text": [
      "train minibatch loop: 100%|██████████| 6023/6023 [12:45<00:00,  7.87it/s, cost=0.458, end_loss=0.000168, regression_loss=0.449, start_loss=0.467]"
     ]
    },
    {
     "name": "stdout",
     "output_type": "stream",
     "text": [
      "epoch: 4\n",
      "1.2729954\n",
      "1.5415951\n",
      "0.554876\n",
      "0.4495196\n"
     ]
    },
    {
     "name": "stderr",
     "output_type": "stream",
     "text": [
      "\n"
     ]
    }
   ],
   "source": [
    "for e in range(epoch):\n",
    "    pbar = tqdm(\n",
    "        range(0, len(train_features), batch_size), desc = 'train minibatch loop'\n",
    "    )\n",
    "    costs, start_losses, end_losses, regression_losses = [], [], [], []\n",
    "    for i in pbar:\n",
    "        batch = train_features[i: i + batch_size]\n",
    "        batch_ids = [b.input_ids for b in batch]\n",
    "        batch_masks = [b.input_mask for b in batch]\n",
    "        batch_segment = [b.segment_ids for b in batch]\n",
    "        batch_start = [b.start_position for b in batch]\n",
    "        batch_end = [b.end_position for b in batch]\n",
    "        is_impossible = [b.is_impossible for b in batch]\n",
    "        p_mask = [b.p_mask for b in batch]\n",
    "        cost, start_loss_, end_loss_, regression_loss_, _ = sess.run(\n",
    "            [total_loss, start_loss, end_loss, regression_loss, optimizer],\n",
    "            feed_dict = {\n",
    "                model.start_positions: batch_start,\n",
    "                model.end_positions: batch_end,\n",
    "                model.X: batch_ids,\n",
    "                model.segment_ids: batch_segment,\n",
    "                model.input_masks: batch_masks,\n",
    "                model.is_impossible: is_impossible,\n",
    "                model.p_mask: p_mask\n",
    "            },\n",
    "        )\n",
    "        pbar.set_postfix(cost = cost, start_loss = start_loss_,\n",
    "                        end_loss = end_loss_, regression_loss = regression_loss_)\n",
    "        costs.append(cost)\n",
    "        start_losses.append(start_loss_)\n",
    "        end_losses.append(end_loss_)\n",
    "        regression_losses.append(regression_loss_)\n",
    "        \n",
    "    print(f'epoch: {e}')\n",
    "    print(np.mean(costs))\n",
    "    print(np.mean(start_losses))\n",
    "    print(np.mean(end_losses))\n",
    "    print(np.mean(regression_losses))"
   ]
  },
  {
   "cell_type": "code",
   "execution_count": null,
   "metadata": {},
   "outputs": [],
   "source": [
    "saver = tf.compat.v1.train.Saver(tf.compat.v1.trainable_variables())\n",
    "saver.save(sess, 'tiny-bert-squad/model.ckpt')"
   ]
  },
  {
   "cell_type": "code",
   "execution_count": null,
   "metadata": {},
   "outputs": [],
   "source": []
  }
 ],
 "metadata": {
  "kernelspec": {
   "display_name": "Python 3",
   "language": "python",
   "name": "python3"
  },
  "language_info": {
   "codemirror_mode": {
    "name": "ipython",
    "version": 3
   },
   "file_extension": ".py",
   "mimetype": "text/x-python",
   "name": "python",
   "nbconvert_exporter": "python",
   "pygments_lexer": "ipython3",
   "version": "3.6.9"
  }
 },
 "nbformat": 4,
 "nbformat_minor": 2
}
