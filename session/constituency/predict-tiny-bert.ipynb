{
 "cells": [
  {
   "cell_type": "code",
   "execution_count": 1,
   "metadata": {},
   "outputs": [],
   "source": [
    "import os\n",
    "os.environ['CUDA_VISIBLE_DEVICES'] = '2'"
   ]
  },
  {
   "cell_type": "code",
   "execution_count": 2,
   "metadata": {},
   "outputs": [],
   "source": [
    "import sys\n",
    "sys.path.insert(0, \"/home/husein/parsing/self-attentive-parser/src\")\n",
    "sys.path.append(\"/home/husein/parsing/self-attentive-parser\")"
   ]
  },
  {
   "cell_type": "code",
   "execution_count": 3,
   "metadata": {},
   "outputs": [],
   "source": [
    "import tensorflow as tf\n",
    "from transformers import AlbertTokenizer"
   ]
  },
  {
   "cell_type": "code",
   "execution_count": 4,
   "metadata": {},
   "outputs": [],
   "source": [
    "from transformers import AlbertTokenizer\n",
    "tokenizer = AlbertTokenizer.from_pretrained(\n",
    "    'huseinzol05/tiny-bert-bahasa-cased',\n",
    "    unk_token = '[UNK]',\n",
    "    pad_token = '[PAD]',\n",
    "    do_lower_case = False,\n",
    ")"
   ]
  },
  {
   "cell_type": "code",
   "execution_count": 7,
   "metadata": {},
   "outputs": [],
   "source": [
    "import json\n",
    "\n",
    "with open('vocab-tiny.json') as fopen:\n",
    "    data = json.load(fopen)\n",
    "    \n",
    "LABEL_VOCAB = data['label']\n",
    "TAG_VOCAB = data['tag']"
   ]
  },
  {
   "cell_type": "code",
   "execution_count": 8,
   "metadata": {},
   "outputs": [],
   "source": [
    "with tf.compat.v1.gfile.GFile('export/model-tiny.pb', 'rb') as f:\n",
    "    graph_def = tf.compat.v1.GraphDef()\n",
    "    graph_def.ParseFromString(f.read())\n",
    "    with tf.compat.v1.Graph().as_default() as graph:\n",
    "        tf.compat.v1.import_graph_def(graph_def)"
   ]
  },
  {
   "cell_type": "code",
   "execution_count": 9,
   "metadata": {},
   "outputs": [],
   "source": [
    "input_ids = graph.get_tensor_by_name('import/input_ids:0')\n",
    "word_end_mask = graph.get_tensor_by_name('import/word_end_mask:0')\n",
    "charts = graph.get_tensor_by_name('import/charts:0')\n",
    "tags = graph.get_tensor_by_name('import/tags:0')\n",
    "sess = tf.compat.v1.InteractiveSession(graph = graph)"
   ]
  },
  {
   "cell_type": "code",
   "execution_count": 10,
   "metadata": {},
   "outputs": [],
   "source": [
    "BERT_MAX_LEN = 512\n",
    "import numpy as np\n",
    "from parse_nk import BERT_TOKEN_MAPPING\n",
    "\n",
    "def make_feed_dict_bert(sentences):\n",
    "    all_input_ids = np.zeros((len(sentences), BERT_MAX_LEN), dtype=int)\n",
    "    all_word_end_mask = np.zeros((len(sentences), BERT_MAX_LEN), dtype=int)\n",
    "    \n",
    "\n",
    "    subword_max_len = 0\n",
    "    for snum, sentence in enumerate(sentences):\n",
    "        tokens = []\n",
    "        word_end_mask = []\n",
    "\n",
    "        tokens.append(u\"[CLS]\")\n",
    "        word_end_mask.append(1)\n",
    "\n",
    "        cleaned_words = []\n",
    "        for word in sentence:\n",
    "            word = BERT_TOKEN_MAPPING.get(word, word)\n",
    "            # BERT is pre-trained with a tokenizer that doesn't split off\n",
    "            # n't as its own token\n",
    "            if word == u\"n't\" and cleaned_words:\n",
    "                cleaned_words[-1] = cleaned_words[-1] + u\"n\"\n",
    "                word = u\"'t\"\n",
    "            cleaned_words.append(word)\n",
    "\n",
    "        for word in cleaned_words:\n",
    "            word_tokens = tokenizer.tokenize(word)\n",
    "            if not word_tokens:\n",
    "                # The tokenizer used in conjunction with the parser may not\n",
    "                # align with BERT; in particular spaCy will create separate\n",
    "                # tokens for whitespace when there is more than one space in\n",
    "                # a row, and will sometimes separate out characters of\n",
    "                # unicode category Mn (which BERT strips when do_lower_case\n",
    "                # is enabled). Substituting UNK is not strictly correct, but\n",
    "                # it's better than failing to return a valid parse.\n",
    "                word_tokens = [\"[UNK]\"]\n",
    "            for _ in range(len(word_tokens)):\n",
    "                word_end_mask.append(0)\n",
    "            word_end_mask[-1] = 1\n",
    "            tokens.extend(word_tokens)\n",
    "        tokens.append(u\"[SEP]\")\n",
    "        word_end_mask.append(1)\n",
    "\n",
    "        input_ids = tokenizer.convert_tokens_to_ids(tokens)\n",
    "\n",
    "        subword_max_len = max(subword_max_len, len(input_ids))\n",
    "\n",
    "        all_input_ids[snum, :len(input_ids)] = input_ids\n",
    "        all_word_end_mask[snum, :len(word_end_mask)] = word_end_mask\n",
    "\n",
    "    all_input_ids = all_input_ids[:, :subword_max_len]\n",
    "    all_word_end_mask = all_word_end_mask[:, :subword_max_len]\n",
    "    return all_input_ids, all_word_end_mask"
   ]
  },
  {
   "cell_type": "code",
   "execution_count": 11,
   "metadata": {},
   "outputs": [
    {
     "data": {
      "text/plain": [
       "(array([[   3,  287,  461, 1524,  598,  454, 3809,    4]]),\n",
       " array([[1, 1, 1, 1, 1, 1, 1, 1]]))"
      ]
     },
     "execution_count": 11,
     "metadata": {},
     "output_type": "execute_result"
    }
   ],
   "source": [
    "s = 'Saya sedang membaca buku tentang Perlembagaan'.split()\n",
    "sentences = [s]\n",
    "i, m = make_feed_dict_bert(sentences)\n",
    "i, m"
   ]
  },
  {
   "cell_type": "code",
   "execution_count": 12,
   "metadata": {},
   "outputs": [
    {
     "data": {
      "text/plain": [
       "(array([[[[ 0.       , -5.6083345, -2.594271 , ..., -3.076873 ,\n",
       "           -2.1922257, -2.667787 ],\n",
       "          [ 0.       , -1.9595397, -3.051041 , ..., -2.047192 ,\n",
       "           -2.5149357, -1.8765438],\n",
       "          [ 0.       , -2.4971504, -3.1765456, ..., -2.093719 ,\n",
       "           -2.599802 , -1.5695255],\n",
       "          ...,\n",
       "          [ 0.       , -2.476132 , -5.388885 , ..., -2.5045085,\n",
       "           -2.818867 , -2.276501 ],\n",
       "          [ 0.       ,  2.0934982, -3.2850404, ..., -2.0002766,\n",
       "           -2.4108872, -2.2024584],\n",
       "          [ 0.       ,  0.       ,  0.       , ...,  0.       ,\n",
       "            0.       ,  0.       ]],\n",
       " \n",
       "         [[ 0.       , -4.4408994, -2.8283303, ..., -2.1767213,\n",
       "           -2.7700467, -2.748022 ],\n",
       "          [ 0.       , -5.6083345, -2.594271 , ..., -3.076873 ,\n",
       "           -2.1922257, -2.667787 ],\n",
       "          [ 0.       , -3.5694735, -3.0507228, ..., -2.2235878,\n",
       "           -2.8025398, -2.2708402],\n",
       "          ...,\n",
       "          [ 0.       , -3.609312 , -4.8762913, ..., -2.5458617,\n",
       "           -2.8064983, -2.9052796],\n",
       "          [ 0.       , -1.2214152, -2.6420686, ..., -2.0419497,\n",
       "           -2.3622432, -2.5834935],\n",
       "          [ 0.       ,  0.       ,  0.       , ...,  0.       ,\n",
       "            0.       ,  0.       ]],\n",
       " \n",
       "         [[ 0.       , -4.742555 , -2.5899265, ..., -1.8628901,\n",
       "           -2.1792984, -2.636608 ],\n",
       "          [ 0.       , -3.0778835, -2.7068536, ..., -1.7341627,\n",
       "           -1.9409463, -2.4417567],\n",
       "          [ 0.       , -5.6083345, -2.594271 , ..., -3.076873 ,\n",
       "           -2.1922257, -2.667787 ],\n",
       "          ...,\n",
       "          [ 0.       , -3.1585398, -5.2721214, ..., -2.5059612,\n",
       "           -2.6083171, -2.7361178],\n",
       "          [ 0.       , -1.1929042, -2.277234 , ..., -1.8275403,\n",
       "           -2.0909452, -2.7733154],\n",
       "          [ 0.       ,  0.       ,  0.       , ...,  0.       ,\n",
       "            0.       ,  0.       ]],\n",
       " \n",
       "         ...,\n",
       " \n",
       "         [[ 0.       , -4.259295 , -1.1012912, ..., -2.103839 ,\n",
       "           -1.722294 , -2.4234443],\n",
       "          [ 0.       , -3.1673937, -1.4291342, ..., -2.0684974,\n",
       "           -1.6736989, -2.3227632],\n",
       "          [ 0.       , -2.9405684, -1.5064888, ..., -2.259257 ,\n",
       "           -1.8320135, -1.894768 ],\n",
       "          ...,\n",
       "          [ 0.       , -5.6083345, -2.594271 , ..., -3.076873 ,\n",
       "           -2.1922257, -2.667787 ],\n",
       "          [ 0.       , -2.0089922, -1.0780683, ..., -1.910046 ,\n",
       "           -1.4025893, -2.3502252],\n",
       "          [ 0.       ,  0.       ,  0.       , ...,  0.       ,\n",
       "            0.       ,  0.       ]],\n",
       " \n",
       "         [[ 0.       , -6.120109 , -3.4837236, ..., -2.579673 ,\n",
       "           -2.1272311, -2.4120238],\n",
       "          [ 0.       , -4.8807206, -3.0835414, ..., -2.4440186,\n",
       "           -1.9669774, -1.8760022],\n",
       "          [ 0.       , -5.6756034, -3.0949144, ..., -2.6298342,\n",
       "           -2.3598   , -1.7998285],\n",
       "          ...,\n",
       "          [ 0.       , -5.6882124, -5.4648333, ..., -2.7380579,\n",
       "           -2.3578987, -2.3511455],\n",
       "          [ 0.       , -5.6083345, -2.594271 , ..., -3.076873 ,\n",
       "           -2.1922257, -2.667787 ],\n",
       "          [ 0.       ,  0.       ,  0.       , ...,  0.       ,\n",
       "            0.       ,  0.       ]],\n",
       " \n",
       "         [[ 0.       ,  0.       ,  0.       , ...,  0.       ,\n",
       "            0.       ,  0.       ],\n",
       "          [ 0.       ,  0.       ,  0.       , ...,  0.       ,\n",
       "            0.       ,  0.       ],\n",
       "          [ 0.       ,  0.       ,  0.       , ...,  0.       ,\n",
       "            0.       ,  0.       ],\n",
       "          ...,\n",
       "          [ 0.       ,  0.       ,  0.       , ...,  0.       ,\n",
       "            0.       ,  0.       ],\n",
       "          [ 0.       ,  0.       ,  0.       , ...,  0.       ,\n",
       "            0.       ,  0.       ],\n",
       "          [ 0.       ,  0.       ,  0.       , ...,  0.       ,\n",
       "            0.       ,  0.       ]]]], dtype=float32),\n",
       " array([[ 0,  4,  8,  9,  6,  3, 13,  1]]))"
      ]
     },
     "execution_count": 12,
     "metadata": {},
     "output_type": "execute_result"
    }
   ],
   "source": [
    "charts_val, tags_val = sess.run((charts, tags), {input_ids: i, word_end_mask: m})\n",
    "charts_val, tags_val"
   ]
  },
  {
   "cell_type": "code",
   "execution_count": 13,
   "metadata": {},
   "outputs": [],
   "source": [
    "for snum, sentence in enumerate(sentences):\n",
    "    chart_size = len(sentence) + 1\n",
    "    chart = charts_val[snum,:chart_size,:chart_size,:]"
   ]
  },
  {
   "cell_type": "code",
   "execution_count": 14,
   "metadata": {},
   "outputs": [],
   "source": [
    "# !wget https://raw.githubusercontent.com/michaeljohns2/self-attentive-parser/michaeljohns2-support-tf2-patch/benepar/chart_decoder.pyx"
   ]
  },
  {
   "cell_type": "code",
   "execution_count": 15,
   "metadata": {},
   "outputs": [],
   "source": [
    "import chart_decoder_py"
   ]
  },
  {
   "cell_type": "code",
   "execution_count": 16,
   "metadata": {},
   "outputs": [
    {
     "data": {
      "text/plain": [
       "(15.637871,\n",
       " array([0, 0, 1, 1, 2, 2, 3, 3, 4, 4, 5]),\n",
       " array([6, 1, 6, 2, 6, 3, 6, 4, 6, 5, 6]),\n",
       " array([1, 4, 5, 0, 5, 0, 3, 3, 2, 0, 3]))"
      ]
     },
     "execution_count": 16,
     "metadata": {},
     "output_type": "execute_result"
    }
   ],
   "source": [
    "chart_decoder_py.decode(chart)"
   ]
  },
  {
   "cell_type": "code",
   "execution_count": 17,
   "metadata": {},
   "outputs": [],
   "source": [
    "import nltk\n",
    "from nltk import Tree"
   ]
  },
  {
   "cell_type": "code",
   "execution_count": 18,
   "metadata": {},
   "outputs": [],
   "source": [
    "PTB_TOKEN_ESCAPE = {u\"(\": u\"-LRB-\",\n",
    "    u\")\": u\"-RRB-\",\n",
    "    u\"{\": u\"-LCB-\",\n",
    "    u\"}\": u\"-RCB-\",\n",
    "    u\"[\": u\"-LSB-\",\n",
    "    u\"]\": u\"-RSB-\"}\n",
    "\n",
    "\n",
    "def make_nltk_tree(sentence, tags, score, p_i, p_j, p_label):\n",
    "\n",
    "    # Python 2 doesn't support \"nonlocal\", so wrap idx in a list\n",
    "    idx_cell = [-1]\n",
    "    def make_tree():\n",
    "        idx_cell[0] += 1\n",
    "        idx = idx_cell[0]\n",
    "        i, j, label_idx = p_i[idx], p_j[idx], p_label[idx]\n",
    "        label = LABEL_VOCAB[label_idx]\n",
    "        if (i + 1) >= j:\n",
    "            word = sentence[i]\n",
    "            tag = TAG_VOCAB[tags[i]]\n",
    "            tag = PTB_TOKEN_ESCAPE.get(tag, tag)\n",
    "            word = PTB_TOKEN_ESCAPE.get(word, word)\n",
    "            tree = Tree(tag, [word])\n",
    "            for sublabel in label[::-1]:\n",
    "                tree = Tree(sublabel, [tree])\n",
    "            return [tree]\n",
    "        else:\n",
    "            left_trees = make_tree()\n",
    "            right_trees = make_tree()\n",
    "            children = left_trees + right_trees\n",
    "            if label:\n",
    "                tree = Tree(label[-1], children)\n",
    "                for sublabel in reversed(label[:-1]):\n",
    "                    tree = Tree(sublabel, [tree])\n",
    "                return [tree]\n",
    "            else:\n",
    "                return children\n",
    "\n",
    "    tree = make_tree()[0]\n",
    "    tree.score = score\n",
    "    return tree"
   ]
  },
  {
   "cell_type": "code",
   "execution_count": 19,
   "metadata": {},
   "outputs": [
    {
     "name": "stdout",
     "output_type": "stream",
     "text": [
      "(S\n",
      "  (NP-SBJ (<START> Saya))\n",
      "  (VP\n",
      "    (PRP sedang)\n",
      "    (VP\n",
      "      (MD membaca)\n",
      "      (NP (NP (VB buku)) (PP (NN tentang) (NP (IN Perlembagaan)))))))\n"
     ]
    }
   ],
   "source": [
    "tree = make_nltk_tree(s, tags_val[0], *chart_decoder_py.decode(chart))\n",
    "print(str(tree))"
   ]
  },
  {
   "cell_type": "code",
   "execution_count": 20,
   "metadata": {},
   "outputs": [],
   "source": [
    "def make_str_tree(sentence, tags, score, p_i, p_j, p_label):\n",
    "    idx_cell = [-1]\n",
    "    def make_str():\n",
    "        idx_cell[0] += 1\n",
    "        idx = idx_cell[0]\n",
    "        i, j, label_idx = p_i[idx], p_j[idx], p_label[idx]\n",
    "        label = LABEL_VOCAB[label_idx]\n",
    "        if (i + 1) >= j:\n",
    "            word = sentence[i]\n",
    "            tag = TAG_VOCAB[tags[i]]\n",
    "            tag = PTB_TOKEN_ESCAPE.get(tag, tag)\n",
    "            word = PTB_TOKEN_ESCAPE.get(word, word)\n",
    "            s = u\"({} {})\".format(tag, word)\n",
    "        else:\n",
    "            children = []\n",
    "            while ((idx_cell[0] + 1) < len(p_i)\n",
    "                and i <= p_i[idx_cell[0] + 1]\n",
    "                and p_j[idx_cell[0] + 1] <= j):\n",
    "                children.append(make_str())\n",
    "\n",
    "            s = u\" \".join(children)\n",
    "            \n",
    "        for sublabel in reversed(label):\n",
    "            s = u\"({} {})\".format(sublabel, s)\n",
    "        return s\n",
    "    return make_str()"
   ]
  },
  {
   "cell_type": "code",
   "execution_count": 22,
   "metadata": {},
   "outputs": [
    {
     "data": {
      "text/plain": [
       "'(S (NP-SBJ (<START> Saya)) (VP (PRP sedang) (VP (MD membaca) (NP (NP (VB buku)) (PP (NN tentang) (NP (IN Perlembagaan)))))))'"
      ]
     },
     "execution_count": 22,
     "metadata": {},
     "output_type": "execute_result"
    }
   ],
   "source": [
    "make_str_tree(s, tags_val[0], *chart_decoder_py.decode(chart))"
   ]
  }
 ],
 "metadata": {
  "kernelspec": {
   "display_name": "Python 3",
   "language": "python",
   "name": "python3"
  },
  "language_info": {
   "codemirror_mode": {
    "name": "ipython",
    "version": 3
   },
   "file_extension": ".py",
   "mimetype": "text/x-python",
   "name": "python",
   "nbconvert_exporter": "python",
   "pygments_lexer": "ipython3",
   "version": "3.6.8"
  }
 },
 "nbformat": 4,
 "nbformat_minor": 2
}
