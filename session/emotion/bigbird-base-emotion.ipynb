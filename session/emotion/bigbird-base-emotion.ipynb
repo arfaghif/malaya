{
 "cells": [
  {
   "cell_type": "code",
   "execution_count": 1,
   "metadata": {},
   "outputs": [],
   "source": [
    "# !wget https://f000.backblazeb2.com/file/malaya-model/bert-bahasa/bert-base-2020-10-08.tar.gz\n",
    "# !tar -zxf bert-base-2020-10-08.tar.gz"
   ]
  },
  {
   "cell_type": "code",
   "execution_count": 2,
   "metadata": {},
   "outputs": [],
   "source": [
    "import json\n",
    "import re\n",
    "import sentencepiece as spm"
   ]
  },
  {
   "cell_type": "code",
   "execution_count": 3,
   "metadata": {},
   "outputs": [],
   "source": [
    "import os\n",
    "os.environ['CUDA_VISIBLE_DEVICES'] = '3'"
   ]
  },
  {
   "cell_type": "code",
   "execution_count": 4,
   "metadata": {},
   "outputs": [],
   "source": [
    "from xlnet.prepro_utils import preprocess_text, encode_ids, encode_pieces\n",
    "\n",
    "sp_model = spm.SentencePieceProcessor()\n",
    "sp_model.Load('pretrained-model/preprocess/sp10m.cased.bert.model')\n",
    "\n",
    "with open('pretrained-model/preprocess/sp10m.cased.bert.vocab') as fopen:\n",
    "    v = fopen.read().split('\\n')[:-1]\n",
    "v = [i.split('\\t') for i in v]\n",
    "v = {i[0]: i[1] for i in v}\n",
    "\n",
    "class Tokenizer:\n",
    "    def __init__(self, v):\n",
    "        self.vocab = v\n",
    "        pass\n",
    "    \n",
    "    def tokenize(self, string):\n",
    "        return encode_pieces(sp_model, string, return_unicode=False, sample=False)\n",
    "    \n",
    "    def convert_tokens_to_ids(self, tokens):\n",
    "        return [sp_model.PieceToId(piece) for piece in tokens]\n",
    "    \n",
    "    def convert_ids_to_tokens(self, ids):\n",
    "        return [sp_model.IdToPiece(i) for i in ids]\n",
    "    \n",
    "tokenizer = Tokenizer(v)"
   ]
  },
  {
   "cell_type": "code",
   "execution_count": 5,
   "metadata": {},
   "outputs": [
    {
     "name": "stdout",
     "output_type": "stream",
     "text": [
      "WARNING:tensorflow:From /home/husein/malaya/Malaya/malaya/train/model/bigbird/optimization.py:91: The name tf.train.Optimizer is deprecated. Please use tf.compat.v1.train.Optimizer instead.\n",
      "\n"
     ]
    }
   ],
   "source": [
    "from malaya.train.model.bigbird import modeling, optimization\n",
    "import numpy as np\n",
    "import json\n",
    "import tensorflow as tf\n",
    "import itertools\n",
    "from unidecode import unidecode\n",
    "import re\n",
    "import random"
   ]
  },
  {
   "cell_type": "code",
   "execution_count": 6,
   "metadata": {},
   "outputs": [
    {
     "data": {
      "text/plain": [
       "dict_keys(['anger', 'fear', 'happy', 'love', 'sadness', 'surprise'])"
      ]
     },
     "execution_count": 6,
     "metadata": {},
     "output_type": "execute_result"
    }
   ],
   "source": [
    "emotion_label = ['anger', 'fear', 'happy', 'love', 'sadness', 'surprise']\n",
    "\n",
    "with open('/home/husein/sentiment/emotion-twitter-lexicon.json') as fopen:\n",
    "    emotion = json.load(fopen)\n",
    "    \n",
    "emotion.keys()"
   ]
  },
  {
   "cell_type": "code",
   "execution_count": 7,
   "metadata": {},
   "outputs": [
    {
     "name": "stdout",
     "output_type": "stream",
     "text": [
      "anger 30000\n",
      "fear 20316\n",
      "happy 30000\n",
      "love 20783\n",
      "sadness 26468\n",
      "surprise 13107\n"
     ]
    }
   ],
   "source": [
    "texts, labels = [], []\n",
    "\n",
    "for k, v in emotion.items():\n",
    "    if len(v) > 30000:\n",
    "        emotion[k] = random.sample(v, 30000)\n",
    "    print(k, len(emotion[k]))\n",
    "    texts.extend(emotion[k])\n",
    "    labels.extend([emotion_label.index(k)] * len(emotion[k]))"
   ]
  },
  {
   "cell_type": "code",
   "execution_count": 8,
   "metadata": {},
   "outputs": [],
   "source": [
    "from malaya.text.rules import normalized_chars\n",
    "import random\n",
    "\n",
    "laughing = {\n",
    "    'huhu',\n",
    "    'haha',\n",
    "    'gagaga',\n",
    "    'hihi',\n",
    "    'wkawka',\n",
    "    'wkwk',\n",
    "    'kiki',\n",
    "    'keke',\n",
    "    'huehue',\n",
    "    'hshs',\n",
    "    'hoho',\n",
    "    'hewhew',\n",
    "    'uwu',\n",
    "    'sksk',\n",
    "    'ksks',\n",
    "    'gituu',\n",
    "    'gitu',\n",
    "    'mmeeooww',\n",
    "    'meow',\n",
    "    'alhamdulillah',\n",
    "    'muah',\n",
    "    'mmuahh',\n",
    "    'hehe',\n",
    "    'salamramadhan',\n",
    "    'happywomensday',\n",
    "    'jahagaha',\n",
    "    'ahakss',\n",
    "    'ahksk'\n",
    "}\n",
    "\n",
    "def make_cleaning(s, c_dict):\n",
    "    s = s.translate(c_dict)\n",
    "    return s\n",
    "\n",
    "def cleaning(string):\n",
    "    \"\"\"\n",
    "    use by any transformer model before tokenization\n",
    "    \"\"\"\n",
    "    string = unidecode(string)\n",
    "    \n",
    "    string = ' '.join(\n",
    "        [make_cleaning(w, normalized_chars) for w in string.split()]\n",
    "    )\n",
    "    string = re.sub('\\(dot\\)', '.', string)\n",
    "    string = (\n",
    "        re.sub(re.findall(r'\\<a(.*?)\\>', string)[0], '', string)\n",
    "        if (len(re.findall(r'\\<a (.*?)\\>', string)) > 0)\n",
    "        and ('href' in re.findall(r'\\<a (.*?)\\>', string)[0])\n",
    "        else string\n",
    "    )\n",
    "    string = re.sub(\n",
    "        r'\\w+:\\/{2}[\\d\\w-]+(\\.[\\d\\w-]+)*(?:(?:\\/[^\\s/]*))*', ' ', string\n",
    "    )\n",
    "    \n",
    "    chars = '.,/'\n",
    "    for c in chars:\n",
    "        string = string.replace(c, f' {c} ')\n",
    "        \n",
    "    string = re.sub(r'[ ]+', ' ', string).strip().split()\n",
    "    string = [w for w in string if w[0] != '@']\n",
    "    x = []\n",
    "    for word in string:\n",
    "        word = word.lower()\n",
    "        if any([laugh in word for laugh in laughing]):\n",
    "            if random.random() >= 0.5:\n",
    "                x.append(word)\n",
    "        else:\n",
    "            x.append(word)\n",
    "    string = [w.title() if w[0].isupper() else w for w in x]\n",
    "    return ' '.join(string)"
   ]
  },
  {
   "cell_type": "code",
   "execution_count": 9,
   "metadata": {},
   "outputs": [
    {
     "name": "stderr",
     "output_type": "stream",
     "text": [
      "100%|██████████| 140674/140674 [00:17<00:00, 7914.78it/s]\n"
     ]
    }
   ],
   "source": [
    "from tqdm import tqdm\n",
    "\n",
    "for i in tqdm(range(len(texts))):\n",
    "    texts[i] = cleaning(texts[i])"
   ]
  },
  {
   "cell_type": "code",
   "execution_count": 10,
   "metadata": {},
   "outputs": [
    {
     "name": "stderr",
     "output_type": "stream",
     "text": [
      "100%|██████████| 140674/140674 [00:00<00:00, 843786.50it/s]\n"
     ]
    }
   ],
   "source": [
    "actual_t, actual_l = [], []\n",
    "\n",
    "for i in tqdm(range(len(texts))):\n",
    "    if len(texts[i]) > 2:\n",
    "        actual_t.append(texts[i])\n",
    "        actual_l.append(labels[i])"
   ]
  },
  {
   "cell_type": "code",
   "execution_count": 11,
   "metadata": {
    "scrolled": true
   },
   "outputs": [
    {
     "name": "stderr",
     "output_type": "stream",
     "text": [
      "100%|██████████| 140674/140674 [00:23<00:00, 5870.85it/s]\n"
     ]
    }
   ],
   "source": [
    "from tqdm import tqdm\n",
    "\n",
    "input_ids, input_masks = [], []\n",
    "\n",
    "for text in tqdm(actual_t):\n",
    "    tokens_a = tokenizer.tokenize(text)\n",
    "    tokens = [\"[CLS]\"] + tokens_a + [\"[SEP]\"]\n",
    "    input_id = tokenizer.convert_tokens_to_ids(tokens)\n",
    "    input_mask = [1] * len(input_id)\n",
    "    \n",
    "    input_ids.append(input_id)\n",
    "    input_masks.append(input_mask)"
   ]
  },
  {
   "cell_type": "code",
   "execution_count": 12,
   "metadata": {},
   "outputs": [],
   "source": [
    "maxlen = 512"
   ]
  },
  {
   "cell_type": "code",
   "execution_count": 13,
   "metadata": {},
   "outputs": [],
   "source": [
    "bert_config = {\n",
    "    'attention_probs_dropout_prob': 0.2,\n",
    "    'hidden_act': 'gelu',\n",
    "    'hidden_dropout_prob': 0.2,\n",
    "    'hidden_size': 768,\n",
    "    'initializer_range': 0.02,\n",
    "    'intermediate_size': 3072,\n",
    "    'max_position_embeddings': 4096,\n",
    "    'max_encoder_length': maxlen,\n",
    "    'num_attention_heads': 12,\n",
    "    'num_hidden_layers': 12,\n",
    "    'type_vocab_size': 2,\n",
    "    'scope': 'bert',\n",
    "    'use_bias': True,\n",
    "    'rescale_embedding': False,\n",
    "    'vocab_model_file': None,\n",
    "    'attention_type': 'block_sparse',\n",
    "    'norm_type': 'postnorm',\n",
    "    'block_size': 16,\n",
    "    'num_rand_blocks': 3,\n",
    "    'vocab_size': 32000,\n",
    "}"
   ]
  },
  {
   "cell_type": "code",
   "execution_count": 14,
   "metadata": {},
   "outputs": [],
   "source": [
    "epoch = 3\n",
    "batch_size = 16\n",
    "warmup_proportion = 0.1\n",
    "num_train_steps = int(len(texts) / batch_size * epoch)\n",
    "num_warmup_steps = int(num_train_steps * warmup_proportion)\n",
    "dimension_output = 6"
   ]
  },
  {
   "cell_type": "code",
   "execution_count": 15,
   "metadata": {},
   "outputs": [],
   "source": [
    "def create_initializer(initializer_range=0.02):\n",
    "    return tf.truncated_normal_initializer(stddev=initializer_range)\n",
    "\n",
    "class Model:\n",
    "    def __init__(\n",
    "        self,\n",
    "        dimension_output,\n",
    "        learning_rate = 2e-5,\n",
    "        training = True,\n",
    "    ):\n",
    "        self.X = tf.placeholder(tf.int32, [None, None])\n",
    "        self.Y = tf.placeholder(tf.int32, [None])\n",
    "        \n",
    "        model = modeling.BertModel(bert_config)\n",
    "        sequence_output, pooled_output = model(self.X)\n",
    "        \n",
    "        output_layer = sequence_output\n",
    "        output_layer = tf.layers.dense(\n",
    "            output_layer,\n",
    "            bert_config['hidden_size'],\n",
    "            activation=tf.tanh,\n",
    "            kernel_initializer=create_initializer())\n",
    "        self.logits_seq = tf.layers.dense(output_layer, dimension_output,\n",
    "                                         kernel_initializer=create_initializer())\n",
    "        self.logits_seq = tf.identity(self.logits_seq, name = 'logits_seq')\n",
    "        self.logits = self.logits_seq[:, 0]\n",
    "        self.logits = tf.identity(self.logits, name = 'logits')\n",
    "        \n",
    "        self.cost = tf.reduce_mean(\n",
    "            tf.nn.sparse_softmax_cross_entropy_with_logits(\n",
    "                logits = self.logits, labels = self.Y\n",
    "            )\n",
    "        )\n",
    "        \n",
    "        self.optimizer = optimization.create_optimizer(self.cost, learning_rate, \n",
    "                                                       num_train_steps, num_warmup_steps, False)\n",
    "        correct_pred = tf.equal(\n",
    "            tf.argmax(self.logits, 1, output_type = tf.int32), self.Y\n",
    "        )\n",
    "        self.accuracy = tf.reduce_mean(tf.cast(correct_pred, tf.float32))"
   ]
  },
  {
   "cell_type": "code",
   "execution_count": 16,
   "metadata": {
    "scrolled": true
   },
   "outputs": [
    {
     "name": "stdout",
     "output_type": "stream",
     "text": [
      "WARNING:tensorflow:From /home/husein/malaya/Malaya/malaya/train/model/bigbird/modeling.py:124: where (from tensorflow.python.ops.array_ops) is deprecated and will be removed in a future version.\n",
      "Instructions for updating:\n",
      "Use tf.where in 2.0, which has the same broadcast rule as np.where\n",
      "WARNING:tensorflow:From <ipython-input-15-b823a4eb1dc3>:22: dense (from tensorflow.python.layers.core) is deprecated and will be removed in a future version.\n",
      "Instructions for updating:\n",
      "Use keras.layers.Dense instead.\n"
     ]
    },
    {
     "name": "stderr",
     "output_type": "stream",
     "text": [
      "WARNING:tensorflow:From <ipython-input-15-b823a4eb1dc3>:22: dense (from tensorflow.python.layers.core) is deprecated and will be removed in a future version.\n",
      "Instructions for updating:\n",
      "Use keras.layers.Dense instead.\n"
     ]
    },
    {
     "name": "stdout",
     "output_type": "stream",
     "text": [
      "WARNING:tensorflow:From /home/husein/.local/lib/python3.6/site-packages/tensorflow_core/python/layers/core.py:187: Layer.apply (from tensorflow.python.keras.engine.base_layer) is deprecated and will be removed in a future version.\n",
      "Instructions for updating:\n",
      "Please use `layer.__call__` method instead.\n"
     ]
    },
    {
     "name": "stderr",
     "output_type": "stream",
     "text": [
      "WARNING:tensorflow:From /home/husein/.local/lib/python3.6/site-packages/tensorflow_core/python/layers/core.py:187: Layer.apply (from tensorflow.python.keras.engine.base_layer) is deprecated and will be removed in a future version.\n",
      "Instructions for updating:\n",
      "Please use `layer.__call__` method instead.\n"
     ]
    },
    {
     "name": "stdout",
     "output_type": "stream",
     "text": [
      "WARNING:tensorflow:From /home/husein/malaya/Malaya/malaya/train/model/bigbird/optimization.py:27: The name tf.train.get_or_create_global_step is deprecated. Please use tf.compat.v1.train.get_or_create_global_step instead.\n",
      "\n"
     ]
    },
    {
     "name": "stderr",
     "output_type": "stream",
     "text": [
      "WARNING:tensorflow:From /home/husein/malaya/Malaya/malaya/train/model/bigbird/optimization.py:27: The name tf.train.get_or_create_global_step is deprecated. Please use tf.compat.v1.train.get_or_create_global_step instead.\n",
      "\n"
     ]
    },
    {
     "name": "stdout",
     "output_type": "stream",
     "text": [
      "WARNING:tensorflow:From /home/husein/malaya/Malaya/malaya/train/model/bigbird/optimization.py:32: The name tf.train.polynomial_decay is deprecated. Please use tf.compat.v1.train.polynomial_decay instead.\n",
      "\n"
     ]
    },
    {
     "name": "stderr",
     "output_type": "stream",
     "text": [
      "WARNING:tensorflow:From /home/husein/malaya/Malaya/malaya/train/model/bigbird/optimization.py:32: The name tf.train.polynomial_decay is deprecated. Please use tf.compat.v1.train.polynomial_decay instead.\n",
      "\n"
     ]
    },
    {
     "name": "stdout",
     "output_type": "stream",
     "text": [
      "WARNING:tensorflow:From /home/husein/malaya/Malaya/malaya/train/model/bigbird/optimization.py:73: The name tf.trainable_variables is deprecated. Please use tf.compat.v1.trainable_variables instead.\n",
      "\n"
     ]
    },
    {
     "name": "stderr",
     "output_type": "stream",
     "text": [
      "WARNING:tensorflow:From /home/husein/malaya/Malaya/malaya/train/model/bigbird/optimization.py:73: The name tf.trainable_variables is deprecated. Please use tf.compat.v1.trainable_variables instead.\n",
      "\n"
     ]
    },
    {
     "name": "stdout",
     "output_type": "stream",
     "text": [
      "WARNING:tensorflow:From /home/husein/malaya/Malaya/malaya/train/model/bigbird/optimization.py:123: The name tf.get_variable is deprecated. Please use tf.compat.v1.get_variable instead.\n",
      "\n"
     ]
    },
    {
     "name": "stderr",
     "output_type": "stream",
     "text": [
      "WARNING:tensorflow:From /home/husein/malaya/Malaya/malaya/train/model/bigbird/optimization.py:123: The name tf.get_variable is deprecated. Please use tf.compat.v1.get_variable instead.\n",
      "\n"
     ]
    }
   ],
   "source": [
    "dimension_output = 6\n",
    "learning_rate = 2e-5\n",
    "\n",
    "tf.reset_default_graph()\n",
    "sess = tf.InteractiveSession()\n",
    "model = Model(\n",
    "    dimension_output,\n",
    "    learning_rate\n",
    ")\n",
    "sess.run(tf.global_variables_initializer())"
   ]
  },
  {
   "cell_type": "code",
   "execution_count": 17,
   "metadata": {},
   "outputs": [],
   "source": [
    "import collections\n",
    "import re\n",
    "\n",
    "def get_assignment_map_from_checkpoint(tvars, init_checkpoint):\n",
    "    \"\"\"Compute the union of the current variables and checkpoint variables.\"\"\"\n",
    "    assignment_map = {}\n",
    "    initialized_variable_names = {}\n",
    "\n",
    "    name_to_variable = collections.OrderedDict()\n",
    "    for var in tvars:\n",
    "        name = var.name\n",
    "        m = re.match('^(.*):\\\\d+$', name)\n",
    "        if m is not None:\n",
    "            name = m.group(1)\n",
    "        name_to_variable[name] = var\n",
    "\n",
    "    init_vars = tf.train.list_variables(init_checkpoint)\n",
    "\n",
    "    assignment_map = collections.OrderedDict()\n",
    "    for x in init_vars:\n",
    "        (name, var) = (x[0], x[1])\n",
    "        name_r = name.replace('bert/embeddings/LayerNorm', 'bert/encoder/LayerNorm')\n",
    "        if name_r not in name_to_variable:\n",
    "            continue\n",
    "        if 'embeddings/position_embeddings' in name_r:\n",
    "            continue\n",
    "        assignment_map[name] = name_to_variable[name_r]\n",
    "        initialized_variable_names[name_r] = 1\n",
    "        initialized_variable_names[name_r + ':0'] = 1\n",
    "\n",
    "    return (assignment_map, initialized_variable_names)"
   ]
  },
  {
   "cell_type": "code",
   "execution_count": 18,
   "metadata": {},
   "outputs": [],
   "source": [
    "tvars = tf.trainable_variables()\n",
    "checkpoint = 'bert-base/model.ckpt-1000000'\n",
    "assignment_map, initialized_variable_names = get_assignment_map_from_checkpoint(tvars, \n",
    "                                                                                checkpoint)"
   ]
  },
  {
   "cell_type": "code",
   "execution_count": 19,
   "metadata": {},
   "outputs": [
    {
     "name": "stdout",
     "output_type": "stream",
     "text": [
      "INFO:tensorflow:Restoring parameters from bert-base/model.ckpt-1000000\n"
     ]
    },
    {
     "name": "stderr",
     "output_type": "stream",
     "text": [
      "INFO:tensorflow:Restoring parameters from bert-base/model.ckpt-1000000\n"
     ]
    }
   ],
   "source": [
    "saver = tf.train.Saver(var_list = assignment_map)\n",
    "saver.restore(sess, checkpoint)"
   ]
  },
  {
   "cell_type": "code",
   "execution_count": 20,
   "metadata": {},
   "outputs": [],
   "source": [
    "from sklearn.model_selection import train_test_split\n",
    "\n",
    "train_input_ids, test_input_ids, train_Y, test_Y, train_mask, test_mask = train_test_split(\n",
    "    input_ids, actual_l, input_masks, test_size = 0.2\n",
    ")"
   ]
  },
  {
   "cell_type": "code",
   "execution_count": 21,
   "metadata": {},
   "outputs": [],
   "source": [
    "pad_sequences = tf.keras.preprocessing.sequence.pad_sequences"
   ]
  },
  {
   "cell_type": "code",
   "execution_count": 22,
   "metadata": {},
   "outputs": [
    {
     "name": "stderr",
     "output_type": "stream",
     "text": [
      "train minibatch loop: 100%|██████████| 7034/7034 [1:29:53<00:00,  1.30it/s, accuracy=1, cost=0.00145]   \n",
      "test minibatch loop: 100%|██████████| 1759/1759 [07:39<00:00,  3.83it/s, accuracy=1, cost=0.00173]   \n",
      "train minibatch loop:   0%|          | 0/7034 [00:00<?, ?it/s]"
     ]
    },
    {
     "name": "stdout",
     "output_type": "stream",
     "text": [
      "epoch: 0, training loss: 0.200544, training acc: 0.943293, valid loss: 0.086680, valid acc: 0.983300\n",
      "\n"
     ]
    },
    {
     "name": "stderr",
     "output_type": "stream",
     "text": [
      "train minibatch loop: 100%|██████████| 7034/7034 [1:28:39<00:00,  1.32it/s, accuracy=1, cost=0.000388]  \n",
      "test minibatch loop: 100%|██████████| 1759/1759 [07:34<00:00,  3.87it/s, accuracy=1, cost=0.000243]  \n",
      "train minibatch loop:   0%|          | 0/7034 [00:00<?, ?it/s]"
     ]
    },
    {
     "name": "stdout",
     "output_type": "stream",
     "text": [
      "epoch: 1, training loss: 0.044958, training acc: 0.990422, valid loss: 0.046701, valid acc: 0.990655\n",
      "\n"
     ]
    },
    {
     "name": "stderr",
     "output_type": "stream",
     "text": [
      "train minibatch loop: 100%|██████████| 7034/7034 [1:28:37<00:00,  1.32it/s, accuracy=1, cost=0.00021]   \n",
      "test minibatch loop: 100%|██████████| 1759/1759 [07:35<00:00,  3.86it/s, accuracy=1, cost=0.00011]   "
     ]
    },
    {
     "name": "stdout",
     "output_type": "stream",
     "text": [
      "epoch: 2, training loss: 0.018654, training acc: 0.996064, valid loss: 0.044817, valid acc: 0.992361\n",
      "\n"
     ]
    },
    {
     "name": "stderr",
     "output_type": "stream",
     "text": [
      "\n"
     ]
    }
   ],
   "source": [
    "from tqdm import tqdm\n",
    "import time\n",
    "\n",
    "for EPOCH in range(epoch):\n",
    "\n",
    "    train_acc, train_loss, test_acc, test_loss = [], [], [], []\n",
    "    pbar = tqdm(\n",
    "        range(0, len(train_input_ids), batch_size), desc = 'train minibatch loop'\n",
    "    )\n",
    "    for i in pbar:\n",
    "        index = min(i + batch_size, len(train_input_ids))\n",
    "        batch_x = train_input_ids[i: index]\n",
    "        batch_x = pad_sequences(batch_x, padding='post', maxlen = maxlen)\n",
    "        batch_y = train_Y[i: index]\n",
    "        acc, cost, _ = sess.run(\n",
    "            [model.accuracy, model.cost, model.optimizer],\n",
    "            feed_dict = {\n",
    "                model.Y: batch_y,\n",
    "                model.X: batch_x,\n",
    "            },\n",
    "        )\n",
    "        train_loss.append(cost)\n",
    "        train_acc.append(acc)\n",
    "        pbar.set_postfix(cost = cost, accuracy = acc)\n",
    "        \n",
    "    pbar = tqdm(range(0, len(test_input_ids), batch_size), desc = 'test minibatch loop')\n",
    "    for i in pbar:\n",
    "        index = min(i + batch_size, len(test_input_ids))\n",
    "        batch_x = test_input_ids[i: index]\n",
    "        batch_x = pad_sequences(batch_x, padding='post', maxlen = maxlen)\n",
    "        batch_y = test_Y[i: index]\n",
    "        acc, cost = sess.run(\n",
    "            [model.accuracy, model.cost],\n",
    "            feed_dict = {\n",
    "                model.Y: batch_y,\n",
    "                model.X: batch_x,\n",
    "            },\n",
    "        )\n",
    "        test_loss.append(cost)\n",
    "        test_acc.append(acc)\n",
    "        pbar.set_postfix(cost = cost, accuracy = acc)\n",
    "        \n",
    "    train_loss = np.mean(train_loss)\n",
    "    train_acc = np.mean(train_acc)\n",
    "    test_loss = np.mean(test_loss)\n",
    "    test_acc = np.mean(test_acc)\n",
    "    \n",
    "    print(\n",
    "        'epoch: %d, training loss: %f, training acc: %f, valid loss: %f, valid acc: %f\\n'\n",
    "        % (EPOCH, train_loss, train_acc, test_loss, test_acc)\n",
    "    )"
   ]
  },
  {
   "cell_type": "code",
   "execution_count": 23,
   "metadata": {},
   "outputs": [
    {
     "data": {
      "text/plain": [
       "'bigbird-base-emotion/model.ckpt'"
      ]
     },
     "execution_count": 23,
     "metadata": {},
     "output_type": "execute_result"
    }
   ],
   "source": [
    "saver = tf.train.Saver(tf.trainable_variables())\n",
    "saver.save(sess, 'bigbird-base-emotion/model.ckpt')"
   ]
  },
  {
   "cell_type": "code",
   "execution_count": 24,
   "metadata": {},
   "outputs": [
    {
     "data": {
      "text/plain": [
       "['Placeholder',\n",
       " 'Placeholder_1',\n",
       " 'bert/embeddings/word_embeddings',\n",
       " 'bert/embeddings/token_type_embeddings',\n",
       " 'bert/embeddings/position_embeddings',\n",
       " 'bert/encoder/LayerNorm/gamma',\n",
       " 'bert/encoder/layer_0/attention/self/query/kernel',\n",
       " 'bert/encoder/layer_0/attention/self/query/bias',\n",
       " 'bert/encoder/layer_0/attention/self/key/kernel',\n",
       " 'bert/encoder/layer_0/attention/self/key/bias',\n",
       " 'bert/encoder/layer_0/attention/self/value/kernel',\n",
       " 'bert/encoder/layer_0/attention/self/value/bias',\n",
       " 'bert/encoder/layer_0/attention/self/Softmax',\n",
       " 'bert/encoder/layer_0/attention/self/Softmax_1',\n",
       " 'bert/encoder/layer_0/attention/self/Softmax_2',\n",
       " 'bert/encoder/layer_0/attention/self/Softmax_3',\n",
       " 'bert/encoder/layer_0/attention/self/Softmax_4',\n",
       " 'bert/encoder/layer_0/attention/output/dense/kernel',\n",
       " 'bert/encoder/layer_0/attention/output/dense/bias',\n",
       " 'bert/encoder/layer_0/attention/output/LayerNorm/gamma',\n",
       " 'bert/encoder/layer_0/intermediate/dense/kernel',\n",
       " 'bert/encoder/layer_0/intermediate/dense/bias',\n",
       " 'bert/encoder/layer_0/output/dense/kernel',\n",
       " 'bert/encoder/layer_0/output/dense/bias',\n",
       " 'bert/encoder/layer_0/output/LayerNorm/gamma',\n",
       " 'bert/encoder/layer_1/attention/self/query/kernel',\n",
       " 'bert/encoder/layer_1/attention/self/query/bias',\n",
       " 'bert/encoder/layer_1/attention/self/key/kernel',\n",
       " 'bert/encoder/layer_1/attention/self/key/bias',\n",
       " 'bert/encoder/layer_1/attention/self/value/kernel',\n",
       " 'bert/encoder/layer_1/attention/self/value/bias',\n",
       " 'bert/encoder/layer_1/attention/self/Softmax',\n",
       " 'bert/encoder/layer_1/attention/self/Softmax_1',\n",
       " 'bert/encoder/layer_1/attention/self/Softmax_2',\n",
       " 'bert/encoder/layer_1/attention/self/Softmax_3',\n",
       " 'bert/encoder/layer_1/attention/self/Softmax_4',\n",
       " 'bert/encoder/layer_1/attention/output/dense/kernel',\n",
       " 'bert/encoder/layer_1/attention/output/dense/bias',\n",
       " 'bert/encoder/layer_1/attention/output/LayerNorm/gamma',\n",
       " 'bert/encoder/layer_1/intermediate/dense/kernel',\n",
       " 'bert/encoder/layer_1/intermediate/dense/bias',\n",
       " 'bert/encoder/layer_1/output/dense/kernel',\n",
       " 'bert/encoder/layer_1/output/dense/bias',\n",
       " 'bert/encoder/layer_1/output/LayerNorm/gamma',\n",
       " 'bert/encoder/layer_2/attention/self/query/kernel',\n",
       " 'bert/encoder/layer_2/attention/self/query/bias',\n",
       " 'bert/encoder/layer_2/attention/self/key/kernel',\n",
       " 'bert/encoder/layer_2/attention/self/key/bias',\n",
       " 'bert/encoder/layer_2/attention/self/value/kernel',\n",
       " 'bert/encoder/layer_2/attention/self/value/bias',\n",
       " 'bert/encoder/layer_2/attention/self/Softmax',\n",
       " 'bert/encoder/layer_2/attention/self/Softmax_1',\n",
       " 'bert/encoder/layer_2/attention/self/Softmax_2',\n",
       " 'bert/encoder/layer_2/attention/self/Softmax_3',\n",
       " 'bert/encoder/layer_2/attention/self/Softmax_4',\n",
       " 'bert/encoder/layer_2/attention/output/dense/kernel',\n",
       " 'bert/encoder/layer_2/attention/output/dense/bias',\n",
       " 'bert/encoder/layer_2/attention/output/LayerNorm/gamma',\n",
       " 'bert/encoder/layer_2/intermediate/dense/kernel',\n",
       " 'bert/encoder/layer_2/intermediate/dense/bias',\n",
       " 'bert/encoder/layer_2/output/dense/kernel',\n",
       " 'bert/encoder/layer_2/output/dense/bias',\n",
       " 'bert/encoder/layer_2/output/LayerNorm/gamma',\n",
       " 'bert/encoder/layer_3/attention/self/query/kernel',\n",
       " 'bert/encoder/layer_3/attention/self/query/bias',\n",
       " 'bert/encoder/layer_3/attention/self/key/kernel',\n",
       " 'bert/encoder/layer_3/attention/self/key/bias',\n",
       " 'bert/encoder/layer_3/attention/self/value/kernel',\n",
       " 'bert/encoder/layer_3/attention/self/value/bias',\n",
       " 'bert/encoder/layer_3/attention/self/Softmax',\n",
       " 'bert/encoder/layer_3/attention/self/Softmax_1',\n",
       " 'bert/encoder/layer_3/attention/self/Softmax_2',\n",
       " 'bert/encoder/layer_3/attention/self/Softmax_3',\n",
       " 'bert/encoder/layer_3/attention/self/Softmax_4',\n",
       " 'bert/encoder/layer_3/attention/output/dense/kernel',\n",
       " 'bert/encoder/layer_3/attention/output/dense/bias',\n",
       " 'bert/encoder/layer_3/attention/output/LayerNorm/gamma',\n",
       " 'bert/encoder/layer_3/intermediate/dense/kernel',\n",
       " 'bert/encoder/layer_3/intermediate/dense/bias',\n",
       " 'bert/encoder/layer_3/output/dense/kernel',\n",
       " 'bert/encoder/layer_3/output/dense/bias',\n",
       " 'bert/encoder/layer_3/output/LayerNorm/gamma',\n",
       " 'bert/encoder/layer_4/attention/self/query/kernel',\n",
       " 'bert/encoder/layer_4/attention/self/query/bias',\n",
       " 'bert/encoder/layer_4/attention/self/key/kernel',\n",
       " 'bert/encoder/layer_4/attention/self/key/bias',\n",
       " 'bert/encoder/layer_4/attention/self/value/kernel',\n",
       " 'bert/encoder/layer_4/attention/self/value/bias',\n",
       " 'bert/encoder/layer_4/attention/self/Softmax',\n",
       " 'bert/encoder/layer_4/attention/self/Softmax_1',\n",
       " 'bert/encoder/layer_4/attention/self/Softmax_2',\n",
       " 'bert/encoder/layer_4/attention/self/Softmax_3',\n",
       " 'bert/encoder/layer_4/attention/self/Softmax_4',\n",
       " 'bert/encoder/layer_4/attention/output/dense/kernel',\n",
       " 'bert/encoder/layer_4/attention/output/dense/bias',\n",
       " 'bert/encoder/layer_4/attention/output/LayerNorm/gamma',\n",
       " 'bert/encoder/layer_4/intermediate/dense/kernel',\n",
       " 'bert/encoder/layer_4/intermediate/dense/bias',\n",
       " 'bert/encoder/layer_4/output/dense/kernel',\n",
       " 'bert/encoder/layer_4/output/dense/bias',\n",
       " 'bert/encoder/layer_4/output/LayerNorm/gamma',\n",
       " 'bert/encoder/layer_5/attention/self/query/kernel',\n",
       " 'bert/encoder/layer_5/attention/self/query/bias',\n",
       " 'bert/encoder/layer_5/attention/self/key/kernel',\n",
       " 'bert/encoder/layer_5/attention/self/key/bias',\n",
       " 'bert/encoder/layer_5/attention/self/value/kernel',\n",
       " 'bert/encoder/layer_5/attention/self/value/bias',\n",
       " 'bert/encoder/layer_5/attention/self/Softmax',\n",
       " 'bert/encoder/layer_5/attention/self/Softmax_1',\n",
       " 'bert/encoder/layer_5/attention/self/Softmax_2',\n",
       " 'bert/encoder/layer_5/attention/self/Softmax_3',\n",
       " 'bert/encoder/layer_5/attention/self/Softmax_4',\n",
       " 'bert/encoder/layer_5/attention/output/dense/kernel',\n",
       " 'bert/encoder/layer_5/attention/output/dense/bias',\n",
       " 'bert/encoder/layer_5/attention/output/LayerNorm/gamma',\n",
       " 'bert/encoder/layer_5/intermediate/dense/kernel',\n",
       " 'bert/encoder/layer_5/intermediate/dense/bias',\n",
       " 'bert/encoder/layer_5/output/dense/kernel',\n",
       " 'bert/encoder/layer_5/output/dense/bias',\n",
       " 'bert/encoder/layer_5/output/LayerNorm/gamma',\n",
       " 'bert/encoder/layer_6/attention/self/query/kernel',\n",
       " 'bert/encoder/layer_6/attention/self/query/bias',\n",
       " 'bert/encoder/layer_6/attention/self/key/kernel',\n",
       " 'bert/encoder/layer_6/attention/self/key/bias',\n",
       " 'bert/encoder/layer_6/attention/self/value/kernel',\n",
       " 'bert/encoder/layer_6/attention/self/value/bias',\n",
       " 'bert/encoder/layer_6/attention/self/Softmax',\n",
       " 'bert/encoder/layer_6/attention/self/Softmax_1',\n",
       " 'bert/encoder/layer_6/attention/self/Softmax_2',\n",
       " 'bert/encoder/layer_6/attention/self/Softmax_3',\n",
       " 'bert/encoder/layer_6/attention/self/Softmax_4',\n",
       " 'bert/encoder/layer_6/attention/output/dense/kernel',\n",
       " 'bert/encoder/layer_6/attention/output/dense/bias',\n",
       " 'bert/encoder/layer_6/attention/output/LayerNorm/gamma',\n",
       " 'bert/encoder/layer_6/intermediate/dense/kernel',\n",
       " 'bert/encoder/layer_6/intermediate/dense/bias',\n",
       " 'bert/encoder/layer_6/output/dense/kernel',\n",
       " 'bert/encoder/layer_6/output/dense/bias',\n",
       " 'bert/encoder/layer_6/output/LayerNorm/gamma',\n",
       " 'bert/encoder/layer_7/attention/self/query/kernel',\n",
       " 'bert/encoder/layer_7/attention/self/query/bias',\n",
       " 'bert/encoder/layer_7/attention/self/key/kernel',\n",
       " 'bert/encoder/layer_7/attention/self/key/bias',\n",
       " 'bert/encoder/layer_7/attention/self/value/kernel',\n",
       " 'bert/encoder/layer_7/attention/self/value/bias',\n",
       " 'bert/encoder/layer_7/attention/self/Softmax',\n",
       " 'bert/encoder/layer_7/attention/self/Softmax_1',\n",
       " 'bert/encoder/layer_7/attention/self/Softmax_2',\n",
       " 'bert/encoder/layer_7/attention/self/Softmax_3',\n",
       " 'bert/encoder/layer_7/attention/self/Softmax_4',\n",
       " 'bert/encoder/layer_7/attention/output/dense/kernel',\n",
       " 'bert/encoder/layer_7/attention/output/dense/bias',\n",
       " 'bert/encoder/layer_7/attention/output/LayerNorm/gamma',\n",
       " 'bert/encoder/layer_7/intermediate/dense/kernel',\n",
       " 'bert/encoder/layer_7/intermediate/dense/bias',\n",
       " 'bert/encoder/layer_7/output/dense/kernel',\n",
       " 'bert/encoder/layer_7/output/dense/bias',\n",
       " 'bert/encoder/layer_7/output/LayerNorm/gamma',\n",
       " 'bert/encoder/layer_8/attention/self/query/kernel',\n",
       " 'bert/encoder/layer_8/attention/self/query/bias',\n",
       " 'bert/encoder/layer_8/attention/self/key/kernel',\n",
       " 'bert/encoder/layer_8/attention/self/key/bias',\n",
       " 'bert/encoder/layer_8/attention/self/value/kernel',\n",
       " 'bert/encoder/layer_8/attention/self/value/bias',\n",
       " 'bert/encoder/layer_8/attention/self/Softmax',\n",
       " 'bert/encoder/layer_8/attention/self/Softmax_1',\n",
       " 'bert/encoder/layer_8/attention/self/Softmax_2',\n",
       " 'bert/encoder/layer_8/attention/self/Softmax_3',\n",
       " 'bert/encoder/layer_8/attention/self/Softmax_4',\n",
       " 'bert/encoder/layer_8/attention/output/dense/kernel',\n",
       " 'bert/encoder/layer_8/attention/output/dense/bias',\n",
       " 'bert/encoder/layer_8/attention/output/LayerNorm/gamma',\n",
       " 'bert/encoder/layer_8/intermediate/dense/kernel',\n",
       " 'bert/encoder/layer_8/intermediate/dense/bias',\n",
       " 'bert/encoder/layer_8/output/dense/kernel',\n",
       " 'bert/encoder/layer_8/output/dense/bias',\n",
       " 'bert/encoder/layer_8/output/LayerNorm/gamma',\n",
       " 'bert/encoder/layer_9/attention/self/query/kernel',\n",
       " 'bert/encoder/layer_9/attention/self/query/bias',\n",
       " 'bert/encoder/layer_9/attention/self/key/kernel',\n",
       " 'bert/encoder/layer_9/attention/self/key/bias',\n",
       " 'bert/encoder/layer_9/attention/self/value/kernel',\n",
       " 'bert/encoder/layer_9/attention/self/value/bias',\n",
       " 'bert/encoder/layer_9/attention/self/Softmax',\n",
       " 'bert/encoder/layer_9/attention/self/Softmax_1',\n",
       " 'bert/encoder/layer_9/attention/self/Softmax_2',\n",
       " 'bert/encoder/layer_9/attention/self/Softmax_3',\n",
       " 'bert/encoder/layer_9/attention/self/Softmax_4',\n",
       " 'bert/encoder/layer_9/attention/output/dense/kernel',\n",
       " 'bert/encoder/layer_9/attention/output/dense/bias',\n",
       " 'bert/encoder/layer_9/attention/output/LayerNorm/gamma',\n",
       " 'bert/encoder/layer_9/intermediate/dense/kernel',\n",
       " 'bert/encoder/layer_9/intermediate/dense/bias',\n",
       " 'bert/encoder/layer_9/output/dense/kernel',\n",
       " 'bert/encoder/layer_9/output/dense/bias',\n",
       " 'bert/encoder/layer_9/output/LayerNorm/gamma',\n",
       " 'bert/encoder/layer_10/attention/self/query/kernel',\n",
       " 'bert/encoder/layer_10/attention/self/query/bias',\n",
       " 'bert/encoder/layer_10/attention/self/key/kernel',\n",
       " 'bert/encoder/layer_10/attention/self/key/bias',\n",
       " 'bert/encoder/layer_10/attention/self/value/kernel',\n",
       " 'bert/encoder/layer_10/attention/self/value/bias',\n",
       " 'bert/encoder/layer_10/attention/self/Softmax',\n",
       " 'bert/encoder/layer_10/attention/self/Softmax_1',\n",
       " 'bert/encoder/layer_10/attention/self/Softmax_2',\n",
       " 'bert/encoder/layer_10/attention/self/Softmax_3',\n",
       " 'bert/encoder/layer_10/attention/self/Softmax_4',\n",
       " 'bert/encoder/layer_10/attention/output/dense/kernel',\n",
       " 'bert/encoder/layer_10/attention/output/dense/bias',\n",
       " 'bert/encoder/layer_10/attention/output/LayerNorm/gamma',\n",
       " 'bert/encoder/layer_10/intermediate/dense/kernel',\n",
       " 'bert/encoder/layer_10/intermediate/dense/bias',\n",
       " 'bert/encoder/layer_10/output/dense/kernel',\n",
       " 'bert/encoder/layer_10/output/dense/bias',\n",
       " 'bert/encoder/layer_10/output/LayerNorm/gamma',\n",
       " 'bert/encoder/layer_11/attention/self/query/kernel',\n",
       " 'bert/encoder/layer_11/attention/self/query/bias',\n",
       " 'bert/encoder/layer_11/attention/self/key/kernel',\n",
       " 'bert/encoder/layer_11/attention/self/key/bias',\n",
       " 'bert/encoder/layer_11/attention/self/value/kernel',\n",
       " 'bert/encoder/layer_11/attention/self/value/bias',\n",
       " 'bert/encoder/layer_11/attention/self/Softmax',\n",
       " 'bert/encoder/layer_11/attention/self/Softmax_1',\n",
       " 'bert/encoder/layer_11/attention/self/Softmax_2',\n",
       " 'bert/encoder/layer_11/attention/self/Softmax_3',\n",
       " 'bert/encoder/layer_11/attention/self/Softmax_4',\n",
       " 'bert/encoder/layer_11/attention/output/dense/kernel',\n",
       " 'bert/encoder/layer_11/attention/output/dense/bias',\n",
       " 'bert/encoder/layer_11/attention/output/LayerNorm/gamma',\n",
       " 'bert/encoder/layer_11/intermediate/dense/kernel',\n",
       " 'bert/encoder/layer_11/intermediate/dense/bias',\n",
       " 'bert/encoder/layer_11/output/dense/kernel',\n",
       " 'bert/encoder/layer_11/output/dense/bias',\n",
       " 'bert/encoder/layer_11/output/LayerNorm/gamma',\n",
       " 'bert/pooler/dense/kernel',\n",
       " 'bert/pooler/dense/bias',\n",
       " 'dense/kernel',\n",
       " 'dense/bias',\n",
       " 'dense_1/kernel',\n",
       " 'dense_1/bias',\n",
       " 'logits_seq',\n",
       " 'logits',\n",
       " 'gradients/bert/encoder/layer_11/attention/self/Softmax_grad/mul',\n",
       " 'gradients/bert/encoder/layer_11/attention/self/Softmax_grad/Sum/reduction_indices',\n",
       " 'gradients/bert/encoder/layer_11/attention/self/Softmax_grad/Sum',\n",
       " 'gradients/bert/encoder/layer_11/attention/self/Softmax_grad/sub',\n",
       " 'gradients/bert/encoder/layer_11/attention/self/Softmax_grad/mul_1',\n",
       " 'gradients/bert/encoder/layer_11/attention/self/Softmax_1_grad/mul',\n",
       " 'gradients/bert/encoder/layer_11/attention/self/Softmax_1_grad/Sum/reduction_indices',\n",
       " 'gradients/bert/encoder/layer_11/attention/self/Softmax_1_grad/Sum',\n",
       " 'gradients/bert/encoder/layer_11/attention/self/Softmax_1_grad/sub',\n",
       " 'gradients/bert/encoder/layer_11/attention/self/Softmax_1_grad/mul_1',\n",
       " 'gradients/bert/encoder/layer_11/attention/self/Softmax_3_grad/mul',\n",
       " 'gradients/bert/encoder/layer_11/attention/self/Softmax_3_grad/Sum/reduction_indices',\n",
       " 'gradients/bert/encoder/layer_11/attention/self/Softmax_3_grad/Sum',\n",
       " 'gradients/bert/encoder/layer_11/attention/self/Softmax_3_grad/sub',\n",
       " 'gradients/bert/encoder/layer_11/attention/self/Softmax_3_grad/mul_1',\n",
       " 'gradients/bert/encoder/layer_11/attention/self/Softmax_4_grad/mul',\n",
       " 'gradients/bert/encoder/layer_11/attention/self/Softmax_4_grad/Sum/reduction_indices',\n",
       " 'gradients/bert/encoder/layer_11/attention/self/Softmax_4_grad/Sum',\n",
       " 'gradients/bert/encoder/layer_11/attention/self/Softmax_4_grad/sub',\n",
       " 'gradients/bert/encoder/layer_11/attention/self/Softmax_4_grad/mul_1',\n",
       " 'gradients/bert/encoder/layer_11/attention/self/Softmax_2_grad/mul',\n",
       " 'gradients/bert/encoder/layer_11/attention/self/Softmax_2_grad/Sum/reduction_indices',\n",
       " 'gradients/bert/encoder/layer_11/attention/self/Softmax_2_grad/Sum',\n",
       " 'gradients/bert/encoder/layer_11/attention/self/Softmax_2_grad/sub',\n",
       " 'gradients/bert/encoder/layer_11/attention/self/Softmax_2_grad/mul_1',\n",
       " 'gradients/bert/encoder/layer_10/attention/self/Softmax_grad/mul',\n",
       " 'gradients/bert/encoder/layer_10/attention/self/Softmax_grad/Sum/reduction_indices',\n",
       " 'gradients/bert/encoder/layer_10/attention/self/Softmax_grad/Sum',\n",
       " 'gradients/bert/encoder/layer_10/attention/self/Softmax_grad/sub',\n",
       " 'gradients/bert/encoder/layer_10/attention/self/Softmax_grad/mul_1',\n",
       " 'gradients/bert/encoder/layer_10/attention/self/Softmax_1_grad/mul',\n",
       " 'gradients/bert/encoder/layer_10/attention/self/Softmax_1_grad/Sum/reduction_indices',\n",
       " 'gradients/bert/encoder/layer_10/attention/self/Softmax_1_grad/Sum',\n",
       " 'gradients/bert/encoder/layer_10/attention/self/Softmax_1_grad/sub',\n",
       " 'gradients/bert/encoder/layer_10/attention/self/Softmax_1_grad/mul_1',\n",
       " 'gradients/bert/encoder/layer_10/attention/self/Softmax_3_grad/mul',\n",
       " 'gradients/bert/encoder/layer_10/attention/self/Softmax_3_grad/Sum/reduction_indices',\n",
       " 'gradients/bert/encoder/layer_10/attention/self/Softmax_3_grad/Sum',\n",
       " 'gradients/bert/encoder/layer_10/attention/self/Softmax_3_grad/sub',\n",
       " 'gradients/bert/encoder/layer_10/attention/self/Softmax_3_grad/mul_1',\n",
       " 'gradients/bert/encoder/layer_10/attention/self/Softmax_4_grad/mul',\n",
       " 'gradients/bert/encoder/layer_10/attention/self/Softmax_4_grad/Sum/reduction_indices',\n",
       " 'gradients/bert/encoder/layer_10/attention/self/Softmax_4_grad/Sum',\n",
       " 'gradients/bert/encoder/layer_10/attention/self/Softmax_4_grad/sub',\n",
       " 'gradients/bert/encoder/layer_10/attention/self/Softmax_4_grad/mul_1',\n",
       " 'gradients/bert/encoder/layer_10/attention/self/Softmax_2_grad/mul',\n",
       " 'gradients/bert/encoder/layer_10/attention/self/Softmax_2_grad/Sum/reduction_indices',\n",
       " 'gradients/bert/encoder/layer_10/attention/self/Softmax_2_grad/Sum',\n",
       " 'gradients/bert/encoder/layer_10/attention/self/Softmax_2_grad/sub',\n",
       " 'gradients/bert/encoder/layer_10/attention/self/Softmax_2_grad/mul_1',\n",
       " 'gradients/bert/encoder/layer_9/attention/self/Softmax_grad/mul',\n",
       " 'gradients/bert/encoder/layer_9/attention/self/Softmax_grad/Sum/reduction_indices',\n",
       " 'gradients/bert/encoder/layer_9/attention/self/Softmax_grad/Sum',\n",
       " 'gradients/bert/encoder/layer_9/attention/self/Softmax_grad/sub',\n",
       " 'gradients/bert/encoder/layer_9/attention/self/Softmax_grad/mul_1',\n",
       " 'gradients/bert/encoder/layer_9/attention/self/Softmax_1_grad/mul',\n",
       " 'gradients/bert/encoder/layer_9/attention/self/Softmax_1_grad/Sum/reduction_indices',\n",
       " 'gradients/bert/encoder/layer_9/attention/self/Softmax_1_grad/Sum',\n",
       " 'gradients/bert/encoder/layer_9/attention/self/Softmax_1_grad/sub',\n",
       " 'gradients/bert/encoder/layer_9/attention/self/Softmax_1_grad/mul_1',\n",
       " 'gradients/bert/encoder/layer_9/attention/self/Softmax_3_grad/mul',\n",
       " 'gradients/bert/encoder/layer_9/attention/self/Softmax_3_grad/Sum/reduction_indices',\n",
       " 'gradients/bert/encoder/layer_9/attention/self/Softmax_3_grad/Sum',\n",
       " 'gradients/bert/encoder/layer_9/attention/self/Softmax_3_grad/sub',\n",
       " 'gradients/bert/encoder/layer_9/attention/self/Softmax_3_grad/mul_1',\n",
       " 'gradients/bert/encoder/layer_9/attention/self/Softmax_4_grad/mul',\n",
       " 'gradients/bert/encoder/layer_9/attention/self/Softmax_4_grad/Sum/reduction_indices',\n",
       " 'gradients/bert/encoder/layer_9/attention/self/Softmax_4_grad/Sum',\n",
       " 'gradients/bert/encoder/layer_9/attention/self/Softmax_4_grad/sub',\n",
       " 'gradients/bert/encoder/layer_9/attention/self/Softmax_4_grad/mul_1',\n",
       " 'gradients/bert/encoder/layer_9/attention/self/Softmax_2_grad/mul',\n",
       " 'gradients/bert/encoder/layer_9/attention/self/Softmax_2_grad/Sum/reduction_indices',\n",
       " 'gradients/bert/encoder/layer_9/attention/self/Softmax_2_grad/Sum',\n",
       " 'gradients/bert/encoder/layer_9/attention/self/Softmax_2_grad/sub',\n",
       " 'gradients/bert/encoder/layer_9/attention/self/Softmax_2_grad/mul_1',\n",
       " 'gradients/bert/encoder/layer_8/attention/self/Softmax_grad/mul',\n",
       " 'gradients/bert/encoder/layer_8/attention/self/Softmax_grad/Sum/reduction_indices',\n",
       " 'gradients/bert/encoder/layer_8/attention/self/Softmax_grad/Sum',\n",
       " 'gradients/bert/encoder/layer_8/attention/self/Softmax_grad/sub',\n",
       " 'gradients/bert/encoder/layer_8/attention/self/Softmax_grad/mul_1',\n",
       " 'gradients/bert/encoder/layer_8/attention/self/Softmax_1_grad/mul',\n",
       " 'gradients/bert/encoder/layer_8/attention/self/Softmax_1_grad/Sum/reduction_indices',\n",
       " 'gradients/bert/encoder/layer_8/attention/self/Softmax_1_grad/Sum',\n",
       " 'gradients/bert/encoder/layer_8/attention/self/Softmax_1_grad/sub',\n",
       " 'gradients/bert/encoder/layer_8/attention/self/Softmax_1_grad/mul_1',\n",
       " 'gradients/bert/encoder/layer_8/attention/self/Softmax_3_grad/mul',\n",
       " 'gradients/bert/encoder/layer_8/attention/self/Softmax_3_grad/Sum/reduction_indices',\n",
       " 'gradients/bert/encoder/layer_8/attention/self/Softmax_3_grad/Sum',\n",
       " 'gradients/bert/encoder/layer_8/attention/self/Softmax_3_grad/sub',\n",
       " 'gradients/bert/encoder/layer_8/attention/self/Softmax_3_grad/mul_1',\n",
       " 'gradients/bert/encoder/layer_8/attention/self/Softmax_4_grad/mul',\n",
       " 'gradients/bert/encoder/layer_8/attention/self/Softmax_4_grad/Sum/reduction_indices',\n",
       " 'gradients/bert/encoder/layer_8/attention/self/Softmax_4_grad/Sum',\n",
       " 'gradients/bert/encoder/layer_8/attention/self/Softmax_4_grad/sub',\n",
       " 'gradients/bert/encoder/layer_8/attention/self/Softmax_4_grad/mul_1',\n",
       " 'gradients/bert/encoder/layer_8/attention/self/Softmax_2_grad/mul',\n",
       " 'gradients/bert/encoder/layer_8/attention/self/Softmax_2_grad/Sum/reduction_indices',\n",
       " 'gradients/bert/encoder/layer_8/attention/self/Softmax_2_grad/Sum',\n",
       " 'gradients/bert/encoder/layer_8/attention/self/Softmax_2_grad/sub',\n",
       " 'gradients/bert/encoder/layer_8/attention/self/Softmax_2_grad/mul_1',\n",
       " 'gradients/bert/encoder/layer_7/attention/self/Softmax_grad/mul',\n",
       " 'gradients/bert/encoder/layer_7/attention/self/Softmax_grad/Sum/reduction_indices',\n",
       " 'gradients/bert/encoder/layer_7/attention/self/Softmax_grad/Sum',\n",
       " 'gradients/bert/encoder/layer_7/attention/self/Softmax_grad/sub',\n",
       " 'gradients/bert/encoder/layer_7/attention/self/Softmax_grad/mul_1',\n",
       " 'gradients/bert/encoder/layer_7/attention/self/Softmax_1_grad/mul',\n",
       " 'gradients/bert/encoder/layer_7/attention/self/Softmax_1_grad/Sum/reduction_indices',\n",
       " 'gradients/bert/encoder/layer_7/attention/self/Softmax_1_grad/Sum',\n",
       " 'gradients/bert/encoder/layer_7/attention/self/Softmax_1_grad/sub',\n",
       " 'gradients/bert/encoder/layer_7/attention/self/Softmax_1_grad/mul_1',\n",
       " 'gradients/bert/encoder/layer_7/attention/self/Softmax_3_grad/mul',\n",
       " 'gradients/bert/encoder/layer_7/attention/self/Softmax_3_grad/Sum/reduction_indices',\n",
       " 'gradients/bert/encoder/layer_7/attention/self/Softmax_3_grad/Sum',\n",
       " 'gradients/bert/encoder/layer_7/attention/self/Softmax_3_grad/sub',\n",
       " 'gradients/bert/encoder/layer_7/attention/self/Softmax_3_grad/mul_1',\n",
       " 'gradients/bert/encoder/layer_7/attention/self/Softmax_4_grad/mul',\n",
       " 'gradients/bert/encoder/layer_7/attention/self/Softmax_4_grad/Sum/reduction_indices',\n",
       " 'gradients/bert/encoder/layer_7/attention/self/Softmax_4_grad/Sum',\n",
       " 'gradients/bert/encoder/layer_7/attention/self/Softmax_4_grad/sub',\n",
       " 'gradients/bert/encoder/layer_7/attention/self/Softmax_4_grad/mul_1',\n",
       " 'gradients/bert/encoder/layer_7/attention/self/Softmax_2_grad/mul',\n",
       " 'gradients/bert/encoder/layer_7/attention/self/Softmax_2_grad/Sum/reduction_indices',\n",
       " 'gradients/bert/encoder/layer_7/attention/self/Softmax_2_grad/Sum',\n",
       " 'gradients/bert/encoder/layer_7/attention/self/Softmax_2_grad/sub',\n",
       " 'gradients/bert/encoder/layer_7/attention/self/Softmax_2_grad/mul_1',\n",
       " 'gradients/bert/encoder/layer_6/attention/self/Softmax_grad/mul',\n",
       " 'gradients/bert/encoder/layer_6/attention/self/Softmax_grad/Sum/reduction_indices',\n",
       " 'gradients/bert/encoder/layer_6/attention/self/Softmax_grad/Sum',\n",
       " 'gradients/bert/encoder/layer_6/attention/self/Softmax_grad/sub',\n",
       " 'gradients/bert/encoder/layer_6/attention/self/Softmax_grad/mul_1',\n",
       " 'gradients/bert/encoder/layer_6/attention/self/Softmax_1_grad/mul',\n",
       " 'gradients/bert/encoder/layer_6/attention/self/Softmax_1_grad/Sum/reduction_indices',\n",
       " 'gradients/bert/encoder/layer_6/attention/self/Softmax_1_grad/Sum',\n",
       " 'gradients/bert/encoder/layer_6/attention/self/Softmax_1_grad/sub',\n",
       " 'gradients/bert/encoder/layer_6/attention/self/Softmax_1_grad/mul_1',\n",
       " 'gradients/bert/encoder/layer_6/attention/self/Softmax_3_grad/mul',\n",
       " 'gradients/bert/encoder/layer_6/attention/self/Softmax_3_grad/Sum/reduction_indices',\n",
       " 'gradients/bert/encoder/layer_6/attention/self/Softmax_3_grad/Sum',\n",
       " 'gradients/bert/encoder/layer_6/attention/self/Softmax_3_grad/sub',\n",
       " 'gradients/bert/encoder/layer_6/attention/self/Softmax_3_grad/mul_1',\n",
       " 'gradients/bert/encoder/layer_6/attention/self/Softmax_4_grad/mul',\n",
       " 'gradients/bert/encoder/layer_6/attention/self/Softmax_4_grad/Sum/reduction_indices',\n",
       " 'gradients/bert/encoder/layer_6/attention/self/Softmax_4_grad/Sum',\n",
       " 'gradients/bert/encoder/layer_6/attention/self/Softmax_4_grad/sub',\n",
       " 'gradients/bert/encoder/layer_6/attention/self/Softmax_4_grad/mul_1',\n",
       " 'gradients/bert/encoder/layer_6/attention/self/Softmax_2_grad/mul',\n",
       " 'gradients/bert/encoder/layer_6/attention/self/Softmax_2_grad/Sum/reduction_indices',\n",
       " 'gradients/bert/encoder/layer_6/attention/self/Softmax_2_grad/Sum',\n",
       " 'gradients/bert/encoder/layer_6/attention/self/Softmax_2_grad/sub',\n",
       " 'gradients/bert/encoder/layer_6/attention/self/Softmax_2_grad/mul_1',\n",
       " 'gradients/bert/encoder/layer_5/attention/self/Softmax_grad/mul',\n",
       " 'gradients/bert/encoder/layer_5/attention/self/Softmax_grad/Sum/reduction_indices',\n",
       " 'gradients/bert/encoder/layer_5/attention/self/Softmax_grad/Sum',\n",
       " 'gradients/bert/encoder/layer_5/attention/self/Softmax_grad/sub',\n",
       " 'gradients/bert/encoder/layer_5/attention/self/Softmax_grad/mul_1',\n",
       " 'gradients/bert/encoder/layer_5/attention/self/Softmax_1_grad/mul',\n",
       " 'gradients/bert/encoder/layer_5/attention/self/Softmax_1_grad/Sum/reduction_indices',\n",
       " 'gradients/bert/encoder/layer_5/attention/self/Softmax_1_grad/Sum',\n",
       " 'gradients/bert/encoder/layer_5/attention/self/Softmax_1_grad/sub',\n",
       " 'gradients/bert/encoder/layer_5/attention/self/Softmax_1_grad/mul_1',\n",
       " 'gradients/bert/encoder/layer_5/attention/self/Softmax_3_grad/mul',\n",
       " 'gradients/bert/encoder/layer_5/attention/self/Softmax_3_grad/Sum/reduction_indices',\n",
       " 'gradients/bert/encoder/layer_5/attention/self/Softmax_3_grad/Sum',\n",
       " 'gradients/bert/encoder/layer_5/attention/self/Softmax_3_grad/sub',\n",
       " 'gradients/bert/encoder/layer_5/attention/self/Softmax_3_grad/mul_1',\n",
       " 'gradients/bert/encoder/layer_5/attention/self/Softmax_4_grad/mul',\n",
       " 'gradients/bert/encoder/layer_5/attention/self/Softmax_4_grad/Sum/reduction_indices',\n",
       " 'gradients/bert/encoder/layer_5/attention/self/Softmax_4_grad/Sum',\n",
       " 'gradients/bert/encoder/layer_5/attention/self/Softmax_4_grad/sub',\n",
       " 'gradients/bert/encoder/layer_5/attention/self/Softmax_4_grad/mul_1',\n",
       " 'gradients/bert/encoder/layer_5/attention/self/Softmax_2_grad/mul',\n",
       " 'gradients/bert/encoder/layer_5/attention/self/Softmax_2_grad/Sum/reduction_indices',\n",
       " 'gradients/bert/encoder/layer_5/attention/self/Softmax_2_grad/Sum',\n",
       " 'gradients/bert/encoder/layer_5/attention/self/Softmax_2_grad/sub',\n",
       " 'gradients/bert/encoder/layer_5/attention/self/Softmax_2_grad/mul_1',\n",
       " 'gradients/bert/encoder/layer_4/attention/self/Softmax_grad/mul',\n",
       " 'gradients/bert/encoder/layer_4/attention/self/Softmax_grad/Sum/reduction_indices',\n",
       " 'gradients/bert/encoder/layer_4/attention/self/Softmax_grad/Sum',\n",
       " 'gradients/bert/encoder/layer_4/attention/self/Softmax_grad/sub',\n",
       " 'gradients/bert/encoder/layer_4/attention/self/Softmax_grad/mul_1',\n",
       " 'gradients/bert/encoder/layer_4/attention/self/Softmax_1_grad/mul',\n",
       " 'gradients/bert/encoder/layer_4/attention/self/Softmax_1_grad/Sum/reduction_indices',\n",
       " 'gradients/bert/encoder/layer_4/attention/self/Softmax_1_grad/Sum',\n",
       " 'gradients/bert/encoder/layer_4/attention/self/Softmax_1_grad/sub',\n",
       " 'gradients/bert/encoder/layer_4/attention/self/Softmax_1_grad/mul_1',\n",
       " 'gradients/bert/encoder/layer_4/attention/self/Softmax_3_grad/mul',\n",
       " 'gradients/bert/encoder/layer_4/attention/self/Softmax_3_grad/Sum/reduction_indices',\n",
       " 'gradients/bert/encoder/layer_4/attention/self/Softmax_3_grad/Sum',\n",
       " 'gradients/bert/encoder/layer_4/attention/self/Softmax_3_grad/sub',\n",
       " 'gradients/bert/encoder/layer_4/attention/self/Softmax_3_grad/mul_1',\n",
       " 'gradients/bert/encoder/layer_4/attention/self/Softmax_4_grad/mul',\n",
       " 'gradients/bert/encoder/layer_4/attention/self/Softmax_4_grad/Sum/reduction_indices',\n",
       " 'gradients/bert/encoder/layer_4/attention/self/Softmax_4_grad/Sum',\n",
       " 'gradients/bert/encoder/layer_4/attention/self/Softmax_4_grad/sub',\n",
       " 'gradients/bert/encoder/layer_4/attention/self/Softmax_4_grad/mul_1',\n",
       " 'gradients/bert/encoder/layer_4/attention/self/Softmax_2_grad/mul',\n",
       " 'gradients/bert/encoder/layer_4/attention/self/Softmax_2_grad/Sum/reduction_indices',\n",
       " 'gradients/bert/encoder/layer_4/attention/self/Softmax_2_grad/Sum',\n",
       " 'gradients/bert/encoder/layer_4/attention/self/Softmax_2_grad/sub',\n",
       " 'gradients/bert/encoder/layer_4/attention/self/Softmax_2_grad/mul_1',\n",
       " 'gradients/bert/encoder/layer_3/attention/self/Softmax_grad/mul',\n",
       " 'gradients/bert/encoder/layer_3/attention/self/Softmax_grad/Sum/reduction_indices',\n",
       " 'gradients/bert/encoder/layer_3/attention/self/Softmax_grad/Sum',\n",
       " 'gradients/bert/encoder/layer_3/attention/self/Softmax_grad/sub',\n",
       " 'gradients/bert/encoder/layer_3/attention/self/Softmax_grad/mul_1',\n",
       " 'gradients/bert/encoder/layer_3/attention/self/Softmax_1_grad/mul',\n",
       " 'gradients/bert/encoder/layer_3/attention/self/Softmax_1_grad/Sum/reduction_indices',\n",
       " 'gradients/bert/encoder/layer_3/attention/self/Softmax_1_grad/Sum',\n",
       " 'gradients/bert/encoder/layer_3/attention/self/Softmax_1_grad/sub',\n",
       " 'gradients/bert/encoder/layer_3/attention/self/Softmax_1_grad/mul_1',\n",
       " 'gradients/bert/encoder/layer_3/attention/self/Softmax_3_grad/mul',\n",
       " 'gradients/bert/encoder/layer_3/attention/self/Softmax_3_grad/Sum/reduction_indices',\n",
       " 'gradients/bert/encoder/layer_3/attention/self/Softmax_3_grad/Sum',\n",
       " 'gradients/bert/encoder/layer_3/attention/self/Softmax_3_grad/sub',\n",
       " 'gradients/bert/encoder/layer_3/attention/self/Softmax_3_grad/mul_1',\n",
       " 'gradients/bert/encoder/layer_3/attention/self/Softmax_4_grad/mul',\n",
       " 'gradients/bert/encoder/layer_3/attention/self/Softmax_4_grad/Sum/reduction_indices',\n",
       " 'gradients/bert/encoder/layer_3/attention/self/Softmax_4_grad/Sum',\n",
       " 'gradients/bert/encoder/layer_3/attention/self/Softmax_4_grad/sub',\n",
       " 'gradients/bert/encoder/layer_3/attention/self/Softmax_4_grad/mul_1',\n",
       " 'gradients/bert/encoder/layer_3/attention/self/Softmax_2_grad/mul',\n",
       " 'gradients/bert/encoder/layer_3/attention/self/Softmax_2_grad/Sum/reduction_indices',\n",
       " 'gradients/bert/encoder/layer_3/attention/self/Softmax_2_grad/Sum',\n",
       " 'gradients/bert/encoder/layer_3/attention/self/Softmax_2_grad/sub',\n",
       " 'gradients/bert/encoder/layer_3/attention/self/Softmax_2_grad/mul_1',\n",
       " 'gradients/bert/encoder/layer_2/attention/self/Softmax_grad/mul',\n",
       " 'gradients/bert/encoder/layer_2/attention/self/Softmax_grad/Sum/reduction_indices',\n",
       " 'gradients/bert/encoder/layer_2/attention/self/Softmax_grad/Sum',\n",
       " 'gradients/bert/encoder/layer_2/attention/self/Softmax_grad/sub',\n",
       " 'gradients/bert/encoder/layer_2/attention/self/Softmax_grad/mul_1',\n",
       " 'gradients/bert/encoder/layer_2/attention/self/Softmax_1_grad/mul',\n",
       " 'gradients/bert/encoder/layer_2/attention/self/Softmax_1_grad/Sum/reduction_indices',\n",
       " 'gradients/bert/encoder/layer_2/attention/self/Softmax_1_grad/Sum',\n",
       " 'gradients/bert/encoder/layer_2/attention/self/Softmax_1_grad/sub',\n",
       " 'gradients/bert/encoder/layer_2/attention/self/Softmax_1_grad/mul_1',\n",
       " 'gradients/bert/encoder/layer_2/attention/self/Softmax_3_grad/mul',\n",
       " 'gradients/bert/encoder/layer_2/attention/self/Softmax_3_grad/Sum/reduction_indices',\n",
       " 'gradients/bert/encoder/layer_2/attention/self/Softmax_3_grad/Sum',\n",
       " 'gradients/bert/encoder/layer_2/attention/self/Softmax_3_grad/sub',\n",
       " 'gradients/bert/encoder/layer_2/attention/self/Softmax_3_grad/mul_1',\n",
       " 'gradients/bert/encoder/layer_2/attention/self/Softmax_4_grad/mul',\n",
       " 'gradients/bert/encoder/layer_2/attention/self/Softmax_4_grad/Sum/reduction_indices',\n",
       " 'gradients/bert/encoder/layer_2/attention/self/Softmax_4_grad/Sum',\n",
       " 'gradients/bert/encoder/layer_2/attention/self/Softmax_4_grad/sub',\n",
       " 'gradients/bert/encoder/layer_2/attention/self/Softmax_4_grad/mul_1',\n",
       " 'gradients/bert/encoder/layer_2/attention/self/Softmax_2_grad/mul',\n",
       " 'gradients/bert/encoder/layer_2/attention/self/Softmax_2_grad/Sum/reduction_indices',\n",
       " 'gradients/bert/encoder/layer_2/attention/self/Softmax_2_grad/Sum',\n",
       " 'gradients/bert/encoder/layer_2/attention/self/Softmax_2_grad/sub',\n",
       " 'gradients/bert/encoder/layer_2/attention/self/Softmax_2_grad/mul_1',\n",
       " 'gradients/bert/encoder/layer_1/attention/self/Softmax_grad/mul',\n",
       " 'gradients/bert/encoder/layer_1/attention/self/Softmax_grad/Sum/reduction_indices',\n",
       " 'gradients/bert/encoder/layer_1/attention/self/Softmax_grad/Sum',\n",
       " 'gradients/bert/encoder/layer_1/attention/self/Softmax_grad/sub',\n",
       " 'gradients/bert/encoder/layer_1/attention/self/Softmax_grad/mul_1',\n",
       " 'gradients/bert/encoder/layer_1/attention/self/Softmax_1_grad/mul',\n",
       " 'gradients/bert/encoder/layer_1/attention/self/Softmax_1_grad/Sum/reduction_indices',\n",
       " 'gradients/bert/encoder/layer_1/attention/self/Softmax_1_grad/Sum',\n",
       " 'gradients/bert/encoder/layer_1/attention/self/Softmax_1_grad/sub',\n",
       " 'gradients/bert/encoder/layer_1/attention/self/Softmax_1_grad/mul_1',\n",
       " 'gradients/bert/encoder/layer_1/attention/self/Softmax_3_grad/mul',\n",
       " 'gradients/bert/encoder/layer_1/attention/self/Softmax_3_grad/Sum/reduction_indices',\n",
       " 'gradients/bert/encoder/layer_1/attention/self/Softmax_3_grad/Sum',\n",
       " 'gradients/bert/encoder/layer_1/attention/self/Softmax_3_grad/sub',\n",
       " 'gradients/bert/encoder/layer_1/attention/self/Softmax_3_grad/mul_1',\n",
       " 'gradients/bert/encoder/layer_1/attention/self/Softmax_4_grad/mul',\n",
       " 'gradients/bert/encoder/layer_1/attention/self/Softmax_4_grad/Sum/reduction_indices',\n",
       " 'gradients/bert/encoder/layer_1/attention/self/Softmax_4_grad/Sum',\n",
       " 'gradients/bert/encoder/layer_1/attention/self/Softmax_4_grad/sub',\n",
       " 'gradients/bert/encoder/layer_1/attention/self/Softmax_4_grad/mul_1',\n",
       " 'gradients/bert/encoder/layer_1/attention/self/Softmax_2_grad/mul',\n",
       " 'gradients/bert/encoder/layer_1/attention/self/Softmax_2_grad/Sum/reduction_indices',\n",
       " 'gradients/bert/encoder/layer_1/attention/self/Softmax_2_grad/Sum',\n",
       " 'gradients/bert/encoder/layer_1/attention/self/Softmax_2_grad/sub',\n",
       " 'gradients/bert/encoder/layer_1/attention/self/Softmax_2_grad/mul_1',\n",
       " 'gradients/bert/encoder/layer_0/attention/self/Softmax_grad/mul',\n",
       " 'gradients/bert/encoder/layer_0/attention/self/Softmax_grad/Sum/reduction_indices',\n",
       " 'gradients/bert/encoder/layer_0/attention/self/Softmax_grad/Sum',\n",
       " 'gradients/bert/encoder/layer_0/attention/self/Softmax_grad/sub',\n",
       " 'gradients/bert/encoder/layer_0/attention/self/Softmax_grad/mul_1',\n",
       " 'gradients/bert/encoder/layer_0/attention/self/Softmax_1_grad/mul',\n",
       " 'gradients/bert/encoder/layer_0/attention/self/Softmax_1_grad/Sum/reduction_indices',\n",
       " 'gradients/bert/encoder/layer_0/attention/self/Softmax_1_grad/Sum',\n",
       " 'gradients/bert/encoder/layer_0/attention/self/Softmax_1_grad/sub',\n",
       " 'gradients/bert/encoder/layer_0/attention/self/Softmax_1_grad/mul_1',\n",
       " 'gradients/bert/encoder/layer_0/attention/self/Softmax_3_grad/mul',\n",
       " 'gradients/bert/encoder/layer_0/attention/self/Softmax_3_grad/Sum/reduction_indices',\n",
       " 'gradients/bert/encoder/layer_0/attention/self/Softmax_3_grad/Sum',\n",
       " 'gradients/bert/encoder/layer_0/attention/self/Softmax_3_grad/sub',\n",
       " 'gradients/bert/encoder/layer_0/attention/self/Softmax_3_grad/mul_1',\n",
       " 'gradients/bert/encoder/layer_0/attention/self/Softmax_4_grad/mul',\n",
       " 'gradients/bert/encoder/layer_0/attention/self/Softmax_4_grad/Sum/reduction_indices',\n",
       " 'gradients/bert/encoder/layer_0/attention/self/Softmax_4_grad/Sum',\n",
       " 'gradients/bert/encoder/layer_0/attention/self/Softmax_4_grad/sub',\n",
       " 'gradients/bert/encoder/layer_0/attention/self/Softmax_4_grad/mul_1',\n",
       " 'gradients/bert/encoder/layer_0/attention/self/Softmax_2_grad/mul',\n",
       " 'gradients/bert/encoder/layer_0/attention/self/Softmax_2_grad/Sum/reduction_indices',\n",
       " 'gradients/bert/encoder/layer_0/attention/self/Softmax_2_grad/Sum',\n",
       " 'gradients/bert/encoder/layer_0/attention/self/Softmax_2_grad/sub',\n",
       " 'gradients/bert/encoder/layer_0/attention/self/Softmax_2_grad/mul_1']"
      ]
     },
     "execution_count": 24,
     "metadata": {},
     "output_type": "execute_result"
    }
   ],
   "source": [
    "strings = ','.join(\n",
    "    [\n",
    "        n.name\n",
    "        for n in tf.get_default_graph().as_graph_def().node\n",
    "        if ('Variable' in n.op\n",
    "        or 'Placeholder' in n.name\n",
    "        or 'logits' in n.name\n",
    "        or 'alphas' in n.name\n",
    "        or 'self/Softmax' in n.name)\n",
    "        and 'adam' not in n.name\n",
    "        and 'beta' not in n.name\n",
    "        and 'global_step' not in n.name\n",
    "    ]\n",
    ")\n",
    "strings.split(',')"
   ]
  },
  {
   "cell_type": "code",
   "execution_count": 26,
   "metadata": {},
   "outputs": [
    {
     "name": "stderr",
     "output_type": "stream",
     "text": [
      "validation minibatch loop: 100%|██████████| 1759/1759 [07:35<00:00,  3.86it/s]\n"
     ]
    }
   ],
   "source": [
    "real_Y, predict_Y = [], []\n",
    "\n",
    "pbar = tqdm(\n",
    "    range(0, len(test_input_ids), batch_size), desc = 'validation minibatch loop'\n",
    ")\n",
    "for i in pbar:\n",
    "    index = min(i + batch_size, len(test_input_ids))\n",
    "    batch_x = test_input_ids[i: index]\n",
    "    batch_x = pad_sequences(batch_x, padding='post', maxlen=maxlen)\n",
    "    batch_y = test_Y[i: index]\n",
    "    \n",
    "    predict_Y += np.argmax(sess.run(model.logits,\n",
    "            feed_dict = {\n",
    "            model.X: batch_x,\n",
    "            },\n",
    "    ), 1, ).tolist()\n",
    "    real_Y += batch_y"
   ]
  },
  {
   "cell_type": "code",
   "execution_count": 27,
   "metadata": {},
   "outputs": [
    {
     "name": "stdout",
     "output_type": "stream",
     "text": [
      "              precision    recall  f1-score   support\n",
      "\n",
      "       anger    0.99158   0.98524   0.98840      6099\n",
      "        fear    0.99004   0.99512   0.99257      4097\n",
      "       happy    0.99441   0.99703   0.99572      6061\n",
      "        love    0.99315   0.99097   0.99206      4099\n",
      "     sadness    0.99245   0.99414   0.99329      5287\n",
      "    surprise    0.99158   0.99238   0.99198      2492\n",
      "\n",
      "    accuracy                        0.99236     28135\n",
      "   macro avg    0.99220   0.99248   0.99234     28135\n",
      "weighted avg    0.99236   0.99236   0.99235     28135\n",
      "\n"
     ]
    }
   ],
   "source": [
    "from sklearn import metrics\n",
    "\n",
    "print(\n",
    "    metrics.classification_report(\n",
    "        real_Y, predict_Y, target_names = ['anger', 'fear', 'happy', 'love', 'sadness', 'surprise'],\n",
    "        digits = 5\n",
    "    )\n",
    ")"
   ]
  },
  {
   "cell_type": "code",
   "execution_count": 28,
   "metadata": {},
   "outputs": [],
   "source": [
    "def freeze_graph(model_dir, output_node_names):\n",
    "\n",
    "    if not tf.io.gfile.exists(model_dir):\n",
    "        raise AssertionError(\n",
    "            \"Export directory doesn't exists. Please specify an export \"\n",
    "            'directory: %s' % model_dir\n",
    "        )\n",
    "\n",
    "    checkpoint = tf.train.get_checkpoint_state(model_dir)\n",
    "    input_checkpoint = checkpoint.model_checkpoint_path\n",
    "\n",
    "    absolute_model_dir = '/'.join(input_checkpoint.split('/')[:-1])\n",
    "    output_graph = absolute_model_dir + '/frozen_model.pb'\n",
    "    clear_devices = True\n",
    "    with tf.Session(graph = tf.Graph()) as sess:\n",
    "        saver = tf.train.import_meta_graph(\n",
    "            input_checkpoint + '.meta', clear_devices = clear_devices\n",
    "        )\n",
    "        saver.restore(sess, input_checkpoint)\n",
    "        output_graph_def = tf.graph_util.convert_variables_to_constants(\n",
    "            sess,\n",
    "            tf.get_default_graph().as_graph_def(),\n",
    "            output_node_names.split(','),\n",
    "        )\n",
    "        with tf.gfile.GFile(output_graph, 'wb') as f:\n",
    "            f.write(output_graph_def.SerializeToString())\n",
    "        print('%d ops in the final graph.' % len(output_graph_def.node))"
   ]
  },
  {
   "cell_type": "code",
   "execution_count": 29,
   "metadata": {},
   "outputs": [
    {
     "name": "stdout",
     "output_type": "stream",
     "text": [
      "INFO:tensorflow:Restoring parameters from bigbird-base-emotion/model.ckpt\n"
     ]
    },
    {
     "name": "stderr",
     "output_type": "stream",
     "text": [
      "INFO:tensorflow:Restoring parameters from bigbird-base-emotion/model.ckpt\n"
     ]
    },
    {
     "name": "stdout",
     "output_type": "stream",
     "text": [
      "WARNING:tensorflow:From <ipython-input-28-9a7215a4e58a>:23: convert_variables_to_constants (from tensorflow.python.framework.graph_util_impl) is deprecated and will be removed in a future version.\n",
      "Instructions for updating:\n",
      "Use `tf.compat.v1.graph_util.convert_variables_to_constants`\n"
     ]
    },
    {
     "name": "stderr",
     "output_type": "stream",
     "text": [
      "WARNING:tensorflow:From <ipython-input-28-9a7215a4e58a>:23: convert_variables_to_constants (from tensorflow.python.framework.graph_util_impl) is deprecated and will be removed in a future version.\n",
      "Instructions for updating:\n",
      "Use `tf.compat.v1.graph_util.convert_variables_to_constants`\n"
     ]
    },
    {
     "name": "stdout",
     "output_type": "stream",
     "text": [
      "WARNING:tensorflow:From /home/husein/.local/lib/python3.6/site-packages/tensorflow_core/python/framework/graph_util_impl.py:277: extract_sub_graph (from tensorflow.python.framework.graph_util_impl) is deprecated and will be removed in a future version.\n",
      "Instructions for updating:\n",
      "Use `tf.compat.v1.graph_util.extract_sub_graph`\n"
     ]
    },
    {
     "name": "stderr",
     "output_type": "stream",
     "text": [
      "WARNING:tensorflow:From /home/husein/.local/lib/python3.6/site-packages/tensorflow_core/python/framework/graph_util_impl.py:277: extract_sub_graph (from tensorflow.python.framework.graph_util_impl) is deprecated and will be removed in a future version.\n",
      "Instructions for updating:\n",
      "Use `tf.compat.v1.graph_util.extract_sub_graph`\n"
     ]
    },
    {
     "name": "stdout",
     "output_type": "stream",
     "text": [
      "INFO:tensorflow:Froze 203 variables.\n"
     ]
    },
    {
     "name": "stderr",
     "output_type": "stream",
     "text": [
      "INFO:tensorflow:Froze 203 variables.\n"
     ]
    },
    {
     "name": "stdout",
     "output_type": "stream",
     "text": [
      "INFO:tensorflow:Converted 203 variables to const ops.\n"
     ]
    },
    {
     "name": "stderr",
     "output_type": "stream",
     "text": [
      "INFO:tensorflow:Converted 203 variables to const ops.\n"
     ]
    },
    {
     "name": "stdout",
     "output_type": "stream",
     "text": [
      "28727 ops in the final graph.\n"
     ]
    }
   ],
   "source": [
    "freeze_graph('bigbird-base-emotion', strings)"
   ]
  },
  {
   "cell_type": "code",
   "execution_count": 30,
   "metadata": {},
   "outputs": [],
   "source": [
    "def load_graph(frozen_graph_filename):\n",
    "    with tf.gfile.GFile(frozen_graph_filename, 'rb') as f:\n",
    "        graph_def = tf.GraphDef()\n",
    "        graph_def.ParseFromString(f.read())\n",
    "    with tf.Graph().as_default() as graph:\n",
    "        tf.import_graph_def(graph_def)\n",
    "    return graph"
   ]
  },
  {
   "cell_type": "code",
   "execution_count": 32,
   "metadata": {},
   "outputs": [],
   "source": [
    "# g = load_graph('bigbird-base-emotion/frozen_model.pb')\n",
    "# x = g.get_tensor_by_name('import/Placeholder:0')\n",
    "# logits = g.get_tensor_by_name('import/logits:0')\n",
    "# test_sess = tf.InteractiveSession(graph = g)\n",
    "# result = test_sess.run(tf.nn.softmax(logits), feed_dict = {x: [input_id]})\n",
    "# result"
   ]
  },
  {
   "cell_type": "code",
   "execution_count": null,
   "metadata": {},
   "outputs": [],
   "source": []
  }
 ],
 "metadata": {
  "kernelspec": {
   "display_name": "Python 3",
   "language": "python",
   "name": "python3"
  },
  "language_info": {
   "codemirror_mode": {
    "name": "ipython",
    "version": 3
   },
   "file_extension": ".py",
   "mimetype": "text/x-python",
   "name": "python",
   "nbconvert_exporter": "python",
   "pygments_lexer": "ipython3",
   "version": "3.6.9"
  }
 },
 "nbformat": 4,
 "nbformat_minor": 2
}
