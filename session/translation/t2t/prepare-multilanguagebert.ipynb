{
 "cells": [
  {
   "cell_type": "code",
   "execution_count": 1,
   "metadata": {},
   "outputs": [],
   "source": [
    "from bert import tokenization"
   ]
  },
  {
   "cell_type": "code",
   "execution_count": 2,
   "metadata": {},
   "outputs": [],
   "source": [
    "import json\n",
    "\n",
    "with open('dataset.json') as fopen:\n",
    "    data = json.load(fopen)\n",
    "    \n",
    "train_X = data['train_X']\n",
    "train_Y = data['train_Y']\n",
    "test_X = data['test_X']\n",
    "test_Y = data['test_Y']"
   ]
  },
  {
   "cell_type": "code",
   "execution_count": 3,
   "metadata": {},
   "outputs": [
    {
     "name": "stdout",
     "output_type": "stream",
     "text": [
      "WARNING:tensorflow:From /home/husein/.local/lib/python3.6/site-packages/bert/tokenization.py:125: The name tf.compat.v1.gfile.GFile is deprecated. Please use tf.compat.v1.io.gfile.GFile instead.\n",
      "\n"
     ]
    }
   ],
   "source": [
    "BERT_VOCAB = '../multi_cased_L-12_H-768_A-12/vocab.txt'\n",
    "tokenizer = tokenization.FullTokenizer(\n",
    "      vocab_file=BERT_VOCAB, do_lower_case=False)"
   ]
  },
  {
   "cell_type": "code",
   "execution_count": 4,
   "metadata": {},
   "outputs": [],
   "source": [
    "GO = 101\n",
    "EOS = 102"
   ]
  },
  {
   "cell_type": "code",
   "execution_count": 5,
   "metadata": {},
   "outputs": [],
   "source": [
    "from unidecode import unidecode\n",
    "from tqdm import tqdm\n",
    "import collections\n",
    "import tensorflow as tf\n",
    "maxlen = 256\n",
    "\n",
    "def create_int_feature(values):\n",
    "    feature = tf.compat.v1.train.Feature(\n",
    "        int64_list = tf.compat.v1.train.Int64List(value = list(values))\n",
    "    )\n",
    "    return feature\n",
    "\n",
    "def get_inputs(x, y, index, prefix = 'train'):\n",
    "    input_ids, input_masks, segment_ids, ys = [], [], [], []\n",
    "    for i in tqdm(range(len(x))):\n",
    "        tokens_a = tokenizer.tokenize(unidecode(x[i]))\n",
    "        tokens_b = tokenizer.tokenize(unidecode(y[i]))\n",
    "        tokens_a = tokens_a[:maxlen - 2]\n",
    "        tokens_b = tokens_b[:maxlen - 1]\n",
    "        tokens = [\"[CLS]\"] + tokens_a + [\"[SEP]\"]\n",
    "        \n",
    "        segment_id = [0] * len(tokens)\n",
    "        input_id = tokenizer.convert_tokens_to_ids(tokens)\n",
    "        input_mask = [1] * len(input_id)\n",
    "        \n",
    "        input_id = input_id + [0] * (maxlen - len(tokens_a))\n",
    "        segment_id = segment_id + [0] * (maxlen - len(segment_id))\n",
    "        input_mask = input_mask + [0] * (maxlen - len(input_mask))\n",
    "\n",
    "        input_ids.append(input_id)\n",
    "        input_masks.append(input_mask)\n",
    "        segment_ids.append(segment_id)\n",
    "        \n",
    "        r = tokenizer.convert_tokens_to_ids(tokens_b + [\"[SEP]\"])\n",
    "        if len([k for k in r if k == 0]):\n",
    "            print(y[i], i)\n",
    "            break\n",
    "            \n",
    "        r = r + [0] * (maxlen - len(r))\n",
    "        ys.append(r)\n",
    "    \n",
    "    r = tf.compat.v1.python_io.TFRecordWriter(f'multilanguagebert-{prefix}-{index}.tfrecord')\n",
    "    for i in tqdm(range(len(ys))):\n",
    "        features = collections.OrderedDict()\n",
    "        features['input_ids'] = create_int_feature(input_ids[i])\n",
    "        features['input_mask'] = create_int_feature(input_masks[i])\n",
    "        features['segment_ids'] = create_int_feature(segment_ids[i])\n",
    "        features['y'] = create_int_feature(ys[i])\n",
    "        tf_example = tf.compat.v1.train.Example(\n",
    "            features = tf.compat.v1.train.Features(feature = features)\n",
    "        )\n",
    "        r.write(tf_example.SerializeToString())\n",
    "    r.close()"
   ]
  },
  {
   "cell_type": "code",
   "execution_count": 6,
   "metadata": {},
   "outputs": [],
   "source": [
    "def chunks_multiple(l, n):\n",
    "    for i in range(0, len(l), n):\n",
    "        x, y = list(zip(*l[i : i + n]))\n",
    "        yield (x, y, i)"
   ]
  },
  {
   "cell_type": "code",
   "execution_count": 7,
   "metadata": {},
   "outputs": [],
   "source": [
    "import multi"
   ]
  },
  {
   "cell_type": "code",
   "execution_count": 8,
   "metadata": {},
   "outputs": [
    {
     "name": "stderr",
     "output_type": "stream",
     "text": [
      "100%|██████████| 309379/309379 [05:58<00:00, 863.00it/s] \n",
      "100%|██████████| 309379/309379 [05:58<00:00, 864.15it/s]]\n",
      "100%|██████████| 309379/309379 [05:59<00:00, 861.09it/s] \n",
      "100%|██████████| 309379/309379 [05:59<00:00, 859.77it/s] \n",
      "100%|██████████| 309379/309379 [05:57<00:00, 865.20it/s] \n",
      "100%|██████████| 309379/309379 [05:59<00:00, 861.20it/s] \n",
      "100%|██████████| 309379/309379 [06:01<00:00, 856.76it/s] \n",
      "100%|██████████| 309379/309379 [06:00<00:00, 857.09it/s] \n",
      "100%|██████████| 309379/309379 [05:59<00:00, 860.85it/s]\n",
      "100%|██████████| 309379/309379 [06:02<00:00, 853.49it/s]\n",
      "100%|██████████| 309379/309379 [06:01<00:00, 856.97it/s]\n",
      "100%|██████████| 309379/309379 [06:00<00:00, 857.23it/s]\n",
      "100%|██████████| 309379/309379 [02:19<00:00, 2212.68it/s]\n",
      "100%|██████████| 7/7 [00:00<00:00, 916.27it/s]502.26it/s]\n",
      " 99%|█████████▉| 307358/309379 [02:20<00:01, 1523.06it/s]\n",
      "100%|██████████| 309379/309379 [02:21<00:00, 2181.47it/s]\n",
      "100%|██████████| 309379/309379 [02:21<00:00, 2180.15it/s]\n",
      "100%|██████████| 309379/309379 [02:22<00:00, 2177.76it/s]\n",
      "100%|██████████| 309379/309379 [02:23<00:00, 2160.59it/s]\n",
      "100%|██████████| 309379/309379 [02:21<00:00, 2184.30it/s]\n",
      "100%|██████████| 309379/309379 [02:22<00:00, 2173.37it/s]\n",
      "100%|██████████| 309379/309379 [02:23<00:00, 2153.14it/s]\n",
      "100%|██████████| 309379/309379 [02:23<00:00, 2159.73it/s]\n",
      "100%|██████████| 309379/309379 [02:21<00:00, 2190.10it/s]\n",
      "100%|██████████| 309379/309379 [02:22<00:00, 2167.80it/s]\n",
      "100%|██████████| 309379/309379 [02:22<00:00, 2171.46it/s]\n"
     ]
    }
   ],
   "source": [
    "multi.multiprocessing(chunks_multiple(list(zip(train_X, train_Y)), len(train_X) // 12),\n",
    "                     get_inputs)"
   ]
  },
  {
   "cell_type": "code",
   "execution_count": 9,
   "metadata": {},
   "outputs": [],
   "source": [
    "def chunks_multiple(l, n):\n",
    "    for i in range(0, len(l), n):\n",
    "        x, y = list(zip(*l[i : i + n]))\n",
    "        yield (x, y, i, 'test')"
   ]
  },
  {
   "cell_type": "code",
   "execution_count": 10,
   "metadata": {},
   "outputs": [
    {
     "name": "stderr",
     "output_type": "stream",
     "text": [
      "100%|██████████| 8333/8333 [00:10<00:00, 829.28it/s] \n",
      "100%|██████████| 8333/8333 [00:10<00:00, 814.80it/s] \n",
      "100%|██████████| 8333/8333 [00:10<00:00, 810.86it/s] \n",
      "100%|██████████| 8333/8333 [00:10<00:00, 799.50it/s]\n",
      "100%|██████████| 8333/8333 [00:10<00:00, 798.03it/s]\n",
      "100%|██████████| 8333/8333 [00:10<00:00, 799.93it/s]\n",
      "  7%|▋         | 576/8333 [00:00<00:02, 2847.57it/s]\n",
      "100%|██████████| 8333/8333 [00:10<00:00, 790.79it/s]\n",
      "100%|██████████| 8333/8333 [00:10<00:00, 791.80it/s]\n",
      "100%|██████████| 8333/8333 [00:10<00:00, 787.28it/s]\n",
      "100%|██████████| 8333/8333 [00:10<00:00, 790.94it/s]\n",
      "100%|██████████| 8333/8333 [00:10<00:00, 784.32it/s]]\n",
      "100%|██████████| 8333/8333 [00:02<00:00, 2951.74it/s]\n",
      "100%|██████████| 8333/8333 [00:02<00:00, 3039.81it/s]\n",
      "100%|██████████| 4/4 [00:00<00:00, 1487.61it/s]5it/s]\n",
      "100%|██████████| 4/4 [00:00<00:00, 2171.53it/s]7it/s]\n",
      "100%|██████████| 8333/8333 [00:03<00:00, 2586.56it/s]\n",
      " 87%|████████▋ | 7246/8333 [00:02<00:00, 2818.05it/s]\n",
      "100%|██████████| 8333/8333 [00:02<00:00, 2825.93it/s]\n",
      "100%|██████████| 8333/8333 [00:02<00:00, 2909.88it/s]\n",
      "100%|██████████| 8333/8333 [00:02<00:00, 2991.91it/s]\n",
      "100%|██████████| 8333/8333 [00:03<00:00, 2609.62it/s]\n",
      "100%|██████████| 8333/8333 [00:03<00:00, 2679.86it/s]\n",
      "100%|██████████| 8333/8333 [00:02<00:00, 2802.97it/s]\n",
      "100%|██████████| 8333/8333 [00:03<00:00, 2659.64it/s]\n",
      "100%|██████████| 8333/8333 [00:03<00:00, 2684.76it/s]\n"
     ]
    }
   ],
   "source": [
    "multi.multiprocessing(chunks_multiple(list(zip(test_X, test_Y)), len(test_X) // 12),\n",
    "                     get_inputs)"
   ]
  },
  {
   "cell_type": "code",
   "execution_count": null,
   "metadata": {},
   "outputs": [],
   "source": []
  }
 ],
 "metadata": {
  "kernelspec": {
   "display_name": "Python 3",
   "language": "python",
   "name": "python3"
  },
  "language_info": {
   "codemirror_mode": {
    "name": "ipython",
    "version": 3
   },
   "file_extension": ".py",
   "mimetype": "text/x-python",
   "name": "python",
   "nbconvert_exporter": "python",
   "pygments_lexer": "ipython3",
   "version": "3.6.8"
  }
 },
 "nbformat": 4,
 "nbformat_minor": 2
}
