{
 "cells": [
  {
   "cell_type": "markdown",
   "metadata": {},
   "source": [
    "# Unsupervised Keyword Extraction\n",
    "\n",
    "We can use any Vectorizer Model to calculate Top N keywords."
   ]
  },
  {
   "cell_type": "markdown",
   "metadata": {},
   "source": [
    "<div class=\"alert alert-info\">\n",
    "\n",
    "This tutorial is available as an IPython notebook at [Malaya/example/unsupervised-keyword-extraction](https://github.com/huseinzol05/Malaya/tree/master/example/unsupervised-keyword-extraction).\n",
    "    \n",
    "</div>"
   ]
  },
  {
   "cell_type": "code",
   "execution_count": 1,
   "metadata": {},
   "outputs": [],
   "source": [
    "import malaya"
   ]
  },
  {
   "cell_type": "code",
   "execution_count": 2,
   "metadata": {},
   "outputs": [],
   "source": [
    "# https://www.bharian.com.my/berita/nasional/2020/06/698386/isu-bersatu-tun-m-6-yang-lain-saman-muhyiddin\n",
    "\n",
    "string = \"\"\"\n",
    "Dalam saman itu, plaintif memohon perisytiharan, antaranya mereka adalah ahli BERSATU yang sah, masih lagi memegang jawatan dalam parti (bagi pemegang jawatan) dan layak untuk bertanding pada pemilihan parti.\n",
    "\n",
    "Mereka memohon perisytiharan bahawa semua surat pemberhentian yang ditandatangani Muhammad Suhaimi bertarikh 28 Mei lalu dan pengesahan melalui mesyuarat Majlis Pimpinan Tertinggi (MPT) parti bertarikh 4 Jun lalu adalah tidak sah dan terbatal.\n",
    "\n",
    "Plaintif juga memohon perisytiharan bahawa keahlian Muhyiddin, Hamzah dan Muhammad Suhaimi di dalam BERSATU adalah terlucut, berkuat kuasa pada 28 Februari 2020 dan/atau 29 Februari 2020, menurut Fasal 10.2.3 perlembagaan parti.\n",
    "\n",
    "Yang turut dipohon, perisytiharan bahawa Seksyen 18C Akta Pertubuhan 1966 adalah tidak terpakai untuk menghalang pelupusan pertikaian berkenaan oleh mahkamah.\n",
    "\n",
    "Perisytiharan lain ialah Fasal 10.2.6 Perlembagaan BERSATU tidak terpakai di atas hal melucutkan/ memberhentikan keahlian semua plaintif.\n",
    "\"\"\""
   ]
  },
  {
   "cell_type": "code",
   "execution_count": 3,
   "metadata": {},
   "outputs": [],
   "source": [
    "import re\n",
    "\n",
    "# minimum cleaning, just simply to remove newlines.\n",
    "def cleaning(string):\n",
    "    string = string.replace('\\n', ' ')\n",
    "    string = re.sub('[^A-Za-z\\-() ]+', ' ', string).strip()\n",
    "    string = re.sub(r'[ ]+', ' ', string).strip()\n",
    "    return string\n",
    "\n",
    "string = cleaning(string)"
   ]
  },
  {
   "cell_type": "markdown",
   "metadata": {},
   "source": [
    "### Use RAKE algorithm\n",
    "\n",
    "Original implementation from [https://github.com/aneesha/RAKE](https://github.com/aneesha/RAKE). Malaya added attention mechanism into RAKE algorithm.\n",
    "\n",
    "```python\n",
    "def rake(\n",
    "    string: str,\n",
    "    model = None,\n",
    "    vectorizer = None,\n",
    "    top_k: int = 5,\n",
    "    atleast: int = 1,\n",
    "    stopwords = get_stopwords,\n",
    "    **kwargs\n",
    "):\n",
    "    \"\"\"\n",
    "    Extract keywords using Rake algorithm.\n",
    "\n",
    "    Parameters\n",
    "    ----------\n",
    "    string: str\n",
    "    model: Object, optional (default=None)\n",
    "        Transformer model or any model has `attention` method.\n",
    "    vectorizer: Object, optional (default=None)\n",
    "        Prefer `sklearn.feature_extraction.text.CountVectorizer` or,\n",
    "        `malaya.text.vectorizer.SkipGramCountVectorizer`.\n",
    "        If None, will generate ngram automatically based on `stopwords`.\n",
    "    top_k: int, optional (default=5)\n",
    "        return top-k results.\n",
    "    ngram: tuple, optional (default=(1,1))\n",
    "        n-grams size.\n",
    "    atleast: int, optional (default=1)\n",
    "        at least count appeared in the string to accept as candidate.\n",
    "    stopwords: List[str], (default=malaya.texts.function.get_stopwords)\n",
    "        A callable that returned a List[str], or a List[str], or a Tuple[str]\n",
    "        For automatic Ngram generator.\n",
    "\n",
    "    Returns\n",
    "    -------\n",
    "    result: Tuple[float, str]\n",
    "    \"\"\"\n",
    "```"
   ]
  },
  {
   "cell_type": "markdown",
   "metadata": {},
   "source": [
    "#### auto-ngram\n",
    "\n",
    "This will auto generated N-size ngram for keyword candidates."
   ]
  },
  {
   "cell_type": "code",
   "execution_count": 4,
   "metadata": {},
   "outputs": [
    {
     "data": {
      "text/plain": [
       "[(0.11666666666666665, 'ditandatangani Muhammad Suhaimi bertarikh Mei'),\n",
       " (0.08888888888888888, 'mesyuarat Majlis Pimpinan Tertinggi'),\n",
       " (0.08888888888888888, 'Seksyen C Akta Pertubuhan'),\n",
       " (0.05138888888888888, 'parti bertarikh Jun'),\n",
       " (0.04999999999999999, 'keahlian Muhyiddin Hamzah')]"
      ]
     },
     "execution_count": 4,
     "metadata": {},
     "output_type": "execute_result"
    }
   ],
   "source": [
    "malaya.keyword_extraction.rake(string)"
   ]
  },
  {
   "cell_type": "markdown",
   "metadata": {},
   "source": [
    "#### auto-gram with Attention\n",
    "\n",
    "This will use attention mechanism as the scores. I will use `small-electra` in this example."
   ]
  },
  {
   "cell_type": "code",
   "execution_count": 5,
   "metadata": {},
   "outputs": [
    {
     "name": "stdout",
     "output_type": "stream",
     "text": [
      "WARNING:tensorflow:From /Users/huseinzolkepli/Documents/Malaya/malaya/transformers/electra/modeling.py:242: dense (from tensorflow.python.layers.core) is deprecated and will be removed in a future version.\n",
      "Instructions for updating:\n",
      "Use keras.layers.Dense instead.\n",
      "WARNING:tensorflow:From /Users/huseinzolkepli/Documents/tf-1.15/env/lib/python3.7/site-packages/tensorflow_core/python/layers/core.py:187: Layer.apply (from tensorflow.python.keras.engine.base_layer) is deprecated and will be removed in a future version.\n",
      "Instructions for updating:\n",
      "Please use `layer.__call__` method instead.\n",
      "WARNING:tensorflow:From /Users/huseinzolkepli/Documents/Malaya/malaya/transformers/sampling.py:26: where (from tensorflow.python.ops.array_ops) is deprecated and will be removed in a future version.\n",
      "Instructions for updating:\n",
      "Use tf.compat.v1.where in 2.0, which has the same broadcast rule as np.where\n",
      "WARNING:tensorflow:From /Users/huseinzolkepli/Documents/Malaya/malaya/transformers/electra/__init__.py:120: multinomial (from tensorflow.python.ops.random_ops) is deprecated and will be removed in a future version.\n",
      "Instructions for updating:\n",
      "Use `tf.compat.v1.random.categorical` instead.\n",
      "INFO:tensorflow:Restoring parameters from /Users/huseinzolkepli/Malaya/electra-model/small/electra-small/model.ckpt\n"
     ]
    }
   ],
   "source": [
    "electra = malaya.transformer.load(model = 'small-electra')"
   ]
  },
  {
   "cell_type": "code",
   "execution_count": 6,
   "metadata": {},
   "outputs": [
    {
     "data": {
      "text/plain": [
       "[(0.21135464299906287, 'ditandatangani Muhammad Suhaimi bertarikh Mei'),\n",
       " (0.1707678937548548, 'terlucut berkuat kuasa'),\n",
       " (0.1665075410114966, 'Muhammad Suhaimi'),\n",
       " (0.16204322474881924, 'mesyuarat Majlis Pimpinan Tertinggi'),\n",
       " (0.08333932270307894, 'Seksyen C Akta Pertubuhan')]"
      ]
     },
     "execution_count": 6,
     "metadata": {},
     "output_type": "execute_result"
    }
   ],
   "source": [
    "malaya.keyword_extraction.rake(string, model = electra)"
   ]
  },
  {
   "cell_type": "markdown",
   "metadata": {},
   "source": [
    "#### using vectorizer"
   ]
  },
  {
   "cell_type": "code",
   "execution_count": 7,
   "metadata": {},
   "outputs": [],
   "source": [
    "from malaya.text.vectorizer import SkipGramCountVectorizer\n",
    "\n",
    "stopwords = malaya.text.function.get_stopwords()\n",
    "vectorizer = SkipGramCountVectorizer(\n",
    "    token_pattern = r'[\\S]+',\n",
    "    ngram_range = (1, 3),\n",
    "    stop_words = stopwords,\n",
    "    lowercase = False,\n",
    "    skip = 2\n",
    ")"
   ]
  },
  {
   "cell_type": "code",
   "execution_count": 8,
   "metadata": {},
   "outputs": [
    {
     "data": {
      "text/plain": [
       "[(0.0017052987393271276, 'parti memohon perisytiharan'),\n",
       " (0.0017036368782590756, 'memohon perisytiharan BERSATU'),\n",
       " (0.0017012023597074357, 'memohon perisytiharan sah'),\n",
       " (0.0017012023597074357, 'sah memohon perisytiharan'),\n",
       " (0.0016992809994779549, 'perisytiharan BERSATU sah')]"
      ]
     },
     "execution_count": 8,
     "metadata": {},
     "output_type": "execute_result"
    }
   ],
   "source": [
    "malaya.keyword_extraction.rake(string, vectorizer = vectorizer)"
   ]
  },
  {
   "cell_type": "markdown",
   "metadata": {},
   "source": [
    "#### fixed-ngram with Attention"
   ]
  },
  {
   "cell_type": "code",
   "execution_count": 9,
   "metadata": {},
   "outputs": [
    {
     "data": {
      "text/plain": [
       "[(0.011575973734122788, 'Suhaimi terlucut kuasa'),\n",
       " (0.011181844743375292, 'Suhaimi terlucut berkuat'),\n",
       " (0.011115823052133569, 'Hamzah Suhaimi terlucut'),\n",
       " (0.011088263093292463, 'Muhammad Suhaimi terlucut'),\n",
       " (0.010932739982610082, 'Suhaimi BERSATU terlucut')]"
      ]
     },
     "execution_count": 9,
     "metadata": {},
     "output_type": "execute_result"
    }
   ],
   "source": [
    "malaya.keyword_extraction.rake(string, model = electra, vectorizer = vectorizer)"
   ]
  },
  {
   "cell_type": "markdown",
   "metadata": {},
   "source": [
    "### Use Textrank algorithm\n",
    "\n",
    "Malaya simply use textrank algorithm.\n",
    "\n",
    "```python\n",
    "def textrank(\n",
    "    string: str,\n",
    "    model = None,\n",
    "    vectorizer = None,\n",
    "    top_k: int = 5,\n",
    "    atleast: int = 1,\n",
    "    stopwords = get_stopwords,\n",
    "    **kwargs\n",
    "):\n",
    "    \"\"\"\n",
    "    Extract keywords using Textrank algorithm.\n",
    "\n",
    "    Parameters\n",
    "    ----------\n",
    "    string: str\n",
    "    model: Object, optional (default='None')\n",
    "        model has `fit_transform` or `vectorize` method.\n",
    "    vectorizer: Object, optional (default=None)\n",
    "        Prefer `sklearn.feature_extraction.text.CountVectorizer` or, \n",
    "        `malaya.text.vectorizer.SkipGramCountVectorizer`.\n",
    "        If None, will generate ngram automatically based on `stopwords`.\n",
    "    top_k: int, optional (default=5)\n",
    "        return top-k results.\n",
    "    atleast: int, optional (default=1)\n",
    "        at least count appeared in the string to accept as candidate.\n",
    "    stopwords: List[str], (default=malaya.texts.function.get_stopwords)\n",
    "        A callable that returned a List[str], or a List[str], or a Tuple[str]\n",
    "\n",
    "    Returns\n",
    "    -------\n",
    "    result: Tuple[float, str]\n",
    "    \"\"\"\n",
    "```"
   ]
  },
  {
   "cell_type": "code",
   "execution_count": 10,
   "metadata": {},
   "outputs": [],
   "source": [
    "from sklearn.feature_extraction.text import TfidfVectorizer\n",
    "tfidf = TfidfVectorizer()"
   ]
  },
  {
   "cell_type": "markdown",
   "metadata": {},
   "source": [
    "#### auto-ngram with TFIDF\n",
    "\n",
    "This will auto generated N-size ngram for keyword candidates."
   ]
  },
  {
   "cell_type": "code",
   "execution_count": 11,
   "metadata": {},
   "outputs": [
    {
     "data": {
      "text/plain": [
       "[(0.00015733542072521276, 'plaintif memohon perisytiharan'),\n",
       " (0.00012558967703709954, 'Fasal perlembagaan parti'),\n",
       " (0.00011514137183023093, 'Fasal Perlembagaan BERSATU'),\n",
       " (0.00011505528232050447, 'parti'),\n",
       " (0.00010763519022276223, 'memohon perisytiharan')]"
      ]
     },
     "execution_count": 11,
     "metadata": {},
     "output_type": "execute_result"
    }
   ],
   "source": [
    "malaya.keyword_extraction.textrank(string, model = tfidf)"
   ]
  },
  {
   "cell_type": "markdown",
   "metadata": {},
   "source": [
    "#### auto-ngram with Attention\n",
    "\n",
    "This will auto generated N-size ngram for keyword candidates."
   ]
  },
  {
   "cell_type": "code",
   "execution_count": 12,
   "metadata": {
    "scrolled": true
   },
   "outputs": [
    {
     "name": "stdout",
     "output_type": "stream",
     "text": [
      "INFO:tensorflow:Restoring parameters from /Users/huseinzolkepli/Malaya/electra-model/small/electra-small/model.ckpt\n",
      "INFO:tensorflow:Restoring parameters from /Users/huseinzolkepli/Malaya/albert-model/base/albert-base/model.ckpt\n"
     ]
    }
   ],
   "source": [
    "electra = malaya.transformer.load(model = 'small-electra')\n",
    "albert = malaya.transformer.load(model = 'albert')"
   ]
  },
  {
   "cell_type": "code",
   "execution_count": 13,
   "metadata": {},
   "outputs": [
    {
     "data": {
      "text/plain": [
       "[(6.318265869072403e-05, 'dipohon perisytiharan'),\n",
       " (6.316746537201306e-05, 'pemegang jawatan'),\n",
       " (6.316118885596658e-05, 'parti bertarikh Jun'),\n",
       " (6.316104343935219e-05, 'Februari'),\n",
       " (6.315818745707347e-05, 'plaintif')]"
      ]
     },
     "execution_count": 13,
     "metadata": {},
     "output_type": "execute_result"
    }
   ],
   "source": [
    "malaya.keyword_extraction.textrank(string, model = electra)"
   ]
  },
  {
   "cell_type": "code",
   "execution_count": 14,
   "metadata": {},
   "outputs": [
    {
     "data": {
      "text/plain": [
       "[(7.964654245909712e-05, 'Fasal Perlembagaan BERSATU'),\n",
       " (7.746139567779304e-05, 'mesyuarat Majlis Pimpinan Tertinggi'),\n",
       " (7.522448275120805e-05, 'Muhammad Suhaimi'),\n",
       " (7.520443949997106e-05, 'pengesahan'),\n",
       " (7.519602119292121e-05, 'terbatal Plaintif')]"
      ]
     },
     "execution_count": 14,
     "metadata": {},
     "output_type": "execute_result"
    }
   ],
   "source": [
    "malaya.keyword_extraction.textrank(string, model = albert)"
   ]
  },
  {
   "cell_type": "markdown",
   "metadata": {},
   "source": [
    "**Or you can use any classification model to find keywords sensitive towards to specific domain**."
   ]
  },
  {
   "cell_type": "code",
   "execution_count": 15,
   "metadata": {
    "scrolled": true
   },
   "outputs": [
    {
     "name": "stderr",
     "output_type": "stream",
     "text": [
      "WARNING:root:Load quantized model will cause accuracy drop.\n"
     ]
    }
   ],
   "source": [
    "sentiment = malaya.sentiment.transformer(model = 'xlnet', quantized = True)"
   ]
  },
  {
   "cell_type": "code",
   "execution_count": 16,
   "metadata": {},
   "outputs": [
    {
     "data": {
      "text/plain": [
       "[(6.592349998684001e-05, 'pengesahan'),\n",
       " (6.522374046273496e-05, 'parti'),\n",
       " (6.519787313586387e-05, 'ditandatangani Muhammad Suhaimi bertarikh Mei'),\n",
       " (6.50355056789609e-05, 'memegang jawatan'),\n",
       " (6.48614030622403e-05, 'pemilihan parti')]"
      ]
     },
     "execution_count": 16,
     "metadata": {},
     "output_type": "execute_result"
    }
   ],
   "source": [
    "malaya.keyword_extraction.textrank(string, model = sentiment)"
   ]
  },
  {
   "cell_type": "markdown",
   "metadata": {},
   "source": [
    "#### fixed-ngram with Attention"
   ]
  },
  {
   "cell_type": "code",
   "execution_count": 17,
   "metadata": {},
   "outputs": [],
   "source": [
    "stopwords = malaya.text.function.get_stopwords()\n",
    "vectorizer = SkipGramCountVectorizer(\n",
    "    token_pattern = r'[\\S]+',\n",
    "    ngram_range = (1, 3),\n",
    "    stop_words = stopwords,\n",
    "    lowercase = False,\n",
    "    skip = 2\n",
    ")"
   ]
  },
  {
   "cell_type": "code",
   "execution_count": 18,
   "metadata": {},
   "outputs": [
    {
     "data": {
      "text/plain": [
       "[(5.652169440330057e-09, 'plaintif perisytiharan'),\n",
       " (5.652075728462069e-09, 'perisytiharan ahli sah'),\n",
       " (5.651996176263403e-09, 'Plaintif perisytiharan keahlian'),\n",
       " (5.651931485635611e-09, 'Perisytiharan'),\n",
       " (5.651703407437562e-09, 'plaintif memohon perisytiharan')]"
      ]
     },
     "execution_count": 18,
     "metadata": {},
     "output_type": "execute_result"
    }
   ],
   "source": [
    "malaya.keyword_extraction.textrank(string, model = electra, vectorizer = vectorizer)"
   ]
  },
  {
   "cell_type": "code",
   "execution_count": 19,
   "metadata": {},
   "outputs": [
    {
     "data": {
      "text/plain": [
       "[(7.237609487831676e-09, 'Perisytiharan Fasal Perlembagaan'),\n",
       " (7.237148398598793e-09, 'Fasal Perlembagaan melucutkan'),\n",
       " (7.234637484224076e-09, 'Pimpinan Tertinggi (MPT)'),\n",
       " (7.2318264874552195e-09, 'Majlis Pimpinan (MPT)'),\n",
       " (7.231510832160389e-09, 'Perisytiharan Fasal BERSATU')]"
      ]
     },
     "execution_count": 19,
     "metadata": {},
     "output_type": "execute_result"
    }
   ],
   "source": [
    "malaya.keyword_extraction.textrank(string, model = albert, vectorizer = vectorizer)"
   ]
  },
  {
   "cell_type": "markdown",
   "metadata": {},
   "source": [
    "### Use Attention mechanism\n",
    "\n",
    "Use attention mechanism from transformer model to get important keywords.\n",
    "\n",
    "```python\n",
    "def attention(\n",
    "    string: str,\n",
    "    model,\n",
    "    vectorizer = None,\n",
    "    top_k: int = 5,\n",
    "    atleast: int = 1,\n",
    "    stopwords = get_stopwords,\n",
    "    **kwargs\n",
    "):\n",
    "    \"\"\"\n",
    "    Extract keywords using Attention mechanism.\n",
    "\n",
    "    Parameters\n",
    "    ----------\n",
    "    string: str\n",
    "    model: Object\n",
    "        Transformer model or any model has `attention` method.\n",
    "    vectorizer: Object, optional (default=None)\n",
    "        Prefer `sklearn.feature_extraction.text.CountVectorizer` or, \n",
    "        `malaya.text.vectorizer.SkipGramCountVectorizer`.\n",
    "        If None, will generate ngram automatically based on `stopwords`.\n",
    "    top_k: int, optional (default=5)\n",
    "        return top-k results.\n",
    "    atleast: int, optional (default=1)\n",
    "        at least count appeared in the string to accept as candidate.\n",
    "    stopwords: List[str], (default=malaya.texts.function.get_stopwords)\n",
    "        A callable that returned a List[str], or a List[str], or a Tuple[str]\n",
    "\n",
    "    Returns\n",
    "    -------\n",
    "    result: Tuple[float, str]\n",
    "    \"\"\"\n",
    "```"
   ]
  },
  {
   "cell_type": "markdown",
   "metadata": {},
   "source": [
    "#### auto-ngram\n",
    "\n",
    "This will auto generated N-size ngram for keyword candidates."
   ]
  },
  {
   "cell_type": "code",
   "execution_count": 20,
   "metadata": {},
   "outputs": [
    {
     "data": {
      "text/plain": [
       "[(0.9452064615567696, 'menghalang pelupusan pertikaian'),\n",
       " (0.00748668920928296, 'Fasal Perlembagaan BERSATU'),\n",
       " (0.005130746086467051, 'ahli BERSATU'),\n",
       " (0.005036596770673816, 'melucutkan memberhentikan keahlian'),\n",
       " (0.004883705096775167, 'BERSATU')]"
      ]
     },
     "execution_count": 20,
     "metadata": {},
     "output_type": "execute_result"
    }
   ],
   "source": [
    "malaya.keyword_extraction.attention(string, model = electra)"
   ]
  },
  {
   "cell_type": "code",
   "execution_count": 21,
   "metadata": {},
   "outputs": [
    {
     "data": {
      "text/plain": [
       "[(0.16196376947988833, 'plaintif memohon perisytiharan'),\n",
       " (0.09294069270557498, 'memohon perisytiharan'),\n",
       " (0.06902307677431335, 'plaintif'),\n",
       " (0.05584833292678144, 'ditandatangani Muhammad Suhaimi bertarikh Mei'),\n",
       " (0.05206227265177878, 'dipohon perisytiharan')]"
      ]
     },
     "execution_count": 21,
     "metadata": {},
     "output_type": "execute_result"
    }
   ],
   "source": [
    "malaya.keyword_extraction.attention(string, model = albert)"
   ]
  },
  {
   "cell_type": "markdown",
   "metadata": {},
   "source": [
    "#### fixed-ngram"
   ]
  },
  {
   "cell_type": "code",
   "execution_count": 22,
   "metadata": {},
   "outputs": [
    {
     "data": {
      "text/plain": [
       "[(0.037611192232396125, 'pertikaian mahkamah Perlembagaan'),\n",
       " (0.03757121639209162, 'pertikaian mahkamah Fasal'),\n",
       " (0.037563414917813766, 'terpakai pertikaian mahkamah'),\n",
       " (0.03756289871618318, 'menghalang pertikaian mahkamah'),\n",
       " (0.037561437116523086, 'pelupusan pertikaian mahkamah')]"
      ]
     },
     "execution_count": 22,
     "metadata": {},
     "output_type": "execute_result"
    }
   ],
   "source": [
    "malaya.keyword_extraction.attention(string, model = electra, vectorizer = vectorizer)"
   ]
  },
  {
   "cell_type": "code",
   "execution_count": 23,
   "metadata": {},
   "outputs": [
    {
     "data": {
      "text/plain": [
       "[(0.0073900373302097505, 'saman plaintif memohon'),\n",
       " (0.006895211361267655, 'Dalam plaintif memohon'),\n",
       " (0.006638399608830277, 'plaintif memohon BERSATU'),\n",
       " (0.0062231449129606375, 'Dalam saman memohon'),\n",
       " (0.006196574312595335, 'plaintif memohon perisytiharan')]"
      ]
     },
     "execution_count": 23,
     "metadata": {},
     "output_type": "execute_result"
    }
   ],
   "source": [
    "malaya.keyword_extraction.attention(string, model = albert, vectorizer = vectorizer)"
   ]
  },
  {
   "cell_type": "markdown",
   "metadata": {},
   "source": [
    "### Use similarity mechanism\n",
    "\n",
    "```python\n",
    "def similarity(\n",
    "    string: str,\n",
    "    model,\n",
    "    vectorizer = None,\n",
    "    top_k: int = 5,\n",
    "    atleast: int = 1,\n",
    "    stopwords = get_stopwords,\n",
    "    **kwargs,\n",
    "):\n",
    "    \"\"\"\n",
    "    Extract keywords using Sentence embedding VS keyword embedding similarity.\n",
    "\n",
    "    Parameters\n",
    "    ----------\n",
    "    string: str\n",
    "    model: Object\n",
    "        Transformer model or any model has `vectorize` method.\n",
    "    vectorizer: Object, optional (default=None)\n",
    "        Prefer `sklearn.feature_extraction.text.CountVectorizer` or, \n",
    "        `malaya.text.vectorizer.SkipGramCountVectorizer`.\n",
    "        If None, will generate ngram automatically based on `stopwords`.\n",
    "    top_k: int, optional (default=5)\n",
    "        return top-k results.\n",
    "    atleast: int, optional (default=1)\n",
    "        at least count appeared in the string to accept as candidate.\n",
    "    stopwords: List[str], (default=malaya.texts.function.get_stopwords)\n",
    "        A callable that returned a List[str], or a List[str], or a Tuple[str]\n",
    "\n",
    "    Returns\n",
    "    -------\n",
    "    result: Tuple[float, str]\n",
    "    \"\"\"\n",
    "```\n",
    "\n",
    "It is best to use with `malaya.similarity.transformer(model = 'alxlnet')`."
   ]
  },
  {
   "cell_type": "code",
   "execution_count": 4,
   "metadata": {},
   "outputs": [],
   "source": [
    "alxlnet = malaya.similarity.transformer(model = 'alxlnet')"
   ]
  },
  {
   "cell_type": "code",
   "execution_count": 5,
   "metadata": {},
   "outputs": [
    {
     "data": {
      "text/plain": [
       "[(0.817958, 'terbatal Plaintif'),\n",
       " (0.79831344, 'memohon perisytiharan'),\n",
       " (0.7925713, 'melucutkan memberhentikan keahlian'),\n",
       " (0.7921115, 'plaintif memohon perisytiharan'),\n",
       " (0.76372087, 'Seksyen C Akta Pertubuhan')]"
      ]
     },
     "execution_count": 5,
     "metadata": {},
     "output_type": "execute_result"
    }
   ],
   "source": [
    "malaya.keyword_extraction.similarity(string, model = alxlnet)"
   ]
  }
 ],
 "metadata": {
  "kernelspec": {
   "display_name": "Python 3",
   "language": "python",
   "name": "python3"
  },
  "language_info": {
   "codemirror_mode": {
    "name": "ipython",
    "version": 3
   },
   "file_extension": ".py",
   "mimetype": "text/x-python",
   "name": "python",
   "nbconvert_exporter": "python",
   "pygments_lexer": "ipython3",
   "version": "3.7.7"
  }
 },
 "nbformat": 4,
 "nbformat_minor": 2
}
