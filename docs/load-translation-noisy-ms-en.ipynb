{
 "cells": [
  {
   "cell_type": "markdown",
   "metadata": {},
   "source": [
    "# MS to EN Noisy"
   ]
  },
  {
   "cell_type": "markdown",
   "metadata": {},
   "source": [
    "<div class=\"alert alert-info\">\n",
    "\n",
    "This tutorial is available as an IPython notebook at [Malaya/example/noisy-ms-en-translation](https://github.com/huseinzol05/Malaya/tree/master/example/noisy-ms-en-translation).\n",
    "    \n",
    "</div>"
   ]
  },
  {
   "cell_type": "markdown",
   "metadata": {},
   "source": [
    "<div class=\"alert alert-warning\">\n",
    "\n",
    "This module trained on standard language and augmented local language structures, proceed with caution.\n",
    "    \n",
    "</div>"
   ]
  },
  {
   "cell_type": "code",
   "execution_count": 1,
   "metadata": {},
   "outputs": [
    {
     "name": "stdout",
     "output_type": "stream",
     "text": [
      "CPU times: user 6.16 s, sys: 1.33 s, total: 7.49 s\n",
      "Wall time: 10.5 s\n"
     ]
    }
   ],
   "source": [
    "%%time\n",
    "\n",
    "import malaya\n",
    "import logging\n",
    "\n",
    "logging.basicConfig(level=logging.INFO)"
   ]
  },
  {
   "cell_type": "markdown",
   "metadata": {},
   "source": [
    "### List available Transformer models"
   ]
  },
  {
   "cell_type": "code",
   "execution_count": 2,
   "metadata": {},
   "outputs": [
    {
     "name": "stderr",
     "output_type": "stream",
     "text": [
      "INFO:malaya.translation.ms_en:tested on 100k MS-EN test set generated from teacher semisupervised model, https://huggingface.co/datasets/mesolitica/ms-en\n",
      "INFO:malaya.translation.ms_en:tested on FLORES200 MS-EN (zsm_Latn-eng_Latn) pair `dev` set, https://github.com/facebookresearch/flores/tree/main/flores200\n"
     ]
    },
    {
     "data": {
      "text/html": [
       "<div>\n",
       "<style scoped>\n",
       "    .dataframe tbody tr th:only-of-type {\n",
       "        vertical-align: middle;\n",
       "    }\n",
       "\n",
       "    .dataframe tbody tr th {\n",
       "        vertical-align: top;\n",
       "    }\n",
       "\n",
       "    .dataframe thead th {\n",
       "        text-align: right;\n",
       "    }\n",
       "</style>\n",
       "<table border=\"1\" class=\"dataframe\">\n",
       "  <thead>\n",
       "    <tr style=\"text-align: right;\">\n",
       "      <th></th>\n",
       "      <th>Size (MB)</th>\n",
       "      <th>Quantized Size (MB)</th>\n",
       "      <th>BLEU</th>\n",
       "      <th>SacreBLEU Verbose</th>\n",
       "      <th>SacreBLEU-chrF++-FLORES200</th>\n",
       "      <th>Suggested length</th>\n",
       "    </tr>\n",
       "  </thead>\n",
       "  <tbody>\n",
       "    <tr>\n",
       "      <th>small</th>\n",
       "      <td>42.7</td>\n",
       "      <td>13.4</td>\n",
       "      <td>59.874731</td>\n",
       "      <td>80.6/64.3/54.1/46.3 (BP = 0.998 ratio = 0.998 ...</td>\n",
       "      <td>59.64</td>\n",
       "      <td>256</td>\n",
       "    </tr>\n",
       "    <tr>\n",
       "      <th>base</th>\n",
       "      <td>234</td>\n",
       "      <td>82.7</td>\n",
       "      <td>71.687583</td>\n",
       "      <td>86.2/74.8/67.2/61.0 (BP = 1.000 ratio = 1.005 ...</td>\n",
       "      <td>63.24</td>\n",
       "      <td>256</td>\n",
       "    </tr>\n",
       "    <tr>\n",
       "      <th>bigbird</th>\n",
       "      <td>246</td>\n",
       "      <td>63.7</td>\n",
       "      <td>59.548257</td>\n",
       "      <td>79.6/63.8/53.8/46.0 (BP = 1.000 ratio = 1.026 ...</td>\n",
       "      <td>62.49</td>\n",
       "      <td>1024</td>\n",
       "    </tr>\n",
       "    <tr>\n",
       "      <th>small-bigbird</th>\n",
       "      <td>50.4</td>\n",
       "      <td>13.1</td>\n",
       "      <td>55.967145</td>\n",
       "      <td>77.4/60.5/49.9/41.9 (BP = 1.000 ratio = 1.026 ...</td>\n",
       "      <td>60.57</td>\n",
       "      <td>1024</td>\n",
       "    </tr>\n",
       "    <tr>\n",
       "      <th>noisy-base</th>\n",
       "      <td>234</td>\n",
       "      <td>82.7</td>\n",
       "      <td>71.725493</td>\n",
       "      <td>86.3/74.8/67.2/61.0 (BP = 1.000 ratio = 1.002 ...</td>\n",
       "      <td>63.31</td>\n",
       "      <td>256</td>\n",
       "    </tr>\n",
       "  </tbody>\n",
       "</table>\n",
       "</div>"
      ],
      "text/plain": [
       "              Size (MB) Quantized Size (MB)       BLEU  \\\n",
       "small              42.7                13.4  59.874731   \n",
       "base                234                82.7  71.687583   \n",
       "bigbird             246                63.7  59.548257   \n",
       "small-bigbird      50.4                13.1  55.967145   \n",
       "noisy-base          234                82.7  71.725493   \n",
       "\n",
       "                                               SacreBLEU Verbose  \\\n",
       "small          80.6/64.3/54.1/46.3 (BP = 0.998 ratio = 0.998 ...   \n",
       "base           86.2/74.8/67.2/61.0 (BP = 1.000 ratio = 1.005 ...   \n",
       "bigbird        79.6/63.8/53.8/46.0 (BP = 1.000 ratio = 1.026 ...   \n",
       "small-bigbird  77.4/60.5/49.9/41.9 (BP = 1.000 ratio = 1.026 ...   \n",
       "noisy-base     86.3/74.8/67.2/61.0 (BP = 1.000 ratio = 1.002 ...   \n",
       "\n",
       "              SacreBLEU-chrF++-FLORES200 Suggested length  \n",
       "small                              59.64              256  \n",
       "base                               63.24              256  \n",
       "bigbird                            62.49             1024  \n",
       "small-bigbird                      60.57             1024  \n",
       "noisy-base                         63.31              256  "
      ]
     },
     "execution_count": 2,
     "metadata": {},
     "output_type": "execute_result"
    }
   ],
   "source": [
    "malaya.translation.ms_en.available_transformer()"
   ]
  },
  {
   "cell_type": "markdown",
   "metadata": {},
   "source": [
    "### Load Transformer models\n",
    "\n",
    "```python\n",
    "def transformer(model: str = 'base', quantized: bool = False, **kwargs):\n",
    "    \"\"\"\n",
    "    Load Transformer encoder-decoder model to translate MS-to-EN.\n",
    "\n",
    "    Parameters\n",
    "    ----------\n",
    "    model : str, optional (default='base')\n",
    "        Model architecture supported. Allowed values:\n",
    "\n",
    "        * ``'small'`` - Transformer SMALL parameters.\n",
    "        * ``'base'`` - Transformer BASE parameters.\n",
    "        * ``'large'`` - Transformer LARGE parameters.\n",
    "        * ``'bigbird'`` - BigBird BASE parameters.\n",
    "        * ``'small-bigbird'`` - BigBird SMALL parameters.\n",
    "        * ``'noisy-base'`` - Transformer BASE parameters trained on noisy dataset.\n",
    "\n",
    "    quantized : bool, optional (default=False)\n",
    "        if True, will load 8-bit quantized model.\n",
    "        Quantized model not necessary faster, totally depends on the machine.\n",
    "\n",
    "    Returns\n",
    "    -------\n",
    "    result: model\n",
    "        List of model classes:\n",
    "\n",
    "        * if `bigbird` in model, return `malaya.model.bigbird.Translation`.\n",
    "        * else, return `malaya.model.tf.compat.v1.Translation`.\n",
    "    \"\"\"\n",
    "```"
   ]
  },
  {
   "cell_type": "code",
   "execution_count": 22,
   "metadata": {},
   "outputs": [],
   "source": [
    "transformer = malaya.translation.ms_en.transformer()"
   ]
  },
  {
   "cell_type": "code",
   "execution_count": null,
   "metadata": {},
   "outputs": [],
   "source": [
    "transformer_noisy = malaya.translation.ms_en.transformer(model = 'noisy-base')"
   ]
  },
  {
   "cell_type": "markdown",
   "metadata": {},
   "source": [
    "### Translate\n",
    "\n",
    "#### Using greedy decoder\n",
    "\n",
    "```python\n",
    "def greedy_decoder(self, strings: List[str]):\n",
    "    \"\"\"\n",
    "    translate list of strings.\n",
    "\n",
    "    Parameters\n",
    "    ----------\n",
    "    strings : List[str]\n",
    "\n",
    "    Returns\n",
    "    -------\n",
    "    result: List[str]\n",
    "    \"\"\"\n",
    "```\n",
    "\n",
    "#### Using beam decoder\n",
    "\n",
    "```python\n",
    "def beam_decoder(self, strings: List[str], beam_size: int = 3, temperature: float = 0.5):\n",
    "    \"\"\"\n",
    "    translate list of strings using beam decoder.\n",
    "    Currently only `noisy` models supported `beam_size` and `temperature` parameters.\n",
    "\n",
    "    Parameters\n",
    "    ----------\n",
    "    strings : List[str]\n",
    "    beam_size: int, optional (default=3)\n",
    "    temperature: float, optional (default=0.5)\n",
    "\n",
    "    Returns\n",
    "    -------\n",
    "    result: List[str]\n",
    "    \"\"\"\n",
    "```\n",
    "\n",
    "**For better results, always split by end of sentences**."
   ]
  },
  {
   "cell_type": "code",
   "execution_count": 6,
   "metadata": {},
   "outputs": [],
   "source": [
    "from pprint import pprint"
   ]
  },
  {
   "cell_type": "code",
   "execution_count": 7,
   "metadata": {},
   "outputs": [
    {
     "name": "stdout",
     "output_type": "stream",
     "text": [
      "('TANGKAK - Tan Sri Muhyiddin Yassin berkata, beliau tidak mahu menyentuh '\n",
      " 'mengenai isu politik buat masa ini, sebaliknya mahu menumpukan kepada soal '\n",
      " 'kebajikan rakyat serta usaha merancakkan semula ekonomi negara yang terjejas '\n",
      " 'berikutan pandemik Covid-19. Perdana Menteri menjelaskan perkara itu ketika '\n",
      " 'berucap pada Majlis Bertemu Pemimpin bersama pemimpin masyarakat Dewan '\n",
      " 'Undangan Negeri (DUN) Gambir di Dewan Serbaguna Bukit Gambir hari ini.')\n"
     ]
    }
   ],
   "source": [
    "# https://www.sinarharian.com.my/article/89678/BERITA/Politik/Saya-tidak-mahu-sentuh-isu-politik-Muhyiddin\n",
    "\n",
    "string_news1 = 'TANGKAK - Tan Sri Muhyiddin Yassin berkata, beliau tidak mahu menyentuh mengenai isu politik buat masa ini, sebaliknya mahu menumpukan kepada soal kebajikan rakyat serta usaha merancakkan semula ekonomi negara yang terjejas berikutan pandemik Covid-19. Perdana Menteri menjelaskan perkara itu ketika berucap pada Majlis Bertemu Pemimpin bersama pemimpin masyarakat Dewan Undangan Negeri (DUN) Gambir di Dewan Serbaguna Bukit Gambir hari ini.'\n",
    "pprint(string_news1)"
   ]
  },
  {
   "cell_type": "code",
   "execution_count": 8,
   "metadata": {},
   "outputs": [
    {
     "name": "stdout",
     "output_type": "stream",
     "text": [
      "('ALOR SETAR - Kemelut politik Pakatan Harapan (PH) belum berkesudahan apabila '\n",
      " 'masih gagal memuktamadkan calon Perdana Menteri yang dipersetujui bersama. '\n",
      " 'Ahli Parlimen Sik, Ahmad Tarmizi Sulaiman berkata, sehubungan itu pihaknya '\n",
      " 'mencadangkan mantan Pengerusi Parti Pribumi Bersatu Malaysia (Bersatu), Tun '\n",
      " 'Dr Mahathir Mohamad dan Presiden Parti Keadilan Rakyat (PKR), Datuk Seri '\n",
      " 'Anwar Ibrahim mengundurkan diri daripada politik sebagai jalan penyelesaian.')\n"
     ]
    }
   ],
   "source": [
    "# https://www.sinarharian.com.my/article/90021/BERITA/Politik/Tun-Mahathir-Anwar-disaran-bersara-untuk-selesai-kemelut-politik\n",
    "\n",
    "string_news2 = 'ALOR SETAR - Kemelut politik Pakatan Harapan (PH) belum berkesudahan apabila masih gagal memuktamadkan calon Perdana Menteri yang dipersetujui bersama. Ahli Parlimen Sik, Ahmad Tarmizi Sulaiman berkata, sehubungan itu pihaknya mencadangkan mantan Pengerusi Parti Pribumi Bersatu Malaysia (Bersatu), Tun Dr Mahathir Mohamad dan Presiden Parti Keadilan Rakyat (PKR), Datuk Seri Anwar Ibrahim mengundurkan diri daripada politik sebagai jalan penyelesaian.'\n",
    "pprint(string_news2)"
   ]
  },
  {
   "cell_type": "code",
   "execution_count": 9,
   "metadata": {},
   "outputs": [
    {
     "name": "stdout",
     "output_type": "stream",
     "text": [
      "('Menteri Kanan (Kluster Keselamatan) Datuk Seri Ismail Sabri Yaakob berkata, '\n",
      " 'kelonggaran itu diberi berikutan kerajaan menyedari masalah yang dihadapi '\n",
      " 'mereka untuk memperbaharui dokumen itu. Katanya, selain itu, bagi rakyat '\n",
      " 'asing yang pas lawatan sosial tamat semasa Perintah Kawalan Pergerakan (PKP) '\n",
      " 'pula boleh ke pejabat Jabatan Imigresen yang terdekat untuk mendapatkan '\n",
      " 'lanjutan tempoh.')\n"
     ]
    }
   ],
   "source": [
    "string_news3 = 'Menteri Kanan (Kluster Keselamatan) Datuk Seri Ismail Sabri Yaakob berkata, kelonggaran itu diberi berikutan kerajaan menyedari masalah yang dihadapi mereka untuk memperbaharui dokumen itu. Katanya, selain itu, bagi rakyat asing yang pas lawatan sosial tamat semasa Perintah Kawalan Pergerakan (PKP) pula boleh ke pejabat Jabatan Imigresen yang terdekat untuk mendapatkan lanjutan tempoh.'\n",
    "pprint(string_news3)"
   ]
  },
  {
   "cell_type": "code",
   "execution_count": 10,
   "metadata": {},
   "outputs": [
    {
     "name": "stdout",
     "output_type": "stream",
     "text": [
      "('Selain itu, pameran kerjaya membantu para pelajar menentukan kerjaya yang '\n",
      " 'akan diceburi oleh mereka. Seperti yang kita ketahui, pasaran kerjaya di '\n",
      " 'Malaysia sangat luas dan masih banyak sektor pekerjaan di negara ini yang '\n",
      " 'masih kosong kerana sukar untuk mencari tenaga kerja yang benar-benar '\n",
      " 'berkelayakan. Sebagai contohnya, sektor perubatan di Malaysia menghadapi '\n",
      " 'masalah kekurangan tenaga kerja yang kritikal, khususnya tenaga pakar '\n",
      " 'disebabkan peletakan jawatan oleh doktor dan pakar perubatan untuk memasuki '\n",
      " 'sektor swasta serta berkembangnya perkhidmatan kesihatan dan perubatan. '\n",
      " 'Setelah menyedari  hakikat ini, para pelajar akan lebih berminat untuk '\n",
      " 'menceburi bidang perubatan kerana pameran kerjaya yang dilaksanakan amat '\n",
      " 'membantu memberikan pengetahuan am tentang kerjaya ini')\n"
     ]
    }
   ],
   "source": [
    "# https://qcikgubm.blogspot.com/2018/02/contoh-soalan-dan-jawapan-karangan.html\n",
    "\n",
    "string_karangan = 'Selain itu, pameran kerjaya membantu para pelajar menentukan kerjaya yang akan diceburi oleh mereka. Seperti yang kita ketahui, pasaran kerjaya di Malaysia sangat luas dan masih banyak sektor pekerjaan di negara ini yang masih kosong kerana sukar untuk mencari tenaga kerja yang benar-benar berkelayakan. Sebagai contohnya, sektor perubatan di Malaysia menghadapi masalah kekurangan tenaga kerja yang kritikal, khususnya tenaga pakar disebabkan peletakan jawatan oleh doktor dan pakar perubatan untuk memasuki sektor swasta serta berkembangnya perkhidmatan kesihatan dan perubatan. Setelah menyedari  hakikat ini, para pelajar akan lebih berminat untuk menceburi bidang perubatan kerana pameran kerjaya yang dilaksanakan amat membantu memberikan pengetahuan am tentang kerjaya ini'\n",
    "pprint(string_karangan)"
   ]
  },
  {
   "cell_type": "code",
   "execution_count": 11,
   "metadata": {},
   "outputs": [
    {
     "name": "stdout",
     "output_type": "stream",
     "text": [
      "['TANGKAK - Tan Sri Muhyiddin Yassin said he did not want to touch on '\n",
      " 'political issues at the moment, instead focusing on the welfare of the '\n",
      " \"people and efforts to revitalize the affected country's economy following \"\n",
      " 'the Covid-19 pandemic. The prime minister explained the matter when speaking '\n",
      " \"at the Leader Meeting with the People's Assembly (DUN) leaders at the Bukit \"\n",
      " 'Gambir Multipurpose Hall today.',\n",
      " 'ALOR SETAR - Pakatan Harapan (PH) political crisis has not ended when it '\n",
      " 'failed to finalize a mutually agreed Prime Minister. Sik Member of '\n",
      " 'Parliament Ahmad Tarmizi Sulaiman said he had suggested former United '\n",
      " \"Nations Indigenous Party (UN) chairman Tun Dr Mahathir Mohamad and People's \"\n",
      " 'Justice Party (PKR) president Datuk Seri Anwar Ibrahim resign from politics '\n",
      " 'as a solution.',\n",
      " 'Senior Minister (Security Cluster) Datuk Seri Ismail Sabri Yaakob said the '\n",
      " 'relaxation was given as the government realized the problems they were '\n",
      " 'facing in renewing the document. He added that for foreigners who pass the '\n",
      " 'social visit to the end of the Movement Control Order (CPP), they could go '\n",
      " 'to the nearest Immigration Department office for extension.']\n",
      "CPU times: user 27.6 s, sys: 7.5 s, total: 35.1 s\n",
      "Wall time: 20 s\n"
     ]
    }
   ],
   "source": [
    "%%time\n",
    "\n",
    "pprint(transformer_noisy.greedy_decoder([string_news1, string_news2, string_news3, string_karangan]))"
   ]
  },
  {
   "cell_type": "markdown",
   "metadata": {},
   "source": [
    "### compare results using local language structure"
   ]
  },
  {
   "cell_type": "code",
   "execution_count": 1,
   "metadata": {},
   "outputs": [],
   "source": [
    "strings = [\n",
    "    'ak tak paham la',\n",
    "    'jam 8 di pasar KK memang org ramai 😂, pandai dia pilih tmpt.',\n",
    "    'Jadi haram jadah😀😃🤭',\n",
    "    'nak gi mana tuu',\n",
    "    'Macam nak ambil half day',\n",
    "    \"Bayangkan PH dan menang pru-14. Pastu macam-macam pintu belakang ada. Last-last Ismail Sabri naik. That's why I don't give a fk about politics anymore. Sumpah dah fk up dah.\",\n",
    "]"
   ]
  },
  {
   "cell_type": "code",
   "execution_count": 20,
   "metadata": {},
   "outputs": [
    {
     "name": "stdout",
     "output_type": "stream",
     "text": [
      "[\"I don't understand.\",\n",
      " 'At 8 in the KK market it is very crowded, he is good at choosing a place.',\n",
      " \"So it's illegal\",\n",
      " 'Where is that?',\n",
      " \"It's like taking half a day.\",\n",
      " 'Imagine PH and won 14. Then there are all kinds of back doors. Ismail '\n",
      " \"Sabri's last time went up. That's why I don't give a fk about politics \"\n",
      " 'anymore. The oath has been poured up.']\n",
      "CPU times: user 10.7 s, sys: 2.08 s, total: 12.8 s\n",
      "Wall time: 2.78 s\n"
     ]
    }
   ],
   "source": [
    "%%time\n",
    "\n",
    "pprint(transformer_noisy.greedy_decoder(strings))"
   ]
  },
  {
   "cell_type": "code",
   "execution_count": 21,
   "metadata": {},
   "outputs": [
    {
     "name": "stdout",
     "output_type": "stream",
     "text": [
      "[\"I don't understand it\",\n",
      " \"At 8 o'clock in the KK market, he is good at choosing tmpt.\",\n",
      " \"So it's illegal\",\n",
      " 'Where to go',\n",
      " 'Like taking half day',\n",
      " 'Imagine PH and winning pru-14. There are so many back doors available. '\n",
      " \"Last-last Ismail Sabri went up. That's why I don't give a fk about politics \"\n",
      " 'anymore. The swear is fk up.']\n",
      "CPU times: user 10.8 s, sys: 1.35 s, total: 12.1 s\n",
      "Wall time: 2.71 s\n"
     ]
    }
   ],
   "source": [
    "%%time\n",
    "\n",
    "pprint(transformer.greedy_decoder(strings))"
   ]
  },
  {
   "cell_type": "markdown",
   "metadata": {},
   "source": [
    "### compare with Google translate using googletrans\n",
    "\n",
    "Install it by,\n",
    "\n",
    "```bash\n",
    "pip3 install googletrans==4.0.0rc1\n",
    "```"
   ]
  },
  {
   "cell_type": "code",
   "execution_count": 3,
   "metadata": {},
   "outputs": [],
   "source": [
    "from googletrans import Translator\n",
    "\n",
    "translator = Translator()"
   ]
  },
  {
   "cell_type": "code",
   "execution_count": 6,
   "metadata": {},
   "outputs": [
    {
     "name": "stdout",
     "output_type": "stream",
     "text": [
      "I don't understand\n",
      "At 8 o'clock in the KK market is a lot of people 😂, he's good at choosing TMPT.\n",
      "So it's illegal to make it\n",
      "Where are you going\n",
      "It's like taking half day\n",
      "Imagine PH and won the GE-14.There must be all kinds of back doors.Last-last Ismail Sabri went up.That's why I don't give a fk about politics anymore.I swear it's up.\n"
     ]
    }
   ],
   "source": [
    "for t in strings:\n",
    "    r = translator.translate(t, src='ms', dest = 'en')\n",
    "    print(r.text)"
   ]
  },
  {
   "cell_type": "code",
   "execution_count": null,
   "metadata": {},
   "outputs": [],
   "source": []
  }
 ],
 "metadata": {
  "kernelspec": {
   "display_name": "Python 3",
   "language": "python",
   "name": "python3"
  },
  "language_info": {
   "codemirror_mode": {
    "name": "ipython",
    "version": 3
   },
   "file_extension": ".py",
   "mimetype": "text/x-python",
   "name": "python",
   "nbconvert_exporter": "python",
   "pygments_lexer": "ipython3",
   "version": "3.7.7"
  },
  "varInspector": {
   "cols": {
    "lenName": 16,
    "lenType": 16,
    "lenVar": 40
   },
   "kernels_config": {
    "python": {
     "delete_cmd_postfix": "",
     "delete_cmd_prefix": "del ",
     "library": "var_list.py",
     "varRefreshCmd": "print(var_dic_list())"
    },
    "r": {
     "delete_cmd_postfix": ") ",
     "delete_cmd_prefix": "rm(",
     "library": "var_list.r",
     "varRefreshCmd": "cat(var_dic_list()) "
    }
   },
   "types_to_exclude": [
    "module",
    "function",
    "builtin_function_or_method",
    "instance",
    "_Feature"
   ],
   "window_display": false
  }
 },
 "nbformat": 4,
 "nbformat_minor": 4
}
