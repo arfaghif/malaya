{
 "cells": [
  {
   "cell_type": "markdown",
   "metadata": {},
   "source": [
    "# Relevancy Analysis"
   ]
  },
  {
   "cell_type": "markdown",
   "metadata": {},
   "source": [
    "<div class=\"alert alert-info\">\n",
    "\n",
    "This tutorial is available as an IPython notebook at [Malaya/example/relevancy](https://github.com/huseinzol05/Malaya/tree/master/example/relevancy).\n",
    "    \n",
    "</div>"
   ]
  },
  {
   "cell_type": "markdown",
   "metadata": {},
   "source": [
    "<div class=\"alert alert-warning\">\n",
    "\n",
    "This module only trained on standard language structure, so it is not save to use it for local language structure.\n",
    "    \n",
    "</div>"
   ]
  },
  {
   "cell_type": "code",
   "execution_count": 1,
   "metadata": {},
   "outputs": [],
   "source": [
    "import logging\n",
    "\n",
    "logging.basicConfig(level=logging.INFO)"
   ]
  },
  {
   "cell_type": "code",
   "execution_count": 2,
   "metadata": {},
   "outputs": [
    {
     "name": "stderr",
     "output_type": "stream",
     "text": [
      "INFO:numexpr.utils:NumExpr defaulting to 8 threads.\n"
     ]
    },
    {
     "name": "stdout",
     "output_type": "stream",
     "text": [
      "CPU times: user 5.8 s, sys: 1.1 s, total: 6.9 s\n",
      "Wall time: 7.91 s\n"
     ]
    }
   ],
   "source": [
    "%%time\n",
    "import malaya"
   ]
  },
  {
   "cell_type": "markdown",
   "metadata": {},
   "source": [
    "### labels supported\n",
    "\n",
    "Default labels for relevancy module."
   ]
  },
  {
   "cell_type": "code",
   "execution_count": 2,
   "metadata": {},
   "outputs": [
    {
     "data": {
      "text/plain": [
       "['not relevant', 'relevant']"
      ]
     },
     "execution_count": 2,
     "metadata": {},
     "output_type": "execute_result"
    }
   ],
   "source": [
    "malaya.relevancy.label"
   ]
  },
  {
   "cell_type": "markdown",
   "metadata": {},
   "source": [
    "### Explanation\n",
    "\n",
    "Positive relevancy: The article or piece of text is relevant, tendency is high to become not a fake news. Can be a positive or negative sentiment.\n",
    "\n",
    "Negative relevancy: The article or piece of text is not relevant, tendency is high to become a fake news. Can be a positive or negative sentiment.\n",
    "\n",
    "**Right now relevancy module only support deep learning model**."
   ]
  },
  {
   "cell_type": "code",
   "execution_count": 3,
   "metadata": {},
   "outputs": [],
   "source": [
    "negative_text = 'Roti Massimo Mengandungi DNA Babi. Roti produk Massimo keluaran Syarikat The Italian Baker mengandungi DNA babi. Para pengguna dinasihatkan supaya tidak memakan produk massimo. Terdapat pelbagai produk roti keluaran syarikat lain yang boleh dimakan dan halal. Mari kita sebarkan berita ini supaya semua rakyat Malaysia sedar dengan apa yang mereka makna setiap hari. Roti tidak halal ada DNA babi jangan makan ok.'\n",
    "positive_text = 'Jabatan Kemajuan Islam Malaysia memperjelaskan dakwaan sebuah mesej yang dikitar semula, yang mendakwa kononnya kod E dikaitkan dengan kandungan lemak babi sepertimana yang tular di media sosial. . Tular: November 2017 . Tular: Mei 2014 JAKIM ingin memaklumkan kepada masyarakat berhubung maklumat yang telah disebarkan secara meluas khasnya melalui media sosial berhubung kod E yang dikaitkan mempunyai lemak babi. Untuk makluman, KOD E ialah kod untuk bahan tambah (aditif) dan ianya selalu digunakan pada label makanan di negara Kesatuan Eropah. Menurut JAKIM, tidak semua nombor E yang digunakan untuk membuat sesuatu produk makanan berasaskan dari sumber yang haram. Sehubungan itu, sekiranya sesuatu produk merupakan produk tempatan dan mendapat sijil Pengesahan Halal Malaysia, maka ia boleh digunakan tanpa was-was sekalipun mempunyai kod E-kod. Tetapi sekiranya produk tersebut bukan produk tempatan serta tidak mendapat sijil pengesahan halal Malaysia walaupun menggunakan e-kod yang sama, pengguna dinasihatkan agar berhati-hati dalam memilih produk tersebut.'"
   ]
  },
  {
   "cell_type": "markdown",
   "metadata": {},
   "source": [
    "### List available Transformer models"
   ]
  },
  {
   "cell_type": "code",
   "execution_count": 3,
   "metadata": {},
   "outputs": [
    {
     "name": "stderr",
     "output_type": "stream",
     "text": [
      "INFO:malaya.relevancy:trained on 90% dataset, tested on another 10% test set, dataset at https://github.com/huseinzol05/malaya/blob/master/session/relevancy/download-data.ipynb\n"
     ]
    },
    {
     "data": {
      "text/html": [
       "<div>\n",
       "<style scoped>\n",
       "    .dataframe tbody tr th:only-of-type {\n",
       "        vertical-align: middle;\n",
       "    }\n",
       "\n",
       "    .dataframe tbody tr th {\n",
       "        vertical-align: top;\n",
       "    }\n",
       "\n",
       "    .dataframe thead th {\n",
       "        text-align: right;\n",
       "    }\n",
       "</style>\n",
       "<table border=\"1\" class=\"dataframe\">\n",
       "  <thead>\n",
       "    <tr style=\"text-align: right;\">\n",
       "      <th></th>\n",
       "      <th>Size (MB)</th>\n",
       "      <th>Quantized Size (MB)</th>\n",
       "      <th>macro precision</th>\n",
       "      <th>macro recall</th>\n",
       "      <th>macro f1-score</th>\n",
       "      <th>max length</th>\n",
       "    </tr>\n",
       "  </thead>\n",
       "  <tbody>\n",
       "    <tr>\n",
       "      <th>bert</th>\n",
       "      <td>425.6</td>\n",
       "      <td>111.00</td>\n",
       "      <td>0.89320</td>\n",
       "      <td>0.89195</td>\n",
       "      <td>0.89256</td>\n",
       "      <td>512.0</td>\n",
       "    </tr>\n",
       "    <tr>\n",
       "      <th>tiny-bert</th>\n",
       "      <td>57.4</td>\n",
       "      <td>15.40</td>\n",
       "      <td>0.87179</td>\n",
       "      <td>0.86324</td>\n",
       "      <td>0.86695</td>\n",
       "      <td>512.0</td>\n",
       "    </tr>\n",
       "    <tr>\n",
       "      <th>albert</th>\n",
       "      <td>48.6</td>\n",
       "      <td>12.80</td>\n",
       "      <td>0.89798</td>\n",
       "      <td>0.86008</td>\n",
       "      <td>0.87209</td>\n",
       "      <td>512.0</td>\n",
       "    </tr>\n",
       "    <tr>\n",
       "      <th>tiny-albert</th>\n",
       "      <td>22.4</td>\n",
       "      <td>5.98</td>\n",
       "      <td>0.82157</td>\n",
       "      <td>0.83410</td>\n",
       "      <td>0.82416</td>\n",
       "      <td>512.0</td>\n",
       "    </tr>\n",
       "    <tr>\n",
       "      <th>xlnet</th>\n",
       "      <td>446.6</td>\n",
       "      <td>118.00</td>\n",
       "      <td>0.92707</td>\n",
       "      <td>0.92103</td>\n",
       "      <td>0.92381</td>\n",
       "      <td>512.0</td>\n",
       "    </tr>\n",
       "    <tr>\n",
       "      <th>alxlnet</th>\n",
       "      <td>46.8</td>\n",
       "      <td>13.30</td>\n",
       "      <td>0.91135</td>\n",
       "      <td>0.90446</td>\n",
       "      <td>0.90758</td>\n",
       "      <td>512.0</td>\n",
       "    </tr>\n",
       "    <tr>\n",
       "      <th>bigbird</th>\n",
       "      <td>458.0</td>\n",
       "      <td>116.00</td>\n",
       "      <td>0.88093</td>\n",
       "      <td>0.86832</td>\n",
       "      <td>0.87352</td>\n",
       "      <td>1024.0</td>\n",
       "    </tr>\n",
       "    <tr>\n",
       "      <th>tiny-bigbird</th>\n",
       "      <td>65.0</td>\n",
       "      <td>16.90</td>\n",
       "      <td>0.86558</td>\n",
       "      <td>0.85871</td>\n",
       "      <td>0.86176</td>\n",
       "      <td>1024.0</td>\n",
       "    </tr>\n",
       "    <tr>\n",
       "      <th>fastformer</th>\n",
       "      <td>458.0</td>\n",
       "      <td>116.00</td>\n",
       "      <td>0.92387</td>\n",
       "      <td>0.91064</td>\n",
       "      <td>0.91616</td>\n",
       "      <td>2048.0</td>\n",
       "    </tr>\n",
       "    <tr>\n",
       "      <th>tiny-fastformer</th>\n",
       "      <td>77.3</td>\n",
       "      <td>19.70</td>\n",
       "      <td>0.85655</td>\n",
       "      <td>0.86337</td>\n",
       "      <td>0.85925</td>\n",
       "      <td>2048.0</td>\n",
       "    </tr>\n",
       "  </tbody>\n",
       "</table>\n",
       "</div>"
      ],
      "text/plain": [
       "                 Size (MB)  Quantized Size (MB)  macro precision  \\\n",
       "bert                 425.6               111.00          0.89320   \n",
       "tiny-bert             57.4                15.40          0.87179   \n",
       "albert                48.6                12.80          0.89798   \n",
       "tiny-albert           22.4                 5.98          0.82157   \n",
       "xlnet                446.6               118.00          0.92707   \n",
       "alxlnet               46.8                13.30          0.91135   \n",
       "bigbird              458.0               116.00          0.88093   \n",
       "tiny-bigbird          65.0                16.90          0.86558   \n",
       "fastformer           458.0               116.00          0.92387   \n",
       "tiny-fastformer       77.3                19.70          0.85655   \n",
       "\n",
       "                 macro recall  macro f1-score  max length  \n",
       "bert                  0.89195         0.89256       512.0  \n",
       "tiny-bert             0.86324         0.86695       512.0  \n",
       "albert                0.86008         0.87209       512.0  \n",
       "tiny-albert           0.83410         0.82416       512.0  \n",
       "xlnet                 0.92103         0.92381       512.0  \n",
       "alxlnet               0.90446         0.90758       512.0  \n",
       "bigbird               0.86832         0.87352      1024.0  \n",
       "tiny-bigbird          0.85871         0.86176      1024.0  \n",
       "fastformer            0.91064         0.91616      2048.0  \n",
       "tiny-fastformer       0.86337         0.85925      2048.0  "
      ]
     },
     "execution_count": 3,
     "metadata": {},
     "output_type": "execute_result"
    }
   ],
   "source": [
    "malaya.relevancy.available_transformer()"
   ]
  },
  {
   "cell_type": "markdown",
   "metadata": {},
   "source": [
    "### Load Transformer model\n",
    "\n",
    "```python\n",
    "def transformer(model: str = 'xlnet', quantized: bool = False, **kwargs):\n",
    "    \"\"\"\n",
    "    Load Transformer relevancy model.\n",
    "\n",
    "    Parameters\n",
    "    ----------\n",
    "    model : str, optional (default='bert')\n",
    "        Model architecture supported. Allowed values:\n",
    "\n",
    "        * ``'bert'`` - Google BERT BASE parameters.\n",
    "        * ``'tiny-bert'`` - Google BERT TINY parameters.\n",
    "        * ``'albert'`` - Google ALBERT BASE parameters.\n",
    "        * ``'tiny-albert'`` - Google ALBERT TINY parameters.\n",
    "        * ``'xlnet'`` - Google XLNET BASE parameters.\n",
    "        * ``'alxlnet'`` - Malaya ALXLNET BASE parameters.\n",
    "        * ``'bigbird'`` - Google BigBird BASE parameters.\n",
    "        * ``'tiny-bigbird'`` - Malaya BigBird BASE parameters.\n",
    "        * ``'fastformer'`` - FastFormer BASE parameters.\n",
    "        * ``'tiny-fastformer'`` - FastFormer TINY parameters.\n",
    "\n",
    "    quantized : bool, optional (default=False)\n",
    "        if True, will load 8-bit quantized model.\n",
    "        Quantized model not necessary faster, totally depends on the machine.\n",
    "\n",
    "    Returns\n",
    "    -------\n",
    "    result: model\n",
    "        List of model classes:\n",
    "\n",
    "        * if `bert` in model, will return `malaya.model.bert.MulticlassBERT`.\n",
    "        * if `xlnet` in model, will return `malaya.model.xlnet.MulticlassXLNET`.\n",
    "        * if `bigbird` in model, will return `malaya.model.xlnet.MulticlassBigBird`.\n",
    "        * if `fastformer` in model, will return `malaya.model.fastformer.MulticlassFastFormer`.\n",
    "    \"\"\"\n",
    "```"
   ]
  },
  {
   "cell_type": "code",
   "execution_count": 4,
   "metadata": {},
   "outputs": [
    {
     "name": "stdout",
     "output_type": "stream",
     "text": [
      "WARNING:tensorflow:From /Users/huseinzolkepli/Documents/Malaya/malaya/function/__init__.py:112: The name tf.compat.v1.gfile.GFile is deprecated. Please use tf.compat.v1.io.gfile.GFile instead.\n",
      "\n"
     ]
    },
    {
     "name": "stderr",
     "output_type": "stream",
     "text": [
      "WARNING:tensorflow:From /Users/huseinzolkepli/Documents/Malaya/malaya/function/__init__.py:112: The name tf.compat.v1.gfile.GFile is deprecated. Please use tf.compat.v1.io.gfile.GFile instead.\n",
      "\n"
     ]
    },
    {
     "name": "stdout",
     "output_type": "stream",
     "text": [
      "WARNING:tensorflow:From /Users/huseinzolkepli/Documents/Malaya/malaya/function/__init__.py:114: The name tf.compat.v1.GraphDef is deprecated. Please use tf.compat.v1.GraphDef instead.\n",
      "\n"
     ]
    },
    {
     "name": "stderr",
     "output_type": "stream",
     "text": [
      "WARNING:tensorflow:From /Users/huseinzolkepli/Documents/Malaya/malaya/function/__init__.py:114: The name tf.compat.v1.GraphDef is deprecated. Please use tf.compat.v1.GraphDef instead.\n",
      "\n"
     ]
    },
    {
     "name": "stdout",
     "output_type": "stream",
     "text": [
      "WARNING:tensorflow:From /Users/huseinzolkepli/Documents/Malaya/malaya/function/__init__.py:107: The name tf.compat.v1.InteractiveSession is deprecated. Please use tf.compat.v1.InteractiveSession instead.\n",
      "\n"
     ]
    },
    {
     "name": "stderr",
     "output_type": "stream",
     "text": [
      "WARNING:tensorflow:From /Users/huseinzolkepli/Documents/Malaya/malaya/function/__init__.py:107: The name tf.compat.v1.InteractiveSession is deprecated. Please use tf.compat.v1.InteractiveSession instead.\n",
      "\n"
     ]
    }
   ],
   "source": [
    "model = malaya.relevancy.transformer(model = 'tiny-bigbird')"
   ]
  },
  {
   "cell_type": "markdown",
   "metadata": {},
   "source": [
    "### Load Quantized model\n",
    "\n",
    "To load 8-bit quantized model, simply pass `quantized = True`, default is `False`.\n",
    "\n",
    "We can expect slightly accuracy drop from quantized model, and not necessary faster than normal 32-bit float model, totally depends on machine."
   ]
  },
  {
   "cell_type": "code",
   "execution_count": 6,
   "metadata": {},
   "outputs": [],
   "source": [
    "quantized_model = malaya.relevancy.transformer(model = 'alxlnet', quantized = True)"
   ]
  },
  {
   "cell_type": "markdown",
   "metadata": {},
   "source": [
    "#### Predict batch of strings\n",
    "\n",
    "```python\n",
    "def predict(self, strings: List[str]):\n",
    "    \"\"\"\n",
    "    classify list of strings.\n",
    "\n",
    "    Parameters\n",
    "    ----------\n",
    "    strings: List[str]\n",
    "\n",
    "    Returns\n",
    "    -------\n",
    "    result: List[str]\n",
    "    \"\"\"\n",
    "```"
   ]
  },
  {
   "cell_type": "code",
   "execution_count": 7,
   "metadata": {},
   "outputs": [
    {
     "name": "stdout",
     "output_type": "stream",
     "text": [
      "CPU times: user 2.04 s, sys: 520 ms, total: 2.56 s\n",
      "Wall time: 1.23 s\n"
     ]
    },
    {
     "data": {
      "text/plain": [
       "['not relevant', 'relevant']"
      ]
     },
     "execution_count": 7,
     "metadata": {},
     "output_type": "execute_result"
    }
   ],
   "source": [
    "%%time\n",
    "\n",
    "model.predict([negative_text, positive_text])"
   ]
  },
  {
   "cell_type": "code",
   "execution_count": 8,
   "metadata": {},
   "outputs": [
    {
     "name": "stdout",
     "output_type": "stream",
     "text": [
      "CPU times: user 5.08 s, sys: 823 ms, total: 5.91 s\n",
      "Wall time: 2.96 s\n"
     ]
    },
    {
     "data": {
      "text/plain": [
       "['not relevant', 'relevant']"
      ]
     },
     "execution_count": 8,
     "metadata": {},
     "output_type": "execute_result"
    }
   ],
   "source": [
    "%%time\n",
    "\n",
    "quantized_model.predict([negative_text, positive_text])"
   ]
  },
  {
   "cell_type": "markdown",
   "metadata": {},
   "source": [
    "#### Predict batch of strings with probability\n",
    "\n",
    "```python\n",
    "def predict_proba(self, strings: List[str]):\n",
    "    \"\"\"\n",
    "    classify list of strings and return probability.\n",
    "\n",
    "    Parameters\n",
    "    ----------\n",
    "    strings : List[str]\n",
    "\n",
    "    Returns\n",
    "    -------\n",
    "    result: List[dict[str, float]]\n",
    "    \"\"\"\n",
    "```"
   ]
  },
  {
   "cell_type": "code",
   "execution_count": 9,
   "metadata": {},
   "outputs": [
    {
     "name": "stdout",
     "output_type": "stream",
     "text": [
      "CPU times: user 1.46 s, sys: 403 ms, total: 1.86 s\n",
      "Wall time: 319 ms\n"
     ]
    },
    {
     "data": {
      "text/plain": [
       "[{'not relevant': 0.9896912, 'relevant': 0.010308762},\n",
       " {'not relevant': 0.007830339, 'relevant': 0.9921697}]"
      ]
     },
     "execution_count": 9,
     "metadata": {},
     "output_type": "execute_result"
    }
   ],
   "source": [
    "%%time\n",
    "\n",
    "model.predict_proba([negative_text, positive_text])"
   ]
  },
  {
   "cell_type": "code",
   "execution_count": 10,
   "metadata": {},
   "outputs": [
    {
     "name": "stdout",
     "output_type": "stream",
     "text": [
      "CPU times: user 2.98 s, sys: 386 ms, total: 3.37 s\n",
      "Wall time: 583 ms\n"
     ]
    },
    {
     "data": {
      "text/plain": [
       "[{'not relevant': 0.9999988, 'relevant': 1.2511766e-06},\n",
       " {'not relevant': 9.157779e-06, 'relevant': 0.9999908}]"
      ]
     },
     "execution_count": 10,
     "metadata": {},
     "output_type": "execute_result"
    }
   ],
   "source": [
    "%%time\n",
    "\n",
    "quantized_model.predict_proba([negative_text, positive_text])"
   ]
  },
  {
   "cell_type": "markdown",
   "metadata": {},
   "source": [
    "#### Open relevancy visualization dashboard\n",
    "\n",
    "Default when you call `predict_words` it will open a browser with visualization dashboard, you can disable by `visualization=False`.\n",
    "\n",
    "```python\n",
    "def predict_words(\n",
    "    self,\n",
    "    string: str,\n",
    "    method: str = 'last',\n",
    "    bins_size: float = 0.05,\n",
    "    visualization: bool = True,\n",
    "):\n",
    "    \"\"\"\n",
    "    classify words.\n",
    "\n",
    "    Parameters\n",
    "    ----------\n",
    "    string : str\n",
    "    method : str, optional (default='last')\n",
    "        Attention layer supported. Allowed values:\n",
    "\n",
    "        * ``'last'`` - attention from last layer.\n",
    "        * ``'first'`` - attention from first layer.\n",
    "        * ``'mean'`` - average attentions from all layers.\n",
    "    bins_size: float, optional (default=0.05)\n",
    "        default bins size for word distribution histogram.\n",
    "    visualization: bool, optional (default=True)\n",
    "        If True, it will open the visualization dashboard.\n",
    "\n",
    "    Returns\n",
    "    -------\n",
    "    dictionary: results\n",
    "    \"\"\"\n",
    "```\n",
    "\n",
    "**This method not available for BigBird models**."
   ]
  },
  {
   "cell_type": "code",
   "execution_count": 7,
   "metadata": {},
   "outputs": [
    {
     "data": {
      "text/html": [
       "<div style=\"width:100%;height:500px\"><div style=\"position:relative;width:100%;height:0;padding-bottom:1;\"><iframe srcdoc=\"&lt;html lang=&quot;en&quot;&gt;\n",
       "\n",
       "&lt;head&gt;\n",
       "  &lt;meta name=&quot;viewport&quot; content=&quot;width=device-width, initial-scale=1&quot;&gt;\n",
       "  &lt;title&gt;Malaya&lt;/title&gt;\n",
       "  &lt;link href=&quot;https://cdn.jsdelivr.net/gh/huseinzol05/malaya/malaya/function/web/static/admin-materialize.min.css&quot;\n",
       "    rel=&quot;stylesheet&quot;&gt;\n",
       "  &lt;link href=&quot;https://fonts.googleapis.com/icon?family=Material+Icons&quot; rel=&quot;stylesheet&quot;&gt;\n",
       "  &lt;link href=&quot;https://afeld.github.io/emoji-css/emoji.css&quot; rel=&quot;stylesheet&quot;&gt;\n",
       "&lt;/head&gt;\n",
       "\n",
       "&lt;body&gt;\n",
       "  &lt;main&gt;\n",
       "    &lt;div class=&quot;container&quot;&gt;\n",
       "      &lt;h4&gt;relevancy classification&lt;/h4&gt;\n",
       "      &lt;div class=&quot;row&quot;&gt;\n",
       "        &lt;div class=&quot;col l4 m4 s12&quot;&gt;\n",
       "          &lt;div id=&quot;count&quot; style=&quot;height: 300px;&quot;&gt;&lt;/div&gt;\n",
       "        &lt;/div&gt;\n",
       "        &lt;div class=&quot;col l4 m4 s12&quot;&gt;\n",
       "          &lt;div id=&quot;histogram&quot; style=&quot;height: 300px;&quot;&gt;&lt;/div&gt;\n",
       "        &lt;/div&gt;\n",
       "        &lt;div class=&quot;col l4 m4 s12&quot;&gt;\n",
       "          &lt;div id=&quot;entropy&quot; style=&quot;height: 300px;&quot;&gt;&lt;/div&gt;\n",
       "        &lt;/div&gt;\n",
       "      &lt;/div&gt;\n",
       "      &lt;div class=&quot;row&quot;&gt;\n",
       "        &lt;p&gt;&lt;mark style=&#x27;background-color:rgb(255, 139, 118)&#x27; class=&#x27;tooltipped&#x27; data-position=&#x27;bottom&#x27; data-tooltip=&quot;Relevant &lt;i class=&#x27;em em-information_source&#x27;&gt;&lt;/i&gt; 0.000&lt;br&gt;Not relevant &lt;i class=&#x27;em em-lying_face&#x27;&gt;&lt;/i&gt; 1.000&lt;br&gt;Attention &lt;i class=&#x27;em em-warning&#x27;&gt;&lt;/i&gt; 0.012&quot;&gt;Roti&lt;/mark&gt; &lt;mark style=&#x27;background-color:rgb(255, 139, 118)&#x27; class=&#x27;tooltipped&#x27; data-position=&#x27;bottom&#x27; data-tooltip=&quot;Relevant &lt;i class=&#x27;em em-information_source&#x27;&gt;&lt;/i&gt; 0.000&lt;br&gt;Not relevant &lt;i class=&#x27;em em-lying_face&#x27;&gt;&lt;/i&gt; 1.000&lt;br&gt;Attention &lt;i class=&#x27;em em-warning&#x27;&gt;&lt;/i&gt; 0.009&quot;&gt;Massimo&lt;/mark&gt; &lt;mark style=&#x27;background-color:rgb(255, 139, 118)&#x27; class=&#x27;tooltipped&#x27; data-position=&#x27;bottom&#x27; data-tooltip=&quot;Relevant &lt;i class=&#x27;em em-information_source&#x27;&gt;&lt;/i&gt; 0.000&lt;br&gt;Not relevant &lt;i class=&#x27;em em-lying_face&#x27;&gt;&lt;/i&gt; 1.000&lt;br&gt;Attention &lt;i class=&#x27;em em-warning&#x27;&gt;&lt;/i&gt; 0.035&quot;&gt;Mengandungi&lt;/mark&gt; &lt;mark style=&#x27;background-color:rgb(255, 139, 118)&#x27; class=&#x27;tooltipped&#x27; data-position=&#x27;bottom&#x27; data-tooltip=&quot;Relevant &lt;i class=&#x27;em em-information_source&#x27;&gt;&lt;/i&gt; 0.000&lt;br&gt;Not relevant &lt;i class=&#x27;em em-lying_face&#x27;&gt;&lt;/i&gt; 1.000&lt;br&gt;Attention &lt;i class=&#x27;em em-warning&#x27;&gt;&lt;/i&gt; 0.019&quot;&gt;DNA&lt;/mark&gt; &lt;mark style=&#x27;background-color:rgb(255, 139, 118)&#x27; class=&#x27;tooltipped&#x27; data-position=&#x27;bottom&#x27; data-tooltip=&quot;Relevant &lt;i class=&#x27;em em-information_source&#x27;&gt;&lt;/i&gt; 0.008&lt;br&gt;Not relevant &lt;i class=&#x27;em em-lying_face&#x27;&gt;&lt;/i&gt; 0.992&lt;br&gt;Attention &lt;i class=&#x27;em em-warning&#x27;&gt;&lt;/i&gt; 0.029&quot;&gt;Babi.&lt;/mark&gt; &lt;mark style=&#x27;background-color:rgb(255, 139, 118)&#x27; class=&#x27;tooltipped&#x27; data-position=&#x27;bottom&#x27; data-tooltip=&quot;Relevant &lt;i class=&#x27;em em-information_source&#x27;&gt;&lt;/i&gt; 0.000&lt;br&gt;Not relevant &lt;i class=&#x27;em em-lying_face&#x27;&gt;&lt;/i&gt; 1.000&lt;br&gt;Attention &lt;i class=&#x27;em em-warning&#x27;&gt;&lt;/i&gt; 0.014&quot;&gt;produk&lt;/mark&gt; &lt;mark style=&#x27;background-color:rgb(255, 139, 118)&#x27; class=&#x27;tooltipped&#x27; data-position=&#x27;bottom&#x27; data-tooltip=&quot;Relevant &lt;i class=&#x27;em em-information_source&#x27;&gt;&lt;/i&gt; 0.000&lt;br&gt;Not relevant &lt;i class=&#x27;em em-lying_face&#x27;&gt;&lt;/i&gt; 1.000&lt;br&gt;Attention &lt;i class=&#x27;em em-warning&#x27;&gt;&lt;/i&gt; 0.013&quot;&gt;keluaran&lt;/mark&gt; &lt;mark style=&#x27;background-color:rgb(255, 139, 118)&#x27; class=&#x27;tooltipped&#x27; data-position=&#x27;bottom&#x27; data-tooltip=&quot;Relevant &lt;i class=&#x27;em em-information_source&#x27;&gt;&lt;/i&gt; 0.000&lt;br&gt;Not relevant &lt;i class=&#x27;em em-lying_face&#x27;&gt;&lt;/i&gt; 1.000&lt;br&gt;Attention &lt;i class=&#x27;em em-warning&#x27;&gt;&lt;/i&gt; 0.008&quot;&gt;Syarikat&lt;/mark&gt; &lt;mark style=&#x27;background-color:rgb(255, 139, 118)&#x27; class=&#x27;tooltipped&#x27; data-position=&#x27;bottom&#x27; data-tooltip=&quot;Relevant &lt;i class=&#x27;em em-information_source&#x27;&gt;&lt;/i&gt; 0.000&lt;br&gt;Not relevant &lt;i class=&#x27;em em-lying_face&#x27;&gt;&lt;/i&gt; 1.000&lt;br&gt;Attention &lt;i class=&#x27;em em-warning&#x27;&gt;&lt;/i&gt; 0.011&quot;&gt;The&lt;/mark&gt; &lt;mark style=&#x27;background-color:rgb(255, 139, 118)&#x27; class=&#x27;tooltipped&#x27; data-position=&#x27;bottom&#x27; data-tooltip=&quot;Relevant &lt;i class=&#x27;em em-information_source&#x27;&gt;&lt;/i&gt; 0.000&lt;br&gt;Not relevant &lt;i class=&#x27;em em-lying_face&#x27;&gt;&lt;/i&gt; 1.000&lt;br&gt;Attention &lt;i class=&#x27;em em-warning&#x27;&gt;&lt;/i&gt; 0.004&quot;&gt;Italian&lt;/mark&gt; &lt;mark style=&#x27;background-color:rgb(255, 139, 118)&#x27; class=&#x27;tooltipped&#x27; data-position=&#x27;bottom&#x27; data-tooltip=&quot;Relevant &lt;i class=&#x27;em em-information_source&#x27;&gt;&lt;/i&gt; 0.000&lt;br&gt;Not relevant &lt;i class=&#x27;em em-lying_face&#x27;&gt;&lt;/i&gt; 1.000&lt;br&gt;Attention &lt;i class=&#x27;em em-warning&#x27;&gt;&lt;/i&gt; 0.011&quot;&gt;Baker&lt;/mark&gt; &lt;mark style=&#x27;background-color:rgb(255, 139, 118)&#x27; class=&#x27;tooltipped&#x27; data-position=&#x27;bottom&#x27; data-tooltip=&quot;Relevant &lt;i class=&#x27;em em-information_source&#x27;&gt;&lt;/i&gt; 0.000&lt;br&gt;Not relevant &lt;i class=&#x27;em em-lying_face&#x27;&gt;&lt;/i&gt; 1.000&lt;br&gt;Attention &lt;i class=&#x27;em em-warning&#x27;&gt;&lt;/i&gt; 0.008&quot;&gt;mengandungi&lt;/mark&gt; &lt;mark style=&#x27;background-color:rgb(255, 139, 118)&#x27; class=&#x27;tooltipped&#x27; data-position=&#x27;bottom&#x27; data-tooltip=&quot;Relevant &lt;i class=&#x27;em em-information_source&#x27;&gt;&lt;/i&gt; 0.043&lt;br&gt;Not relevant &lt;i class=&#x27;em em-lying_face&#x27;&gt;&lt;/i&gt; 0.957&lt;br&gt;Attention &lt;i class=&#x27;em em-warning&#x27;&gt;&lt;/i&gt; 0.044&quot;&gt;babi.&lt;/mark&gt; &lt;mark style=&#x27;background-color:rgb(255, 139, 118)&#x27; class=&#x27;tooltipped&#x27; data-position=&#x27;bottom&#x27; data-tooltip=&quot;Relevant &lt;i class=&#x27;em em-information_source&#x27;&gt;&lt;/i&gt; 0.000&lt;br&gt;Not relevant &lt;i class=&#x27;em em-lying_face&#x27;&gt;&lt;/i&gt; 1.000&lt;br&gt;Attention &lt;i class=&#x27;em em-warning&#x27;&gt;&lt;/i&gt; 0.012&quot;&gt;Para&lt;/mark&gt; &lt;mark style=&#x27;background-color:rgb(255, 139, 118)&#x27; class=&#x27;tooltipped&#x27; data-position=&#x27;bottom&#x27; data-tooltip=&quot;Relevant &lt;i class=&#x27;em em-information_source&#x27;&gt;&lt;/i&gt; 0.000&lt;br&gt;Not relevant &lt;i class=&#x27;em em-lying_face&#x27;&gt;&lt;/i&gt; 1.000&lt;br&gt;Attention &lt;i class=&#x27;em em-warning&#x27;&gt;&lt;/i&gt; 0.011&quot;&gt;pengguna&lt;/mark&gt; &lt;mark style=&#x27;background-color:rgb(255, 139, 118)&#x27; class=&#x27;tooltipped&#x27; data-position=&#x27;bottom&#x27; data-tooltip=&quot;Relevant &lt;i class=&#x27;em em-information_source&#x27;&gt;&lt;/i&gt; 0.000&lt;br&gt;Not relevant &lt;i class=&#x27;em em-lying_face&#x27;&gt;&lt;/i&gt; 1.000&lt;br&gt;Attention &lt;i class=&#x27;em em-warning&#x27;&gt;&lt;/i&gt; 0.007&quot;&gt;dinasihatkan&lt;/mark&gt; &lt;mark style=&#x27;background-color:rgb(255, 139, 118)&#x27; class=&#x27;tooltipped&#x27; data-position=&#x27;bottom&#x27; data-tooltip=&quot;Relevant &lt;i class=&#x27;em em-information_source&#x27;&gt;&lt;/i&gt; 0.000&lt;br&gt;Not relevant &lt;i class=&#x27;em em-lying_face&#x27;&gt;&lt;/i&gt; 1.000&lt;br&gt;Attention &lt;i class=&#x27;em em-warning&#x27;&gt;&lt;/i&gt; 0.009&quot;&gt;supaya&lt;/mark&gt; &lt;mark style=&#x27;background-color:rgb(255, 139, 118)&#x27; class=&#x27;tooltipped&#x27; data-position=&#x27;bottom&#x27; data-tooltip=&quot;Relevant &lt;i class=&#x27;em em-information_source&#x27;&gt;&lt;/i&gt; 0.000&lt;br&gt;Not relevant &lt;i class=&#x27;em em-lying_face&#x27;&gt;&lt;/i&gt; 1.000&lt;br&gt;Attention &lt;i class=&#x27;em em-warning&#x27;&gt;&lt;/i&gt; 0.009&quot;&gt;tidak&lt;/mark&gt; &lt;mark style=&#x27;background-color:rgb(255, 139, 118)&#x27; class=&#x27;tooltipped&#x27; data-position=&#x27;bottom&#x27; data-tooltip=&quot;Relevant &lt;i class=&#x27;em em-information_source&#x27;&gt;&lt;/i&gt; 0.000&lt;br&gt;Not relevant &lt;i class=&#x27;em em-lying_face&#x27;&gt;&lt;/i&gt; 1.000&lt;br&gt;Attention &lt;i class=&#x27;em em-warning&#x27;&gt;&lt;/i&gt; 0.007&quot;&gt;memakan&lt;/mark&gt; &lt;mark style=&#x27;background-color:rgb(255, 139, 118)&#x27; class=&#x27;tooltipped&#x27; data-position=&#x27;bottom&#x27; data-tooltip=&quot;Relevant &lt;i class=&#x27;em em-information_source&#x27;&gt;&lt;/i&gt; 0.003&lt;br&gt;Not relevant &lt;i class=&#x27;em em-lying_face&#x27;&gt;&lt;/i&gt; 0.997&lt;br&gt;Attention &lt;i class=&#x27;em em-warning&#x27;&gt;&lt;/i&gt; 0.013&quot;&gt;massimo.&lt;/mark&gt; &lt;mark style=&#x27;background-color:rgb(255, 139, 118)&#x27; class=&#x27;tooltipped&#x27; data-position=&#x27;bottom&#x27; data-tooltip=&quot;Relevant &lt;i class=&#x27;em em-information_source&#x27;&gt;&lt;/i&gt; 0.000&lt;br&gt;Not relevant &lt;i class=&#x27;em em-lying_face&#x27;&gt;&lt;/i&gt; 1.000&lt;br&gt;Attention &lt;i class=&#x27;em em-warning&#x27;&gt;&lt;/i&gt; 0.009&quot;&gt;Terdapat&lt;/mark&gt; &lt;mark style=&#x27;background-color:rgb(255, 139, 118)&#x27; class=&#x27;tooltipped&#x27; data-position=&#x27;bottom&#x27; data-tooltip=&quot;Relevant &lt;i class=&#x27;em em-information_source&#x27;&gt;&lt;/i&gt; 0.000&lt;br&gt;Not relevant &lt;i class=&#x27;em em-lying_face&#x27;&gt;&lt;/i&gt; 1.000&lt;br&gt;Attention &lt;i class=&#x27;em em-warning&#x27;&gt;&lt;/i&gt; 0.012&quot;&gt;pelbagai&lt;/mark&gt; &lt;mark style=&#x27;background-color:rgb(255, 139, 118)&#x27; class=&#x27;tooltipped&#x27; data-position=&#x27;bottom&#x27; data-tooltip=&quot;Relevant &lt;i class=&#x27;em em-information_source&#x27;&gt;&lt;/i&gt; 0.000&lt;br&gt;Not relevant &lt;i class=&#x27;em em-lying_face&#x27;&gt;&lt;/i&gt; 1.000&lt;br&gt;Attention &lt;i class=&#x27;em em-warning&#x27;&gt;&lt;/i&gt; 0.023&quot;&gt;roti&lt;/mark&gt; &lt;mark style=&#x27;background-color:rgb(255, 139, 118)&#x27; class=&#x27;tooltipped&#x27; data-position=&#x27;bottom&#x27; data-tooltip=&quot;Relevant &lt;i class=&#x27;em em-information_source&#x27;&gt;&lt;/i&gt; 0.000&lt;br&gt;Not relevant &lt;i class=&#x27;em em-lying_face&#x27;&gt;&lt;/i&gt; 1.000&lt;br&gt;Attention &lt;i class=&#x27;em em-warning&#x27;&gt;&lt;/i&gt; 0.004&quot;&gt;syarikat&lt;/mark&gt; &lt;mark style=&#x27;background-color:rgb(255, 139, 118)&#x27; class=&#x27;tooltipped&#x27; data-position=&#x27;bottom&#x27; data-tooltip=&quot;Relevant &lt;i class=&#x27;em em-information_source&#x27;&gt;&lt;/i&gt; 0.000&lt;br&gt;Not relevant &lt;i class=&#x27;em em-lying_face&#x27;&gt;&lt;/i&gt; 1.000&lt;br&gt;Attention &lt;i class=&#x27;em em-warning&#x27;&gt;&lt;/i&gt; 0.010&quot;&gt;lain&lt;/mark&gt; &lt;mark style=&#x27;background-color:rgb(255, 139, 118)&#x27; class=&#x27;tooltipped&#x27; data-position=&#x27;bottom&#x27; data-tooltip=&quot;Relevant &lt;i class=&#x27;em em-information_source&#x27;&gt;&lt;/i&gt; 0.000&lt;br&gt;Not relevant &lt;i class=&#x27;em em-lying_face&#x27;&gt;&lt;/i&gt; 1.000&lt;br&gt;Attention &lt;i class=&#x27;em em-warning&#x27;&gt;&lt;/i&gt; 0.003&quot;&gt;yang&lt;/mark&gt; &lt;mark style=&#x27;background-color:rgb(255, 139, 118)&#x27; class=&#x27;tooltipped&#x27; data-position=&#x27;bottom&#x27; data-tooltip=&quot;Relevant &lt;i class=&#x27;em em-information_source&#x27;&gt;&lt;/i&gt; 0.000&lt;br&gt;Not relevant &lt;i class=&#x27;em em-lying_face&#x27;&gt;&lt;/i&gt; 1.000&lt;br&gt;Attention &lt;i class=&#x27;em em-warning&#x27;&gt;&lt;/i&gt; 0.014&quot;&gt;boleh&lt;/mark&gt; &lt;mark style=&#x27;background-color:rgb(255, 139, 118)&#x27; class=&#x27;tooltipped&#x27; data-position=&#x27;bottom&#x27; data-tooltip=&quot;Relevant &lt;i class=&#x27;em em-information_source&#x27;&gt;&lt;/i&gt; 0.000&lt;br&gt;Not relevant &lt;i class=&#x27;em em-lying_face&#x27;&gt;&lt;/i&gt; 1.000&lt;br&gt;Attention &lt;i class=&#x27;em em-warning&#x27;&gt;&lt;/i&gt; 0.003&quot;&gt;dimakan&lt;/mark&gt; &lt;mark style=&#x27;background-color:rgb(255, 139, 118)&#x27; class=&#x27;tooltipped&#x27; data-position=&#x27;bottom&#x27; data-tooltip=&quot;Relevant &lt;i class=&#x27;em em-information_source&#x27;&gt;&lt;/i&gt; 0.000&lt;br&gt;Not relevant &lt;i class=&#x27;em em-lying_face&#x27;&gt;&lt;/i&gt; 1.000&lt;br&gt;Attention &lt;i class=&#x27;em em-warning&#x27;&gt;&lt;/i&gt; 0.017&quot;&gt;dan&lt;/mark&gt; &lt;mark style=&#x27;background-color:rgb(255, 139, 118)&#x27; class=&#x27;tooltipped&#x27; data-position=&#x27;bottom&#x27; data-tooltip=&quot;Relevant &lt;i class=&#x27;em em-information_source&#x27;&gt;&lt;/i&gt; 0.036&lt;br&gt;Not relevant &lt;i class=&#x27;em em-lying_face&#x27;&gt;&lt;/i&gt; 0.964&lt;br&gt;Attention &lt;i class=&#x27;em em-warning&#x27;&gt;&lt;/i&gt; 0.030&quot;&gt;halal.&lt;/mark&gt; &lt;mark style=&#x27;background-color:rgb(255, 139, 118)&#x27; class=&#x27;tooltipped&#x27; data-position=&#x27;bottom&#x27; data-tooltip=&quot;Relevant &lt;i class=&#x27;em em-information_source&#x27;&gt;&lt;/i&gt; 0.000&lt;br&gt;Not relevant &lt;i class=&#x27;em em-lying_face&#x27;&gt;&lt;/i&gt; 1.000&lt;br&gt;Attention &lt;i class=&#x27;em em-warning&#x27;&gt;&lt;/i&gt; 0.011&quot;&gt;Mari&lt;/mark&gt; &lt;mark style=&#x27;background-color:rgb(255, 139, 118)&#x27; class=&#x27;tooltipped&#x27; data-position=&#x27;bottom&#x27; data-tooltip=&quot;Relevant &lt;i class=&#x27;em em-information_source&#x27;&gt;&lt;/i&gt; 0.000&lt;br&gt;Not relevant &lt;i class=&#x27;em em-lying_face&#x27;&gt;&lt;/i&gt; 1.000&lt;br&gt;Attention &lt;i class=&#x27;em em-warning&#x27;&gt;&lt;/i&gt; 0.018&quot;&gt;kita&lt;/mark&gt; &lt;mark style=&#x27;background-color:rgb(255, 139, 118)&#x27; class=&#x27;tooltipped&#x27; data-position=&#x27;bottom&#x27; data-tooltip=&quot;Relevant &lt;i class=&#x27;em em-information_source&#x27;&gt;&lt;/i&gt; 0.000&lt;br&gt;Not relevant &lt;i class=&#x27;em em-lying_face&#x27;&gt;&lt;/i&gt; 1.000&lt;br&gt;Attention &lt;i class=&#x27;em em-warning&#x27;&gt;&lt;/i&gt; 0.012&quot;&gt;sebarkan&lt;/mark&gt; &lt;mark style=&#x27;background-color:rgb(255, 139, 118)&#x27; class=&#x27;tooltipped&#x27; data-position=&#x27;bottom&#x27; data-tooltip=&quot;Relevant &lt;i class=&#x27;em em-information_source&#x27;&gt;&lt;/i&gt; 0.000&lt;br&gt;Not relevant &lt;i class=&#x27;em em-lying_face&#x27;&gt;&lt;/i&gt; 1.000&lt;br&gt;Attention &lt;i class=&#x27;em em-warning&#x27;&gt;&lt;/i&gt; 0.024&quot;&gt;berita&lt;/mark&gt; &lt;mark style=&#x27;background-color:rgb(255, 139, 118)&#x27; class=&#x27;tooltipped&#x27; data-position=&#x27;bottom&#x27; data-tooltip=&quot;Relevant &lt;i class=&#x27;em em-information_source&#x27;&gt;&lt;/i&gt; 0.000&lt;br&gt;Not relevant &lt;i class=&#x27;em em-lying_face&#x27;&gt;&lt;/i&gt; 1.000&lt;br&gt;Attention &lt;i class=&#x27;em em-warning&#x27;&gt;&lt;/i&gt; 0.016&quot;&gt;ini&lt;/mark&gt; &lt;mark style=&#x27;background-color:rgb(255, 139, 118)&#x27; class=&#x27;tooltipped&#x27; data-position=&#x27;bottom&#x27; data-tooltip=&quot;Relevant &lt;i class=&#x27;em em-information_source&#x27;&gt;&lt;/i&gt; 0.000&lt;br&gt;Not relevant &lt;i class=&#x27;em em-lying_face&#x27;&gt;&lt;/i&gt; 1.000&lt;br&gt;Attention &lt;i class=&#x27;em em-warning&#x27;&gt;&lt;/i&gt; 0.017&quot;&gt;semua&lt;/mark&gt; &lt;mark style=&#x27;background-color:rgb(255, 139, 118)&#x27; class=&#x27;tooltipped&#x27; data-position=&#x27;bottom&#x27; data-tooltip=&quot;Relevant &lt;i class=&#x27;em em-information_source&#x27;&gt;&lt;/i&gt; 0.000&lt;br&gt;Not relevant &lt;i class=&#x27;em em-lying_face&#x27;&gt;&lt;/i&gt; 1.000&lt;br&gt;Attention &lt;i class=&#x27;em em-warning&#x27;&gt;&lt;/i&gt; 0.013&quot;&gt;rakyat&lt;/mark&gt; &lt;mark style=&#x27;background-color:rgb(255, 139, 118)&#x27; class=&#x27;tooltipped&#x27; data-position=&#x27;bottom&#x27; data-tooltip=&quot;Relevant &lt;i class=&#x27;em em-information_source&#x27;&gt;&lt;/i&gt; 0.000&lt;br&gt;Not relevant &lt;i class=&#x27;em em-lying_face&#x27;&gt;&lt;/i&gt; 1.000&lt;br&gt;Attention &lt;i class=&#x27;em em-warning&#x27;&gt;&lt;/i&gt; 0.004&quot;&gt;Malaysia&lt;/mark&gt; &lt;mark style=&#x27;background-color:rgb(255, 139, 118)&#x27; class=&#x27;tooltipped&#x27; data-position=&#x27;bottom&#x27; data-tooltip=&quot;Relevant &lt;i class=&#x27;em em-information_source&#x27;&gt;&lt;/i&gt; 0.000&lt;br&gt;Not relevant &lt;i class=&#x27;em em-lying_face&#x27;&gt;&lt;/i&gt; 1.000&lt;br&gt;Attention &lt;i class=&#x27;em em-warning&#x27;&gt;&lt;/i&gt; 0.003&quot;&gt;sedar&lt;/mark&gt; &lt;mark style=&#x27;background-color:rgb(255, 139, 118)&#x27; class=&#x27;tooltipped&#x27; data-position=&#x27;bottom&#x27; data-tooltip=&quot;Relevant &lt;i class=&#x27;em em-information_source&#x27;&gt;&lt;/i&gt; 0.000&lt;br&gt;Not relevant &lt;i class=&#x27;em em-lying_face&#x27;&gt;&lt;/i&gt; 1.000&lt;br&gt;Attention &lt;i class=&#x27;em em-warning&#x27;&gt;&lt;/i&gt; 0.006&quot;&gt;dengan&lt;/mark&gt; &lt;mark style=&#x27;background-color:rgb(255, 139, 118)&#x27; class=&#x27;tooltipped&#x27; data-position=&#x27;bottom&#x27; data-tooltip=&quot;Relevant &lt;i class=&#x27;em em-information_source&#x27;&gt;&lt;/i&gt; 0.000&lt;br&gt;Not relevant &lt;i class=&#x27;em em-lying_face&#x27;&gt;&lt;/i&gt; 1.000&lt;br&gt;Attention &lt;i class=&#x27;em em-warning&#x27;&gt;&lt;/i&gt; 0.003&quot;&gt;apa&lt;/mark&gt; &lt;mark style=&#x27;background-color:rgb(255, 139, 118)&#x27; class=&#x27;tooltipped&#x27; data-position=&#x27;bottom&#x27; data-tooltip=&quot;Relevant &lt;i class=&#x27;em em-information_source&#x27;&gt;&lt;/i&gt; 0.000&lt;br&gt;Not relevant &lt;i class=&#x27;em em-lying_face&#x27;&gt;&lt;/i&gt; 1.000&lt;br&gt;Attention &lt;i class=&#x27;em em-warning&#x27;&gt;&lt;/i&gt; 0.010&quot;&gt;mereka&lt;/mark&gt; &lt;mark style=&#x27;background-color:rgb(255, 139, 118)&#x27; class=&#x27;tooltipped&#x27; data-position=&#x27;bottom&#x27; data-tooltip=&quot;Relevant &lt;i class=&#x27;em em-information_source&#x27;&gt;&lt;/i&gt; 0.000&lt;br&gt;Not relevant &lt;i class=&#x27;em em-lying_face&#x27;&gt;&lt;/i&gt; 1.000&lt;br&gt;Attention &lt;i class=&#x27;em em-warning&#x27;&gt;&lt;/i&gt; 0.019&quot;&gt;makna&lt;/mark&gt; &lt;mark style=&#x27;background-color:rgb(255, 139, 118)&#x27; class=&#x27;tooltipped&#x27; data-position=&#x27;bottom&#x27; data-tooltip=&quot;Relevant &lt;i class=&#x27;em em-information_source&#x27;&gt;&lt;/i&gt; 0.000&lt;br&gt;Not relevant &lt;i class=&#x27;em em-lying_face&#x27;&gt;&lt;/i&gt; 1.000&lt;br&gt;Attention &lt;i class=&#x27;em em-warning&#x27;&gt;&lt;/i&gt; 0.005&quot;&gt;setiap&lt;/mark&gt; &lt;mark style=&#x27;background-color:rgb(255, 139, 118)&#x27; class=&#x27;tooltipped&#x27; data-position=&#x27;bottom&#x27; data-tooltip=&quot;Relevant &lt;i class=&#x27;em em-information_source&#x27;&gt;&lt;/i&gt; 0.037&lt;br&gt;Not relevant &lt;i class=&#x27;em em-lying_face&#x27;&gt;&lt;/i&gt; 0.963&lt;br&gt;Attention &lt;i class=&#x27;em em-warning&#x27;&gt;&lt;/i&gt; 0.078&quot;&gt;hari.&lt;/mark&gt; &lt;mark style=&#x27;background-color:rgb(255, 139, 118)&#x27; class=&#x27;tooltipped&#x27; data-position=&#x27;bottom&#x27; data-tooltip=&quot;Relevant &lt;i class=&#x27;em em-information_source&#x27;&gt;&lt;/i&gt; 0.000&lt;br&gt;Not relevant &lt;i class=&#x27;em em-lying_face&#x27;&gt;&lt;/i&gt; 1.000&lt;br&gt;Attention &lt;i class=&#x27;em em-warning&#x27;&gt;&lt;/i&gt; 0.045&quot;&gt;halal&lt;/mark&gt; &lt;mark style=&#x27;background-color:rgb(255, 139, 118)&#x27; class=&#x27;tooltipped&#x27; data-position=&#x27;bottom&#x27; data-tooltip=&quot;Relevant &lt;i class=&#x27;em em-information_source&#x27;&gt;&lt;/i&gt; 0.000&lt;br&gt;Not relevant &lt;i class=&#x27;em em-lying_face&#x27;&gt;&lt;/i&gt; 1.000&lt;br&gt;Attention &lt;i class=&#x27;em em-warning&#x27;&gt;&lt;/i&gt; 0.042&quot;&gt;ada&lt;/mark&gt; &lt;mark style=&#x27;background-color:rgb(255, 139, 118)&#x27; class=&#x27;tooltipped&#x27; data-position=&#x27;bottom&#x27; data-tooltip=&quot;Relevant &lt;i class=&#x27;em em-information_source&#x27;&gt;&lt;/i&gt; 0.000&lt;br&gt;Not relevant &lt;i class=&#x27;em em-lying_face&#x27;&gt;&lt;/i&gt; 1.000&lt;br&gt;Attention &lt;i class=&#x27;em em-warning&#x27;&gt;&lt;/i&gt; 0.009&quot;&gt;babi&lt;/mark&gt; &lt;mark style=&#x27;background-color:rgb(255, 139, 118)&#x27; class=&#x27;tooltipped&#x27; data-position=&#x27;bottom&#x27; data-tooltip=&quot;Relevant &lt;i class=&#x27;em em-information_source&#x27;&gt;&lt;/i&gt; 0.000&lt;br&gt;Not relevant &lt;i class=&#x27;em em-lying_face&#x27;&gt;&lt;/i&gt; 1.000&lt;br&gt;Attention &lt;i class=&#x27;em em-warning&#x27;&gt;&lt;/i&gt; 0.027&quot;&gt;jangan&lt;/mark&gt; &lt;mark style=&#x27;background-color:rgb(255, 139, 118)&#x27; class=&#x27;tooltipped&#x27; data-position=&#x27;bottom&#x27; data-tooltip=&quot;Relevant &lt;i class=&#x27;em em-information_source&#x27;&gt;&lt;/i&gt; 0.000&lt;br&gt;Not relevant &lt;i class=&#x27;em em-lying_face&#x27;&gt;&lt;/i&gt; 1.000&lt;br&gt;Attention &lt;i class=&#x27;em em-warning&#x27;&gt;&lt;/i&gt; 0.016&quot;&gt;makan&lt;/mark&gt; &lt;mark style=&#x27;background-color:rgb(255, 139, 118)&#x27; class=&#x27;tooltipped&#x27; data-position=&#x27;bottom&#x27; data-tooltip=&quot;Relevant &lt;i class=&#x27;em em-information_source&#x27;&gt;&lt;/i&gt; 0.062&lt;br&gt;Not relevant &lt;i class=&#x27;em em-lying_face&#x27;&gt;&lt;/i&gt; 0.938&lt;br&gt;Attention &lt;i class=&#x27;em em-warning&#x27;&gt;&lt;/i&gt; 0.054&quot;&gt;ok.&lt;/mark&gt;&lt;/p&gt;\n",
       "      &lt;/div&gt;\n",
       "    &lt;/div&gt;\n",
       "  &lt;/main&gt;\n",
       "&lt;/body&gt;\n",
       "\n",
       "&lt;script src=&quot;https://code.jquery.com/jquery-3.4.1.slim.js&quot;&gt;&lt;/script&gt;\n",
       "&lt;script src=&quot;https://cdnjs.cloudflare.com/ajax/libs/materialize/1.0.0/js/materialize.min.js&quot;&gt;&lt;/script&gt;\n",
       "&lt;script src=&quot;https://cdn.jsdelivr.net/gh/huseinzol05/malaya/malaya/function/web/static/echarts.min.js&quot;&gt;&lt;/script&gt;\n",
       "\n",
       "&lt;script&gt;\n",
       "\n",
       "  var plot = echarts.init(document.getElementById(&#x27;count&#x27;));\n",
       "  var colors = [&#x27;rgb(143, 255, 113)&#x27;, &#x27;rgb(255, 238, 109)&#x27;, &#x27;rgb(255, 139, 118)&#x27;];\n",
       "\n",
       "  option = {\n",
       "    title: {\n",
       "      text: &#x27;Classes barplot&#x27;\n",
       "    },\n",
       "    tooltip: {\n",
       "      trigger: &#x27;axis&#x27;,\n",
       "      axisPointer: {\n",
       "        type: &#x27;cross&#x27;\n",
       "      }\n",
       "    },\n",
       "    data: [&#x27;Relevant&#x27;, &#x27;Not Relevant&#x27;],\n",
       "    xAxis: {\n",
       "      type: &#x27;category&#x27;,\n",
       "      data: [&#x27;Relevant&#x27;, &#x27;Not Relevant&#x27;]\n",
       "    },\n",
       "    yAxis: {\n",
       "      type: &#x27;value&#x27;,\n",
       "      splitLine: {\n",
       "        show: false\n",
       "      }\n",
       "    },\n",
       "    series: [{\n",
       "      data: [1, &#x27;-&#x27;],\n",
       "      stack: &#x27;1&#x27;,\n",
       "      type: &#x27;bar&#x27;,\n",
       "      name: &#x27;Relevant&#x27;,\n",
       "      color: colors[0],\n",
       "      label: {\n",
       "        normal: {\n",
       "          show: true,\n",
       "          position: &#x27;top&#x27;\n",
       "        }\n",
       "      },\n",
       "    },\n",
       "    {\n",
       "      data: [&#x27;-&#x27;, 62],\n",
       "      type: &#x27;bar&#x27;,\n",
       "      stack: &#x27;1&#x27;,\n",
       "      name: &#x27;Not Relevant&#x27;,\n",
       "      color: colors[2],\n",
       "      label: {\n",
       "        normal: {\n",
       "          show: true,\n",
       "          position: &#x27;top&#x27;\n",
       "        }\n",
       "      },\n",
       "    }\n",
       "    ]\n",
       "  };\n",
       "  plot.setOption(option = option)\n",
       "\n",
       "  option = {\n",
       "    title: {\n",
       "      text: &#x27;probability histogram&#x27;\n",
       "    },\n",
       "    tooltip: {\n",
       "      trigger: &#x27;axis&#x27;,\n",
       "      axisPointer: {\n",
       "        type: &#x27;cross&#x27;\n",
       "      }\n",
       "    },\n",
       "    xAxis: {\n",
       "      type: &#x27;category&#x27;,\n",
       "      data: [0.0, 0.05, 0.1, 0.15000000000000002, 0.2, 0.25, 0.30000000000000004, 0.35000000000000003, 0.4, 0.45, 0.5, 0.55, 0.6000000000000001, 0.65, 0.7000000000000001, 0.75, 0.8, 0.8500000000000001, 0.9, 0.9500000000000001, 1.0]\n",
       "    },\n",
       "    yAxis: {\n",
       "      type: &#x27;value&#x27;,\n",
       "      splitLine: {\n",
       "        show: false\n",
       "      }\n",
       "    },\n",
       "    series: [{\n",
       "      data: [0.0, 0.0, 0.0, 0.0, 0.0, 0.0, 0.0, 0.0, 0.0, 0.0, 0.0, 0.0, 0.0, 0.0, 0.0, 0.0, 0.0, 0.0, 0.016129032258064516, 0.9838709677419355],\n",
       "      type: &#x27;bar&#x27;\n",
       "    }]\n",
       "  };\n",
       "\n",
       "  var plot = echarts.init(document.getElementById(&#x27;histogram&#x27;));\n",
       "  plot.setOption(option = option)\n",
       "\n",
       "  option = {\n",
       "    title: {\n",
       "      text: &#x27;Attention&#x27;\n",
       "    },\n",
       "    tooltip: {\n",
       "      trigger: &#x27;axis&#x27;,\n",
       "      axisPointer: {\n",
       "        type: &#x27;cross&#x27;\n",
       "      }\n",
       "    },\n",
       "    xAxis: {\n",
       "      type: &#x27;category&#x27;,\n",
       "      name: &#x27;Sentence length&#x27;,\n",
       "      nameLocation: &#x27;center&#x27;,\n",
       "      nameGap: 30,\n",
       "      data: [0, 1, 2, 3, 4, 5, 6, 7, 8, 9, 10, 11, 12, 13, 14, 15, 16, 17, 18, 19, 20, 21, 22, 23, 24, 25, 26, 27, 28, 29, 30, 31, 32, 33, 34, 35, 36, 37, 38, 39, 40, 41, 42, 43, 44, 45, 46, 47, 48, 49, 50, 51, 52, 53, 54, 55, 56, 57, 58, 59, 60, 61]\n",
       "    },\n",
       "    yAxis: {\n",
       "      type: &#x27;value&#x27;,\n",
       "      splitLine: {\n",
       "        show: false\n",
       "      }\n",
       "    },\n",
       "    series: [{\n",
       "      data: [0.00969899632036686, 0.058794330805540085, 0.035145655274391174, 0.01110643707215786, 0.029461471363902092, 0.009064527228474617, 0.005421862471848726, 0.009079577401280403, 0.012510474771261215, 0.008482011966407299, 0.010770391672849655, 0.004493067041039467, 0.010621795430779457, 0.007795318495482206, 0.013119840994477272, 0.044056568294763565, 0.011837643571197987, 0.011376104317605495, 0.0065569449216127396, 0.002938510151579976, 0.013807276263833046, 0.0065835220739245415, 0.00845412164926529, 0.01334528811275959, 0.008674809709191322, 0.011961877346038818, 0.014096890576183796, 0.022991275414824486, 0.013313431292772293, 0.004439599346369505, 0.009973560459911823, 0.011154773645102978, 0.013658191077411175, 0.003287790808826685, 0.01660214364528656, 0.030332230031490326, 0.01083216443657875, 0.018361352384090424, 0.012436501681804657, 0.024249516427516937, 0.016205785796046257, 0.008774694055318832, 0.01683649607002735, 0.012690036557614803, 0.0044058263301849365, 0.0033893838990479708, 0.006384373642504215, 0.002750387880951166, 0.002706267638131976, 0.01036127656698227, 0.018572015687823296, 0.0052195279859006405, 0.0775851383805275, 0.011658462695777416, 0.009129266254603863, 0.04463742673397064, 0.042463548481464386, 0.018920984119176865, 0.009227853268384933, 0.026829011738300323, 0.016096550971269608, 0.054267898201942444],\n",
       "      type: &#x27;line&#x27;,\n",
       "      showSymbol: false\n",
       "    }]\n",
       "  };\n",
       "\n",
       "  var plot = echarts.init(document.getElementById(&#x27;entropy&#x27;));\n",
       "  plot.setOption(option = option)\n",
       "\n",
       "  document.addEventListener(&#x27;DOMContentLoaded&#x27;, function () {\n",
       "    var elems = document.querySelectorAll(&#x27;.tooltipped&#x27;);\n",
       "    var instances = M.Tooltip.init(elems);\n",
       "  });\n",
       "\n",
       "&lt;/script&gt;\n",
       "\n",
       "&lt;/html&gt;\" style=\"position:absolute;width:100%;height:500px;left:0;top:0;border:none !important;\" allowfullscreen webkitallowfullscreen mozallowfullscreen></iframe></div></div>"
      ],
      "text/plain": [
       "<IPython.core.display.HTML object>"
      ]
     },
     "metadata": {},
     "output_type": "display_data"
    }
   ],
   "source": [
    "quantized_model.predict_words(negative_text)"
   ]
  },
  {
   "cell_type": "markdown",
   "metadata": {},
   "source": [
    "### Vectorize\n",
    "\n",
    "Let say you want to visualize sentence / word level in lower dimension, you can use `model.vectorize`,\n",
    "\n",
    "```python\n",
    "def vectorize(self, strings: List[str], method: str = 'first'):\n",
    "    \"\"\"\n",
    "    vectorize list of strings.\n",
    "\n",
    "    Parameters\n",
    "    ----------\n",
    "    strings: List[str]\n",
    "    method : str, optional (default='first')\n",
    "        Vectorization layer supported. Allowed values:\n",
    "\n",
    "        * ``'last'`` - vector from last sequence.\n",
    "        * ``'first'`` - vector from first sequence.\n",
    "        * ``'mean'`` - average vectors from all sequences.\n",
    "        * ``'word'`` - average vectors based on tokens.\n",
    "\n",
    "    Returns\n",
    "    -------\n",
    "    result: np.array\n",
    "    \"\"\"\n",
    "```"
   ]
  },
  {
   "cell_type": "markdown",
   "metadata": {},
   "source": [
    "#### Sentence level"
   ]
  },
  {
   "cell_type": "code",
   "execution_count": 10,
   "metadata": {},
   "outputs": [],
   "source": [
    "texts = [negative_text, positive_text]\n",
    "r = model.vectorize(texts, method = 'first')"
   ]
  },
  {
   "cell_type": "code",
   "execution_count": 11,
   "metadata": {},
   "outputs": [
    {
     "data": {
      "text/plain": [
       "(2, 2)"
      ]
     },
     "execution_count": 11,
     "metadata": {},
     "output_type": "execute_result"
    }
   ],
   "source": [
    "from sklearn.manifold import TSNE\n",
    "import matplotlib.pyplot as plt\n",
    "\n",
    "tsne = TSNE().fit_transform(r)\n",
    "tsne.shape"
   ]
  },
  {
   "cell_type": "code",
   "execution_count": 12,
   "metadata": {},
   "outputs": [
    {
     "data": {
      "image/png": "[encoded data removed]",
      "text/plain": [
       "<Figure size 504x504 with 1 Axes>"
      ]
     },
     "metadata": {
      "needs_background": "light"
     },
     "output_type": "display_data"
    }
   ],
   "source": [
    "plt.figure(figsize = (7, 7))\n",
    "plt.scatter(tsne[:, 0], tsne[:, 1])\n",
    "labels = texts\n",
    "for label, x, y in zip(\n",
    "    labels, tsne[:, 0], tsne[:, 1]\n",
    "):\n",
    "    label = (\n",
    "        '%s, %.3f' % (label[0], label[1])\n",
    "        if isinstance(label, list)\n",
    "        else label\n",
    "    )\n",
    "    plt.annotate(\n",
    "        label,\n",
    "        xy = (x, y),\n",
    "        xytext = (0, 0),\n",
    "        textcoords = 'offset points',\n",
    "    )"
   ]
  },
  {
   "cell_type": "markdown",
   "metadata": {},
   "source": [
    "#### Word level"
   ]
  },
  {
   "cell_type": "code",
   "execution_count": 13,
   "metadata": {},
   "outputs": [],
   "source": [
    "r = quantized_model.vectorize(texts, method = 'word')"
   ]
  },
  {
   "cell_type": "code",
   "execution_count": 14,
   "metadata": {},
   "outputs": [],
   "source": [
    "x, y = [], []\n",
    "for row in r:\n",
    "    x.extend([i[0] for i in row])\n",
    "    y.extend([i[1] for i in row])"
   ]
  },
  {
   "cell_type": "code",
   "execution_count": 15,
   "metadata": {
    "scrolled": true
   },
   "outputs": [
    {
     "data": {
      "text/plain": [
       "(211, 2)"
      ]
     },
     "execution_count": 15,
     "metadata": {},
     "output_type": "execute_result"
    }
   ],
   "source": [
    "tsne = TSNE().fit_transform(y)\n",
    "tsne.shape"
   ]
  },
  {
   "cell_type": "code",
   "execution_count": 16,
   "metadata": {},
   "outputs": [
    {
     "data": {
      "image/png": "[encoded data removed]",
      "text/plain": [
       "<Figure size 504x504 with 1 Axes>"
      ]
     },
     "metadata": {
      "needs_background": "light"
     },
     "output_type": "display_data"
    }
   ],
   "source": [
    "plt.figure(figsize = (7, 7))\n",
    "plt.scatter(tsne[:, 0], tsne[:, 1])\n",
    "labels = x\n",
    "for label, x, y in zip(\n",
    "    labels, tsne[:, 0], tsne[:, 1]\n",
    "):\n",
    "    label = (\n",
    "        '%s, %.3f' % (label[0], label[1])\n",
    "        if isinstance(label, list)\n",
    "        else label\n",
    "    )\n",
    "    plt.annotate(\n",
    "        label,\n",
    "        xy = (x, y),\n",
    "        xytext = (0, 0),\n",
    "        textcoords = 'offset points',\n",
    "    )"
   ]
  },
  {
   "cell_type": "markdown",
   "metadata": {},
   "source": [
    "Pretty good, the model able to know cluster bottom left as positive relevancy."
   ]
  },
  {
   "cell_type": "markdown",
   "metadata": {},
   "source": [
    "### Stacking models\n",
    "\n",
    "More information, you can read at [https://malaya.readthedocs.io/en/latest/Stack.html](https://malaya.readthedocs.io/en/latest/Stack.html)"
   ]
  },
  {
   "cell_type": "code",
   "execution_count": null,
   "metadata": {
    "scrolled": true
   },
   "outputs": [
    {
     "name": "stdout",
     "output_type": "stream",
     "text": [
      "WARNING:tensorflow:From /Library/Frameworks/Python.framework/Versions/3.7/lib/python3.7/site-packages/albert/tokenization.py:240: The name tf.compat.v1.logging.info is deprecated. Please use tf.compat.v1.logging.info instead.\n",
      "\n"
     ]
    },
    {
     "name": "stderr",
     "output_type": "stream",
     "text": [
      "WARNING:tensorflow:From /Library/Frameworks/Python.framework/Versions/3.7/lib/python3.7/site-packages/albert/tokenization.py:240: The name tf.compat.v1.logging.info is deprecated. Please use tf.compat.v1.logging.info instead.\n",
      "\n"
     ]
    },
    {
     "name": "stdout",
     "output_type": "stream",
     "text": [
      "INFO:tensorflow:loading sentence piece model\n"
     ]
    }
   ],
   "source": [
    "albert = malaya.relevancy.transformer(model = 'albert')"
   ]
  },
  {
   "cell_type": "code",
   "execution_count": 14,
   "metadata": {},
   "outputs": [
    {
     "data": {
      "text/plain": [
       "[{'not relevant': 3.1056952e-06, 'relevant': 0.9999934},\n",
       " {'not relevant': 0.99982065, 'relevant': 3.868528e-05}]"
      ]
     },
     "execution_count": 14,
     "metadata": {},
     "output_type": "execute_result"
    }
   ],
   "source": [
    "malaya.stack.predict_stack([albert, model], [positive_text, negative_text])"
   ]
  }
 ],
 "metadata": {
  "kernelspec": {
   "display_name": "Python 3",
   "language": "python",
   "name": "python3"
  },
  "language_info": {
   "codemirror_mode": {
    "name": "ipython",
    "version": 3
   },
   "file_extension": ".py",
   "mimetype": "text/x-python",
   "name": "python",
   "nbconvert_exporter": "python",
   "pygments_lexer": "ipython3",
   "version": "3.7.7"
  },
  "varInspector": {
   "cols": {
    "lenName": 16,
    "lenType": 16,
    "lenVar": 40
   },
   "kernels_config": {
    "python": {
     "delete_cmd_postfix": "",
     "delete_cmd_prefix": "del ",
     "library": "var_list.py",
     "varRefreshCmd": "print(var_dic_list())"
    },
    "r": {
     "delete_cmd_postfix": ") ",
     "delete_cmd_prefix": "rm(",
     "library": "var_list.r",
     "varRefreshCmd": "cat(var_dic_list()) "
    }
   },
   "types_to_exclude": [
    "module",
    "function",
    "builtin_function_or_method",
    "instance",
    "_Feature"
   ],
   "window_display": false
  }
 },
 "nbformat": 4,
 "nbformat_minor": 2
}
